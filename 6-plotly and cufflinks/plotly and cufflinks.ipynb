{
 "cells": [
  {
   "cell_type": "markdown",
   "metadata": {},
   "source": [
    "## PLOTLY AND CUFFLINKS"
   ]
  },
  {
   "cell_type": "markdown",
   "metadata": {},
   "source": [
    "Plotly is a library that allows you to create interactive plots that you can use in dashboards or websites (you can save them as html files or static images).\n",
    "\n",
    "## Installation\n",
    "\n",
    "In order for this all to work, you'll need to install plotly and cufflinks to call plots directly off of a pandas dataframe. These libraries are not currently available through **conda** but are available through **pip**. Install the libraries at your command line/terminal using:\n",
    "\n",
    "    pip install plotly\n",
    "    pip install cufflinks\n",
    "\n",
    "** NOTE: Make sure you only have one installation of Python on your computer when you do this, otherwise the installation may not work. **\n",
    "\n",
    "## Imports and Set-up"
   ]
  },
  {
   "cell_type": "code",
   "execution_count": 1,
   "metadata": {},
   "outputs": [],
   "source": [
    "import pandas as pd\n",
    "import numpy as np\n",
    "%matplotlib inline"
   ]
  },
  {
   "cell_type": "code",
   "execution_count": 2,
   "metadata": {
    "collapsed": false,
    "jupyter": {
     "outputs_hidden": false
    }
   },
   "outputs": [
    {
     "name": "stdout",
     "output_type": "stream",
     "text": [
      "5.24.1\n"
     ]
    }
   ],
   "source": [
    "from plotly import __version__\n",
    "from plotly.offline import download_plotlyjs, init_notebook_mode, plot, iplot\n",
    "\n",
    "print(__version__) # requires version >= 1.9.0"
   ]
  },
  {
   "cell_type": "code",
   "execution_count": 3,
   "metadata": {},
   "outputs": [],
   "source": [
    "import cufflinks as cf"
   ]
  },
  {
   "cell_type": "code",
   "execution_count": 4,
   "metadata": {
    "collapsed": false,
    "jupyter": {
     "outputs_hidden": false
    }
   },
   "outputs": [
    {
     "data": {
      "text/html": [
       "        <script type=\"text/javascript\">\n",
       "        window.PlotlyConfig = {MathJaxConfig: 'local'};\n",
       "        if (window.MathJax && window.MathJax.Hub && window.MathJax.Hub.Config) {window.MathJax.Hub.Config({SVG: {font: \"STIX-Web\"}});}\n",
       "        if (typeof require !== 'undefined') {\n",
       "        require.undef(\"plotly\");\n",
       "        requirejs.config({\n",
       "            paths: {\n",
       "                'plotly': ['https://cdn.plot.ly/plotly-2.35.2.min']\n",
       "            }\n",
       "        });\n",
       "        require(['plotly'], function(Plotly) {\n",
       "            window._Plotly = Plotly;\n",
       "        });\n",
       "        }\n",
       "        </script>\n",
       "        "
      ]
     },
     "metadata": {},
     "output_type": "display_data"
    }
   ],
   "source": [
    "# For Notebooks\n",
    "init_notebook_mode(connected=True)"
   ]
  },
  {
   "cell_type": "code",
   "execution_count": 5,
   "metadata": {
    "collapsed": false,
    "jupyter": {
     "outputs_hidden": false
    }
   },
   "outputs": [
    {
     "data": {
      "text/html": [
       "        <script type=\"text/javascript\">\n",
       "        window.PlotlyConfig = {MathJaxConfig: 'local'};\n",
       "        if (window.MathJax && window.MathJax.Hub && window.MathJax.Hub.Config) {window.MathJax.Hub.Config({SVG: {font: \"STIX-Web\"}});}\n",
       "        if (typeof require !== 'undefined') {\n",
       "        require.undef(\"plotly\");\n",
       "        requirejs.config({\n",
       "            paths: {\n",
       "                'plotly': ['https://cdn.plot.ly/plotly-2.35.2.min']\n",
       "            }\n",
       "        });\n",
       "        require(['plotly'], function(Plotly) {\n",
       "            window._Plotly = Plotly;\n",
       "        });\n",
       "        }\n",
       "        </script>\n",
       "        "
      ]
     },
     "metadata": {},
     "output_type": "display_data"
    }
   ],
   "source": [
    "# For offline use\n",
    "cf.go_offline()"
   ]
  },
  {
   "cell_type": "markdown",
   "metadata": {},
   "source": [
    "### Fake Data"
   ]
  },
  {
   "cell_type": "code",
   "execution_count": 6,
   "metadata": {
    "collapsed": false,
    "jupyter": {
     "outputs_hidden": false
    }
   },
   "outputs": [],
   "source": [
    "df = pd.DataFrame(np.random.randn(100,4),columns='A B C D'.split())"
   ]
  },
  {
   "cell_type": "code",
   "execution_count": 7,
   "metadata": {
    "collapsed": false,
    "jupyter": {
     "outputs_hidden": false
    }
   },
   "outputs": [
    {
     "data": {
      "text/html": [
       "<div>\n",
       "<style scoped>\n",
       "    .dataframe tbody tr th:only-of-type {\n",
       "        vertical-align: middle;\n",
       "    }\n",
       "\n",
       "    .dataframe tbody tr th {\n",
       "        vertical-align: top;\n",
       "    }\n",
       "\n",
       "    .dataframe thead th {\n",
       "        text-align: right;\n",
       "    }\n",
       "</style>\n",
       "<table border=\"1\" class=\"dataframe\">\n",
       "  <thead>\n",
       "    <tr style=\"text-align: right;\">\n",
       "      <th></th>\n",
       "      <th>A</th>\n",
       "      <th>B</th>\n",
       "      <th>C</th>\n",
       "      <th>D</th>\n",
       "    </tr>\n",
       "  </thead>\n",
       "  <tbody>\n",
       "    <tr>\n",
       "      <th>0</th>\n",
       "      <td>0.018613</td>\n",
       "      <td>-0.145159</td>\n",
       "      <td>-0.663111</td>\n",
       "      <td>-2.997407</td>\n",
       "    </tr>\n",
       "    <tr>\n",
       "      <th>1</th>\n",
       "      <td>0.996045</td>\n",
       "      <td>0.680687</td>\n",
       "      <td>-1.142400</td>\n",
       "      <td>0.102498</td>\n",
       "    </tr>\n",
       "    <tr>\n",
       "      <th>2</th>\n",
       "      <td>0.534899</td>\n",
       "      <td>-0.463591</td>\n",
       "      <td>0.592875</td>\n",
       "      <td>0.413552</td>\n",
       "    </tr>\n",
       "    <tr>\n",
       "      <th>3</th>\n",
       "      <td>0.274464</td>\n",
       "      <td>-0.913381</td>\n",
       "      <td>-1.194332</td>\n",
       "      <td>-0.721307</td>\n",
       "    </tr>\n",
       "    <tr>\n",
       "      <th>4</th>\n",
       "      <td>-1.536584</td>\n",
       "      <td>0.339615</td>\n",
       "      <td>-0.760383</td>\n",
       "      <td>0.022132</td>\n",
       "    </tr>\n",
       "  </tbody>\n",
       "</table>\n",
       "</div>"
      ],
      "text/plain": [
       "          A         B         C         D\n",
       "0  0.018613 -0.145159 -0.663111 -2.997407\n",
       "1  0.996045  0.680687 -1.142400  0.102498\n",
       "2  0.534899 -0.463591  0.592875  0.413552\n",
       "3  0.274464 -0.913381 -1.194332 -0.721307\n",
       "4 -1.536584  0.339615 -0.760383  0.022132"
      ]
     },
     "execution_count": 7,
     "metadata": {},
     "output_type": "execute_result"
    }
   ],
   "source": [
    "df.head()"
   ]
  },
  {
   "cell_type": "code",
   "execution_count": 8,
   "metadata": {},
   "outputs": [],
   "source": [
    "df2 = pd.DataFrame({'Category':['A','B','C'],'Values':[32,43,50]})"
   ]
  },
  {
   "cell_type": "code",
   "execution_count": 9,
   "metadata": {
    "collapsed": false,
    "jupyter": {
     "outputs_hidden": false
    }
   },
   "outputs": [
    {
     "data": {
      "text/html": [
       "<div>\n",
       "<style scoped>\n",
       "    .dataframe tbody tr th:only-of-type {\n",
       "        vertical-align: middle;\n",
       "    }\n",
       "\n",
       "    .dataframe tbody tr th {\n",
       "        vertical-align: top;\n",
       "    }\n",
       "\n",
       "    .dataframe thead th {\n",
       "        text-align: right;\n",
       "    }\n",
       "</style>\n",
       "<table border=\"1\" class=\"dataframe\">\n",
       "  <thead>\n",
       "    <tr style=\"text-align: right;\">\n",
       "      <th></th>\n",
       "      <th>Category</th>\n",
       "      <th>Values</th>\n",
       "    </tr>\n",
       "  </thead>\n",
       "  <tbody>\n",
       "    <tr>\n",
       "      <th>0</th>\n",
       "      <td>A</td>\n",
       "      <td>32</td>\n",
       "    </tr>\n",
       "    <tr>\n",
       "      <th>1</th>\n",
       "      <td>B</td>\n",
       "      <td>43</td>\n",
       "    </tr>\n",
       "    <tr>\n",
       "      <th>2</th>\n",
       "      <td>C</td>\n",
       "      <td>50</td>\n",
       "    </tr>\n",
       "  </tbody>\n",
       "</table>\n",
       "</div>"
      ],
      "text/plain": [
       "  Category  Values\n",
       "0        A      32\n",
       "1        B      43\n",
       "2        C      50"
      ]
     },
     "execution_count": 9,
     "metadata": {},
     "output_type": "execute_result"
    }
   ],
   "source": [
    "df2.head()"
   ]
  },
  {
   "cell_type": "markdown",
   "metadata": {},
   "source": [
    "## Using Cufflinks and iplot()\n",
    "\n",
    "* scatter\n",
    "* bar\n",
    "* box\n",
    "* spread\n",
    "* ratio\n",
    "* heatmap\n",
    "* surface\n",
    "* histogram\n",
    "* bubble"
   ]
  },
  {
   "cell_type": "markdown",
   "metadata": {},
   "source": [
    "## Scatter"
   ]
  },
  {
   "cell_type": "code",
   "execution_count": 10,
   "metadata": {
    "collapsed": false,
    "jupyter": {
     "outputs_hidden": false
    }
   },
   "outputs": [
    {
     "data": {
      "application/vnd.plotly.v1+json": {
       "config": {
        "linkText": "Export to plot.ly",
        "plotlyServerURL": "https://plot.ly",
        "showLink": true
       },
       "data": [
        {
         "line": {
          "color": "rgba(255, 153, 51, 1.0)",
          "dash": "solid",
          "shape": "linear",
          "width": 1.3
         },
         "marker": {
          "size": 10,
          "symbol": "circle"
         },
         "mode": "markers",
         "name": "B",
         "text": "",
         "type": "scatter",
         "x": [
          0.018612650461357173,
          0.9960448857866494,
          0.5348989996252956,
          0.2744644691707193,
          -1.5365837996629519,
          0.6925164494907833,
          1.6355335882891844,
          -0.4847552691952551,
          0.30614385275660383,
          0.6124200551769818,
          1.1083663399431376,
          1.0180355605534988,
          1.257435789537904,
          -0.971833663638946,
          -0.6058590356787764,
          0.22023782953865775,
          2.120845276514453,
          -0.39456862325103875,
          0.6062219318447225,
          -1.7401149822576623,
          0.9742836776250653,
          -0.4031138669609755,
          1.396780034995444,
          0.7589153724023462,
          0.3613077716338431,
          -1.1240045019293001,
          -0.348857032578735,
          -0.6516516862967474,
          2.196241159251179,
          0.32989001608345575,
          -0.867630944602537,
          0.3632992521805315,
          -0.06810963771889461,
          -1.4541900245405381,
          1.3454753011398228,
          -1.9530849822802803,
          -0.8912013360228284,
          0.470947892105552,
          -0.15985505994419505,
          0.2198163702457327,
          -0.23010375469522198,
          0.5707062620139806,
          1.0719425958771212,
          0.7066538833117731,
          -0.3630221878876869,
          0.3922575727286456,
          -0.3612705276291241,
          -0.29550629725886385,
          0.5225653600745495,
          -0.27305291477145976,
          -1.3368444755064772,
          -0.7312444638403542,
          1.2372752954036261,
          0.43425609169846763,
          0.1378203123065723,
          -2.5650700100831454,
          1.5713680268021728,
          0.17299087523119103,
          0.8253910603445144,
          -0.1943973629179473,
          1.2022341699975243,
          -1.024967266248822,
          1.434392749628085,
          -0.2644970147935291,
          0.9120358181465171,
          -0.3574958316214275,
          -1.179661643313809,
          -1.2377308248032741,
          1.1327664908798656,
          0.8516976018670983,
          -0.011298938254510052,
          -1.2175903618027375,
          0.3257227008931923,
          0.9257341855583504,
          0.14031310714798895,
          -0.4195496491587592,
          1.2758452304798396,
          1.815682574463287,
          0.873722200060419,
          0.8332601650259654,
          -0.8665169598166514,
          -0.391384661683601,
          0.3137052464154313,
          0.9720372843795664,
          2.794271493694322,
          -1.8462934934409374,
          0.2964577706006214,
          0.5747909516562963,
          0.3515544444419624,
          0.6560688317045775,
          -1.825358297613211,
          0.17689201309241853,
          -0.7893616265432474,
          -0.7090282511585885,
          -0.06412212886610219,
          -1.6274770848951148,
          0.2871954929436289,
          -0.48615868570872567,
          0.3068728465283206,
          -0.46892326583647614
         ],
         "y": [
          -0.14515941434662252,
          0.6806873926308932,
          -0.4635907081842978,
          -0.9133813580992908,
          0.33961520411379165,
          1.5359756763886903,
          0.5608200555640893,
          0.7385576598977033,
          0.3584101017217968,
          1.9681524054333133,
          0.9122347227604708,
          -1.208747759097325,
          1.0391099033587277,
          -0.04081664467136474,
          0.6920299931313932,
          0.17855709424490082,
          -0.5471926984690776,
          1.7684838359114352,
          -0.778441418564234,
          -0.5178855908859966,
          0.9554421418744045,
          1.981324589895577,
          -1.17791668305019,
          0.3635416602419813,
          1.4729249970268203,
          0.7169383023416109,
          -1.2414094580752362,
          -1.2454370486619037,
          -1.7753439436106342,
          -0.6803313710281736,
          -0.5941007653584087,
          1.29730024703594,
          -0.7575686405643377,
          1.4942790818364484,
          -0.6654988353214182,
          0.9003465610236291,
          0.1716342723004468,
          0.7738326789387621,
          -0.08714118904590173,
          -0.7714694142266564,
          0.5716227010443915,
          -0.8023726811909293,
          -0.32188924350996573,
          -0.9495064010735178,
          -0.1236980187298372,
          0.984595744764496,
          1.0096805551319956,
          -0.045044452402429505,
          -0.5996944687876562,
          -1.6598707450260282,
          0.6982590693953475,
          0.6628038847624309,
          -1.6797836633008574,
          1.08258578354228,
          0.3317032091015285,
          -0.5996108415625231,
          1.1787266939990753,
          -1.8858246311427032,
          0.4231740974380043,
          -0.43743434843633805,
          -1.2718057883980407,
          3.7856936387517033,
          -0.2778675274235196,
          0.37308634581461714,
          -0.7511575583029262,
          -0.4412683300216426,
          -0.5520539627737876,
          -1.2062055501876965,
          -0.7575196571867082,
          -0.5904982857173883,
          0.24853412195376048,
          -0.675739876593458,
          0.14891546824242163,
          0.5960418652525297,
          -2.037121868752909,
          -1.5681567204104996,
          -0.7249904679456038,
          -0.4891376531406688,
          -0.41806157762339813,
          -0.5998508532127527,
          -1.0328558517005673,
          0.6694597255695663,
          0.04969881038761035,
          0.3754027351884087,
          -0.09811199867557581,
          -0.6820977361199116,
          0.3209387499165821,
          0.9944285480742319,
          1.4563020824070612,
          -0.9133609870969249,
          -0.1844346272232779,
          0.4166235110059231,
          0.9665369943532935,
          0.1728104303703586,
          1.2548409050126537,
          -0.6782408136490494,
          0.6860085295644298,
          -0.22302236812107096,
          -0.9399304729507478,
          -0.6479042403168237
         ]
        }
       ],
       "layout": {
        "autosize": true,
        "legend": {
         "bgcolor": "#F5F6F9",
         "font": {
          "color": "#4D5663"
         }
        },
        "paper_bgcolor": "#F5F6F9",
        "plot_bgcolor": "#F5F6F9",
        "template": {
         "data": {
          "bar": [
           {
            "error_x": {
             "color": "#2a3f5f"
            },
            "error_y": {
             "color": "#2a3f5f"
            },
            "marker": {
             "line": {
              "color": "#E5ECF6",
              "width": 0.5
             },
             "pattern": {
              "fillmode": "overlay",
              "size": 10,
              "solidity": 0.2
             }
            },
            "type": "bar"
           }
          ],
          "barpolar": [
           {
            "marker": {
             "line": {
              "color": "#E5ECF6",
              "width": 0.5
             },
             "pattern": {
              "fillmode": "overlay",
              "size": 10,
              "solidity": 0.2
             }
            },
            "type": "barpolar"
           }
          ],
          "carpet": [
           {
            "aaxis": {
             "endlinecolor": "#2a3f5f",
             "gridcolor": "white",
             "linecolor": "white",
             "minorgridcolor": "white",
             "startlinecolor": "#2a3f5f"
            },
            "baxis": {
             "endlinecolor": "#2a3f5f",
             "gridcolor": "white",
             "linecolor": "white",
             "minorgridcolor": "white",
             "startlinecolor": "#2a3f5f"
            },
            "type": "carpet"
           }
          ],
          "choropleth": [
           {
            "colorbar": {
             "outlinewidth": 0,
             "ticks": ""
            },
            "type": "choropleth"
           }
          ],
          "contour": [
           {
            "colorbar": {
             "outlinewidth": 0,
             "ticks": ""
            },
            "colorscale": [
             [
              0,
              "#0d0887"
             ],
             [
              0.1111111111111111,
              "#46039f"
             ],
             [
              0.2222222222222222,
              "#7201a8"
             ],
             [
              0.3333333333333333,
              "#9c179e"
             ],
             [
              0.4444444444444444,
              "#bd3786"
             ],
             [
              0.5555555555555556,
              "#d8576b"
             ],
             [
              0.6666666666666666,
              "#ed7953"
             ],
             [
              0.7777777777777778,
              "#fb9f3a"
             ],
             [
              0.8888888888888888,
              "#fdca26"
             ],
             [
              1,
              "#f0f921"
             ]
            ],
            "type": "contour"
           }
          ],
          "contourcarpet": [
           {
            "colorbar": {
             "outlinewidth": 0,
             "ticks": ""
            },
            "type": "contourcarpet"
           }
          ],
          "heatmap": [
           {
            "colorbar": {
             "outlinewidth": 0,
             "ticks": ""
            },
            "colorscale": [
             [
              0,
              "#0d0887"
             ],
             [
              0.1111111111111111,
              "#46039f"
             ],
             [
              0.2222222222222222,
              "#7201a8"
             ],
             [
              0.3333333333333333,
              "#9c179e"
             ],
             [
              0.4444444444444444,
              "#bd3786"
             ],
             [
              0.5555555555555556,
              "#d8576b"
             ],
             [
              0.6666666666666666,
              "#ed7953"
             ],
             [
              0.7777777777777778,
              "#fb9f3a"
             ],
             [
              0.8888888888888888,
              "#fdca26"
             ],
             [
              1,
              "#f0f921"
             ]
            ],
            "type": "heatmap"
           }
          ],
          "heatmapgl": [
           {
            "colorbar": {
             "outlinewidth": 0,
             "ticks": ""
            },
            "colorscale": [
             [
              0,
              "#0d0887"
             ],
             [
              0.1111111111111111,
              "#46039f"
             ],
             [
              0.2222222222222222,
              "#7201a8"
             ],
             [
              0.3333333333333333,
              "#9c179e"
             ],
             [
              0.4444444444444444,
              "#bd3786"
             ],
             [
              0.5555555555555556,
              "#d8576b"
             ],
             [
              0.6666666666666666,
              "#ed7953"
             ],
             [
              0.7777777777777778,
              "#fb9f3a"
             ],
             [
              0.8888888888888888,
              "#fdca26"
             ],
             [
              1,
              "#f0f921"
             ]
            ],
            "type": "heatmapgl"
           }
          ],
          "histogram": [
           {
            "marker": {
             "pattern": {
              "fillmode": "overlay",
              "size": 10,
              "solidity": 0.2
             }
            },
            "type": "histogram"
           }
          ],
          "histogram2d": [
           {
            "colorbar": {
             "outlinewidth": 0,
             "ticks": ""
            },
            "colorscale": [
             [
              0,
              "#0d0887"
             ],
             [
              0.1111111111111111,
              "#46039f"
             ],
             [
              0.2222222222222222,
              "#7201a8"
             ],
             [
              0.3333333333333333,
              "#9c179e"
             ],
             [
              0.4444444444444444,
              "#bd3786"
             ],
             [
              0.5555555555555556,
              "#d8576b"
             ],
             [
              0.6666666666666666,
              "#ed7953"
             ],
             [
              0.7777777777777778,
              "#fb9f3a"
             ],
             [
              0.8888888888888888,
              "#fdca26"
             ],
             [
              1,
              "#f0f921"
             ]
            ],
            "type": "histogram2d"
           }
          ],
          "histogram2dcontour": [
           {
            "colorbar": {
             "outlinewidth": 0,
             "ticks": ""
            },
            "colorscale": [
             [
              0,
              "#0d0887"
             ],
             [
              0.1111111111111111,
              "#46039f"
             ],
             [
              0.2222222222222222,
              "#7201a8"
             ],
             [
              0.3333333333333333,
              "#9c179e"
             ],
             [
              0.4444444444444444,
              "#bd3786"
             ],
             [
              0.5555555555555556,
              "#d8576b"
             ],
             [
              0.6666666666666666,
              "#ed7953"
             ],
             [
              0.7777777777777778,
              "#fb9f3a"
             ],
             [
              0.8888888888888888,
              "#fdca26"
             ],
             [
              1,
              "#f0f921"
             ]
            ],
            "type": "histogram2dcontour"
           }
          ],
          "mesh3d": [
           {
            "colorbar": {
             "outlinewidth": 0,
             "ticks": ""
            },
            "type": "mesh3d"
           }
          ],
          "parcoords": [
           {
            "line": {
             "colorbar": {
              "outlinewidth": 0,
              "ticks": ""
             }
            },
            "type": "parcoords"
           }
          ],
          "pie": [
           {
            "automargin": true,
            "type": "pie"
           }
          ],
          "scatter": [
           {
            "fillpattern": {
             "fillmode": "overlay",
             "size": 10,
             "solidity": 0.2
            },
            "type": "scatter"
           }
          ],
          "scatter3d": [
           {
            "line": {
             "colorbar": {
              "outlinewidth": 0,
              "ticks": ""
             }
            },
            "marker": {
             "colorbar": {
              "outlinewidth": 0,
              "ticks": ""
             }
            },
            "type": "scatter3d"
           }
          ],
          "scattercarpet": [
           {
            "marker": {
             "colorbar": {
              "outlinewidth": 0,
              "ticks": ""
             }
            },
            "type": "scattercarpet"
           }
          ],
          "scattergeo": [
           {
            "marker": {
             "colorbar": {
              "outlinewidth": 0,
              "ticks": ""
             }
            },
            "type": "scattergeo"
           }
          ],
          "scattergl": [
           {
            "marker": {
             "colorbar": {
              "outlinewidth": 0,
              "ticks": ""
             }
            },
            "type": "scattergl"
           }
          ],
          "scattermapbox": [
           {
            "marker": {
             "colorbar": {
              "outlinewidth": 0,
              "ticks": ""
             }
            },
            "type": "scattermapbox"
           }
          ],
          "scatterpolar": [
           {
            "marker": {
             "colorbar": {
              "outlinewidth": 0,
              "ticks": ""
             }
            },
            "type": "scatterpolar"
           }
          ],
          "scatterpolargl": [
           {
            "marker": {
             "colorbar": {
              "outlinewidth": 0,
              "ticks": ""
             }
            },
            "type": "scatterpolargl"
           }
          ],
          "scatterternary": [
           {
            "marker": {
             "colorbar": {
              "outlinewidth": 0,
              "ticks": ""
             }
            },
            "type": "scatterternary"
           }
          ],
          "surface": [
           {
            "colorbar": {
             "outlinewidth": 0,
             "ticks": ""
            },
            "colorscale": [
             [
              0,
              "#0d0887"
             ],
             [
              0.1111111111111111,
              "#46039f"
             ],
             [
              0.2222222222222222,
              "#7201a8"
             ],
             [
              0.3333333333333333,
              "#9c179e"
             ],
             [
              0.4444444444444444,
              "#bd3786"
             ],
             [
              0.5555555555555556,
              "#d8576b"
             ],
             [
              0.6666666666666666,
              "#ed7953"
             ],
             [
              0.7777777777777778,
              "#fb9f3a"
             ],
             [
              0.8888888888888888,
              "#fdca26"
             ],
             [
              1,
              "#f0f921"
             ]
            ],
            "type": "surface"
           }
          ],
          "table": [
           {
            "cells": {
             "fill": {
              "color": "#EBF0F8"
             },
             "line": {
              "color": "white"
             }
            },
            "header": {
             "fill": {
              "color": "#C8D4E3"
             },
             "line": {
              "color": "white"
             }
            },
            "type": "table"
           }
          ]
         },
         "layout": {
          "annotationdefaults": {
           "arrowcolor": "#2a3f5f",
           "arrowhead": 0,
           "arrowwidth": 1
          },
          "autotypenumbers": "strict",
          "coloraxis": {
           "colorbar": {
            "outlinewidth": 0,
            "ticks": ""
           }
          },
          "colorscale": {
           "diverging": [
            [
             0,
             "#8e0152"
            ],
            [
             0.1,
             "#c51b7d"
            ],
            [
             0.2,
             "#de77ae"
            ],
            [
             0.3,
             "#f1b6da"
            ],
            [
             0.4,
             "#fde0ef"
            ],
            [
             0.5,
             "#f7f7f7"
            ],
            [
             0.6,
             "#e6f5d0"
            ],
            [
             0.7,
             "#b8e186"
            ],
            [
             0.8,
             "#7fbc41"
            ],
            [
             0.9,
             "#4d9221"
            ],
            [
             1,
             "#276419"
            ]
           ],
           "sequential": [
            [
             0,
             "#0d0887"
            ],
            [
             0.1111111111111111,
             "#46039f"
            ],
            [
             0.2222222222222222,
             "#7201a8"
            ],
            [
             0.3333333333333333,
             "#9c179e"
            ],
            [
             0.4444444444444444,
             "#bd3786"
            ],
            [
             0.5555555555555556,
             "#d8576b"
            ],
            [
             0.6666666666666666,
             "#ed7953"
            ],
            [
             0.7777777777777778,
             "#fb9f3a"
            ],
            [
             0.8888888888888888,
             "#fdca26"
            ],
            [
             1,
             "#f0f921"
            ]
           ],
           "sequentialminus": [
            [
             0,
             "#0d0887"
            ],
            [
             0.1111111111111111,
             "#46039f"
            ],
            [
             0.2222222222222222,
             "#7201a8"
            ],
            [
             0.3333333333333333,
             "#9c179e"
            ],
            [
             0.4444444444444444,
             "#bd3786"
            ],
            [
             0.5555555555555556,
             "#d8576b"
            ],
            [
             0.6666666666666666,
             "#ed7953"
            ],
            [
             0.7777777777777778,
             "#fb9f3a"
            ],
            [
             0.8888888888888888,
             "#fdca26"
            ],
            [
             1,
             "#f0f921"
            ]
           ]
          },
          "colorway": [
           "#636efa",
           "#EF553B",
           "#00cc96",
           "#ab63fa",
           "#FFA15A",
           "#19d3f3",
           "#FF6692",
           "#B6E880",
           "#FF97FF",
           "#FECB52"
          ],
          "font": {
           "color": "#2a3f5f"
          },
          "geo": {
           "bgcolor": "white",
           "lakecolor": "white",
           "landcolor": "#E5ECF6",
           "showlakes": true,
           "showland": true,
           "subunitcolor": "white"
          },
          "hoverlabel": {
           "align": "left"
          },
          "hovermode": "closest",
          "mapbox": {
           "style": "light"
          },
          "paper_bgcolor": "white",
          "plot_bgcolor": "#E5ECF6",
          "polar": {
           "angularaxis": {
            "gridcolor": "white",
            "linecolor": "white",
            "ticks": ""
           },
           "bgcolor": "#E5ECF6",
           "radialaxis": {
            "gridcolor": "white",
            "linecolor": "white",
            "ticks": ""
           }
          },
          "scene": {
           "xaxis": {
            "backgroundcolor": "#E5ECF6",
            "gridcolor": "white",
            "gridwidth": 2,
            "linecolor": "white",
            "showbackground": true,
            "ticks": "",
            "zerolinecolor": "white"
           },
           "yaxis": {
            "backgroundcolor": "#E5ECF6",
            "gridcolor": "white",
            "gridwidth": 2,
            "linecolor": "white",
            "showbackground": true,
            "ticks": "",
            "zerolinecolor": "white"
           },
           "zaxis": {
            "backgroundcolor": "#E5ECF6",
            "gridcolor": "white",
            "gridwidth": 2,
            "linecolor": "white",
            "showbackground": true,
            "ticks": "",
            "zerolinecolor": "white"
           }
          },
          "shapedefaults": {
           "line": {
            "color": "#2a3f5f"
           }
          },
          "ternary": {
           "aaxis": {
            "gridcolor": "white",
            "linecolor": "white",
            "ticks": ""
           },
           "baxis": {
            "gridcolor": "white",
            "linecolor": "white",
            "ticks": ""
           },
           "bgcolor": "#E5ECF6",
           "caxis": {
            "gridcolor": "white",
            "linecolor": "white",
            "ticks": ""
           }
          },
          "title": {
           "x": 0.05
          },
          "xaxis": {
           "automargin": true,
           "gridcolor": "white",
           "linecolor": "white",
           "ticks": "",
           "title": {
            "standoff": 15
           },
           "zerolinecolor": "white",
           "zerolinewidth": 2
          },
          "yaxis": {
           "automargin": true,
           "gridcolor": "white",
           "linecolor": "white",
           "ticks": "",
           "title": {
            "standoff": 15
           },
           "zerolinecolor": "white",
           "zerolinewidth": 2
          }
         }
        },
        "title": {
         "font": {
          "color": "#4D5663"
         }
        },
        "xaxis": {
         "autorange": true,
         "gridcolor": "#E1E5ED",
         "range": [
          -2.9075117203893686,
          3.136713204000545
         ],
         "showgrid": true,
         "tickfont": {
          "color": "#4D5663"
         },
         "title": {
          "font": {
           "color": "#4D5663"
          },
          "text": ""
         },
         "type": "linear",
         "zerolinecolor": "#E1E5ED"
        },
        "yaxis": {
         "autorange": true,
         "gridcolor": "#E1E5ED",
         "range": [
          -2.631087999117092,
          4.379659769115886
         ],
         "showgrid": true,
         "tickfont": {
          "color": "#4D5663"
         },
         "title": {
          "font": {
           "color": "#4D5663"
          },
          "text": ""
         },
         "type": "linear",
         "zerolinecolor": "#E1E5ED"
        }
       }
      },
      "image/png": "[encoded data removed]",
      "text/html": [
       "<div>                            <div id=\"03b9d8c1-a566-48fe-a801-6cc360cd0150\" class=\"plotly-graph-div\" style=\"height:525px; width:100%;\"></div>            <script type=\"text/javascript\">                require([\"plotly\"], function(Plotly) {                    window.PLOTLYENV=window.PLOTLYENV || {};\n",
       "                    window.PLOTLYENV.BASE_URL='https://plot.ly';                                    if (document.getElementById(\"03b9d8c1-a566-48fe-a801-6cc360cd0150\")) {                    Plotly.newPlot(                        \"03b9d8c1-a566-48fe-a801-6cc360cd0150\",                        [{\"line\":{\"color\":\"rgba(255, 153, 51, 1.0)\",\"dash\":\"solid\",\"shape\":\"linear\",\"width\":1.3},\"marker\":{\"size\":10,\"symbol\":\"circle\"},\"mode\":\"markers\",\"name\":\"B\",\"text\":\"\",\"x\":[0.018612650461357173,0.9960448857866494,0.5348989996252956,0.2744644691707193,-1.5365837996629519,0.6925164494907833,1.6355335882891844,-0.4847552691952551,0.30614385275660383,0.6124200551769818,1.1083663399431376,1.0180355605534988,1.257435789537904,-0.971833663638946,-0.6058590356787764,0.22023782953865775,2.120845276514453,-0.39456862325103875,0.6062219318447225,-1.7401149822576623,0.9742836776250653,-0.4031138669609755,1.396780034995444,0.7589153724023462,0.3613077716338431,-1.1240045019293001,-0.348857032578735,-0.6516516862967474,2.196241159251179,0.32989001608345575,-0.867630944602537,0.3632992521805315,-0.06810963771889461,-1.4541900245405381,1.3454753011398228,-1.9530849822802803,-0.8912013360228284,0.470947892105552,-0.15985505994419505,0.2198163702457327,-0.23010375469522198,0.5707062620139806,1.0719425958771212,0.7066538833117731,-0.3630221878876869,0.3922575727286456,-0.3612705276291241,-0.29550629725886385,0.5225653600745495,-0.27305291477145976,-1.3368444755064772,-0.7312444638403542,1.2372752954036261,0.43425609169846763,0.1378203123065723,-2.5650700100831454,1.5713680268021728,0.17299087523119103,0.8253910603445144,-0.1943973629179473,1.2022341699975243,-1.024967266248822,1.434392749628085,-0.2644970147935291,0.9120358181465171,-0.3574958316214275,-1.179661643313809,-1.2377308248032741,1.1327664908798656,0.8516976018670983,-0.011298938254510052,-1.2175903618027375,0.3257227008931923,0.9257341855583504,0.14031310714798895,-0.4195496491587592,1.2758452304798396,1.815682574463287,0.873722200060419,0.8332601650259654,-0.8665169598166514,-0.391384661683601,0.3137052464154313,0.9720372843795664,2.794271493694322,-1.8462934934409374,0.2964577706006214,0.5747909516562963,0.3515544444419624,0.6560688317045775,-1.825358297613211,0.17689201309241853,-0.7893616265432474,-0.7090282511585885,-0.06412212886610219,-1.6274770848951148,0.2871954929436289,-0.48615868570872567,0.3068728465283206,-0.46892326583647614],\"y\":[-0.14515941434662252,0.6806873926308932,-0.4635907081842978,-0.9133813580992908,0.33961520411379165,1.5359756763886903,0.5608200555640893,0.7385576598977033,0.3584101017217968,1.9681524054333133,0.9122347227604708,-1.208747759097325,1.0391099033587277,-0.04081664467136474,0.6920299931313932,0.17855709424490082,-0.5471926984690776,1.7684838359114352,-0.778441418564234,-0.5178855908859966,0.9554421418744045,1.981324589895577,-1.17791668305019,0.3635416602419813,1.4729249970268203,0.7169383023416109,-1.2414094580752362,-1.2454370486619037,-1.7753439436106342,-0.6803313710281736,-0.5941007653584087,1.29730024703594,-0.7575686405643377,1.4942790818364484,-0.6654988353214182,0.9003465610236291,0.1716342723004468,0.7738326789387621,-0.08714118904590173,-0.7714694142266564,0.5716227010443915,-0.8023726811909293,-0.32188924350996573,-0.9495064010735178,-0.1236980187298372,0.984595744764496,1.0096805551319956,-0.045044452402429505,-0.5996944687876562,-1.6598707450260282,0.6982590693953475,0.6628038847624309,-1.6797836633008574,1.08258578354228,0.3317032091015285,-0.5996108415625231,1.1787266939990753,-1.8858246311427032,0.4231740974380043,-0.43743434843633805,-1.2718057883980407,3.7856936387517033,-0.2778675274235196,0.37308634581461714,-0.7511575583029262,-0.4412683300216426,-0.5520539627737876,-1.2062055501876965,-0.7575196571867082,-0.5904982857173883,0.24853412195376048,-0.675739876593458,0.14891546824242163,0.5960418652525297,-2.037121868752909,-1.5681567204104996,-0.7249904679456038,-0.4891376531406688,-0.41806157762339813,-0.5998508532127527,-1.0328558517005673,0.6694597255695663,0.04969881038761035,0.3754027351884087,-0.09811199867557581,-0.6820977361199116,0.3209387499165821,0.9944285480742319,1.4563020824070612,-0.9133609870969249,-0.1844346272232779,0.4166235110059231,0.9665369943532935,0.1728104303703586,1.2548409050126537,-0.6782408136490494,0.6860085295644298,-0.22302236812107096,-0.9399304729507478,-0.6479042403168237],\"type\":\"scatter\"}],                        {\"legend\":{\"bgcolor\":\"#F5F6F9\",\"font\":{\"color\":\"#4D5663\"}},\"paper_bgcolor\":\"#F5F6F9\",\"plot_bgcolor\":\"#F5F6F9\",\"template\":{\"data\":{\"barpolar\":[{\"marker\":{\"line\":{\"color\":\"#E5ECF6\",\"width\":0.5},\"pattern\":{\"fillmode\":\"overlay\",\"size\":10,\"solidity\":0.2}},\"type\":\"barpolar\"}],\"bar\":[{\"error_x\":{\"color\":\"#2a3f5f\"},\"error_y\":{\"color\":\"#2a3f5f\"},\"marker\":{\"line\":{\"color\":\"#E5ECF6\",\"width\":0.5},\"pattern\":{\"fillmode\":\"overlay\",\"size\":10,\"solidity\":0.2}},\"type\":\"bar\"}],\"carpet\":[{\"aaxis\":{\"endlinecolor\":\"#2a3f5f\",\"gridcolor\":\"white\",\"linecolor\":\"white\",\"minorgridcolor\":\"white\",\"startlinecolor\":\"#2a3f5f\"},\"baxis\":{\"endlinecolor\":\"#2a3f5f\",\"gridcolor\":\"white\",\"linecolor\":\"white\",\"minorgridcolor\":\"white\",\"startlinecolor\":\"#2a3f5f\"},\"type\":\"carpet\"}],\"choropleth\":[{\"colorbar\":{\"outlinewidth\":0,\"ticks\":\"\"},\"type\":\"choropleth\"}],\"contourcarpet\":[{\"colorbar\":{\"outlinewidth\":0,\"ticks\":\"\"},\"type\":\"contourcarpet\"}],\"contour\":[{\"colorbar\":{\"outlinewidth\":0,\"ticks\":\"\"},\"colorscale\":[[0.0,\"#0d0887\"],[0.1111111111111111,\"#46039f\"],[0.2222222222222222,\"#7201a8\"],[0.3333333333333333,\"#9c179e\"],[0.4444444444444444,\"#bd3786\"],[0.5555555555555556,\"#d8576b\"],[0.6666666666666666,\"#ed7953\"],[0.7777777777777778,\"#fb9f3a\"],[0.8888888888888888,\"#fdca26\"],[1.0,\"#f0f921\"]],\"type\":\"contour\"}],\"heatmapgl\":[{\"colorbar\":{\"outlinewidth\":0,\"ticks\":\"\"},\"colorscale\":[[0.0,\"#0d0887\"],[0.1111111111111111,\"#46039f\"],[0.2222222222222222,\"#7201a8\"],[0.3333333333333333,\"#9c179e\"],[0.4444444444444444,\"#bd3786\"],[0.5555555555555556,\"#d8576b\"],[0.6666666666666666,\"#ed7953\"],[0.7777777777777778,\"#fb9f3a\"],[0.8888888888888888,\"#fdca26\"],[1.0,\"#f0f921\"]],\"type\":\"heatmapgl\"}],\"heatmap\":[{\"colorbar\":{\"outlinewidth\":0,\"ticks\":\"\"},\"colorscale\":[[0.0,\"#0d0887\"],[0.1111111111111111,\"#46039f\"],[0.2222222222222222,\"#7201a8\"],[0.3333333333333333,\"#9c179e\"],[0.4444444444444444,\"#bd3786\"],[0.5555555555555556,\"#d8576b\"],[0.6666666666666666,\"#ed7953\"],[0.7777777777777778,\"#fb9f3a\"],[0.8888888888888888,\"#fdca26\"],[1.0,\"#f0f921\"]],\"type\":\"heatmap\"}],\"histogram2dcontour\":[{\"colorbar\":{\"outlinewidth\":0,\"ticks\":\"\"},\"colorscale\":[[0.0,\"#0d0887\"],[0.1111111111111111,\"#46039f\"],[0.2222222222222222,\"#7201a8\"],[0.3333333333333333,\"#9c179e\"],[0.4444444444444444,\"#bd3786\"],[0.5555555555555556,\"#d8576b\"],[0.6666666666666666,\"#ed7953\"],[0.7777777777777778,\"#fb9f3a\"],[0.8888888888888888,\"#fdca26\"],[1.0,\"#f0f921\"]],\"type\":\"histogram2dcontour\"}],\"histogram2d\":[{\"colorbar\":{\"outlinewidth\":0,\"ticks\":\"\"},\"colorscale\":[[0.0,\"#0d0887\"],[0.1111111111111111,\"#46039f\"],[0.2222222222222222,\"#7201a8\"],[0.3333333333333333,\"#9c179e\"],[0.4444444444444444,\"#bd3786\"],[0.5555555555555556,\"#d8576b\"],[0.6666666666666666,\"#ed7953\"],[0.7777777777777778,\"#fb9f3a\"],[0.8888888888888888,\"#fdca26\"],[1.0,\"#f0f921\"]],\"type\":\"histogram2d\"}],\"histogram\":[{\"marker\":{\"pattern\":{\"fillmode\":\"overlay\",\"size\":10,\"solidity\":0.2}},\"type\":\"histogram\"}],\"mesh3d\":[{\"colorbar\":{\"outlinewidth\":0,\"ticks\":\"\"},\"type\":\"mesh3d\"}],\"parcoords\":[{\"line\":{\"colorbar\":{\"outlinewidth\":0,\"ticks\":\"\"}},\"type\":\"parcoords\"}],\"pie\":[{\"automargin\":true,\"type\":\"pie\"}],\"scatter3d\":[{\"line\":{\"colorbar\":{\"outlinewidth\":0,\"ticks\":\"\"}},\"marker\":{\"colorbar\":{\"outlinewidth\":0,\"ticks\":\"\"}},\"type\":\"scatter3d\"}],\"scattercarpet\":[{\"marker\":{\"colorbar\":{\"outlinewidth\":0,\"ticks\":\"\"}},\"type\":\"scattercarpet\"}],\"scattergeo\":[{\"marker\":{\"colorbar\":{\"outlinewidth\":0,\"ticks\":\"\"}},\"type\":\"scattergeo\"}],\"scattergl\":[{\"marker\":{\"colorbar\":{\"outlinewidth\":0,\"ticks\":\"\"}},\"type\":\"scattergl\"}],\"scattermapbox\":[{\"marker\":{\"colorbar\":{\"outlinewidth\":0,\"ticks\":\"\"}},\"type\":\"scattermapbox\"}],\"scatterpolargl\":[{\"marker\":{\"colorbar\":{\"outlinewidth\":0,\"ticks\":\"\"}},\"type\":\"scatterpolargl\"}],\"scatterpolar\":[{\"marker\":{\"colorbar\":{\"outlinewidth\":0,\"ticks\":\"\"}},\"type\":\"scatterpolar\"}],\"scatter\":[{\"fillpattern\":{\"fillmode\":\"overlay\",\"size\":10,\"solidity\":0.2},\"type\":\"scatter\"}],\"scatterternary\":[{\"marker\":{\"colorbar\":{\"outlinewidth\":0,\"ticks\":\"\"}},\"type\":\"scatterternary\"}],\"surface\":[{\"colorbar\":{\"outlinewidth\":0,\"ticks\":\"\"},\"colorscale\":[[0.0,\"#0d0887\"],[0.1111111111111111,\"#46039f\"],[0.2222222222222222,\"#7201a8\"],[0.3333333333333333,\"#9c179e\"],[0.4444444444444444,\"#bd3786\"],[0.5555555555555556,\"#d8576b\"],[0.6666666666666666,\"#ed7953\"],[0.7777777777777778,\"#fb9f3a\"],[0.8888888888888888,\"#fdca26\"],[1.0,\"#f0f921\"]],\"type\":\"surface\"}],\"table\":[{\"cells\":{\"fill\":{\"color\":\"#EBF0F8\"},\"line\":{\"color\":\"white\"}},\"header\":{\"fill\":{\"color\":\"#C8D4E3\"},\"line\":{\"color\":\"white\"}},\"type\":\"table\"}]},\"layout\":{\"annotationdefaults\":{\"arrowcolor\":\"#2a3f5f\",\"arrowhead\":0,\"arrowwidth\":1},\"autotypenumbers\":\"strict\",\"coloraxis\":{\"colorbar\":{\"outlinewidth\":0,\"ticks\":\"\"}},\"colorscale\":{\"diverging\":[[0,\"#8e0152\"],[0.1,\"#c51b7d\"],[0.2,\"#de77ae\"],[0.3,\"#f1b6da\"],[0.4,\"#fde0ef\"],[0.5,\"#f7f7f7\"],[0.6,\"#e6f5d0\"],[0.7,\"#b8e186\"],[0.8,\"#7fbc41\"],[0.9,\"#4d9221\"],[1,\"#276419\"]],\"sequential\":[[0.0,\"#0d0887\"],[0.1111111111111111,\"#46039f\"],[0.2222222222222222,\"#7201a8\"],[0.3333333333333333,\"#9c179e\"],[0.4444444444444444,\"#bd3786\"],[0.5555555555555556,\"#d8576b\"],[0.6666666666666666,\"#ed7953\"],[0.7777777777777778,\"#fb9f3a\"],[0.8888888888888888,\"#fdca26\"],[1.0,\"#f0f921\"]],\"sequentialminus\":[[0.0,\"#0d0887\"],[0.1111111111111111,\"#46039f\"],[0.2222222222222222,\"#7201a8\"],[0.3333333333333333,\"#9c179e\"],[0.4444444444444444,\"#bd3786\"],[0.5555555555555556,\"#d8576b\"],[0.6666666666666666,\"#ed7953\"],[0.7777777777777778,\"#fb9f3a\"],[0.8888888888888888,\"#fdca26\"],[1.0,\"#f0f921\"]]},\"colorway\":[\"#636efa\",\"#EF553B\",\"#00cc96\",\"#ab63fa\",\"#FFA15A\",\"#19d3f3\",\"#FF6692\",\"#B6E880\",\"#FF97FF\",\"#FECB52\"],\"font\":{\"color\":\"#2a3f5f\"},\"geo\":{\"bgcolor\":\"white\",\"lakecolor\":\"white\",\"landcolor\":\"#E5ECF6\",\"showlakes\":true,\"showland\":true,\"subunitcolor\":\"white\"},\"hoverlabel\":{\"align\":\"left\"},\"hovermode\":\"closest\",\"mapbox\":{\"style\":\"light\"},\"paper_bgcolor\":\"white\",\"plot_bgcolor\":\"#E5ECF6\",\"polar\":{\"angularaxis\":{\"gridcolor\":\"white\",\"linecolor\":\"white\",\"ticks\":\"\"},\"bgcolor\":\"#E5ECF6\",\"radialaxis\":{\"gridcolor\":\"white\",\"linecolor\":\"white\",\"ticks\":\"\"}},\"scene\":{\"xaxis\":{\"backgroundcolor\":\"#E5ECF6\",\"gridcolor\":\"white\",\"gridwidth\":2,\"linecolor\":\"white\",\"showbackground\":true,\"ticks\":\"\",\"zerolinecolor\":\"white\"},\"yaxis\":{\"backgroundcolor\":\"#E5ECF6\",\"gridcolor\":\"white\",\"gridwidth\":2,\"linecolor\":\"white\",\"showbackground\":true,\"ticks\":\"\",\"zerolinecolor\":\"white\"},\"zaxis\":{\"backgroundcolor\":\"#E5ECF6\",\"gridcolor\":\"white\",\"gridwidth\":2,\"linecolor\":\"white\",\"showbackground\":true,\"ticks\":\"\",\"zerolinecolor\":\"white\"}},\"shapedefaults\":{\"line\":{\"color\":\"#2a3f5f\"}},\"ternary\":{\"aaxis\":{\"gridcolor\":\"white\",\"linecolor\":\"white\",\"ticks\":\"\"},\"baxis\":{\"gridcolor\":\"white\",\"linecolor\":\"white\",\"ticks\":\"\"},\"bgcolor\":\"#E5ECF6\",\"caxis\":{\"gridcolor\":\"white\",\"linecolor\":\"white\",\"ticks\":\"\"}},\"title\":{\"x\":0.05},\"xaxis\":{\"automargin\":true,\"gridcolor\":\"white\",\"linecolor\":\"white\",\"ticks\":\"\",\"title\":{\"standoff\":15},\"zerolinecolor\":\"white\",\"zerolinewidth\":2},\"yaxis\":{\"automargin\":true,\"gridcolor\":\"white\",\"linecolor\":\"white\",\"ticks\":\"\",\"title\":{\"standoff\":15},\"zerolinecolor\":\"white\",\"zerolinewidth\":2}}},\"title\":{\"font\":{\"color\":\"#4D5663\"}},\"xaxis\":{\"gridcolor\":\"#E1E5ED\",\"showgrid\":true,\"tickfont\":{\"color\":\"#4D5663\"},\"title\":{\"font\":{\"color\":\"#4D5663\"},\"text\":\"\"},\"zerolinecolor\":\"#E1E5ED\"},\"yaxis\":{\"gridcolor\":\"#E1E5ED\",\"showgrid\":true,\"tickfont\":{\"color\":\"#4D5663\"},\"title\":{\"font\":{\"color\":\"#4D5663\"},\"text\":\"\"},\"zerolinecolor\":\"#E1E5ED\"}},                        {\"showLink\": true, \"linkText\": \"Export to plot.ly\", \"plotlyServerURL\": \"https://plot.ly\", \"responsive\": true}                    ).then(function(){\n",
       "                            \n",
       "var gd = document.getElementById('03b9d8c1-a566-48fe-a801-6cc360cd0150');\n",
       "var x = new MutationObserver(function (mutations, observer) {{\n",
       "        var display = window.getComputedStyle(gd).display;\n",
       "        if (!display || display === 'none') {{\n",
       "            console.log([gd, 'removed!']);\n",
       "            Plotly.purge(gd);\n",
       "            observer.disconnect();\n",
       "        }}\n",
       "}});\n",
       "\n",
       "// Listen for the removal of the full notebook cells\n",
       "var notebookContainer = gd.closest('#notebook-container');\n",
       "if (notebookContainer) {{\n",
       "    x.observe(notebookContainer, {childList: true});\n",
       "}}\n",
       "\n",
       "// Listen for the clearing of the current output cell\n",
       "var outputEl = gd.closest('.output');\n",
       "if (outputEl) {{\n",
       "    x.observe(outputEl, {childList: true});\n",
       "}}\n",
       "\n",
       "                        })                };                });            </script>        </div>"
      ]
     },
     "metadata": {},
     "output_type": "display_data"
    }
   ],
   "source": [
    "df.iplot(kind='scatter',x='A',y='B',mode='markers',size=10)"
   ]
  },
  {
   "cell_type": "markdown",
   "metadata": {},
   "source": [
    "## Bar Plots"
   ]
  },
  {
   "cell_type": "code",
   "execution_count": 11,
   "metadata": {
    "collapsed": false,
    "jupyter": {
     "outputs_hidden": false
    }
   },
   "outputs": [
    {
     "data": {
      "application/vnd.plotly.v1+json": {
       "config": {
        "linkText": "Export to plot.ly",
        "plotlyServerURL": "https://plot.ly",
        "showLink": true
       },
       "data": [
        {
         "marker": {
          "color": "rgba(255, 153, 51, 0.6)",
          "line": {
           "color": "rgba(255, 153, 51, 1.0)",
           "width": 1
          }
         },
         "name": "Values",
         "orientation": "v",
         "text": "",
         "type": "bar",
         "x": [
          "A",
          "B",
          "C"
         ],
         "y": [
          32,
          43,
          50
         ]
        }
       ],
       "layout": {
        "autosize": true,
        "legend": {
         "bgcolor": "#F5F6F9",
         "font": {
          "color": "#4D5663"
         }
        },
        "paper_bgcolor": "#F5F6F9",
        "plot_bgcolor": "#F5F6F9",
        "template": {
         "data": {
          "bar": [
           {
            "error_x": {
             "color": "#2a3f5f"
            },
            "error_y": {
             "color": "#2a3f5f"
            },
            "marker": {
             "line": {
              "color": "#E5ECF6",
              "width": 0.5
             },
             "pattern": {
              "fillmode": "overlay",
              "size": 10,
              "solidity": 0.2
             }
            },
            "type": "bar"
           }
          ],
          "barpolar": [
           {
            "marker": {
             "line": {
              "color": "#E5ECF6",
              "width": 0.5
             },
             "pattern": {
              "fillmode": "overlay",
              "size": 10,
              "solidity": 0.2
             }
            },
            "type": "barpolar"
           }
          ],
          "carpet": [
           {
            "aaxis": {
             "endlinecolor": "#2a3f5f",
             "gridcolor": "white",
             "linecolor": "white",
             "minorgridcolor": "white",
             "startlinecolor": "#2a3f5f"
            },
            "baxis": {
             "endlinecolor": "#2a3f5f",
             "gridcolor": "white",
             "linecolor": "white",
             "minorgridcolor": "white",
             "startlinecolor": "#2a3f5f"
            },
            "type": "carpet"
           }
          ],
          "choropleth": [
           {
            "colorbar": {
             "outlinewidth": 0,
             "ticks": ""
            },
            "type": "choropleth"
           }
          ],
          "contour": [
           {
            "colorbar": {
             "outlinewidth": 0,
             "ticks": ""
            },
            "colorscale": [
             [
              0,
              "#0d0887"
             ],
             [
              0.1111111111111111,
              "#46039f"
             ],
             [
              0.2222222222222222,
              "#7201a8"
             ],
             [
              0.3333333333333333,
              "#9c179e"
             ],
             [
              0.4444444444444444,
              "#bd3786"
             ],
             [
              0.5555555555555556,
              "#d8576b"
             ],
             [
              0.6666666666666666,
              "#ed7953"
             ],
             [
              0.7777777777777778,
              "#fb9f3a"
             ],
             [
              0.8888888888888888,
              "#fdca26"
             ],
             [
              1,
              "#f0f921"
             ]
            ],
            "type": "contour"
           }
          ],
          "contourcarpet": [
           {
            "colorbar": {
             "outlinewidth": 0,
             "ticks": ""
            },
            "type": "contourcarpet"
           }
          ],
          "heatmap": [
           {
            "colorbar": {
             "outlinewidth": 0,
             "ticks": ""
            },
            "colorscale": [
             [
              0,
              "#0d0887"
             ],
             [
              0.1111111111111111,
              "#46039f"
             ],
             [
              0.2222222222222222,
              "#7201a8"
             ],
             [
              0.3333333333333333,
              "#9c179e"
             ],
             [
              0.4444444444444444,
              "#bd3786"
             ],
             [
              0.5555555555555556,
              "#d8576b"
             ],
             [
              0.6666666666666666,
              "#ed7953"
             ],
             [
              0.7777777777777778,
              "#fb9f3a"
             ],
             [
              0.8888888888888888,
              "#fdca26"
             ],
             [
              1,
              "#f0f921"
             ]
            ],
            "type": "heatmap"
           }
          ],
          "heatmapgl": [
           {
            "colorbar": {
             "outlinewidth": 0,
             "ticks": ""
            },
            "colorscale": [
             [
              0,
              "#0d0887"
             ],
             [
              0.1111111111111111,
              "#46039f"
             ],
             [
              0.2222222222222222,
              "#7201a8"
             ],
             [
              0.3333333333333333,
              "#9c179e"
             ],
             [
              0.4444444444444444,
              "#bd3786"
             ],
             [
              0.5555555555555556,
              "#d8576b"
             ],
             [
              0.6666666666666666,
              "#ed7953"
             ],
             [
              0.7777777777777778,
              "#fb9f3a"
             ],
             [
              0.8888888888888888,
              "#fdca26"
             ],
             [
              1,
              "#f0f921"
             ]
            ],
            "type": "heatmapgl"
           }
          ],
          "histogram": [
           {
            "marker": {
             "pattern": {
              "fillmode": "overlay",
              "size": 10,
              "solidity": 0.2
             }
            },
            "type": "histogram"
           }
          ],
          "histogram2d": [
           {
            "colorbar": {
             "outlinewidth": 0,
             "ticks": ""
            },
            "colorscale": [
             [
              0,
              "#0d0887"
             ],
             [
              0.1111111111111111,
              "#46039f"
             ],
             [
              0.2222222222222222,
              "#7201a8"
             ],
             [
              0.3333333333333333,
              "#9c179e"
             ],
             [
              0.4444444444444444,
              "#bd3786"
             ],
             [
              0.5555555555555556,
              "#d8576b"
             ],
             [
              0.6666666666666666,
              "#ed7953"
             ],
             [
              0.7777777777777778,
              "#fb9f3a"
             ],
             [
              0.8888888888888888,
              "#fdca26"
             ],
             [
              1,
              "#f0f921"
             ]
            ],
            "type": "histogram2d"
           }
          ],
          "histogram2dcontour": [
           {
            "colorbar": {
             "outlinewidth": 0,
             "ticks": ""
            },
            "colorscale": [
             [
              0,
              "#0d0887"
             ],
             [
              0.1111111111111111,
              "#46039f"
             ],
             [
              0.2222222222222222,
              "#7201a8"
             ],
             [
              0.3333333333333333,
              "#9c179e"
             ],
             [
              0.4444444444444444,
              "#bd3786"
             ],
             [
              0.5555555555555556,
              "#d8576b"
             ],
             [
              0.6666666666666666,
              "#ed7953"
             ],
             [
              0.7777777777777778,
              "#fb9f3a"
             ],
             [
              0.8888888888888888,
              "#fdca26"
             ],
             [
              1,
              "#f0f921"
             ]
            ],
            "type": "histogram2dcontour"
           }
          ],
          "mesh3d": [
           {
            "colorbar": {
             "outlinewidth": 0,
             "ticks": ""
            },
            "type": "mesh3d"
           }
          ],
          "parcoords": [
           {
            "line": {
             "colorbar": {
              "outlinewidth": 0,
              "ticks": ""
             }
            },
            "type": "parcoords"
           }
          ],
          "pie": [
           {
            "automargin": true,
            "type": "pie"
           }
          ],
          "scatter": [
           {
            "fillpattern": {
             "fillmode": "overlay",
             "size": 10,
             "solidity": 0.2
            },
            "type": "scatter"
           }
          ],
          "scatter3d": [
           {
            "line": {
             "colorbar": {
              "outlinewidth": 0,
              "ticks": ""
             }
            },
            "marker": {
             "colorbar": {
              "outlinewidth": 0,
              "ticks": ""
             }
            },
            "type": "scatter3d"
           }
          ],
          "scattercarpet": [
           {
            "marker": {
             "colorbar": {
              "outlinewidth": 0,
              "ticks": ""
             }
            },
            "type": "scattercarpet"
           }
          ],
          "scattergeo": [
           {
            "marker": {
             "colorbar": {
              "outlinewidth": 0,
              "ticks": ""
             }
            },
            "type": "scattergeo"
           }
          ],
          "scattergl": [
           {
            "marker": {
             "colorbar": {
              "outlinewidth": 0,
              "ticks": ""
             }
            },
            "type": "scattergl"
           }
          ],
          "scattermapbox": [
           {
            "marker": {
             "colorbar": {
              "outlinewidth": 0,
              "ticks": ""
             }
            },
            "type": "scattermapbox"
           }
          ],
          "scatterpolar": [
           {
            "marker": {
             "colorbar": {
              "outlinewidth": 0,
              "ticks": ""
             }
            },
            "type": "scatterpolar"
           }
          ],
          "scatterpolargl": [
           {
            "marker": {
             "colorbar": {
              "outlinewidth": 0,
              "ticks": ""
             }
            },
            "type": "scatterpolargl"
           }
          ],
          "scatterternary": [
           {
            "marker": {
             "colorbar": {
              "outlinewidth": 0,
              "ticks": ""
             }
            },
            "type": "scatterternary"
           }
          ],
          "surface": [
           {
            "colorbar": {
             "outlinewidth": 0,
             "ticks": ""
            },
            "colorscale": [
             [
              0,
              "#0d0887"
             ],
             [
              0.1111111111111111,
              "#46039f"
             ],
             [
              0.2222222222222222,
              "#7201a8"
             ],
             [
              0.3333333333333333,
              "#9c179e"
             ],
             [
              0.4444444444444444,
              "#bd3786"
             ],
             [
              0.5555555555555556,
              "#d8576b"
             ],
             [
              0.6666666666666666,
              "#ed7953"
             ],
             [
              0.7777777777777778,
              "#fb9f3a"
             ],
             [
              0.8888888888888888,
              "#fdca26"
             ],
             [
              1,
              "#f0f921"
             ]
            ],
            "type": "surface"
           }
          ],
          "table": [
           {
            "cells": {
             "fill": {
              "color": "#EBF0F8"
             },
             "line": {
              "color": "white"
             }
            },
            "header": {
             "fill": {
              "color": "#C8D4E3"
             },
             "line": {
              "color": "white"
             }
            },
            "type": "table"
           }
          ]
         },
         "layout": {
          "annotationdefaults": {
           "arrowcolor": "#2a3f5f",
           "arrowhead": 0,
           "arrowwidth": 1
          },
          "autotypenumbers": "strict",
          "coloraxis": {
           "colorbar": {
            "outlinewidth": 0,
            "ticks": ""
           }
          },
          "colorscale": {
           "diverging": [
            [
             0,
             "#8e0152"
            ],
            [
             0.1,
             "#c51b7d"
            ],
            [
             0.2,
             "#de77ae"
            ],
            [
             0.3,
             "#f1b6da"
            ],
            [
             0.4,
             "#fde0ef"
            ],
            [
             0.5,
             "#f7f7f7"
            ],
            [
             0.6,
             "#e6f5d0"
            ],
            [
             0.7,
             "#b8e186"
            ],
            [
             0.8,
             "#7fbc41"
            ],
            [
             0.9,
             "#4d9221"
            ],
            [
             1,
             "#276419"
            ]
           ],
           "sequential": [
            [
             0,
             "#0d0887"
            ],
            [
             0.1111111111111111,
             "#46039f"
            ],
            [
             0.2222222222222222,
             "#7201a8"
            ],
            [
             0.3333333333333333,
             "#9c179e"
            ],
            [
             0.4444444444444444,
             "#bd3786"
            ],
            [
             0.5555555555555556,
             "#d8576b"
            ],
            [
             0.6666666666666666,
             "#ed7953"
            ],
            [
             0.7777777777777778,
             "#fb9f3a"
            ],
            [
             0.8888888888888888,
             "#fdca26"
            ],
            [
             1,
             "#f0f921"
            ]
           ],
           "sequentialminus": [
            [
             0,
             "#0d0887"
            ],
            [
             0.1111111111111111,
             "#46039f"
            ],
            [
             0.2222222222222222,
             "#7201a8"
            ],
            [
             0.3333333333333333,
             "#9c179e"
            ],
            [
             0.4444444444444444,
             "#bd3786"
            ],
            [
             0.5555555555555556,
             "#d8576b"
            ],
            [
             0.6666666666666666,
             "#ed7953"
            ],
            [
             0.7777777777777778,
             "#fb9f3a"
            ],
            [
             0.8888888888888888,
             "#fdca26"
            ],
            [
             1,
             "#f0f921"
            ]
           ]
          },
          "colorway": [
           "#636efa",
           "#EF553B",
           "#00cc96",
           "#ab63fa",
           "#FFA15A",
           "#19d3f3",
           "#FF6692",
           "#B6E880",
           "#FF97FF",
           "#FECB52"
          ],
          "font": {
           "color": "#2a3f5f"
          },
          "geo": {
           "bgcolor": "white",
           "lakecolor": "white",
           "landcolor": "#E5ECF6",
           "showlakes": true,
           "showland": true,
           "subunitcolor": "white"
          },
          "hoverlabel": {
           "align": "left"
          },
          "hovermode": "closest",
          "mapbox": {
           "style": "light"
          },
          "paper_bgcolor": "white",
          "plot_bgcolor": "#E5ECF6",
          "polar": {
           "angularaxis": {
            "gridcolor": "white",
            "linecolor": "white",
            "ticks": ""
           },
           "bgcolor": "#E5ECF6",
           "radialaxis": {
            "gridcolor": "white",
            "linecolor": "white",
            "ticks": ""
           }
          },
          "scene": {
           "xaxis": {
            "backgroundcolor": "#E5ECF6",
            "gridcolor": "white",
            "gridwidth": 2,
            "linecolor": "white",
            "showbackground": true,
            "ticks": "",
            "zerolinecolor": "white"
           },
           "yaxis": {
            "backgroundcolor": "#E5ECF6",
            "gridcolor": "white",
            "gridwidth": 2,
            "linecolor": "white",
            "showbackground": true,
            "ticks": "",
            "zerolinecolor": "white"
           },
           "zaxis": {
            "backgroundcolor": "#E5ECF6",
            "gridcolor": "white",
            "gridwidth": 2,
            "linecolor": "white",
            "showbackground": true,
            "ticks": "",
            "zerolinecolor": "white"
           }
          },
          "shapedefaults": {
           "line": {
            "color": "#2a3f5f"
           }
          },
          "ternary": {
           "aaxis": {
            "gridcolor": "white",
            "linecolor": "white",
            "ticks": ""
           },
           "baxis": {
            "gridcolor": "white",
            "linecolor": "white",
            "ticks": ""
           },
           "bgcolor": "#E5ECF6",
           "caxis": {
            "gridcolor": "white",
            "linecolor": "white",
            "ticks": ""
           }
          },
          "title": {
           "x": 0.05
          },
          "xaxis": {
           "automargin": true,
           "gridcolor": "white",
           "linecolor": "white",
           "ticks": "",
           "title": {
            "standoff": 15
           },
           "zerolinecolor": "white",
           "zerolinewidth": 2
          },
          "yaxis": {
           "automargin": true,
           "gridcolor": "white",
           "linecolor": "white",
           "ticks": "",
           "title": {
            "standoff": 15
           },
           "zerolinecolor": "white",
           "zerolinewidth": 2
          }
         }
        },
        "title": {
         "font": {
          "color": "#4D5663"
         }
        },
        "xaxis": {
         "autorange": true,
         "gridcolor": "#E1E5ED",
         "range": [
          -0.5,
          2.5
         ],
         "showgrid": true,
         "tickfont": {
          "color": "#4D5663"
         },
         "title": {
          "font": {
           "color": "#4D5663"
          },
          "text": ""
         },
         "type": "category",
         "zerolinecolor": "#E1E5ED"
        },
        "yaxis": {
         "autorange": true,
         "gridcolor": "#E1E5ED",
         "range": [
          0,
          52.63157894736842
         ],
         "showgrid": true,
         "tickfont": {
          "color": "#4D5663"
         },
         "title": {
          "font": {
           "color": "#4D5663"
          },
          "text": ""
         },
         "type": "linear",
         "zerolinecolor": "#E1E5ED"
        }
       }
      },
      "image/png": "[encoded data removed]",
      "text/html": [
       "<div>                            <div id=\"11781d1c-3008-4a07-b7bb-81f2def2f9cd\" class=\"plotly-graph-div\" style=\"height:525px; width:100%;\"></div>            <script type=\"text/javascript\">                require([\"plotly\"], function(Plotly) {                    window.PLOTLYENV=window.PLOTLYENV || {};\n",
       "                    window.PLOTLYENV.BASE_URL='https://plot.ly';                                    if (document.getElementById(\"11781d1c-3008-4a07-b7bb-81f2def2f9cd\")) {                    Plotly.newPlot(                        \"11781d1c-3008-4a07-b7bb-81f2def2f9cd\",                        [{\"marker\":{\"color\":\"rgba(255, 153, 51, 0.6)\",\"line\":{\"color\":\"rgba(255, 153, 51, 1.0)\",\"width\":1}},\"name\":\"Values\",\"orientation\":\"v\",\"text\":\"\",\"x\":[\"A\",\"B\",\"C\"],\"y\":[32,43,50],\"type\":\"bar\"}],                        {\"legend\":{\"bgcolor\":\"#F5F6F9\",\"font\":{\"color\":\"#4D5663\"}},\"paper_bgcolor\":\"#F5F6F9\",\"plot_bgcolor\":\"#F5F6F9\",\"template\":{\"data\":{\"barpolar\":[{\"marker\":{\"line\":{\"color\":\"#E5ECF6\",\"width\":0.5},\"pattern\":{\"fillmode\":\"overlay\",\"size\":10,\"solidity\":0.2}},\"type\":\"barpolar\"}],\"bar\":[{\"error_x\":{\"color\":\"#2a3f5f\"},\"error_y\":{\"color\":\"#2a3f5f\"},\"marker\":{\"line\":{\"color\":\"#E5ECF6\",\"width\":0.5},\"pattern\":{\"fillmode\":\"overlay\",\"size\":10,\"solidity\":0.2}},\"type\":\"bar\"}],\"carpet\":[{\"aaxis\":{\"endlinecolor\":\"#2a3f5f\",\"gridcolor\":\"white\",\"linecolor\":\"white\",\"minorgridcolor\":\"white\",\"startlinecolor\":\"#2a3f5f\"},\"baxis\":{\"endlinecolor\":\"#2a3f5f\",\"gridcolor\":\"white\",\"linecolor\":\"white\",\"minorgridcolor\":\"white\",\"startlinecolor\":\"#2a3f5f\"},\"type\":\"carpet\"}],\"choropleth\":[{\"colorbar\":{\"outlinewidth\":0,\"ticks\":\"\"},\"type\":\"choropleth\"}],\"contourcarpet\":[{\"colorbar\":{\"outlinewidth\":0,\"ticks\":\"\"},\"type\":\"contourcarpet\"}],\"contour\":[{\"colorbar\":{\"outlinewidth\":0,\"ticks\":\"\"},\"colorscale\":[[0.0,\"#0d0887\"],[0.1111111111111111,\"#46039f\"],[0.2222222222222222,\"#7201a8\"],[0.3333333333333333,\"#9c179e\"],[0.4444444444444444,\"#bd3786\"],[0.5555555555555556,\"#d8576b\"],[0.6666666666666666,\"#ed7953\"],[0.7777777777777778,\"#fb9f3a\"],[0.8888888888888888,\"#fdca26\"],[1.0,\"#f0f921\"]],\"type\":\"contour\"}],\"heatmapgl\":[{\"colorbar\":{\"outlinewidth\":0,\"ticks\":\"\"},\"colorscale\":[[0.0,\"#0d0887\"],[0.1111111111111111,\"#46039f\"],[0.2222222222222222,\"#7201a8\"],[0.3333333333333333,\"#9c179e\"],[0.4444444444444444,\"#bd3786\"],[0.5555555555555556,\"#d8576b\"],[0.6666666666666666,\"#ed7953\"],[0.7777777777777778,\"#fb9f3a\"],[0.8888888888888888,\"#fdca26\"],[1.0,\"#f0f921\"]],\"type\":\"heatmapgl\"}],\"heatmap\":[{\"colorbar\":{\"outlinewidth\":0,\"ticks\":\"\"},\"colorscale\":[[0.0,\"#0d0887\"],[0.1111111111111111,\"#46039f\"],[0.2222222222222222,\"#7201a8\"],[0.3333333333333333,\"#9c179e\"],[0.4444444444444444,\"#bd3786\"],[0.5555555555555556,\"#d8576b\"],[0.6666666666666666,\"#ed7953\"],[0.7777777777777778,\"#fb9f3a\"],[0.8888888888888888,\"#fdca26\"],[1.0,\"#f0f921\"]],\"type\":\"heatmap\"}],\"histogram2dcontour\":[{\"colorbar\":{\"outlinewidth\":0,\"ticks\":\"\"},\"colorscale\":[[0.0,\"#0d0887\"],[0.1111111111111111,\"#46039f\"],[0.2222222222222222,\"#7201a8\"],[0.3333333333333333,\"#9c179e\"],[0.4444444444444444,\"#bd3786\"],[0.5555555555555556,\"#d8576b\"],[0.6666666666666666,\"#ed7953\"],[0.7777777777777778,\"#fb9f3a\"],[0.8888888888888888,\"#fdca26\"],[1.0,\"#f0f921\"]],\"type\":\"histogram2dcontour\"}],\"histogram2d\":[{\"colorbar\":{\"outlinewidth\":0,\"ticks\":\"\"},\"colorscale\":[[0.0,\"#0d0887\"],[0.1111111111111111,\"#46039f\"],[0.2222222222222222,\"#7201a8\"],[0.3333333333333333,\"#9c179e\"],[0.4444444444444444,\"#bd3786\"],[0.5555555555555556,\"#d8576b\"],[0.6666666666666666,\"#ed7953\"],[0.7777777777777778,\"#fb9f3a\"],[0.8888888888888888,\"#fdca26\"],[1.0,\"#f0f921\"]],\"type\":\"histogram2d\"}],\"histogram\":[{\"marker\":{\"pattern\":{\"fillmode\":\"overlay\",\"size\":10,\"solidity\":0.2}},\"type\":\"histogram\"}],\"mesh3d\":[{\"colorbar\":{\"outlinewidth\":0,\"ticks\":\"\"},\"type\":\"mesh3d\"}],\"parcoords\":[{\"line\":{\"colorbar\":{\"outlinewidth\":0,\"ticks\":\"\"}},\"type\":\"parcoords\"}],\"pie\":[{\"automargin\":true,\"type\":\"pie\"}],\"scatter3d\":[{\"line\":{\"colorbar\":{\"outlinewidth\":0,\"ticks\":\"\"}},\"marker\":{\"colorbar\":{\"outlinewidth\":0,\"ticks\":\"\"}},\"type\":\"scatter3d\"}],\"scattercarpet\":[{\"marker\":{\"colorbar\":{\"outlinewidth\":0,\"ticks\":\"\"}},\"type\":\"scattercarpet\"}],\"scattergeo\":[{\"marker\":{\"colorbar\":{\"outlinewidth\":0,\"ticks\":\"\"}},\"type\":\"scattergeo\"}],\"scattergl\":[{\"marker\":{\"colorbar\":{\"outlinewidth\":0,\"ticks\":\"\"}},\"type\":\"scattergl\"}],\"scattermapbox\":[{\"marker\":{\"colorbar\":{\"outlinewidth\":0,\"ticks\":\"\"}},\"type\":\"scattermapbox\"}],\"scatterpolargl\":[{\"marker\":{\"colorbar\":{\"outlinewidth\":0,\"ticks\":\"\"}},\"type\":\"scatterpolargl\"}],\"scatterpolar\":[{\"marker\":{\"colorbar\":{\"outlinewidth\":0,\"ticks\":\"\"}},\"type\":\"scatterpolar\"}],\"scatter\":[{\"fillpattern\":{\"fillmode\":\"overlay\",\"size\":10,\"solidity\":0.2},\"type\":\"scatter\"}],\"scatterternary\":[{\"marker\":{\"colorbar\":{\"outlinewidth\":0,\"ticks\":\"\"}},\"type\":\"scatterternary\"}],\"surface\":[{\"colorbar\":{\"outlinewidth\":0,\"ticks\":\"\"},\"colorscale\":[[0.0,\"#0d0887\"],[0.1111111111111111,\"#46039f\"],[0.2222222222222222,\"#7201a8\"],[0.3333333333333333,\"#9c179e\"],[0.4444444444444444,\"#bd3786\"],[0.5555555555555556,\"#d8576b\"],[0.6666666666666666,\"#ed7953\"],[0.7777777777777778,\"#fb9f3a\"],[0.8888888888888888,\"#fdca26\"],[1.0,\"#f0f921\"]],\"type\":\"surface\"}],\"table\":[{\"cells\":{\"fill\":{\"color\":\"#EBF0F8\"},\"line\":{\"color\":\"white\"}},\"header\":{\"fill\":{\"color\":\"#C8D4E3\"},\"line\":{\"color\":\"white\"}},\"type\":\"table\"}]},\"layout\":{\"annotationdefaults\":{\"arrowcolor\":\"#2a3f5f\",\"arrowhead\":0,\"arrowwidth\":1},\"autotypenumbers\":\"strict\",\"coloraxis\":{\"colorbar\":{\"outlinewidth\":0,\"ticks\":\"\"}},\"colorscale\":{\"diverging\":[[0,\"#8e0152\"],[0.1,\"#c51b7d\"],[0.2,\"#de77ae\"],[0.3,\"#f1b6da\"],[0.4,\"#fde0ef\"],[0.5,\"#f7f7f7\"],[0.6,\"#e6f5d0\"],[0.7,\"#b8e186\"],[0.8,\"#7fbc41\"],[0.9,\"#4d9221\"],[1,\"#276419\"]],\"sequential\":[[0.0,\"#0d0887\"],[0.1111111111111111,\"#46039f\"],[0.2222222222222222,\"#7201a8\"],[0.3333333333333333,\"#9c179e\"],[0.4444444444444444,\"#bd3786\"],[0.5555555555555556,\"#d8576b\"],[0.6666666666666666,\"#ed7953\"],[0.7777777777777778,\"#fb9f3a\"],[0.8888888888888888,\"#fdca26\"],[1.0,\"#f0f921\"]],\"sequentialminus\":[[0.0,\"#0d0887\"],[0.1111111111111111,\"#46039f\"],[0.2222222222222222,\"#7201a8\"],[0.3333333333333333,\"#9c179e\"],[0.4444444444444444,\"#bd3786\"],[0.5555555555555556,\"#d8576b\"],[0.6666666666666666,\"#ed7953\"],[0.7777777777777778,\"#fb9f3a\"],[0.8888888888888888,\"#fdca26\"],[1.0,\"#f0f921\"]]},\"colorway\":[\"#636efa\",\"#EF553B\",\"#00cc96\",\"#ab63fa\",\"#FFA15A\",\"#19d3f3\",\"#FF6692\",\"#B6E880\",\"#FF97FF\",\"#FECB52\"],\"font\":{\"color\":\"#2a3f5f\"},\"geo\":{\"bgcolor\":\"white\",\"lakecolor\":\"white\",\"landcolor\":\"#E5ECF6\",\"showlakes\":true,\"showland\":true,\"subunitcolor\":\"white\"},\"hoverlabel\":{\"align\":\"left\"},\"hovermode\":\"closest\",\"mapbox\":{\"style\":\"light\"},\"paper_bgcolor\":\"white\",\"plot_bgcolor\":\"#E5ECF6\",\"polar\":{\"angularaxis\":{\"gridcolor\":\"white\",\"linecolor\":\"white\",\"ticks\":\"\"},\"bgcolor\":\"#E5ECF6\",\"radialaxis\":{\"gridcolor\":\"white\",\"linecolor\":\"white\",\"ticks\":\"\"}},\"scene\":{\"xaxis\":{\"backgroundcolor\":\"#E5ECF6\",\"gridcolor\":\"white\",\"gridwidth\":2,\"linecolor\":\"white\",\"showbackground\":true,\"ticks\":\"\",\"zerolinecolor\":\"white\"},\"yaxis\":{\"backgroundcolor\":\"#E5ECF6\",\"gridcolor\":\"white\",\"gridwidth\":2,\"linecolor\":\"white\",\"showbackground\":true,\"ticks\":\"\",\"zerolinecolor\":\"white\"},\"zaxis\":{\"backgroundcolor\":\"#E5ECF6\",\"gridcolor\":\"white\",\"gridwidth\":2,\"linecolor\":\"white\",\"showbackground\":true,\"ticks\":\"\",\"zerolinecolor\":\"white\"}},\"shapedefaults\":{\"line\":{\"color\":\"#2a3f5f\"}},\"ternary\":{\"aaxis\":{\"gridcolor\":\"white\",\"linecolor\":\"white\",\"ticks\":\"\"},\"baxis\":{\"gridcolor\":\"white\",\"linecolor\":\"white\",\"ticks\":\"\"},\"bgcolor\":\"#E5ECF6\",\"caxis\":{\"gridcolor\":\"white\",\"linecolor\":\"white\",\"ticks\":\"\"}},\"title\":{\"x\":0.05},\"xaxis\":{\"automargin\":true,\"gridcolor\":\"white\",\"linecolor\":\"white\",\"ticks\":\"\",\"title\":{\"standoff\":15},\"zerolinecolor\":\"white\",\"zerolinewidth\":2},\"yaxis\":{\"automargin\":true,\"gridcolor\":\"white\",\"linecolor\":\"white\",\"ticks\":\"\",\"title\":{\"standoff\":15},\"zerolinecolor\":\"white\",\"zerolinewidth\":2}}},\"title\":{\"font\":{\"color\":\"#4D5663\"}},\"xaxis\":{\"gridcolor\":\"#E1E5ED\",\"showgrid\":true,\"tickfont\":{\"color\":\"#4D5663\"},\"title\":{\"font\":{\"color\":\"#4D5663\"},\"text\":\"\"},\"zerolinecolor\":\"#E1E5ED\"},\"yaxis\":{\"gridcolor\":\"#E1E5ED\",\"showgrid\":true,\"tickfont\":{\"color\":\"#4D5663\"},\"title\":{\"font\":{\"color\":\"#4D5663\"},\"text\":\"\"},\"zerolinecolor\":\"#E1E5ED\"}},                        {\"showLink\": true, \"linkText\": \"Export to plot.ly\", \"plotlyServerURL\": \"https://plot.ly\", \"responsive\": true}                    ).then(function(){\n",
       "                            \n",
       "var gd = document.getElementById('11781d1c-3008-4a07-b7bb-81f2def2f9cd');\n",
       "var x = new MutationObserver(function (mutations, observer) {{\n",
       "        var display = window.getComputedStyle(gd).display;\n",
       "        if (!display || display === 'none') {{\n",
       "            console.log([gd, 'removed!']);\n",
       "            Plotly.purge(gd);\n",
       "            observer.disconnect();\n",
       "        }}\n",
       "}});\n",
       "\n",
       "// Listen for the removal of the full notebook cells\n",
       "var notebookContainer = gd.closest('#notebook-container');\n",
       "if (notebookContainer) {{\n",
       "    x.observe(notebookContainer, {childList: true});\n",
       "}}\n",
       "\n",
       "// Listen for the clearing of the current output cell\n",
       "var outputEl = gd.closest('.output');\n",
       "if (outputEl) {{\n",
       "    x.observe(outputEl, {childList: true});\n",
       "}}\n",
       "\n",
       "                        })                };                });            </script>        </div>"
      ]
     },
     "metadata": {},
     "output_type": "display_data"
    }
   ],
   "source": [
    "df2.iplot(kind='bar',x='Category',y='Values')"
   ]
  },
  {
   "cell_type": "code",
   "execution_count": 12,
   "metadata": {
    "collapsed": false,
    "jupyter": {
     "outputs_hidden": false
    }
   },
   "outputs": [
    {
     "data": {
      "application/vnd.plotly.v1+json": {
       "config": {
        "linkText": "Export to plot.ly",
        "plotlyServerURL": "https://plot.ly",
        "showLink": true
       },
       "data": [
        {
         "marker": {
          "color": "rgba(255, 153, 51, 0.6)",
          "line": {
           "color": "rgba(255, 153, 51, 1.0)",
           "width": 1
          }
         },
         "name": "None",
         "orientation": "v",
         "text": "",
         "type": "bar",
         "x": [
          "A",
          "B",
          "C",
          "D"
         ],
         "y": [
          100,
          100,
          100,
          100
         ]
        }
       ],
       "layout": {
        "autosize": true,
        "legend": {
         "bgcolor": "#F5F6F9",
         "font": {
          "color": "#4D5663"
         }
        },
        "paper_bgcolor": "#F5F6F9",
        "plot_bgcolor": "#F5F6F9",
        "template": {
         "data": {
          "bar": [
           {
            "error_x": {
             "color": "#2a3f5f"
            },
            "error_y": {
             "color": "#2a3f5f"
            },
            "marker": {
             "line": {
              "color": "#E5ECF6",
              "width": 0.5
             },
             "pattern": {
              "fillmode": "overlay",
              "size": 10,
              "solidity": 0.2
             }
            },
            "type": "bar"
           }
          ],
          "barpolar": [
           {
            "marker": {
             "line": {
              "color": "#E5ECF6",
              "width": 0.5
             },
             "pattern": {
              "fillmode": "overlay",
              "size": 10,
              "solidity": 0.2
             }
            },
            "type": "barpolar"
           }
          ],
          "carpet": [
           {
            "aaxis": {
             "endlinecolor": "#2a3f5f",
             "gridcolor": "white",
             "linecolor": "white",
             "minorgridcolor": "white",
             "startlinecolor": "#2a3f5f"
            },
            "baxis": {
             "endlinecolor": "#2a3f5f",
             "gridcolor": "white",
             "linecolor": "white",
             "minorgridcolor": "white",
             "startlinecolor": "#2a3f5f"
            },
            "type": "carpet"
           }
          ],
          "choropleth": [
           {
            "colorbar": {
             "outlinewidth": 0,
             "ticks": ""
            },
            "type": "choropleth"
           }
          ],
          "contour": [
           {
            "colorbar": {
             "outlinewidth": 0,
             "ticks": ""
            },
            "colorscale": [
             [
              0,
              "#0d0887"
             ],
             [
              0.1111111111111111,
              "#46039f"
             ],
             [
              0.2222222222222222,
              "#7201a8"
             ],
             [
              0.3333333333333333,
              "#9c179e"
             ],
             [
              0.4444444444444444,
              "#bd3786"
             ],
             [
              0.5555555555555556,
              "#d8576b"
             ],
             [
              0.6666666666666666,
              "#ed7953"
             ],
             [
              0.7777777777777778,
              "#fb9f3a"
             ],
             [
              0.8888888888888888,
              "#fdca26"
             ],
             [
              1,
              "#f0f921"
             ]
            ],
            "type": "contour"
           }
          ],
          "contourcarpet": [
           {
            "colorbar": {
             "outlinewidth": 0,
             "ticks": ""
            },
            "type": "contourcarpet"
           }
          ],
          "heatmap": [
           {
            "colorbar": {
             "outlinewidth": 0,
             "ticks": ""
            },
            "colorscale": [
             [
              0,
              "#0d0887"
             ],
             [
              0.1111111111111111,
              "#46039f"
             ],
             [
              0.2222222222222222,
              "#7201a8"
             ],
             [
              0.3333333333333333,
              "#9c179e"
             ],
             [
              0.4444444444444444,
              "#bd3786"
             ],
             [
              0.5555555555555556,
              "#d8576b"
             ],
             [
              0.6666666666666666,
              "#ed7953"
             ],
             [
              0.7777777777777778,
              "#fb9f3a"
             ],
             [
              0.8888888888888888,
              "#fdca26"
             ],
             [
              1,
              "#f0f921"
             ]
            ],
            "type": "heatmap"
           }
          ],
          "heatmapgl": [
           {
            "colorbar": {
             "outlinewidth": 0,
             "ticks": ""
            },
            "colorscale": [
             [
              0,
              "#0d0887"
             ],
             [
              0.1111111111111111,
              "#46039f"
             ],
             [
              0.2222222222222222,
              "#7201a8"
             ],
             [
              0.3333333333333333,
              "#9c179e"
             ],
             [
              0.4444444444444444,
              "#bd3786"
             ],
             [
              0.5555555555555556,
              "#d8576b"
             ],
             [
              0.6666666666666666,
              "#ed7953"
             ],
             [
              0.7777777777777778,
              "#fb9f3a"
             ],
             [
              0.8888888888888888,
              "#fdca26"
             ],
             [
              1,
              "#f0f921"
             ]
            ],
            "type": "heatmapgl"
           }
          ],
          "histogram": [
           {
            "marker": {
             "pattern": {
              "fillmode": "overlay",
              "size": 10,
              "solidity": 0.2
             }
            },
            "type": "histogram"
           }
          ],
          "histogram2d": [
           {
            "colorbar": {
             "outlinewidth": 0,
             "ticks": ""
            },
            "colorscale": [
             [
              0,
              "#0d0887"
             ],
             [
              0.1111111111111111,
              "#46039f"
             ],
             [
              0.2222222222222222,
              "#7201a8"
             ],
             [
              0.3333333333333333,
              "#9c179e"
             ],
             [
              0.4444444444444444,
              "#bd3786"
             ],
             [
              0.5555555555555556,
              "#d8576b"
             ],
             [
              0.6666666666666666,
              "#ed7953"
             ],
             [
              0.7777777777777778,
              "#fb9f3a"
             ],
             [
              0.8888888888888888,
              "#fdca26"
             ],
             [
              1,
              "#f0f921"
             ]
            ],
            "type": "histogram2d"
           }
          ],
          "histogram2dcontour": [
           {
            "colorbar": {
             "outlinewidth": 0,
             "ticks": ""
            },
            "colorscale": [
             [
              0,
              "#0d0887"
             ],
             [
              0.1111111111111111,
              "#46039f"
             ],
             [
              0.2222222222222222,
              "#7201a8"
             ],
             [
              0.3333333333333333,
              "#9c179e"
             ],
             [
              0.4444444444444444,
              "#bd3786"
             ],
             [
              0.5555555555555556,
              "#d8576b"
             ],
             [
              0.6666666666666666,
              "#ed7953"
             ],
             [
              0.7777777777777778,
              "#fb9f3a"
             ],
             [
              0.8888888888888888,
              "#fdca26"
             ],
             [
              1,
              "#f0f921"
             ]
            ],
            "type": "histogram2dcontour"
           }
          ],
          "mesh3d": [
           {
            "colorbar": {
             "outlinewidth": 0,
             "ticks": ""
            },
            "type": "mesh3d"
           }
          ],
          "parcoords": [
           {
            "line": {
             "colorbar": {
              "outlinewidth": 0,
              "ticks": ""
             }
            },
            "type": "parcoords"
           }
          ],
          "pie": [
           {
            "automargin": true,
            "type": "pie"
           }
          ],
          "scatter": [
           {
            "fillpattern": {
             "fillmode": "overlay",
             "size": 10,
             "solidity": 0.2
            },
            "type": "scatter"
           }
          ],
          "scatter3d": [
           {
            "line": {
             "colorbar": {
              "outlinewidth": 0,
              "ticks": ""
             }
            },
            "marker": {
             "colorbar": {
              "outlinewidth": 0,
              "ticks": ""
             }
            },
            "type": "scatter3d"
           }
          ],
          "scattercarpet": [
           {
            "marker": {
             "colorbar": {
              "outlinewidth": 0,
              "ticks": ""
             }
            },
            "type": "scattercarpet"
           }
          ],
          "scattergeo": [
           {
            "marker": {
             "colorbar": {
              "outlinewidth": 0,
              "ticks": ""
             }
            },
            "type": "scattergeo"
           }
          ],
          "scattergl": [
           {
            "marker": {
             "colorbar": {
              "outlinewidth": 0,
              "ticks": ""
             }
            },
            "type": "scattergl"
           }
          ],
          "scattermapbox": [
           {
            "marker": {
             "colorbar": {
              "outlinewidth": 0,
              "ticks": ""
             }
            },
            "type": "scattermapbox"
           }
          ],
          "scatterpolar": [
           {
            "marker": {
             "colorbar": {
              "outlinewidth": 0,
              "ticks": ""
             }
            },
            "type": "scatterpolar"
           }
          ],
          "scatterpolargl": [
           {
            "marker": {
             "colorbar": {
              "outlinewidth": 0,
              "ticks": ""
             }
            },
            "type": "scatterpolargl"
           }
          ],
          "scatterternary": [
           {
            "marker": {
             "colorbar": {
              "outlinewidth": 0,
              "ticks": ""
             }
            },
            "type": "scatterternary"
           }
          ],
          "surface": [
           {
            "colorbar": {
             "outlinewidth": 0,
             "ticks": ""
            },
            "colorscale": [
             [
              0,
              "#0d0887"
             ],
             [
              0.1111111111111111,
              "#46039f"
             ],
             [
              0.2222222222222222,
              "#7201a8"
             ],
             [
              0.3333333333333333,
              "#9c179e"
             ],
             [
              0.4444444444444444,
              "#bd3786"
             ],
             [
              0.5555555555555556,
              "#d8576b"
             ],
             [
              0.6666666666666666,
              "#ed7953"
             ],
             [
              0.7777777777777778,
              "#fb9f3a"
             ],
             [
              0.8888888888888888,
              "#fdca26"
             ],
             [
              1,
              "#f0f921"
             ]
            ],
            "type": "surface"
           }
          ],
          "table": [
           {
            "cells": {
             "fill": {
              "color": "#EBF0F8"
             },
             "line": {
              "color": "white"
             }
            },
            "header": {
             "fill": {
              "color": "#C8D4E3"
             },
             "line": {
              "color": "white"
             }
            },
            "type": "table"
           }
          ]
         },
         "layout": {
          "annotationdefaults": {
           "arrowcolor": "#2a3f5f",
           "arrowhead": 0,
           "arrowwidth": 1
          },
          "autotypenumbers": "strict",
          "coloraxis": {
           "colorbar": {
            "outlinewidth": 0,
            "ticks": ""
           }
          },
          "colorscale": {
           "diverging": [
            [
             0,
             "#8e0152"
            ],
            [
             0.1,
             "#c51b7d"
            ],
            [
             0.2,
             "#de77ae"
            ],
            [
             0.3,
             "#f1b6da"
            ],
            [
             0.4,
             "#fde0ef"
            ],
            [
             0.5,
             "#f7f7f7"
            ],
            [
             0.6,
             "#e6f5d0"
            ],
            [
             0.7,
             "#b8e186"
            ],
            [
             0.8,
             "#7fbc41"
            ],
            [
             0.9,
             "#4d9221"
            ],
            [
             1,
             "#276419"
            ]
           ],
           "sequential": [
            [
             0,
             "#0d0887"
            ],
            [
             0.1111111111111111,
             "#46039f"
            ],
            [
             0.2222222222222222,
             "#7201a8"
            ],
            [
             0.3333333333333333,
             "#9c179e"
            ],
            [
             0.4444444444444444,
             "#bd3786"
            ],
            [
             0.5555555555555556,
             "#d8576b"
            ],
            [
             0.6666666666666666,
             "#ed7953"
            ],
            [
             0.7777777777777778,
             "#fb9f3a"
            ],
            [
             0.8888888888888888,
             "#fdca26"
            ],
            [
             1,
             "#f0f921"
            ]
           ],
           "sequentialminus": [
            [
             0,
             "#0d0887"
            ],
            [
             0.1111111111111111,
             "#46039f"
            ],
            [
             0.2222222222222222,
             "#7201a8"
            ],
            [
             0.3333333333333333,
             "#9c179e"
            ],
            [
             0.4444444444444444,
             "#bd3786"
            ],
            [
             0.5555555555555556,
             "#d8576b"
            ],
            [
             0.6666666666666666,
             "#ed7953"
            ],
            [
             0.7777777777777778,
             "#fb9f3a"
            ],
            [
             0.8888888888888888,
             "#fdca26"
            ],
            [
             1,
             "#f0f921"
            ]
           ]
          },
          "colorway": [
           "#636efa",
           "#EF553B",
           "#00cc96",
           "#ab63fa",
           "#FFA15A",
           "#19d3f3",
           "#FF6692",
           "#B6E880",
           "#FF97FF",
           "#FECB52"
          ],
          "font": {
           "color": "#2a3f5f"
          },
          "geo": {
           "bgcolor": "white",
           "lakecolor": "white",
           "landcolor": "#E5ECF6",
           "showlakes": true,
           "showland": true,
           "subunitcolor": "white"
          },
          "hoverlabel": {
           "align": "left"
          },
          "hovermode": "closest",
          "mapbox": {
           "style": "light"
          },
          "paper_bgcolor": "white",
          "plot_bgcolor": "#E5ECF6",
          "polar": {
           "angularaxis": {
            "gridcolor": "white",
            "linecolor": "white",
            "ticks": ""
           },
           "bgcolor": "#E5ECF6",
           "radialaxis": {
            "gridcolor": "white",
            "linecolor": "white",
            "ticks": ""
           }
          },
          "scene": {
           "xaxis": {
            "backgroundcolor": "#E5ECF6",
            "gridcolor": "white",
            "gridwidth": 2,
            "linecolor": "white",
            "showbackground": true,
            "ticks": "",
            "zerolinecolor": "white"
           },
           "yaxis": {
            "backgroundcolor": "#E5ECF6",
            "gridcolor": "white",
            "gridwidth": 2,
            "linecolor": "white",
            "showbackground": true,
            "ticks": "",
            "zerolinecolor": "white"
           },
           "zaxis": {
            "backgroundcolor": "#E5ECF6",
            "gridcolor": "white",
            "gridwidth": 2,
            "linecolor": "white",
            "showbackground": true,
            "ticks": "",
            "zerolinecolor": "white"
           }
          },
          "shapedefaults": {
           "line": {
            "color": "#2a3f5f"
           }
          },
          "ternary": {
           "aaxis": {
            "gridcolor": "white",
            "linecolor": "white",
            "ticks": ""
           },
           "baxis": {
            "gridcolor": "white",
            "linecolor": "white",
            "ticks": ""
           },
           "bgcolor": "#E5ECF6",
           "caxis": {
            "gridcolor": "white",
            "linecolor": "white",
            "ticks": ""
           }
          },
          "title": {
           "x": 0.05
          },
          "xaxis": {
           "automargin": true,
           "gridcolor": "white",
           "linecolor": "white",
           "ticks": "",
           "title": {
            "standoff": 15
           },
           "zerolinecolor": "white",
           "zerolinewidth": 2
          },
          "yaxis": {
           "automargin": true,
           "gridcolor": "white",
           "linecolor": "white",
           "ticks": "",
           "title": {
            "standoff": 15
           },
           "zerolinecolor": "white",
           "zerolinewidth": 2
          }
         }
        },
        "title": {
         "font": {
          "color": "#4D5663"
         }
        },
        "xaxis": {
         "autorange": true,
         "gridcolor": "#E1E5ED",
         "range": [
          -0.5,
          3.5
         ],
         "showgrid": true,
         "tickfont": {
          "color": "#4D5663"
         },
         "title": {
          "font": {
           "color": "#4D5663"
          },
          "text": ""
         },
         "type": "category",
         "zerolinecolor": "#E1E5ED"
        },
        "yaxis": {
         "autorange": true,
         "gridcolor": "#E1E5ED",
         "range": [
          0,
          105.26315789473684
         ],
         "showgrid": true,
         "tickfont": {
          "color": "#4D5663"
         },
         "title": {
          "font": {
           "color": "#4D5663"
          },
          "text": ""
         },
         "type": "linear",
         "zerolinecolor": "#E1E5ED"
        }
       }
      },
      "image/png": "[encoded data removed]",
      "text/html": [
       "<div>                            <div id=\"75c97b9f-86a2-4196-98e3-78b799936215\" class=\"plotly-graph-div\" style=\"height:525px; width:100%;\"></div>            <script type=\"text/javascript\">                require([\"plotly\"], function(Plotly) {                    window.PLOTLYENV=window.PLOTLYENV || {};\n",
       "                    window.PLOTLYENV.BASE_URL='https://plot.ly';                                    if (document.getElementById(\"75c97b9f-86a2-4196-98e3-78b799936215\")) {                    Plotly.newPlot(                        \"75c97b9f-86a2-4196-98e3-78b799936215\",                        [{\"marker\":{\"color\":\"rgba(255, 153, 51, 0.6)\",\"line\":{\"color\":\"rgba(255, 153, 51, 1.0)\",\"width\":1}},\"name\":\"None\",\"orientation\":\"v\",\"text\":\"\",\"x\":[\"A\",\"B\",\"C\",\"D\"],\"y\":[100,100,100,100],\"type\":\"bar\"}],                        {\"legend\":{\"bgcolor\":\"#F5F6F9\",\"font\":{\"color\":\"#4D5663\"}},\"paper_bgcolor\":\"#F5F6F9\",\"plot_bgcolor\":\"#F5F6F9\",\"template\":{\"data\":{\"barpolar\":[{\"marker\":{\"line\":{\"color\":\"#E5ECF6\",\"width\":0.5},\"pattern\":{\"fillmode\":\"overlay\",\"size\":10,\"solidity\":0.2}},\"type\":\"barpolar\"}],\"bar\":[{\"error_x\":{\"color\":\"#2a3f5f\"},\"error_y\":{\"color\":\"#2a3f5f\"},\"marker\":{\"line\":{\"color\":\"#E5ECF6\",\"width\":0.5},\"pattern\":{\"fillmode\":\"overlay\",\"size\":10,\"solidity\":0.2}},\"type\":\"bar\"}],\"carpet\":[{\"aaxis\":{\"endlinecolor\":\"#2a3f5f\",\"gridcolor\":\"white\",\"linecolor\":\"white\",\"minorgridcolor\":\"white\",\"startlinecolor\":\"#2a3f5f\"},\"baxis\":{\"endlinecolor\":\"#2a3f5f\",\"gridcolor\":\"white\",\"linecolor\":\"white\",\"minorgridcolor\":\"white\",\"startlinecolor\":\"#2a3f5f\"},\"type\":\"carpet\"}],\"choropleth\":[{\"colorbar\":{\"outlinewidth\":0,\"ticks\":\"\"},\"type\":\"choropleth\"}],\"contourcarpet\":[{\"colorbar\":{\"outlinewidth\":0,\"ticks\":\"\"},\"type\":\"contourcarpet\"}],\"contour\":[{\"colorbar\":{\"outlinewidth\":0,\"ticks\":\"\"},\"colorscale\":[[0.0,\"#0d0887\"],[0.1111111111111111,\"#46039f\"],[0.2222222222222222,\"#7201a8\"],[0.3333333333333333,\"#9c179e\"],[0.4444444444444444,\"#bd3786\"],[0.5555555555555556,\"#d8576b\"],[0.6666666666666666,\"#ed7953\"],[0.7777777777777778,\"#fb9f3a\"],[0.8888888888888888,\"#fdca26\"],[1.0,\"#f0f921\"]],\"type\":\"contour\"}],\"heatmapgl\":[{\"colorbar\":{\"outlinewidth\":0,\"ticks\":\"\"},\"colorscale\":[[0.0,\"#0d0887\"],[0.1111111111111111,\"#46039f\"],[0.2222222222222222,\"#7201a8\"],[0.3333333333333333,\"#9c179e\"],[0.4444444444444444,\"#bd3786\"],[0.5555555555555556,\"#d8576b\"],[0.6666666666666666,\"#ed7953\"],[0.7777777777777778,\"#fb9f3a\"],[0.8888888888888888,\"#fdca26\"],[1.0,\"#f0f921\"]],\"type\":\"heatmapgl\"}],\"heatmap\":[{\"colorbar\":{\"outlinewidth\":0,\"ticks\":\"\"},\"colorscale\":[[0.0,\"#0d0887\"],[0.1111111111111111,\"#46039f\"],[0.2222222222222222,\"#7201a8\"],[0.3333333333333333,\"#9c179e\"],[0.4444444444444444,\"#bd3786\"],[0.5555555555555556,\"#d8576b\"],[0.6666666666666666,\"#ed7953\"],[0.7777777777777778,\"#fb9f3a\"],[0.8888888888888888,\"#fdca26\"],[1.0,\"#f0f921\"]],\"type\":\"heatmap\"}],\"histogram2dcontour\":[{\"colorbar\":{\"outlinewidth\":0,\"ticks\":\"\"},\"colorscale\":[[0.0,\"#0d0887\"],[0.1111111111111111,\"#46039f\"],[0.2222222222222222,\"#7201a8\"],[0.3333333333333333,\"#9c179e\"],[0.4444444444444444,\"#bd3786\"],[0.5555555555555556,\"#d8576b\"],[0.6666666666666666,\"#ed7953\"],[0.7777777777777778,\"#fb9f3a\"],[0.8888888888888888,\"#fdca26\"],[1.0,\"#f0f921\"]],\"type\":\"histogram2dcontour\"}],\"histogram2d\":[{\"colorbar\":{\"outlinewidth\":0,\"ticks\":\"\"},\"colorscale\":[[0.0,\"#0d0887\"],[0.1111111111111111,\"#46039f\"],[0.2222222222222222,\"#7201a8\"],[0.3333333333333333,\"#9c179e\"],[0.4444444444444444,\"#bd3786\"],[0.5555555555555556,\"#d8576b\"],[0.6666666666666666,\"#ed7953\"],[0.7777777777777778,\"#fb9f3a\"],[0.8888888888888888,\"#fdca26\"],[1.0,\"#f0f921\"]],\"type\":\"histogram2d\"}],\"histogram\":[{\"marker\":{\"pattern\":{\"fillmode\":\"overlay\",\"size\":10,\"solidity\":0.2}},\"type\":\"histogram\"}],\"mesh3d\":[{\"colorbar\":{\"outlinewidth\":0,\"ticks\":\"\"},\"type\":\"mesh3d\"}],\"parcoords\":[{\"line\":{\"colorbar\":{\"outlinewidth\":0,\"ticks\":\"\"}},\"type\":\"parcoords\"}],\"pie\":[{\"automargin\":true,\"type\":\"pie\"}],\"scatter3d\":[{\"line\":{\"colorbar\":{\"outlinewidth\":0,\"ticks\":\"\"}},\"marker\":{\"colorbar\":{\"outlinewidth\":0,\"ticks\":\"\"}},\"type\":\"scatter3d\"}],\"scattercarpet\":[{\"marker\":{\"colorbar\":{\"outlinewidth\":0,\"ticks\":\"\"}},\"type\":\"scattercarpet\"}],\"scattergeo\":[{\"marker\":{\"colorbar\":{\"outlinewidth\":0,\"ticks\":\"\"}},\"type\":\"scattergeo\"}],\"scattergl\":[{\"marker\":{\"colorbar\":{\"outlinewidth\":0,\"ticks\":\"\"}},\"type\":\"scattergl\"}],\"scattermapbox\":[{\"marker\":{\"colorbar\":{\"outlinewidth\":0,\"ticks\":\"\"}},\"type\":\"scattermapbox\"}],\"scatterpolargl\":[{\"marker\":{\"colorbar\":{\"outlinewidth\":0,\"ticks\":\"\"}},\"type\":\"scatterpolargl\"}],\"scatterpolar\":[{\"marker\":{\"colorbar\":{\"outlinewidth\":0,\"ticks\":\"\"}},\"type\":\"scatterpolar\"}],\"scatter\":[{\"fillpattern\":{\"fillmode\":\"overlay\",\"size\":10,\"solidity\":0.2},\"type\":\"scatter\"}],\"scatterternary\":[{\"marker\":{\"colorbar\":{\"outlinewidth\":0,\"ticks\":\"\"}},\"type\":\"scatterternary\"}],\"surface\":[{\"colorbar\":{\"outlinewidth\":0,\"ticks\":\"\"},\"colorscale\":[[0.0,\"#0d0887\"],[0.1111111111111111,\"#46039f\"],[0.2222222222222222,\"#7201a8\"],[0.3333333333333333,\"#9c179e\"],[0.4444444444444444,\"#bd3786\"],[0.5555555555555556,\"#d8576b\"],[0.6666666666666666,\"#ed7953\"],[0.7777777777777778,\"#fb9f3a\"],[0.8888888888888888,\"#fdca26\"],[1.0,\"#f0f921\"]],\"type\":\"surface\"}],\"table\":[{\"cells\":{\"fill\":{\"color\":\"#EBF0F8\"},\"line\":{\"color\":\"white\"}},\"header\":{\"fill\":{\"color\":\"#C8D4E3\"},\"line\":{\"color\":\"white\"}},\"type\":\"table\"}]},\"layout\":{\"annotationdefaults\":{\"arrowcolor\":\"#2a3f5f\",\"arrowhead\":0,\"arrowwidth\":1},\"autotypenumbers\":\"strict\",\"coloraxis\":{\"colorbar\":{\"outlinewidth\":0,\"ticks\":\"\"}},\"colorscale\":{\"diverging\":[[0,\"#8e0152\"],[0.1,\"#c51b7d\"],[0.2,\"#de77ae\"],[0.3,\"#f1b6da\"],[0.4,\"#fde0ef\"],[0.5,\"#f7f7f7\"],[0.6,\"#e6f5d0\"],[0.7,\"#b8e186\"],[0.8,\"#7fbc41\"],[0.9,\"#4d9221\"],[1,\"#276419\"]],\"sequential\":[[0.0,\"#0d0887\"],[0.1111111111111111,\"#46039f\"],[0.2222222222222222,\"#7201a8\"],[0.3333333333333333,\"#9c179e\"],[0.4444444444444444,\"#bd3786\"],[0.5555555555555556,\"#d8576b\"],[0.6666666666666666,\"#ed7953\"],[0.7777777777777778,\"#fb9f3a\"],[0.8888888888888888,\"#fdca26\"],[1.0,\"#f0f921\"]],\"sequentialminus\":[[0.0,\"#0d0887\"],[0.1111111111111111,\"#46039f\"],[0.2222222222222222,\"#7201a8\"],[0.3333333333333333,\"#9c179e\"],[0.4444444444444444,\"#bd3786\"],[0.5555555555555556,\"#d8576b\"],[0.6666666666666666,\"#ed7953\"],[0.7777777777777778,\"#fb9f3a\"],[0.8888888888888888,\"#fdca26\"],[1.0,\"#f0f921\"]]},\"colorway\":[\"#636efa\",\"#EF553B\",\"#00cc96\",\"#ab63fa\",\"#FFA15A\",\"#19d3f3\",\"#FF6692\",\"#B6E880\",\"#FF97FF\",\"#FECB52\"],\"font\":{\"color\":\"#2a3f5f\"},\"geo\":{\"bgcolor\":\"white\",\"lakecolor\":\"white\",\"landcolor\":\"#E5ECF6\",\"showlakes\":true,\"showland\":true,\"subunitcolor\":\"white\"},\"hoverlabel\":{\"align\":\"left\"},\"hovermode\":\"closest\",\"mapbox\":{\"style\":\"light\"},\"paper_bgcolor\":\"white\",\"plot_bgcolor\":\"#E5ECF6\",\"polar\":{\"angularaxis\":{\"gridcolor\":\"white\",\"linecolor\":\"white\",\"ticks\":\"\"},\"bgcolor\":\"#E5ECF6\",\"radialaxis\":{\"gridcolor\":\"white\",\"linecolor\":\"white\",\"ticks\":\"\"}},\"scene\":{\"xaxis\":{\"backgroundcolor\":\"#E5ECF6\",\"gridcolor\":\"white\",\"gridwidth\":2,\"linecolor\":\"white\",\"showbackground\":true,\"ticks\":\"\",\"zerolinecolor\":\"white\"},\"yaxis\":{\"backgroundcolor\":\"#E5ECF6\",\"gridcolor\":\"white\",\"gridwidth\":2,\"linecolor\":\"white\",\"showbackground\":true,\"ticks\":\"\",\"zerolinecolor\":\"white\"},\"zaxis\":{\"backgroundcolor\":\"#E5ECF6\",\"gridcolor\":\"white\",\"gridwidth\":2,\"linecolor\":\"white\",\"showbackground\":true,\"ticks\":\"\",\"zerolinecolor\":\"white\"}},\"shapedefaults\":{\"line\":{\"color\":\"#2a3f5f\"}},\"ternary\":{\"aaxis\":{\"gridcolor\":\"white\",\"linecolor\":\"white\",\"ticks\":\"\"},\"baxis\":{\"gridcolor\":\"white\",\"linecolor\":\"white\",\"ticks\":\"\"},\"bgcolor\":\"#E5ECF6\",\"caxis\":{\"gridcolor\":\"white\",\"linecolor\":\"white\",\"ticks\":\"\"}},\"title\":{\"x\":0.05},\"xaxis\":{\"automargin\":true,\"gridcolor\":\"white\",\"linecolor\":\"white\",\"ticks\":\"\",\"title\":{\"standoff\":15},\"zerolinecolor\":\"white\",\"zerolinewidth\":2},\"yaxis\":{\"automargin\":true,\"gridcolor\":\"white\",\"linecolor\":\"white\",\"ticks\":\"\",\"title\":{\"standoff\":15},\"zerolinecolor\":\"white\",\"zerolinewidth\":2}}},\"title\":{\"font\":{\"color\":\"#4D5663\"}},\"xaxis\":{\"gridcolor\":\"#E1E5ED\",\"showgrid\":true,\"tickfont\":{\"color\":\"#4D5663\"},\"title\":{\"font\":{\"color\":\"#4D5663\"},\"text\":\"\"},\"zerolinecolor\":\"#E1E5ED\"},\"yaxis\":{\"gridcolor\":\"#E1E5ED\",\"showgrid\":true,\"tickfont\":{\"color\":\"#4D5663\"},\"title\":{\"font\":{\"color\":\"#4D5663\"},\"text\":\"\"},\"zerolinecolor\":\"#E1E5ED\"}},                        {\"showLink\": true, \"linkText\": \"Export to plot.ly\", \"plotlyServerURL\": \"https://plot.ly\", \"responsive\": true}                    ).then(function(){\n",
       "                            \n",
       "var gd = document.getElementById('75c97b9f-86a2-4196-98e3-78b799936215');\n",
       "var x = new MutationObserver(function (mutations, observer) {{\n",
       "        var display = window.getComputedStyle(gd).display;\n",
       "        if (!display || display === 'none') {{\n",
       "            console.log([gd, 'removed!']);\n",
       "            Plotly.purge(gd);\n",
       "            observer.disconnect();\n",
       "        }}\n",
       "}});\n",
       "\n",
       "// Listen for the removal of the full notebook cells\n",
       "var notebookContainer = gd.closest('#notebook-container');\n",
       "if (notebookContainer) {{\n",
       "    x.observe(notebookContainer, {childList: true});\n",
       "}}\n",
       "\n",
       "// Listen for the clearing of the current output cell\n",
       "var outputEl = gd.closest('.output');\n",
       "if (outputEl) {{\n",
       "    x.observe(outputEl, {childList: true});\n",
       "}}\n",
       "\n",
       "                        })                };                });            </script>        </div>"
      ]
     },
     "metadata": {},
     "output_type": "display_data"
    }
   ],
   "source": [
    "df.count().iplot(kind='bar')"
   ]
  },
  {
   "cell_type": "markdown",
   "metadata": {},
   "source": [
    "## Boxplots"
   ]
  },
  {
   "cell_type": "code",
   "execution_count": 13,
   "metadata": {
    "collapsed": false,
    "jupyter": {
     "outputs_hidden": false
    }
   },
   "outputs": [
    {
     "data": {
      "application/vnd.plotly.v1+json": {
       "config": {
        "linkText": "Export to plot.ly",
        "plotlyServerURL": "https://plot.ly",
        "showLink": true
       },
       "data": [
        {
         "boxpoints": false,
         "line": {
          "width": 1.3
         },
         "marker": {
          "color": "rgba(255, 153, 51, 1.0)"
         },
         "name": "A",
         "orientation": "v",
         "type": "box",
         "y": [
          0.018612650461357173,
          0.9960448857866494,
          0.5348989996252956,
          0.2744644691707193,
          -1.5365837996629519,
          0.6925164494907833,
          1.6355335882891844,
          -0.4847552691952551,
          0.30614385275660383,
          0.6124200551769818,
          1.1083663399431376,
          1.0180355605534988,
          1.257435789537904,
          -0.971833663638946,
          -0.6058590356787764,
          0.22023782953865775,
          2.120845276514453,
          -0.39456862325103875,
          0.6062219318447225,
          -1.7401149822576623,
          0.9742836776250653,
          -0.4031138669609755,
          1.396780034995444,
          0.7589153724023462,
          0.3613077716338431,
          -1.1240045019293001,
          -0.348857032578735,
          -0.6516516862967474,
          2.196241159251179,
          0.32989001608345575,
          -0.867630944602537,
          0.3632992521805315,
          -0.06810963771889461,
          -1.4541900245405381,
          1.3454753011398228,
          -1.9530849822802803,
          -0.8912013360228284,
          0.470947892105552,
          -0.15985505994419505,
          0.2198163702457327,
          -0.23010375469522198,
          0.5707062620139806,
          1.0719425958771212,
          0.7066538833117731,
          -0.3630221878876869,
          0.3922575727286456,
          -0.3612705276291241,
          -0.29550629725886385,
          0.5225653600745495,
          -0.27305291477145976,
          -1.3368444755064772,
          -0.7312444638403542,
          1.2372752954036261,
          0.43425609169846763,
          0.1378203123065723,
          -2.5650700100831454,
          1.5713680268021728,
          0.17299087523119103,
          0.8253910603445144,
          -0.1943973629179473,
          1.2022341699975243,
          -1.024967266248822,
          1.434392749628085,
          -0.2644970147935291,
          0.9120358181465171,
          -0.3574958316214275,
          -1.179661643313809,
          -1.2377308248032741,
          1.1327664908798656,
          0.8516976018670983,
          -0.011298938254510052,
          -1.2175903618027375,
          0.3257227008931923,
          0.9257341855583504,
          0.14031310714798895,
          -0.4195496491587592,
          1.2758452304798396,
          1.815682574463287,
          0.873722200060419,
          0.8332601650259654,
          -0.8665169598166514,
          -0.391384661683601,
          0.3137052464154313,
          0.9720372843795664,
          2.794271493694322,
          -1.8462934934409374,
          0.2964577706006214,
          0.5747909516562963,
          0.3515544444419624,
          0.6560688317045775,
          -1.825358297613211,
          0.17689201309241853,
          -0.7893616265432474,
          -0.7090282511585885,
          -0.06412212886610219,
          -1.6274770848951148,
          0.2871954929436289,
          -0.48615868570872567,
          0.3068728465283206,
          -0.46892326583647614
         ]
        },
        {
         "boxpoints": false,
         "line": {
          "width": 1.3
         },
         "marker": {
          "color": "rgba(55, 128, 191, 1.0)"
         },
         "name": "B",
         "orientation": "v",
         "type": "box",
         "y": [
          -0.14515941434662252,
          0.6806873926308932,
          -0.4635907081842978,
          -0.9133813580992908,
          0.33961520411379165,
          1.5359756763886903,
          0.5608200555640893,
          0.7385576598977033,
          0.3584101017217968,
          1.9681524054333133,
          0.9122347227604708,
          -1.208747759097325,
          1.0391099033587277,
          -0.04081664467136474,
          0.6920299931313932,
          0.17855709424490082,
          -0.5471926984690776,
          1.7684838359114352,
          -0.778441418564234,
          -0.5178855908859966,
          0.9554421418744045,
          1.981324589895577,
          -1.17791668305019,
          0.3635416602419813,
          1.4729249970268203,
          0.7169383023416109,
          -1.2414094580752362,
          -1.2454370486619037,
          -1.7753439436106342,
          -0.6803313710281736,
          -0.5941007653584087,
          1.29730024703594,
          -0.7575686405643377,
          1.4942790818364484,
          -0.6654988353214182,
          0.9003465610236291,
          0.1716342723004468,
          0.7738326789387621,
          -0.08714118904590173,
          -0.7714694142266564,
          0.5716227010443915,
          -0.8023726811909293,
          -0.32188924350996573,
          -0.9495064010735178,
          -0.1236980187298372,
          0.984595744764496,
          1.0096805551319956,
          -0.045044452402429505,
          -0.5996944687876562,
          -1.6598707450260282,
          0.6982590693953475,
          0.6628038847624309,
          -1.6797836633008574,
          1.08258578354228,
          0.3317032091015285,
          -0.5996108415625231,
          1.1787266939990753,
          -1.8858246311427032,
          0.4231740974380043,
          -0.43743434843633805,
          -1.2718057883980407,
          3.7856936387517033,
          -0.2778675274235196,
          0.37308634581461714,
          -0.7511575583029262,
          -0.4412683300216426,
          -0.5520539627737876,
          -1.2062055501876965,
          -0.7575196571867082,
          -0.5904982857173883,
          0.24853412195376048,
          -0.675739876593458,
          0.14891546824242163,
          0.5960418652525297,
          -2.037121868752909,
          -1.5681567204104996,
          -0.7249904679456038,
          -0.4891376531406688,
          -0.41806157762339813,
          -0.5998508532127527,
          -1.0328558517005673,
          0.6694597255695663,
          0.04969881038761035,
          0.3754027351884087,
          -0.09811199867557581,
          -0.6820977361199116,
          0.3209387499165821,
          0.9944285480742319,
          1.4563020824070612,
          -0.9133609870969249,
          -0.1844346272232779,
          0.4166235110059231,
          0.9665369943532935,
          0.1728104303703586,
          1.2548409050126537,
          -0.6782408136490494,
          0.6860085295644298,
          -0.22302236812107096,
          -0.9399304729507478,
          -0.6479042403168237
         ]
        },
        {
         "boxpoints": false,
         "line": {
          "width": 1.3
         },
         "marker": {
          "color": "rgba(50, 171, 96, 1.0)"
         },
         "name": "C",
         "orientation": "v",
         "type": "box",
         "y": [
          -0.6631112137659735,
          -1.1423995334059467,
          0.5928751686945043,
          -1.1943316790433962,
          -0.7603827608348788,
          -1.297993782865933,
          0.9113825311823592,
          1.1762898155632082,
          -0.8942259524553294,
          0.3286718173304842,
          -0.5820546922659687,
          -0.9562209296191151,
          0.6157450258242222,
          -2.314765274166029,
          0.2337438522094003,
          0.5847192719125819,
          -0.40435925959311164,
          0.6296203798161512,
          0.37492020182302077,
          -1.7549033689682147,
          1.0403284170788798,
          -0.12508973689624178,
          -0.10347897984686757,
          -0.2906985014671275,
          0.22865057339429926,
          -1.306004479976751,
          -0.6527440085715561,
          1.8959637593422904,
          -1.6097628661704821,
          1.4065334795977154,
          1.2054517514144698,
          -0.4906707483797095,
          0.2223097976167643,
          1.8587610953926799,
          -0.39806462588795033,
          0.4491303797167707,
          -0.048811214581093006,
          -2.545774054410595,
          1.3685527042477281,
          0.679504792511501,
          1.19333168374123,
          1.3465029950881853,
          -1.301380383951909,
          -1.438760121760832,
          -0.4163266334621699,
          -1.6953036082267967,
          -0.17228230303715106,
          1.5827863640472826,
          -1.0812362354577663,
          0.2417167061520083,
          -1.5718938572145051,
          1.604663699145939,
          0.5273075301822094,
          0.4869251072421638,
          1.6003994114805054,
          0.771756114328106,
          0.35300628352328856,
          0.702670236247351,
          -0.9926897887558903,
          0.4248194163768752,
          -0.7737891564680249,
          -2.305809903822905,
          -1.2651656383714034,
          1.9835028631100977,
          1.2479941431297734,
          -0.1917395348875637,
          0.2750411674500079,
          0.2935713284342274,
          0.36131144606884585,
          0.7886739126485992,
          -0.12469467846471595,
          -1.6939637097953788,
          0.622918339309211,
          -1.048959254521311,
          1.1550563903320934,
          -1.32374739631727,
          0.22468511670440153,
          -0.011841782877135732,
          -0.10552746937631269,
          -0.5098692108134364,
          -0.23274102415992018,
          -0.6511251657587834,
          -1.042110331853821,
          0.4831655257270956,
          0.45639257228494157,
          0.49090299196787446,
          -0.3461598306876503,
          0.026950653027867182,
          0.7690796454969269,
          0.9187729421320473,
          -0.5090184216288456,
          0.23761712573069083,
          1.4153047180981166,
          -0.351279531158534,
          1.655547940135908,
          -0.8874936298517963,
          -0.5738575262962571,
          0.23888294647194033,
          -0.7581496631534301,
          0.851744743665249
         ]
        },
        {
         "boxpoints": false,
         "line": {
          "width": 1.3
         },
         "marker": {
          "color": "rgba(128, 0, 128, 1.0)"
         },
         "name": "D",
         "orientation": "v",
         "type": "box",
         "y": [
          -2.997406608311242,
          0.10249790616161769,
          0.413552337766213,
          -0.7213067947750976,
          0.022132314414748295,
          0.6747171399161759,
          -0.24146887982582543,
          0.05574219757835409,
          -0.4344330093300636,
          -1.1814007310594277,
          0.15433500905338188,
          -0.46978416700066283,
          0.8877618944082435,
          -0.20206702255376482,
          -1.4115233502709037,
          1.2689857900671335,
          0.4784560516042179,
          2.2593489055579132,
          -0.4713546150342186,
          -0.8150823278419957,
          0.24605228132442553,
          1.3983284524109587,
          0.1340285271188061,
          0.1821941374690226,
          0.7796965555404504,
          1.3957240998050646,
          -0.09436588577686467,
          2.3763951411338406,
          -0.8210322395572709,
          -0.7238473646535825,
          -0.6153381443426702,
          -0.23618469124826236,
          -0.5044741151570341,
          1.2113033430942026,
          0.6861793391378319,
          -0.0076680350033603,
          -0.6069662356067594,
          -0.8024831446710116,
          1.1932594862380586,
          1.0293399642089083,
          1.0741392926111917,
          0.01822692363329739,
          -0.8743467477374735,
          1.1861097811646617,
          0.6612000776377134,
          1.9164800878878911,
          0.750258304688333,
          -0.7788493542443379,
          0.6892094393005193,
          0.6307142576338273,
          -2.189752922517158,
          -0.7328986493176874,
          0.24820185792376268,
          0.2715734762274199,
          -1.4911630961880542,
          0.8237915786236065,
          1.1075565976165815,
          -0.7290193065248117,
          -0.46802303560511616,
          -0.5883046253859369,
          0.3648494036512118,
          -0.05771724933292349,
          -0.4440705630528392,
          -1.3236501300666088,
          -0.7838341928129381,
          -0.2797625915478993,
          1.7702390954941136,
          -0.045330338466166284,
          -0.076667488626622,
          -1.1383285052474656,
          -0.9421745260790562,
          2.1999811022127105,
          0.011004043264536965,
          0.9228214983397348,
          -0.5502056765197774,
          -0.1968128800761642,
          0.7540268139892187,
          -0.016170908036249904,
          -0.3605229363198243,
          -0.04372504862739124,
          0.6785453122885303,
          1.126931950186432,
          0.6620887101093931,
          1.7245166556851053,
          0.7109368901077827,
          -0.030607256125364815,
          -0.538247118018449,
          1.154232302594473,
          0.13477192183970227,
          0.8736884219723613,
          0.2593336814369859,
          -1.4381888248251582,
          -0.25358136117702385,
          -0.13227731911381488,
          1.0312069448851797,
          -0.6570253233928224,
          2.095592440614549,
          -0.5057302121780123,
          0.6296421702766222,
          -0.20801372701984316
         ]
        }
       ],
       "layout": {
        "autosize": true,
        "legend": {
         "bgcolor": "#F5F6F9",
         "font": {
          "color": "#4D5663"
         }
        },
        "paper_bgcolor": "#F5F6F9",
        "plot_bgcolor": "#F5F6F9",
        "template": {
         "data": {
          "bar": [
           {
            "error_x": {
             "color": "#2a3f5f"
            },
            "error_y": {
             "color": "#2a3f5f"
            },
            "marker": {
             "line": {
              "color": "#E5ECF6",
              "width": 0.5
             },
             "pattern": {
              "fillmode": "overlay",
              "size": 10,
              "solidity": 0.2
             }
            },
            "type": "bar"
           }
          ],
          "barpolar": [
           {
            "marker": {
             "line": {
              "color": "#E5ECF6",
              "width": 0.5
             },
             "pattern": {
              "fillmode": "overlay",
              "size": 10,
              "solidity": 0.2
             }
            },
            "type": "barpolar"
           }
          ],
          "carpet": [
           {
            "aaxis": {
             "endlinecolor": "#2a3f5f",
             "gridcolor": "white",
             "linecolor": "white",
             "minorgridcolor": "white",
             "startlinecolor": "#2a3f5f"
            },
            "baxis": {
             "endlinecolor": "#2a3f5f",
             "gridcolor": "white",
             "linecolor": "white",
             "minorgridcolor": "white",
             "startlinecolor": "#2a3f5f"
            },
            "type": "carpet"
           }
          ],
          "choropleth": [
           {
            "colorbar": {
             "outlinewidth": 0,
             "ticks": ""
            },
            "type": "choropleth"
           }
          ],
          "contour": [
           {
            "colorbar": {
             "outlinewidth": 0,
             "ticks": ""
            },
            "colorscale": [
             [
              0,
              "#0d0887"
             ],
             [
              0.1111111111111111,
              "#46039f"
             ],
             [
              0.2222222222222222,
              "#7201a8"
             ],
             [
              0.3333333333333333,
              "#9c179e"
             ],
             [
              0.4444444444444444,
              "#bd3786"
             ],
             [
              0.5555555555555556,
              "#d8576b"
             ],
             [
              0.6666666666666666,
              "#ed7953"
             ],
             [
              0.7777777777777778,
              "#fb9f3a"
             ],
             [
              0.8888888888888888,
              "#fdca26"
             ],
             [
              1,
              "#f0f921"
             ]
            ],
            "type": "contour"
           }
          ],
          "contourcarpet": [
           {
            "colorbar": {
             "outlinewidth": 0,
             "ticks": ""
            },
            "type": "contourcarpet"
           }
          ],
          "heatmap": [
           {
            "colorbar": {
             "outlinewidth": 0,
             "ticks": ""
            },
            "colorscale": [
             [
              0,
              "#0d0887"
             ],
             [
              0.1111111111111111,
              "#46039f"
             ],
             [
              0.2222222222222222,
              "#7201a8"
             ],
             [
              0.3333333333333333,
              "#9c179e"
             ],
             [
              0.4444444444444444,
              "#bd3786"
             ],
             [
              0.5555555555555556,
              "#d8576b"
             ],
             [
              0.6666666666666666,
              "#ed7953"
             ],
             [
              0.7777777777777778,
              "#fb9f3a"
             ],
             [
              0.8888888888888888,
              "#fdca26"
             ],
             [
              1,
              "#f0f921"
             ]
            ],
            "type": "heatmap"
           }
          ],
          "heatmapgl": [
           {
            "colorbar": {
             "outlinewidth": 0,
             "ticks": ""
            },
            "colorscale": [
             [
              0,
              "#0d0887"
             ],
             [
              0.1111111111111111,
              "#46039f"
             ],
             [
              0.2222222222222222,
              "#7201a8"
             ],
             [
              0.3333333333333333,
              "#9c179e"
             ],
             [
              0.4444444444444444,
              "#bd3786"
             ],
             [
              0.5555555555555556,
              "#d8576b"
             ],
             [
              0.6666666666666666,
              "#ed7953"
             ],
             [
              0.7777777777777778,
              "#fb9f3a"
             ],
             [
              0.8888888888888888,
              "#fdca26"
             ],
             [
              1,
              "#f0f921"
             ]
            ],
            "type": "heatmapgl"
           }
          ],
          "histogram": [
           {
            "marker": {
             "pattern": {
              "fillmode": "overlay",
              "size": 10,
              "solidity": 0.2
             }
            },
            "type": "histogram"
           }
          ],
          "histogram2d": [
           {
            "colorbar": {
             "outlinewidth": 0,
             "ticks": ""
            },
            "colorscale": [
             [
              0,
              "#0d0887"
             ],
             [
              0.1111111111111111,
              "#46039f"
             ],
             [
              0.2222222222222222,
              "#7201a8"
             ],
             [
              0.3333333333333333,
              "#9c179e"
             ],
             [
              0.4444444444444444,
              "#bd3786"
             ],
             [
              0.5555555555555556,
              "#d8576b"
             ],
             [
              0.6666666666666666,
              "#ed7953"
             ],
             [
              0.7777777777777778,
              "#fb9f3a"
             ],
             [
              0.8888888888888888,
              "#fdca26"
             ],
             [
              1,
              "#f0f921"
             ]
            ],
            "type": "histogram2d"
           }
          ],
          "histogram2dcontour": [
           {
            "colorbar": {
             "outlinewidth": 0,
             "ticks": ""
            },
            "colorscale": [
             [
              0,
              "#0d0887"
             ],
             [
              0.1111111111111111,
              "#46039f"
             ],
             [
              0.2222222222222222,
              "#7201a8"
             ],
             [
              0.3333333333333333,
              "#9c179e"
             ],
             [
              0.4444444444444444,
              "#bd3786"
             ],
             [
              0.5555555555555556,
              "#d8576b"
             ],
             [
              0.6666666666666666,
              "#ed7953"
             ],
             [
              0.7777777777777778,
              "#fb9f3a"
             ],
             [
              0.8888888888888888,
              "#fdca26"
             ],
             [
              1,
              "#f0f921"
             ]
            ],
            "type": "histogram2dcontour"
           }
          ],
          "mesh3d": [
           {
            "colorbar": {
             "outlinewidth": 0,
             "ticks": ""
            },
            "type": "mesh3d"
           }
          ],
          "parcoords": [
           {
            "line": {
             "colorbar": {
              "outlinewidth": 0,
              "ticks": ""
             }
            },
            "type": "parcoords"
           }
          ],
          "pie": [
           {
            "automargin": true,
            "type": "pie"
           }
          ],
          "scatter": [
           {
            "fillpattern": {
             "fillmode": "overlay",
             "size": 10,
             "solidity": 0.2
            },
            "type": "scatter"
           }
          ],
          "scatter3d": [
           {
            "line": {
             "colorbar": {
              "outlinewidth": 0,
              "ticks": ""
             }
            },
            "marker": {
             "colorbar": {
              "outlinewidth": 0,
              "ticks": ""
             }
            },
            "type": "scatter3d"
           }
          ],
          "scattercarpet": [
           {
            "marker": {
             "colorbar": {
              "outlinewidth": 0,
              "ticks": ""
             }
            },
            "type": "scattercarpet"
           }
          ],
          "scattergeo": [
           {
            "marker": {
             "colorbar": {
              "outlinewidth": 0,
              "ticks": ""
             }
            },
            "type": "scattergeo"
           }
          ],
          "scattergl": [
           {
            "marker": {
             "colorbar": {
              "outlinewidth": 0,
              "ticks": ""
             }
            },
            "type": "scattergl"
           }
          ],
          "scattermapbox": [
           {
            "marker": {
             "colorbar": {
              "outlinewidth": 0,
              "ticks": ""
             }
            },
            "type": "scattermapbox"
           }
          ],
          "scatterpolar": [
           {
            "marker": {
             "colorbar": {
              "outlinewidth": 0,
              "ticks": ""
             }
            },
            "type": "scatterpolar"
           }
          ],
          "scatterpolargl": [
           {
            "marker": {
             "colorbar": {
              "outlinewidth": 0,
              "ticks": ""
             }
            },
            "type": "scatterpolargl"
           }
          ],
          "scatterternary": [
           {
            "marker": {
             "colorbar": {
              "outlinewidth": 0,
              "ticks": ""
             }
            },
            "type": "scatterternary"
           }
          ],
          "surface": [
           {
            "colorbar": {
             "outlinewidth": 0,
             "ticks": ""
            },
            "colorscale": [
             [
              0,
              "#0d0887"
             ],
             [
              0.1111111111111111,
              "#46039f"
             ],
             [
              0.2222222222222222,
              "#7201a8"
             ],
             [
              0.3333333333333333,
              "#9c179e"
             ],
             [
              0.4444444444444444,
              "#bd3786"
             ],
             [
              0.5555555555555556,
              "#d8576b"
             ],
             [
              0.6666666666666666,
              "#ed7953"
             ],
             [
              0.7777777777777778,
              "#fb9f3a"
             ],
             [
              0.8888888888888888,
              "#fdca26"
             ],
             [
              1,
              "#f0f921"
             ]
            ],
            "type": "surface"
           }
          ],
          "table": [
           {
            "cells": {
             "fill": {
              "color": "#EBF0F8"
             },
             "line": {
              "color": "white"
             }
            },
            "header": {
             "fill": {
              "color": "#C8D4E3"
             },
             "line": {
              "color": "white"
             }
            },
            "type": "table"
           }
          ]
         },
         "layout": {
          "annotationdefaults": {
           "arrowcolor": "#2a3f5f",
           "arrowhead": 0,
           "arrowwidth": 1
          },
          "autotypenumbers": "strict",
          "coloraxis": {
           "colorbar": {
            "outlinewidth": 0,
            "ticks": ""
           }
          },
          "colorscale": {
           "diverging": [
            [
             0,
             "#8e0152"
            ],
            [
             0.1,
             "#c51b7d"
            ],
            [
             0.2,
             "#de77ae"
            ],
            [
             0.3,
             "#f1b6da"
            ],
            [
             0.4,
             "#fde0ef"
            ],
            [
             0.5,
             "#f7f7f7"
            ],
            [
             0.6,
             "#e6f5d0"
            ],
            [
             0.7,
             "#b8e186"
            ],
            [
             0.8,
             "#7fbc41"
            ],
            [
             0.9,
             "#4d9221"
            ],
            [
             1,
             "#276419"
            ]
           ],
           "sequential": [
            [
             0,
             "#0d0887"
            ],
            [
             0.1111111111111111,
             "#46039f"
            ],
            [
             0.2222222222222222,
             "#7201a8"
            ],
            [
             0.3333333333333333,
             "#9c179e"
            ],
            [
             0.4444444444444444,
             "#bd3786"
            ],
            [
             0.5555555555555556,
             "#d8576b"
            ],
            [
             0.6666666666666666,
             "#ed7953"
            ],
            [
             0.7777777777777778,
             "#fb9f3a"
            ],
            [
             0.8888888888888888,
             "#fdca26"
            ],
            [
             1,
             "#f0f921"
            ]
           ],
           "sequentialminus": [
            [
             0,
             "#0d0887"
            ],
            [
             0.1111111111111111,
             "#46039f"
            ],
            [
             0.2222222222222222,
             "#7201a8"
            ],
            [
             0.3333333333333333,
             "#9c179e"
            ],
            [
             0.4444444444444444,
             "#bd3786"
            ],
            [
             0.5555555555555556,
             "#d8576b"
            ],
            [
             0.6666666666666666,
             "#ed7953"
            ],
            [
             0.7777777777777778,
             "#fb9f3a"
            ],
            [
             0.8888888888888888,
             "#fdca26"
            ],
            [
             1,
             "#f0f921"
            ]
           ]
          },
          "colorway": [
           "#636efa",
           "#EF553B",
           "#00cc96",
           "#ab63fa",
           "#FFA15A",
           "#19d3f3",
           "#FF6692",
           "#B6E880",
           "#FF97FF",
           "#FECB52"
          ],
          "font": {
           "color": "#2a3f5f"
          },
          "geo": {
           "bgcolor": "white",
           "lakecolor": "white",
           "landcolor": "#E5ECF6",
           "showlakes": true,
           "showland": true,
           "subunitcolor": "white"
          },
          "hoverlabel": {
           "align": "left"
          },
          "hovermode": "closest",
          "mapbox": {
           "style": "light"
          },
          "paper_bgcolor": "white",
          "plot_bgcolor": "#E5ECF6",
          "polar": {
           "angularaxis": {
            "gridcolor": "white",
            "linecolor": "white",
            "ticks": ""
           },
           "bgcolor": "#E5ECF6",
           "radialaxis": {
            "gridcolor": "white",
            "linecolor": "white",
            "ticks": ""
           }
          },
          "scene": {
           "xaxis": {
            "backgroundcolor": "#E5ECF6",
            "gridcolor": "white",
            "gridwidth": 2,
            "linecolor": "white",
            "showbackground": true,
            "ticks": "",
            "zerolinecolor": "white"
           },
           "yaxis": {
            "backgroundcolor": "#E5ECF6",
            "gridcolor": "white",
            "gridwidth": 2,
            "linecolor": "white",
            "showbackground": true,
            "ticks": "",
            "zerolinecolor": "white"
           },
           "zaxis": {
            "backgroundcolor": "#E5ECF6",
            "gridcolor": "white",
            "gridwidth": 2,
            "linecolor": "white",
            "showbackground": true,
            "ticks": "",
            "zerolinecolor": "white"
           }
          },
          "shapedefaults": {
           "line": {
            "color": "#2a3f5f"
           }
          },
          "ternary": {
           "aaxis": {
            "gridcolor": "white",
            "linecolor": "white",
            "ticks": ""
           },
           "baxis": {
            "gridcolor": "white",
            "linecolor": "white",
            "ticks": ""
           },
           "bgcolor": "#E5ECF6",
           "caxis": {
            "gridcolor": "white",
            "linecolor": "white",
            "ticks": ""
           }
          },
          "title": {
           "x": 0.05
          },
          "xaxis": {
           "automargin": true,
           "gridcolor": "white",
           "linecolor": "white",
           "ticks": "",
           "title": {
            "standoff": 15
           },
           "zerolinecolor": "white",
           "zerolinewidth": 2
          },
          "yaxis": {
           "automargin": true,
           "gridcolor": "white",
           "linecolor": "white",
           "ticks": "",
           "title": {
            "standoff": 15
           },
           "zerolinecolor": "white",
           "zerolinewidth": 2
          }
         }
        },
        "title": {
         "font": {
          "color": "#4D5663"
         }
        },
        "xaxis": {
         "autorange": true,
         "gridcolor": "#E1E5ED",
         "range": [
          -0.5,
          3.5
         ],
         "showgrid": true,
         "tickfont": {
          "color": "#4D5663"
         },
         "title": {
          "font": {
           "color": "#4D5663"
          },
          "text": ""
         },
         "type": "category",
         "zerolinecolor": "#E1E5ED"
        },
        "yaxis": {
         "autorange": true,
         "gridcolor": "#E1E5ED",
         "range": [
          -3.3742455109258502,
          4.1625325413663115
         ],
         "showgrid": true,
         "tickfont": {
          "color": "#4D5663"
         },
         "title": {
          "font": {
           "color": "#4D5663"
          },
          "text": ""
         },
         "type": "linear",
         "zerolinecolor": "#E1E5ED"
        }
       }
      },
      "image/png": "[encoded data removed]",
      "text/html": [
       "<div>                            <div id=\"850b2896-872a-4aed-a9b7-88df929c9f6b\" class=\"plotly-graph-div\" style=\"height:525px; width:100%;\"></div>            <script type=\"text/javascript\">                require([\"plotly\"], function(Plotly) {                    window.PLOTLYENV=window.PLOTLYENV || {};\n",
       "                    window.PLOTLYENV.BASE_URL='https://plot.ly';                                    if (document.getElementById(\"850b2896-872a-4aed-a9b7-88df929c9f6b\")) {                    Plotly.newPlot(                        \"850b2896-872a-4aed-a9b7-88df929c9f6b\",                        [{\"boxpoints\":false,\"line\":{\"width\":1.3},\"marker\":{\"color\":\"rgba(255, 153, 51, 1.0)\"},\"name\":\"A\",\"orientation\":\"v\",\"y\":[0.018612650461357173,0.9960448857866494,0.5348989996252956,0.2744644691707193,-1.5365837996629519,0.6925164494907833,1.6355335882891844,-0.4847552691952551,0.30614385275660383,0.6124200551769818,1.1083663399431376,1.0180355605534988,1.257435789537904,-0.971833663638946,-0.6058590356787764,0.22023782953865775,2.120845276514453,-0.39456862325103875,0.6062219318447225,-1.7401149822576623,0.9742836776250653,-0.4031138669609755,1.396780034995444,0.7589153724023462,0.3613077716338431,-1.1240045019293001,-0.348857032578735,-0.6516516862967474,2.196241159251179,0.32989001608345575,-0.867630944602537,0.3632992521805315,-0.06810963771889461,-1.4541900245405381,1.3454753011398228,-1.9530849822802803,-0.8912013360228284,0.470947892105552,-0.15985505994419505,0.2198163702457327,-0.23010375469522198,0.5707062620139806,1.0719425958771212,0.7066538833117731,-0.3630221878876869,0.3922575727286456,-0.3612705276291241,-0.29550629725886385,0.5225653600745495,-0.27305291477145976,-1.3368444755064772,-0.7312444638403542,1.2372752954036261,0.43425609169846763,0.1378203123065723,-2.5650700100831454,1.5713680268021728,0.17299087523119103,0.8253910603445144,-0.1943973629179473,1.2022341699975243,-1.024967266248822,1.434392749628085,-0.2644970147935291,0.9120358181465171,-0.3574958316214275,-1.179661643313809,-1.2377308248032741,1.1327664908798656,0.8516976018670983,-0.011298938254510052,-1.2175903618027375,0.3257227008931923,0.9257341855583504,0.14031310714798895,-0.4195496491587592,1.2758452304798396,1.815682574463287,0.873722200060419,0.8332601650259654,-0.8665169598166514,-0.391384661683601,0.3137052464154313,0.9720372843795664,2.794271493694322,-1.8462934934409374,0.2964577706006214,0.5747909516562963,0.3515544444419624,0.6560688317045775,-1.825358297613211,0.17689201309241853,-0.7893616265432474,-0.7090282511585885,-0.06412212886610219,-1.6274770848951148,0.2871954929436289,-0.48615868570872567,0.3068728465283206,-0.46892326583647614],\"type\":\"box\"},{\"boxpoints\":false,\"line\":{\"width\":1.3},\"marker\":{\"color\":\"rgba(55, 128, 191, 1.0)\"},\"name\":\"B\",\"orientation\":\"v\",\"y\":[-0.14515941434662252,0.6806873926308932,-0.4635907081842978,-0.9133813580992908,0.33961520411379165,1.5359756763886903,0.5608200555640893,0.7385576598977033,0.3584101017217968,1.9681524054333133,0.9122347227604708,-1.208747759097325,1.0391099033587277,-0.04081664467136474,0.6920299931313932,0.17855709424490082,-0.5471926984690776,1.7684838359114352,-0.778441418564234,-0.5178855908859966,0.9554421418744045,1.981324589895577,-1.17791668305019,0.3635416602419813,1.4729249970268203,0.7169383023416109,-1.2414094580752362,-1.2454370486619037,-1.7753439436106342,-0.6803313710281736,-0.5941007653584087,1.29730024703594,-0.7575686405643377,1.4942790818364484,-0.6654988353214182,0.9003465610236291,0.1716342723004468,0.7738326789387621,-0.08714118904590173,-0.7714694142266564,0.5716227010443915,-0.8023726811909293,-0.32188924350996573,-0.9495064010735178,-0.1236980187298372,0.984595744764496,1.0096805551319956,-0.045044452402429505,-0.5996944687876562,-1.6598707450260282,0.6982590693953475,0.6628038847624309,-1.6797836633008574,1.08258578354228,0.3317032091015285,-0.5996108415625231,1.1787266939990753,-1.8858246311427032,0.4231740974380043,-0.43743434843633805,-1.2718057883980407,3.7856936387517033,-0.2778675274235196,0.37308634581461714,-0.7511575583029262,-0.4412683300216426,-0.5520539627737876,-1.2062055501876965,-0.7575196571867082,-0.5904982857173883,0.24853412195376048,-0.675739876593458,0.14891546824242163,0.5960418652525297,-2.037121868752909,-1.5681567204104996,-0.7249904679456038,-0.4891376531406688,-0.41806157762339813,-0.5998508532127527,-1.0328558517005673,0.6694597255695663,0.04969881038761035,0.3754027351884087,-0.09811199867557581,-0.6820977361199116,0.3209387499165821,0.9944285480742319,1.4563020824070612,-0.9133609870969249,-0.1844346272232779,0.4166235110059231,0.9665369943532935,0.1728104303703586,1.2548409050126537,-0.6782408136490494,0.6860085295644298,-0.22302236812107096,-0.9399304729507478,-0.6479042403168237],\"type\":\"box\"},{\"boxpoints\":false,\"line\":{\"width\":1.3},\"marker\":{\"color\":\"rgba(50, 171, 96, 1.0)\"},\"name\":\"C\",\"orientation\":\"v\",\"y\":[-0.6631112137659735,-1.1423995334059467,0.5928751686945043,-1.1943316790433962,-0.7603827608348788,-1.297993782865933,0.9113825311823592,1.1762898155632082,-0.8942259524553294,0.3286718173304842,-0.5820546922659687,-0.9562209296191151,0.6157450258242222,-2.314765274166029,0.2337438522094003,0.5847192719125819,-0.40435925959311164,0.6296203798161512,0.37492020182302077,-1.7549033689682147,1.0403284170788798,-0.12508973689624178,-0.10347897984686757,-0.2906985014671275,0.22865057339429926,-1.306004479976751,-0.6527440085715561,1.8959637593422904,-1.6097628661704821,1.4065334795977154,1.2054517514144698,-0.4906707483797095,0.2223097976167643,1.8587610953926799,-0.39806462588795033,0.4491303797167707,-0.048811214581093006,-2.545774054410595,1.3685527042477281,0.679504792511501,1.19333168374123,1.3465029950881853,-1.301380383951909,-1.438760121760832,-0.4163266334621699,-1.6953036082267967,-0.17228230303715106,1.5827863640472826,-1.0812362354577663,0.2417167061520083,-1.5718938572145051,1.604663699145939,0.5273075301822094,0.4869251072421638,1.6003994114805054,0.771756114328106,0.35300628352328856,0.702670236247351,-0.9926897887558903,0.4248194163768752,-0.7737891564680249,-2.305809903822905,-1.2651656383714034,1.9835028631100977,1.2479941431297734,-0.1917395348875637,0.2750411674500079,0.2935713284342274,0.36131144606884585,0.7886739126485992,-0.12469467846471595,-1.6939637097953788,0.622918339309211,-1.048959254521311,1.1550563903320934,-1.32374739631727,0.22468511670440153,-0.011841782877135732,-0.10552746937631269,-0.5098692108134364,-0.23274102415992018,-0.6511251657587834,-1.042110331853821,0.4831655257270956,0.45639257228494157,0.49090299196787446,-0.3461598306876503,0.026950653027867182,0.7690796454969269,0.9187729421320473,-0.5090184216288456,0.23761712573069083,1.4153047180981166,-0.351279531158534,1.655547940135908,-0.8874936298517963,-0.5738575262962571,0.23888294647194033,-0.7581496631534301,0.851744743665249],\"type\":\"box\"},{\"boxpoints\":false,\"line\":{\"width\":1.3},\"marker\":{\"color\":\"rgba(128, 0, 128, 1.0)\"},\"name\":\"D\",\"orientation\":\"v\",\"y\":[-2.997406608311242,0.10249790616161769,0.413552337766213,-0.7213067947750976,0.022132314414748295,0.6747171399161759,-0.24146887982582543,0.05574219757835409,-0.4344330093300636,-1.1814007310594277,0.15433500905338188,-0.46978416700066283,0.8877618944082435,-0.20206702255376482,-1.4115233502709037,1.2689857900671335,0.4784560516042179,2.2593489055579132,-0.4713546150342186,-0.8150823278419957,0.24605228132442553,1.3983284524109587,0.1340285271188061,0.1821941374690226,0.7796965555404504,1.3957240998050646,-0.09436588577686467,2.3763951411338406,-0.8210322395572709,-0.7238473646535825,-0.6153381443426702,-0.23618469124826236,-0.5044741151570341,1.2113033430942026,0.6861793391378319,-0.0076680350033603,-0.6069662356067594,-0.8024831446710116,1.1932594862380586,1.0293399642089083,1.0741392926111917,0.01822692363329739,-0.8743467477374735,1.1861097811646617,0.6612000776377134,1.9164800878878911,0.750258304688333,-0.7788493542443379,0.6892094393005193,0.6307142576338273,-2.189752922517158,-0.7328986493176874,0.24820185792376268,0.2715734762274199,-1.4911630961880542,0.8237915786236065,1.1075565976165815,-0.7290193065248117,-0.46802303560511616,-0.5883046253859369,0.3648494036512118,-0.05771724933292349,-0.4440705630528392,-1.3236501300666088,-0.7838341928129381,-0.2797625915478993,1.7702390954941136,-0.045330338466166284,-0.076667488626622,-1.1383285052474656,-0.9421745260790562,2.1999811022127105,0.011004043264536965,0.9228214983397348,-0.5502056765197774,-0.1968128800761642,0.7540268139892187,-0.016170908036249904,-0.3605229363198243,-0.04372504862739124,0.6785453122885303,1.126931950186432,0.6620887101093931,1.7245166556851053,0.7109368901077827,-0.030607256125364815,-0.538247118018449,1.154232302594473,0.13477192183970227,0.8736884219723613,0.2593336814369859,-1.4381888248251582,-0.25358136117702385,-0.13227731911381488,1.0312069448851797,-0.6570253233928224,2.095592440614549,-0.5057302121780123,0.6296421702766222,-0.20801372701984316],\"type\":\"box\"}],                        {\"legend\":{\"bgcolor\":\"#F5F6F9\",\"font\":{\"color\":\"#4D5663\"}},\"paper_bgcolor\":\"#F5F6F9\",\"plot_bgcolor\":\"#F5F6F9\",\"template\":{\"data\":{\"barpolar\":[{\"marker\":{\"line\":{\"color\":\"#E5ECF6\",\"width\":0.5},\"pattern\":{\"fillmode\":\"overlay\",\"size\":10,\"solidity\":0.2}},\"type\":\"barpolar\"}],\"bar\":[{\"error_x\":{\"color\":\"#2a3f5f\"},\"error_y\":{\"color\":\"#2a3f5f\"},\"marker\":{\"line\":{\"color\":\"#E5ECF6\",\"width\":0.5},\"pattern\":{\"fillmode\":\"overlay\",\"size\":10,\"solidity\":0.2}},\"type\":\"bar\"}],\"carpet\":[{\"aaxis\":{\"endlinecolor\":\"#2a3f5f\",\"gridcolor\":\"white\",\"linecolor\":\"white\",\"minorgridcolor\":\"white\",\"startlinecolor\":\"#2a3f5f\"},\"baxis\":{\"endlinecolor\":\"#2a3f5f\",\"gridcolor\":\"white\",\"linecolor\":\"white\",\"minorgridcolor\":\"white\",\"startlinecolor\":\"#2a3f5f\"},\"type\":\"carpet\"}],\"choropleth\":[{\"colorbar\":{\"outlinewidth\":0,\"ticks\":\"\"},\"type\":\"choropleth\"}],\"contourcarpet\":[{\"colorbar\":{\"outlinewidth\":0,\"ticks\":\"\"},\"type\":\"contourcarpet\"}],\"contour\":[{\"colorbar\":{\"outlinewidth\":0,\"ticks\":\"\"},\"colorscale\":[[0.0,\"#0d0887\"],[0.1111111111111111,\"#46039f\"],[0.2222222222222222,\"#7201a8\"],[0.3333333333333333,\"#9c179e\"],[0.4444444444444444,\"#bd3786\"],[0.5555555555555556,\"#d8576b\"],[0.6666666666666666,\"#ed7953\"],[0.7777777777777778,\"#fb9f3a\"],[0.8888888888888888,\"#fdca26\"],[1.0,\"#f0f921\"]],\"type\":\"contour\"}],\"heatmapgl\":[{\"colorbar\":{\"outlinewidth\":0,\"ticks\":\"\"},\"colorscale\":[[0.0,\"#0d0887\"],[0.1111111111111111,\"#46039f\"],[0.2222222222222222,\"#7201a8\"],[0.3333333333333333,\"#9c179e\"],[0.4444444444444444,\"#bd3786\"],[0.5555555555555556,\"#d8576b\"],[0.6666666666666666,\"#ed7953\"],[0.7777777777777778,\"#fb9f3a\"],[0.8888888888888888,\"#fdca26\"],[1.0,\"#f0f921\"]],\"type\":\"heatmapgl\"}],\"heatmap\":[{\"colorbar\":{\"outlinewidth\":0,\"ticks\":\"\"},\"colorscale\":[[0.0,\"#0d0887\"],[0.1111111111111111,\"#46039f\"],[0.2222222222222222,\"#7201a8\"],[0.3333333333333333,\"#9c179e\"],[0.4444444444444444,\"#bd3786\"],[0.5555555555555556,\"#d8576b\"],[0.6666666666666666,\"#ed7953\"],[0.7777777777777778,\"#fb9f3a\"],[0.8888888888888888,\"#fdca26\"],[1.0,\"#f0f921\"]],\"type\":\"heatmap\"}],\"histogram2dcontour\":[{\"colorbar\":{\"outlinewidth\":0,\"ticks\":\"\"},\"colorscale\":[[0.0,\"#0d0887\"],[0.1111111111111111,\"#46039f\"],[0.2222222222222222,\"#7201a8\"],[0.3333333333333333,\"#9c179e\"],[0.4444444444444444,\"#bd3786\"],[0.5555555555555556,\"#d8576b\"],[0.6666666666666666,\"#ed7953\"],[0.7777777777777778,\"#fb9f3a\"],[0.8888888888888888,\"#fdca26\"],[1.0,\"#f0f921\"]],\"type\":\"histogram2dcontour\"}],\"histogram2d\":[{\"colorbar\":{\"outlinewidth\":0,\"ticks\":\"\"},\"colorscale\":[[0.0,\"#0d0887\"],[0.1111111111111111,\"#46039f\"],[0.2222222222222222,\"#7201a8\"],[0.3333333333333333,\"#9c179e\"],[0.4444444444444444,\"#bd3786\"],[0.5555555555555556,\"#d8576b\"],[0.6666666666666666,\"#ed7953\"],[0.7777777777777778,\"#fb9f3a\"],[0.8888888888888888,\"#fdca26\"],[1.0,\"#f0f921\"]],\"type\":\"histogram2d\"}],\"histogram\":[{\"marker\":{\"pattern\":{\"fillmode\":\"overlay\",\"size\":10,\"solidity\":0.2}},\"type\":\"histogram\"}],\"mesh3d\":[{\"colorbar\":{\"outlinewidth\":0,\"ticks\":\"\"},\"type\":\"mesh3d\"}],\"parcoords\":[{\"line\":{\"colorbar\":{\"outlinewidth\":0,\"ticks\":\"\"}},\"type\":\"parcoords\"}],\"pie\":[{\"automargin\":true,\"type\":\"pie\"}],\"scatter3d\":[{\"line\":{\"colorbar\":{\"outlinewidth\":0,\"ticks\":\"\"}},\"marker\":{\"colorbar\":{\"outlinewidth\":0,\"ticks\":\"\"}},\"type\":\"scatter3d\"}],\"scattercarpet\":[{\"marker\":{\"colorbar\":{\"outlinewidth\":0,\"ticks\":\"\"}},\"type\":\"scattercarpet\"}],\"scattergeo\":[{\"marker\":{\"colorbar\":{\"outlinewidth\":0,\"ticks\":\"\"}},\"type\":\"scattergeo\"}],\"scattergl\":[{\"marker\":{\"colorbar\":{\"outlinewidth\":0,\"ticks\":\"\"}},\"type\":\"scattergl\"}],\"scattermapbox\":[{\"marker\":{\"colorbar\":{\"outlinewidth\":0,\"ticks\":\"\"}},\"type\":\"scattermapbox\"}],\"scatterpolargl\":[{\"marker\":{\"colorbar\":{\"outlinewidth\":0,\"ticks\":\"\"}},\"type\":\"scatterpolargl\"}],\"scatterpolar\":[{\"marker\":{\"colorbar\":{\"outlinewidth\":0,\"ticks\":\"\"}},\"type\":\"scatterpolar\"}],\"scatter\":[{\"fillpattern\":{\"fillmode\":\"overlay\",\"size\":10,\"solidity\":0.2},\"type\":\"scatter\"}],\"scatterternary\":[{\"marker\":{\"colorbar\":{\"outlinewidth\":0,\"ticks\":\"\"}},\"type\":\"scatterternary\"}],\"surface\":[{\"colorbar\":{\"outlinewidth\":0,\"ticks\":\"\"},\"colorscale\":[[0.0,\"#0d0887\"],[0.1111111111111111,\"#46039f\"],[0.2222222222222222,\"#7201a8\"],[0.3333333333333333,\"#9c179e\"],[0.4444444444444444,\"#bd3786\"],[0.5555555555555556,\"#d8576b\"],[0.6666666666666666,\"#ed7953\"],[0.7777777777777778,\"#fb9f3a\"],[0.8888888888888888,\"#fdca26\"],[1.0,\"#f0f921\"]],\"type\":\"surface\"}],\"table\":[{\"cells\":{\"fill\":{\"color\":\"#EBF0F8\"},\"line\":{\"color\":\"white\"}},\"header\":{\"fill\":{\"color\":\"#C8D4E3\"},\"line\":{\"color\":\"white\"}},\"type\":\"table\"}]},\"layout\":{\"annotationdefaults\":{\"arrowcolor\":\"#2a3f5f\",\"arrowhead\":0,\"arrowwidth\":1},\"autotypenumbers\":\"strict\",\"coloraxis\":{\"colorbar\":{\"outlinewidth\":0,\"ticks\":\"\"}},\"colorscale\":{\"diverging\":[[0,\"#8e0152\"],[0.1,\"#c51b7d\"],[0.2,\"#de77ae\"],[0.3,\"#f1b6da\"],[0.4,\"#fde0ef\"],[0.5,\"#f7f7f7\"],[0.6,\"#e6f5d0\"],[0.7,\"#b8e186\"],[0.8,\"#7fbc41\"],[0.9,\"#4d9221\"],[1,\"#276419\"]],\"sequential\":[[0.0,\"#0d0887\"],[0.1111111111111111,\"#46039f\"],[0.2222222222222222,\"#7201a8\"],[0.3333333333333333,\"#9c179e\"],[0.4444444444444444,\"#bd3786\"],[0.5555555555555556,\"#d8576b\"],[0.6666666666666666,\"#ed7953\"],[0.7777777777777778,\"#fb9f3a\"],[0.8888888888888888,\"#fdca26\"],[1.0,\"#f0f921\"]],\"sequentialminus\":[[0.0,\"#0d0887\"],[0.1111111111111111,\"#46039f\"],[0.2222222222222222,\"#7201a8\"],[0.3333333333333333,\"#9c179e\"],[0.4444444444444444,\"#bd3786\"],[0.5555555555555556,\"#d8576b\"],[0.6666666666666666,\"#ed7953\"],[0.7777777777777778,\"#fb9f3a\"],[0.8888888888888888,\"#fdca26\"],[1.0,\"#f0f921\"]]},\"colorway\":[\"#636efa\",\"#EF553B\",\"#00cc96\",\"#ab63fa\",\"#FFA15A\",\"#19d3f3\",\"#FF6692\",\"#B6E880\",\"#FF97FF\",\"#FECB52\"],\"font\":{\"color\":\"#2a3f5f\"},\"geo\":{\"bgcolor\":\"white\",\"lakecolor\":\"white\",\"landcolor\":\"#E5ECF6\",\"showlakes\":true,\"showland\":true,\"subunitcolor\":\"white\"},\"hoverlabel\":{\"align\":\"left\"},\"hovermode\":\"closest\",\"mapbox\":{\"style\":\"light\"},\"paper_bgcolor\":\"white\",\"plot_bgcolor\":\"#E5ECF6\",\"polar\":{\"angularaxis\":{\"gridcolor\":\"white\",\"linecolor\":\"white\",\"ticks\":\"\"},\"bgcolor\":\"#E5ECF6\",\"radialaxis\":{\"gridcolor\":\"white\",\"linecolor\":\"white\",\"ticks\":\"\"}},\"scene\":{\"xaxis\":{\"backgroundcolor\":\"#E5ECF6\",\"gridcolor\":\"white\",\"gridwidth\":2,\"linecolor\":\"white\",\"showbackground\":true,\"ticks\":\"\",\"zerolinecolor\":\"white\"},\"yaxis\":{\"backgroundcolor\":\"#E5ECF6\",\"gridcolor\":\"white\",\"gridwidth\":2,\"linecolor\":\"white\",\"showbackground\":true,\"ticks\":\"\",\"zerolinecolor\":\"white\"},\"zaxis\":{\"backgroundcolor\":\"#E5ECF6\",\"gridcolor\":\"white\",\"gridwidth\":2,\"linecolor\":\"white\",\"showbackground\":true,\"ticks\":\"\",\"zerolinecolor\":\"white\"}},\"shapedefaults\":{\"line\":{\"color\":\"#2a3f5f\"}},\"ternary\":{\"aaxis\":{\"gridcolor\":\"white\",\"linecolor\":\"white\",\"ticks\":\"\"},\"baxis\":{\"gridcolor\":\"white\",\"linecolor\":\"white\",\"ticks\":\"\"},\"bgcolor\":\"#E5ECF6\",\"caxis\":{\"gridcolor\":\"white\",\"linecolor\":\"white\",\"ticks\":\"\"}},\"title\":{\"x\":0.05},\"xaxis\":{\"automargin\":true,\"gridcolor\":\"white\",\"linecolor\":\"white\",\"ticks\":\"\",\"title\":{\"standoff\":15},\"zerolinecolor\":\"white\",\"zerolinewidth\":2},\"yaxis\":{\"automargin\":true,\"gridcolor\":\"white\",\"linecolor\":\"white\",\"ticks\":\"\",\"title\":{\"standoff\":15},\"zerolinecolor\":\"white\",\"zerolinewidth\":2}}},\"title\":{\"font\":{\"color\":\"#4D5663\"}},\"xaxis\":{\"gridcolor\":\"#E1E5ED\",\"showgrid\":true,\"tickfont\":{\"color\":\"#4D5663\"},\"title\":{\"font\":{\"color\":\"#4D5663\"},\"text\":\"\"},\"zerolinecolor\":\"#E1E5ED\"},\"yaxis\":{\"gridcolor\":\"#E1E5ED\",\"showgrid\":true,\"tickfont\":{\"color\":\"#4D5663\"},\"title\":{\"font\":{\"color\":\"#4D5663\"},\"text\":\"\"},\"zerolinecolor\":\"#E1E5ED\"}},                        {\"showLink\": true, \"linkText\": \"Export to plot.ly\", \"plotlyServerURL\": \"https://plot.ly\", \"responsive\": true}                    ).then(function(){\n",
       "                            \n",
       "var gd = document.getElementById('850b2896-872a-4aed-a9b7-88df929c9f6b');\n",
       "var x = new MutationObserver(function (mutations, observer) {{\n",
       "        var display = window.getComputedStyle(gd).display;\n",
       "        if (!display || display === 'none') {{\n",
       "            console.log([gd, 'removed!']);\n",
       "            Plotly.purge(gd);\n",
       "            observer.disconnect();\n",
       "        }}\n",
       "}});\n",
       "\n",
       "// Listen for the removal of the full notebook cells\n",
       "var notebookContainer = gd.closest('#notebook-container');\n",
       "if (notebookContainer) {{\n",
       "    x.observe(notebookContainer, {childList: true});\n",
       "}}\n",
       "\n",
       "// Listen for the clearing of the current output cell\n",
       "var outputEl = gd.closest('.output');\n",
       "if (outputEl) {{\n",
       "    x.observe(outputEl, {childList: true});\n",
       "}}\n",
       "\n",
       "                        })                };                });            </script>        </div>"
      ]
     },
     "metadata": {},
     "output_type": "display_data"
    }
   ],
   "source": [
    "df.iplot(kind='box')"
   ]
  },
  {
   "cell_type": "markdown",
   "metadata": {},
   "source": [
    "## 3d Surface"
   ]
  },
  {
   "cell_type": "code",
   "execution_count": 14,
   "metadata": {
    "collapsed": false,
    "jupyter": {
     "outputs_hidden": false
    }
   },
   "outputs": [
    {
     "data": {
      "application/vnd.plotly.v1+json": {
       "config": {
        "linkText": "Export to plot.ly",
        "plotlyServerURL": "https://plot.ly",
        "showLink": true
       },
       "data": [
        {
         "colorscale": [
          [
           0,
           "rgb(165,0,38)"
          ],
          [
           0.1,
           "rgb(215,48,39)"
          ],
          [
           0.2,
           "rgb(244,109,67)"
          ],
          [
           0.3,
           "rgb(253,174,97)"
          ],
          [
           0.4,
           "rgb(254,224,144)"
          ],
          [
           0.5,
           "rgb(255,255,191)"
          ],
          [
           0.6,
           "rgb(224,243,248)"
          ],
          [
           0.7,
           "rgb(171,217,233)"
          ],
          [
           0.8,
           "rgb(116,173,209)"
          ],
          [
           0.9,
           "rgb(69,117,180)"
          ],
          [
           1,
           "rgb(49,54,149)"
          ]
         ],
         "type": "surface",
         "x": [
          0,
          1,
          2,
          3,
          4
         ],
         "y": [
          "x",
          "y",
          "z"
         ],
         "z": [
          [
           1,
           2,
           3,
           4,
           5
          ],
          [
           10,
           20,
           30,
           20,
           10
          ],
          [
           5,
           4,
           3,
           2,
           1
          ]
         ]
        }
       ],
       "layout": {
        "autosize": true,
        "legend": {
         "bgcolor": "#F5F6F9",
         "font": {
          "color": "#4D5663"
         }
        },
        "paper_bgcolor": "#F5F6F9",
        "plot_bgcolor": "#F5F6F9",
        "scene": {
         "aspectmode": "auto",
         "aspectratio": {
          "x": 1,
          "y": 1,
          "z": 1
         }
        },
        "template": {
         "data": {
          "bar": [
           {
            "error_x": {
             "color": "#2a3f5f"
            },
            "error_y": {
             "color": "#2a3f5f"
            },
            "marker": {
             "line": {
              "color": "#E5ECF6",
              "width": 0.5
             },
             "pattern": {
              "fillmode": "overlay",
              "size": 10,
              "solidity": 0.2
             }
            },
            "type": "bar"
           }
          ],
          "barpolar": [
           {
            "marker": {
             "line": {
              "color": "#E5ECF6",
              "width": 0.5
             },
             "pattern": {
              "fillmode": "overlay",
              "size": 10,
              "solidity": 0.2
             }
            },
            "type": "barpolar"
           }
          ],
          "carpet": [
           {
            "aaxis": {
             "endlinecolor": "#2a3f5f",
             "gridcolor": "white",
             "linecolor": "white",
             "minorgridcolor": "white",
             "startlinecolor": "#2a3f5f"
            },
            "baxis": {
             "endlinecolor": "#2a3f5f",
             "gridcolor": "white",
             "linecolor": "white",
             "minorgridcolor": "white",
             "startlinecolor": "#2a3f5f"
            },
            "type": "carpet"
           }
          ],
          "choropleth": [
           {
            "colorbar": {
             "outlinewidth": 0,
             "ticks": ""
            },
            "type": "choropleth"
           }
          ],
          "contour": [
           {
            "colorbar": {
             "outlinewidth": 0,
             "ticks": ""
            },
            "colorscale": [
             [
              0,
              "#0d0887"
             ],
             [
              0.1111111111111111,
              "#46039f"
             ],
             [
              0.2222222222222222,
              "#7201a8"
             ],
             [
              0.3333333333333333,
              "#9c179e"
             ],
             [
              0.4444444444444444,
              "#bd3786"
             ],
             [
              0.5555555555555556,
              "#d8576b"
             ],
             [
              0.6666666666666666,
              "#ed7953"
             ],
             [
              0.7777777777777778,
              "#fb9f3a"
             ],
             [
              0.8888888888888888,
              "#fdca26"
             ],
             [
              1,
              "#f0f921"
             ]
            ],
            "type": "contour"
           }
          ],
          "contourcarpet": [
           {
            "colorbar": {
             "outlinewidth": 0,
             "ticks": ""
            },
            "type": "contourcarpet"
           }
          ],
          "heatmap": [
           {
            "colorbar": {
             "outlinewidth": 0,
             "ticks": ""
            },
            "colorscale": [
             [
              0,
              "#0d0887"
             ],
             [
              0.1111111111111111,
              "#46039f"
             ],
             [
              0.2222222222222222,
              "#7201a8"
             ],
             [
              0.3333333333333333,
              "#9c179e"
             ],
             [
              0.4444444444444444,
              "#bd3786"
             ],
             [
              0.5555555555555556,
              "#d8576b"
             ],
             [
              0.6666666666666666,
              "#ed7953"
             ],
             [
              0.7777777777777778,
              "#fb9f3a"
             ],
             [
              0.8888888888888888,
              "#fdca26"
             ],
             [
              1,
              "#f0f921"
             ]
            ],
            "type": "heatmap"
           }
          ],
          "heatmapgl": [
           {
            "colorbar": {
             "outlinewidth": 0,
             "ticks": ""
            },
            "colorscale": [
             [
              0,
              "#0d0887"
             ],
             [
              0.1111111111111111,
              "#46039f"
             ],
             [
              0.2222222222222222,
              "#7201a8"
             ],
             [
              0.3333333333333333,
              "#9c179e"
             ],
             [
              0.4444444444444444,
              "#bd3786"
             ],
             [
              0.5555555555555556,
              "#d8576b"
             ],
             [
              0.6666666666666666,
              "#ed7953"
             ],
             [
              0.7777777777777778,
              "#fb9f3a"
             ],
             [
              0.8888888888888888,
              "#fdca26"
             ],
             [
              1,
              "#f0f921"
             ]
            ],
            "type": "heatmapgl"
           }
          ],
          "histogram": [
           {
            "marker": {
             "pattern": {
              "fillmode": "overlay",
              "size": 10,
              "solidity": 0.2
             }
            },
            "type": "histogram"
           }
          ],
          "histogram2d": [
           {
            "colorbar": {
             "outlinewidth": 0,
             "ticks": ""
            },
            "colorscale": [
             [
              0,
              "#0d0887"
             ],
             [
              0.1111111111111111,
              "#46039f"
             ],
             [
              0.2222222222222222,
              "#7201a8"
             ],
             [
              0.3333333333333333,
              "#9c179e"
             ],
             [
              0.4444444444444444,
              "#bd3786"
             ],
             [
              0.5555555555555556,
              "#d8576b"
             ],
             [
              0.6666666666666666,
              "#ed7953"
             ],
             [
              0.7777777777777778,
              "#fb9f3a"
             ],
             [
              0.8888888888888888,
              "#fdca26"
             ],
             [
              1,
              "#f0f921"
             ]
            ],
            "type": "histogram2d"
           }
          ],
          "histogram2dcontour": [
           {
            "colorbar": {
             "outlinewidth": 0,
             "ticks": ""
            },
            "colorscale": [
             [
              0,
              "#0d0887"
             ],
             [
              0.1111111111111111,
              "#46039f"
             ],
             [
              0.2222222222222222,
              "#7201a8"
             ],
             [
              0.3333333333333333,
              "#9c179e"
             ],
             [
              0.4444444444444444,
              "#bd3786"
             ],
             [
              0.5555555555555556,
              "#d8576b"
             ],
             [
              0.6666666666666666,
              "#ed7953"
             ],
             [
              0.7777777777777778,
              "#fb9f3a"
             ],
             [
              0.8888888888888888,
              "#fdca26"
             ],
             [
              1,
              "#f0f921"
             ]
            ],
            "type": "histogram2dcontour"
           }
          ],
          "mesh3d": [
           {
            "colorbar": {
             "outlinewidth": 0,
             "ticks": ""
            },
            "type": "mesh3d"
           }
          ],
          "parcoords": [
           {
            "line": {
             "colorbar": {
              "outlinewidth": 0,
              "ticks": ""
             }
            },
            "type": "parcoords"
           }
          ],
          "pie": [
           {
            "automargin": true,
            "type": "pie"
           }
          ],
          "scatter": [
           {
            "fillpattern": {
             "fillmode": "overlay",
             "size": 10,
             "solidity": 0.2
            },
            "type": "scatter"
           }
          ],
          "scatter3d": [
           {
            "line": {
             "colorbar": {
              "outlinewidth": 0,
              "ticks": ""
             }
            },
            "marker": {
             "colorbar": {
              "outlinewidth": 0,
              "ticks": ""
             }
            },
            "type": "scatter3d"
           }
          ],
          "scattercarpet": [
           {
            "marker": {
             "colorbar": {
              "outlinewidth": 0,
              "ticks": ""
             }
            },
            "type": "scattercarpet"
           }
          ],
          "scattergeo": [
           {
            "marker": {
             "colorbar": {
              "outlinewidth": 0,
              "ticks": ""
             }
            },
            "type": "scattergeo"
           }
          ],
          "scattergl": [
           {
            "marker": {
             "colorbar": {
              "outlinewidth": 0,
              "ticks": ""
             }
            },
            "type": "scattergl"
           }
          ],
          "scattermapbox": [
           {
            "marker": {
             "colorbar": {
              "outlinewidth": 0,
              "ticks": ""
             }
            },
            "type": "scattermapbox"
           }
          ],
          "scatterpolar": [
           {
            "marker": {
             "colorbar": {
              "outlinewidth": 0,
              "ticks": ""
             }
            },
            "type": "scatterpolar"
           }
          ],
          "scatterpolargl": [
           {
            "marker": {
             "colorbar": {
              "outlinewidth": 0,
              "ticks": ""
             }
            },
            "type": "scatterpolargl"
           }
          ],
          "scatterternary": [
           {
            "marker": {
             "colorbar": {
              "outlinewidth": 0,
              "ticks": ""
             }
            },
            "type": "scatterternary"
           }
          ],
          "surface": [
           {
            "colorbar": {
             "outlinewidth": 0,
             "ticks": ""
            },
            "colorscale": [
             [
              0,
              "#0d0887"
             ],
             [
              0.1111111111111111,
              "#46039f"
             ],
             [
              0.2222222222222222,
              "#7201a8"
             ],
             [
              0.3333333333333333,
              "#9c179e"
             ],
             [
              0.4444444444444444,
              "#bd3786"
             ],
             [
              0.5555555555555556,
              "#d8576b"
             ],
             [
              0.6666666666666666,
              "#ed7953"
             ],
             [
              0.7777777777777778,
              "#fb9f3a"
             ],
             [
              0.8888888888888888,
              "#fdca26"
             ],
             [
              1,
              "#f0f921"
             ]
            ],
            "type": "surface"
           }
          ],
          "table": [
           {
            "cells": {
             "fill": {
              "color": "#EBF0F8"
             },
             "line": {
              "color": "white"
             }
            },
            "header": {
             "fill": {
              "color": "#C8D4E3"
             },
             "line": {
              "color": "white"
             }
            },
            "type": "table"
           }
          ]
         },
         "layout": {
          "annotationdefaults": {
           "arrowcolor": "#2a3f5f",
           "arrowhead": 0,
           "arrowwidth": 1
          },
          "autotypenumbers": "strict",
          "coloraxis": {
           "colorbar": {
            "outlinewidth": 0,
            "ticks": ""
           }
          },
          "colorscale": {
           "diverging": [
            [
             0,
             "#8e0152"
            ],
            [
             0.1,
             "#c51b7d"
            ],
            [
             0.2,
             "#de77ae"
            ],
            [
             0.3,
             "#f1b6da"
            ],
            [
             0.4,
             "#fde0ef"
            ],
            [
             0.5,
             "#f7f7f7"
            ],
            [
             0.6,
             "#e6f5d0"
            ],
            [
             0.7,
             "#b8e186"
            ],
            [
             0.8,
             "#7fbc41"
            ],
            [
             0.9,
             "#4d9221"
            ],
            [
             1,
             "#276419"
            ]
           ],
           "sequential": [
            [
             0,
             "#0d0887"
            ],
            [
             0.1111111111111111,
             "#46039f"
            ],
            [
             0.2222222222222222,
             "#7201a8"
            ],
            [
             0.3333333333333333,
             "#9c179e"
            ],
            [
             0.4444444444444444,
             "#bd3786"
            ],
            [
             0.5555555555555556,
             "#d8576b"
            ],
            [
             0.6666666666666666,
             "#ed7953"
            ],
            [
             0.7777777777777778,
             "#fb9f3a"
            ],
            [
             0.8888888888888888,
             "#fdca26"
            ],
            [
             1,
             "#f0f921"
            ]
           ],
           "sequentialminus": [
            [
             0,
             "#0d0887"
            ],
            [
             0.1111111111111111,
             "#46039f"
            ],
            [
             0.2222222222222222,
             "#7201a8"
            ],
            [
             0.3333333333333333,
             "#9c179e"
            ],
            [
             0.4444444444444444,
             "#bd3786"
            ],
            [
             0.5555555555555556,
             "#d8576b"
            ],
            [
             0.6666666666666666,
             "#ed7953"
            ],
            [
             0.7777777777777778,
             "#fb9f3a"
            ],
            [
             0.8888888888888888,
             "#fdca26"
            ],
            [
             1,
             "#f0f921"
            ]
           ]
          },
          "colorway": [
           "#636efa",
           "#EF553B",
           "#00cc96",
           "#ab63fa",
           "#FFA15A",
           "#19d3f3",
           "#FF6692",
           "#B6E880",
           "#FF97FF",
           "#FECB52"
          ],
          "font": {
           "color": "#2a3f5f"
          },
          "geo": {
           "bgcolor": "white",
           "lakecolor": "white",
           "landcolor": "#E5ECF6",
           "showlakes": true,
           "showland": true,
           "subunitcolor": "white"
          },
          "hoverlabel": {
           "align": "left"
          },
          "hovermode": "closest",
          "mapbox": {
           "style": "light"
          },
          "paper_bgcolor": "white",
          "plot_bgcolor": "#E5ECF6",
          "polar": {
           "angularaxis": {
            "gridcolor": "white",
            "linecolor": "white",
            "ticks": ""
           },
           "bgcolor": "#E5ECF6",
           "radialaxis": {
            "gridcolor": "white",
            "linecolor": "white",
            "ticks": ""
           }
          },
          "scene": {
           "xaxis": {
            "backgroundcolor": "#E5ECF6",
            "gridcolor": "white",
            "gridwidth": 2,
            "linecolor": "white",
            "showbackground": true,
            "ticks": "",
            "zerolinecolor": "white"
           },
           "yaxis": {
            "backgroundcolor": "#E5ECF6",
            "gridcolor": "white",
            "gridwidth": 2,
            "linecolor": "white",
            "showbackground": true,
            "ticks": "",
            "zerolinecolor": "white"
           },
           "zaxis": {
            "backgroundcolor": "#E5ECF6",
            "gridcolor": "white",
            "gridwidth": 2,
            "linecolor": "white",
            "showbackground": true,
            "ticks": "",
            "zerolinecolor": "white"
           }
          },
          "shapedefaults": {
           "line": {
            "color": "#2a3f5f"
           }
          },
          "ternary": {
           "aaxis": {
            "gridcolor": "white",
            "linecolor": "white",
            "ticks": ""
           },
           "baxis": {
            "gridcolor": "white",
            "linecolor": "white",
            "ticks": ""
           },
           "bgcolor": "#E5ECF6",
           "caxis": {
            "gridcolor": "white",
            "linecolor": "white",
            "ticks": ""
           }
          },
          "title": {
           "x": 0.05
          },
          "xaxis": {
           "automargin": true,
           "gridcolor": "white",
           "linecolor": "white",
           "ticks": "",
           "title": {
            "standoff": 15
           },
           "zerolinecolor": "white",
           "zerolinewidth": 2
          },
          "yaxis": {
           "automargin": true,
           "gridcolor": "white",
           "linecolor": "white",
           "ticks": "",
           "title": {
            "standoff": 15
           },
           "zerolinecolor": "white",
           "zerolinewidth": 2
          }
         }
        },
        "title": {
         "font": {
          "color": "#4D5663"
         }
        },
        "xaxis": {
         "gridcolor": "#E1E5ED",
         "showgrid": true,
         "tickfont": {
          "color": "#4D5663"
         },
         "title": {
          "font": {
           "color": "#4D5663"
          },
          "text": ""
         },
         "zerolinecolor": "#E1E5ED"
        },
        "yaxis": {
         "gridcolor": "#E1E5ED",
         "showgrid": true,
         "tickfont": {
          "color": "#4D5663"
         },
         "title": {
          "font": {
           "color": "#4D5663"
          },
          "text": ""
         },
         "zerolinecolor": "#E1E5ED"
        }
       }
      },
      "image/png": "[encoded data removed]",
      "text/html": [
       "<div>                            <div id=\"1b1d5651-56e8-4e8b-b530-1b15bfccea4c\" class=\"plotly-graph-div\" style=\"height:525px; width:100%;\"></div>            <script type=\"text/javascript\">                require([\"plotly\"], function(Plotly) {                    window.PLOTLYENV=window.PLOTLYENV || {};\n",
       "                    window.PLOTLYENV.BASE_URL='https://plot.ly';                                    if (document.getElementById(\"1b1d5651-56e8-4e8b-b530-1b15bfccea4c\")) {                    Plotly.newPlot(                        \"1b1d5651-56e8-4e8b-b530-1b15bfccea4c\",                        [{\"colorscale\":[[0.0,\"rgb(165,0,38)\"],[0.1,\"rgb(215,48,39)\"],[0.2,\"rgb(244,109,67)\"],[0.3,\"rgb(253,174,97)\"],[0.4,\"rgb(254,224,144)\"],[0.5,\"rgb(255,255,191)\"],[0.6,\"rgb(224,243,248)\"],[0.7,\"rgb(171,217,233)\"],[0.8,\"rgb(116,173,209)\"],[0.9,\"rgb(69,117,180)\"],[1.0,\"rgb(49,54,149)\"]],\"x\":[0,1,2,3,4],\"y\":[\"x\",\"y\",\"z\"],\"z\":[[1,2,3,4,5],[10,20,30,20,10],[5,4,3,2,1]],\"type\":\"surface\"}],                        {\"legend\":{\"bgcolor\":\"#F5F6F9\",\"font\":{\"color\":\"#4D5663\"}},\"paper_bgcolor\":\"#F5F6F9\",\"plot_bgcolor\":\"#F5F6F9\",\"template\":{\"data\":{\"barpolar\":[{\"marker\":{\"line\":{\"color\":\"#E5ECF6\",\"width\":0.5},\"pattern\":{\"fillmode\":\"overlay\",\"size\":10,\"solidity\":0.2}},\"type\":\"barpolar\"}],\"bar\":[{\"error_x\":{\"color\":\"#2a3f5f\"},\"error_y\":{\"color\":\"#2a3f5f\"},\"marker\":{\"line\":{\"color\":\"#E5ECF6\",\"width\":0.5},\"pattern\":{\"fillmode\":\"overlay\",\"size\":10,\"solidity\":0.2}},\"type\":\"bar\"}],\"carpet\":[{\"aaxis\":{\"endlinecolor\":\"#2a3f5f\",\"gridcolor\":\"white\",\"linecolor\":\"white\",\"minorgridcolor\":\"white\",\"startlinecolor\":\"#2a3f5f\"},\"baxis\":{\"endlinecolor\":\"#2a3f5f\",\"gridcolor\":\"white\",\"linecolor\":\"white\",\"minorgridcolor\":\"white\",\"startlinecolor\":\"#2a3f5f\"},\"type\":\"carpet\"}],\"choropleth\":[{\"colorbar\":{\"outlinewidth\":0,\"ticks\":\"\"},\"type\":\"choropleth\"}],\"contourcarpet\":[{\"colorbar\":{\"outlinewidth\":0,\"ticks\":\"\"},\"type\":\"contourcarpet\"}],\"contour\":[{\"colorbar\":{\"outlinewidth\":0,\"ticks\":\"\"},\"colorscale\":[[0.0,\"#0d0887\"],[0.1111111111111111,\"#46039f\"],[0.2222222222222222,\"#7201a8\"],[0.3333333333333333,\"#9c179e\"],[0.4444444444444444,\"#bd3786\"],[0.5555555555555556,\"#d8576b\"],[0.6666666666666666,\"#ed7953\"],[0.7777777777777778,\"#fb9f3a\"],[0.8888888888888888,\"#fdca26\"],[1.0,\"#f0f921\"]],\"type\":\"contour\"}],\"heatmapgl\":[{\"colorbar\":{\"outlinewidth\":0,\"ticks\":\"\"},\"colorscale\":[[0.0,\"#0d0887\"],[0.1111111111111111,\"#46039f\"],[0.2222222222222222,\"#7201a8\"],[0.3333333333333333,\"#9c179e\"],[0.4444444444444444,\"#bd3786\"],[0.5555555555555556,\"#d8576b\"],[0.6666666666666666,\"#ed7953\"],[0.7777777777777778,\"#fb9f3a\"],[0.8888888888888888,\"#fdca26\"],[1.0,\"#f0f921\"]],\"type\":\"heatmapgl\"}],\"heatmap\":[{\"colorbar\":{\"outlinewidth\":0,\"ticks\":\"\"},\"colorscale\":[[0.0,\"#0d0887\"],[0.1111111111111111,\"#46039f\"],[0.2222222222222222,\"#7201a8\"],[0.3333333333333333,\"#9c179e\"],[0.4444444444444444,\"#bd3786\"],[0.5555555555555556,\"#d8576b\"],[0.6666666666666666,\"#ed7953\"],[0.7777777777777778,\"#fb9f3a\"],[0.8888888888888888,\"#fdca26\"],[1.0,\"#f0f921\"]],\"type\":\"heatmap\"}],\"histogram2dcontour\":[{\"colorbar\":{\"outlinewidth\":0,\"ticks\":\"\"},\"colorscale\":[[0.0,\"#0d0887\"],[0.1111111111111111,\"#46039f\"],[0.2222222222222222,\"#7201a8\"],[0.3333333333333333,\"#9c179e\"],[0.4444444444444444,\"#bd3786\"],[0.5555555555555556,\"#d8576b\"],[0.6666666666666666,\"#ed7953\"],[0.7777777777777778,\"#fb9f3a\"],[0.8888888888888888,\"#fdca26\"],[1.0,\"#f0f921\"]],\"type\":\"histogram2dcontour\"}],\"histogram2d\":[{\"colorbar\":{\"outlinewidth\":0,\"ticks\":\"\"},\"colorscale\":[[0.0,\"#0d0887\"],[0.1111111111111111,\"#46039f\"],[0.2222222222222222,\"#7201a8\"],[0.3333333333333333,\"#9c179e\"],[0.4444444444444444,\"#bd3786\"],[0.5555555555555556,\"#d8576b\"],[0.6666666666666666,\"#ed7953\"],[0.7777777777777778,\"#fb9f3a\"],[0.8888888888888888,\"#fdca26\"],[1.0,\"#f0f921\"]],\"type\":\"histogram2d\"}],\"histogram\":[{\"marker\":{\"pattern\":{\"fillmode\":\"overlay\",\"size\":10,\"solidity\":0.2}},\"type\":\"histogram\"}],\"mesh3d\":[{\"colorbar\":{\"outlinewidth\":0,\"ticks\":\"\"},\"type\":\"mesh3d\"}],\"parcoords\":[{\"line\":{\"colorbar\":{\"outlinewidth\":0,\"ticks\":\"\"}},\"type\":\"parcoords\"}],\"pie\":[{\"automargin\":true,\"type\":\"pie\"}],\"scatter3d\":[{\"line\":{\"colorbar\":{\"outlinewidth\":0,\"ticks\":\"\"}},\"marker\":{\"colorbar\":{\"outlinewidth\":0,\"ticks\":\"\"}},\"type\":\"scatter3d\"}],\"scattercarpet\":[{\"marker\":{\"colorbar\":{\"outlinewidth\":0,\"ticks\":\"\"}},\"type\":\"scattercarpet\"}],\"scattergeo\":[{\"marker\":{\"colorbar\":{\"outlinewidth\":0,\"ticks\":\"\"}},\"type\":\"scattergeo\"}],\"scattergl\":[{\"marker\":{\"colorbar\":{\"outlinewidth\":0,\"ticks\":\"\"}},\"type\":\"scattergl\"}],\"scattermapbox\":[{\"marker\":{\"colorbar\":{\"outlinewidth\":0,\"ticks\":\"\"}},\"type\":\"scattermapbox\"}],\"scatterpolargl\":[{\"marker\":{\"colorbar\":{\"outlinewidth\":0,\"ticks\":\"\"}},\"type\":\"scatterpolargl\"}],\"scatterpolar\":[{\"marker\":{\"colorbar\":{\"outlinewidth\":0,\"ticks\":\"\"}},\"type\":\"scatterpolar\"}],\"scatter\":[{\"fillpattern\":{\"fillmode\":\"overlay\",\"size\":10,\"solidity\":0.2},\"type\":\"scatter\"}],\"scatterternary\":[{\"marker\":{\"colorbar\":{\"outlinewidth\":0,\"ticks\":\"\"}},\"type\":\"scatterternary\"}],\"surface\":[{\"colorbar\":{\"outlinewidth\":0,\"ticks\":\"\"},\"colorscale\":[[0.0,\"#0d0887\"],[0.1111111111111111,\"#46039f\"],[0.2222222222222222,\"#7201a8\"],[0.3333333333333333,\"#9c179e\"],[0.4444444444444444,\"#bd3786\"],[0.5555555555555556,\"#d8576b\"],[0.6666666666666666,\"#ed7953\"],[0.7777777777777778,\"#fb9f3a\"],[0.8888888888888888,\"#fdca26\"],[1.0,\"#f0f921\"]],\"type\":\"surface\"}],\"table\":[{\"cells\":{\"fill\":{\"color\":\"#EBF0F8\"},\"line\":{\"color\":\"white\"}},\"header\":{\"fill\":{\"color\":\"#C8D4E3\"},\"line\":{\"color\":\"white\"}},\"type\":\"table\"}]},\"layout\":{\"annotationdefaults\":{\"arrowcolor\":\"#2a3f5f\",\"arrowhead\":0,\"arrowwidth\":1},\"autotypenumbers\":\"strict\",\"coloraxis\":{\"colorbar\":{\"outlinewidth\":0,\"ticks\":\"\"}},\"colorscale\":{\"diverging\":[[0,\"#8e0152\"],[0.1,\"#c51b7d\"],[0.2,\"#de77ae\"],[0.3,\"#f1b6da\"],[0.4,\"#fde0ef\"],[0.5,\"#f7f7f7\"],[0.6,\"#e6f5d0\"],[0.7,\"#b8e186\"],[0.8,\"#7fbc41\"],[0.9,\"#4d9221\"],[1,\"#276419\"]],\"sequential\":[[0.0,\"#0d0887\"],[0.1111111111111111,\"#46039f\"],[0.2222222222222222,\"#7201a8\"],[0.3333333333333333,\"#9c179e\"],[0.4444444444444444,\"#bd3786\"],[0.5555555555555556,\"#d8576b\"],[0.6666666666666666,\"#ed7953\"],[0.7777777777777778,\"#fb9f3a\"],[0.8888888888888888,\"#fdca26\"],[1.0,\"#f0f921\"]],\"sequentialminus\":[[0.0,\"#0d0887\"],[0.1111111111111111,\"#46039f\"],[0.2222222222222222,\"#7201a8\"],[0.3333333333333333,\"#9c179e\"],[0.4444444444444444,\"#bd3786\"],[0.5555555555555556,\"#d8576b\"],[0.6666666666666666,\"#ed7953\"],[0.7777777777777778,\"#fb9f3a\"],[0.8888888888888888,\"#fdca26\"],[1.0,\"#f0f921\"]]},\"colorway\":[\"#636efa\",\"#EF553B\",\"#00cc96\",\"#ab63fa\",\"#FFA15A\",\"#19d3f3\",\"#FF6692\",\"#B6E880\",\"#FF97FF\",\"#FECB52\"],\"font\":{\"color\":\"#2a3f5f\"},\"geo\":{\"bgcolor\":\"white\",\"lakecolor\":\"white\",\"landcolor\":\"#E5ECF6\",\"showlakes\":true,\"showland\":true,\"subunitcolor\":\"white\"},\"hoverlabel\":{\"align\":\"left\"},\"hovermode\":\"closest\",\"mapbox\":{\"style\":\"light\"},\"paper_bgcolor\":\"white\",\"plot_bgcolor\":\"#E5ECF6\",\"polar\":{\"angularaxis\":{\"gridcolor\":\"white\",\"linecolor\":\"white\",\"ticks\":\"\"},\"bgcolor\":\"#E5ECF6\",\"radialaxis\":{\"gridcolor\":\"white\",\"linecolor\":\"white\",\"ticks\":\"\"}},\"scene\":{\"xaxis\":{\"backgroundcolor\":\"#E5ECF6\",\"gridcolor\":\"white\",\"gridwidth\":2,\"linecolor\":\"white\",\"showbackground\":true,\"ticks\":\"\",\"zerolinecolor\":\"white\"},\"yaxis\":{\"backgroundcolor\":\"#E5ECF6\",\"gridcolor\":\"white\",\"gridwidth\":2,\"linecolor\":\"white\",\"showbackground\":true,\"ticks\":\"\",\"zerolinecolor\":\"white\"},\"zaxis\":{\"backgroundcolor\":\"#E5ECF6\",\"gridcolor\":\"white\",\"gridwidth\":2,\"linecolor\":\"white\",\"showbackground\":true,\"ticks\":\"\",\"zerolinecolor\":\"white\"}},\"shapedefaults\":{\"line\":{\"color\":\"#2a3f5f\"}},\"ternary\":{\"aaxis\":{\"gridcolor\":\"white\",\"linecolor\":\"white\",\"ticks\":\"\"},\"baxis\":{\"gridcolor\":\"white\",\"linecolor\":\"white\",\"ticks\":\"\"},\"bgcolor\":\"#E5ECF6\",\"caxis\":{\"gridcolor\":\"white\",\"linecolor\":\"white\",\"ticks\":\"\"}},\"title\":{\"x\":0.05},\"xaxis\":{\"automargin\":true,\"gridcolor\":\"white\",\"linecolor\":\"white\",\"ticks\":\"\",\"title\":{\"standoff\":15},\"zerolinecolor\":\"white\",\"zerolinewidth\":2},\"yaxis\":{\"automargin\":true,\"gridcolor\":\"white\",\"linecolor\":\"white\",\"ticks\":\"\",\"title\":{\"standoff\":15},\"zerolinecolor\":\"white\",\"zerolinewidth\":2}}},\"title\":{\"font\":{\"color\":\"#4D5663\"}},\"xaxis\":{\"gridcolor\":\"#E1E5ED\",\"showgrid\":true,\"tickfont\":{\"color\":\"#4D5663\"},\"title\":{\"font\":{\"color\":\"#4D5663\"},\"text\":\"\"},\"zerolinecolor\":\"#E1E5ED\"},\"yaxis\":{\"gridcolor\":\"#E1E5ED\",\"showgrid\":true,\"tickfont\":{\"color\":\"#4D5663\"},\"title\":{\"font\":{\"color\":\"#4D5663\"},\"text\":\"\"},\"zerolinecolor\":\"#E1E5ED\"}},                        {\"showLink\": true, \"linkText\": \"Export to plot.ly\", \"plotlyServerURL\": \"https://plot.ly\", \"responsive\": true}                    ).then(function(){\n",
       "                            \n",
       "var gd = document.getElementById('1b1d5651-56e8-4e8b-b530-1b15bfccea4c');\n",
       "var x = new MutationObserver(function (mutations, observer) {{\n",
       "        var display = window.getComputedStyle(gd).display;\n",
       "        if (!display || display === 'none') {{\n",
       "            console.log([gd, 'removed!']);\n",
       "            Plotly.purge(gd);\n",
       "            observer.disconnect();\n",
       "        }}\n",
       "}});\n",
       "\n",
       "// Listen for the removal of the full notebook cells\n",
       "var notebookContainer = gd.closest('#notebook-container');\n",
       "if (notebookContainer) {{\n",
       "    x.observe(notebookContainer, {childList: true});\n",
       "}}\n",
       "\n",
       "// Listen for the clearing of the current output cell\n",
       "var outputEl = gd.closest('.output');\n",
       "if (outputEl) {{\n",
       "    x.observe(outputEl, {childList: true});\n",
       "}}\n",
       "\n",
       "                        })                };                });            </script>        </div>"
      ]
     },
     "metadata": {},
     "output_type": "display_data"
    }
   ],
   "source": [
    "df3 = pd.DataFrame({'x':[1,2,3,4,5],'y':[10,20,30,20,10],'z':[5,4,3,2,1]})\n",
    "df3.iplot(kind='surface',colorscale='rdylbu')"
   ]
  },
  {
   "cell_type": "markdown",
   "metadata": {},
   "source": [
    "## Spread"
   ]
  },
  {
   "cell_type": "code",
   "execution_count": 19,
   "metadata": {
    "collapsed": false,
    "jupyter": {
     "outputs_hidden": false
    }
   },
   "outputs": [],
   "source": [
    "#df[['A','B']].iplot(kind='spread')"
   ]
  },
  {
   "cell_type": "markdown",
   "metadata": {},
   "source": [
    "## histogram"
   ]
  },
  {
   "cell_type": "code",
   "execution_count": 16,
   "metadata": {
    "collapsed": false,
    "jupyter": {
     "outputs_hidden": false
    }
   },
   "outputs": [
    {
     "data": {
      "application/vnd.plotly.v1+json": {
       "config": {
        "linkText": "Export to plot.ly",
        "plotlyServerURL": "https://plot.ly",
        "showLink": true
       },
       "data": [
        {
         "histfunc": "count",
         "histnorm": "",
         "marker": {
          "color": "rgba(255, 153, 51, 1.0)",
          "line": {
           "color": "#4D5663",
           "width": 1.3
          }
         },
         "name": "A",
         "nbinsx": 25,
         "opacity": 0.8,
         "orientation": "v",
         "type": "histogram",
         "x": [
          0.018612650461357173,
          0.9960448857866494,
          0.5348989996252956,
          0.2744644691707193,
          -1.5365837996629519,
          0.6925164494907833,
          1.6355335882891844,
          -0.4847552691952551,
          0.30614385275660383,
          0.6124200551769818,
          1.1083663399431376,
          1.0180355605534988,
          1.257435789537904,
          -0.971833663638946,
          -0.6058590356787764,
          0.22023782953865775,
          2.120845276514453,
          -0.39456862325103875,
          0.6062219318447225,
          -1.7401149822576623,
          0.9742836776250653,
          -0.4031138669609755,
          1.396780034995444,
          0.7589153724023462,
          0.3613077716338431,
          -1.1240045019293001,
          -0.348857032578735,
          -0.6516516862967474,
          2.196241159251179,
          0.32989001608345575,
          -0.867630944602537,
          0.3632992521805315,
          -0.06810963771889461,
          -1.4541900245405381,
          1.3454753011398228,
          -1.9530849822802803,
          -0.8912013360228284,
          0.470947892105552,
          -0.15985505994419505,
          0.2198163702457327,
          -0.23010375469522198,
          0.5707062620139806,
          1.0719425958771212,
          0.7066538833117731,
          -0.3630221878876869,
          0.3922575727286456,
          -0.3612705276291241,
          -0.29550629725886385,
          0.5225653600745495,
          -0.27305291477145976,
          -1.3368444755064772,
          -0.7312444638403542,
          1.2372752954036261,
          0.43425609169846763,
          0.1378203123065723,
          -2.5650700100831454,
          1.5713680268021728,
          0.17299087523119103,
          0.8253910603445144,
          -0.1943973629179473,
          1.2022341699975243,
          -1.024967266248822,
          1.434392749628085,
          -0.2644970147935291,
          0.9120358181465171,
          -0.3574958316214275,
          -1.179661643313809,
          -1.2377308248032741,
          1.1327664908798656,
          0.8516976018670983,
          -0.011298938254510052,
          -1.2175903618027375,
          0.3257227008931923,
          0.9257341855583504,
          0.14031310714798895,
          -0.4195496491587592,
          1.2758452304798396,
          1.815682574463287,
          0.873722200060419,
          0.8332601650259654,
          -0.8665169598166514,
          -0.391384661683601,
          0.3137052464154313,
          0.9720372843795664,
          2.794271493694322,
          -1.8462934934409374,
          0.2964577706006214,
          0.5747909516562963,
          0.3515544444419624,
          0.6560688317045775,
          -1.825358297613211,
          0.17689201309241853,
          -0.7893616265432474,
          -0.7090282511585885,
          -0.06412212886610219,
          -1.6274770848951148,
          0.2871954929436289,
          -0.48615868570872567,
          0.3068728465283206,
          -0.46892326583647614
         ]
        }
       ],
       "layout": {
        "autosize": true,
        "barmode": "overlay",
        "legend": {
         "bgcolor": "#F5F6F9",
         "font": {
          "color": "#4D5663"
         }
        },
        "paper_bgcolor": "#F5F6F9",
        "plot_bgcolor": "#F5F6F9",
        "template": {
         "data": {
          "bar": [
           {
            "error_x": {
             "color": "#2a3f5f"
            },
            "error_y": {
             "color": "#2a3f5f"
            },
            "marker": {
             "line": {
              "color": "#E5ECF6",
              "width": 0.5
             },
             "pattern": {
              "fillmode": "overlay",
              "size": 10,
              "solidity": 0.2
             }
            },
            "type": "bar"
           }
          ],
          "barpolar": [
           {
            "marker": {
             "line": {
              "color": "#E5ECF6",
              "width": 0.5
             },
             "pattern": {
              "fillmode": "overlay",
              "size": 10,
              "solidity": 0.2
             }
            },
            "type": "barpolar"
           }
          ],
          "carpet": [
           {
            "aaxis": {
             "endlinecolor": "#2a3f5f",
             "gridcolor": "white",
             "linecolor": "white",
             "minorgridcolor": "white",
             "startlinecolor": "#2a3f5f"
            },
            "baxis": {
             "endlinecolor": "#2a3f5f",
             "gridcolor": "white",
             "linecolor": "white",
             "minorgridcolor": "white",
             "startlinecolor": "#2a3f5f"
            },
            "type": "carpet"
           }
          ],
          "choropleth": [
           {
            "colorbar": {
             "outlinewidth": 0,
             "ticks": ""
            },
            "type": "choropleth"
           }
          ],
          "contour": [
           {
            "colorbar": {
             "outlinewidth": 0,
             "ticks": ""
            },
            "colorscale": [
             [
              0,
              "#0d0887"
             ],
             [
              0.1111111111111111,
              "#46039f"
             ],
             [
              0.2222222222222222,
              "#7201a8"
             ],
             [
              0.3333333333333333,
              "#9c179e"
             ],
             [
              0.4444444444444444,
              "#bd3786"
             ],
             [
              0.5555555555555556,
              "#d8576b"
             ],
             [
              0.6666666666666666,
              "#ed7953"
             ],
             [
              0.7777777777777778,
              "#fb9f3a"
             ],
             [
              0.8888888888888888,
              "#fdca26"
             ],
             [
              1,
              "#f0f921"
             ]
            ],
            "type": "contour"
           }
          ],
          "contourcarpet": [
           {
            "colorbar": {
             "outlinewidth": 0,
             "ticks": ""
            },
            "type": "contourcarpet"
           }
          ],
          "heatmap": [
           {
            "colorbar": {
             "outlinewidth": 0,
             "ticks": ""
            },
            "colorscale": [
             [
              0,
              "#0d0887"
             ],
             [
              0.1111111111111111,
              "#46039f"
             ],
             [
              0.2222222222222222,
              "#7201a8"
             ],
             [
              0.3333333333333333,
              "#9c179e"
             ],
             [
              0.4444444444444444,
              "#bd3786"
             ],
             [
              0.5555555555555556,
              "#d8576b"
             ],
             [
              0.6666666666666666,
              "#ed7953"
             ],
             [
              0.7777777777777778,
              "#fb9f3a"
             ],
             [
              0.8888888888888888,
              "#fdca26"
             ],
             [
              1,
              "#f0f921"
             ]
            ],
            "type": "heatmap"
           }
          ],
          "heatmapgl": [
           {
            "colorbar": {
             "outlinewidth": 0,
             "ticks": ""
            },
            "colorscale": [
             [
              0,
              "#0d0887"
             ],
             [
              0.1111111111111111,
              "#46039f"
             ],
             [
              0.2222222222222222,
              "#7201a8"
             ],
             [
              0.3333333333333333,
              "#9c179e"
             ],
             [
              0.4444444444444444,
              "#bd3786"
             ],
             [
              0.5555555555555556,
              "#d8576b"
             ],
             [
              0.6666666666666666,
              "#ed7953"
             ],
             [
              0.7777777777777778,
              "#fb9f3a"
             ],
             [
              0.8888888888888888,
              "#fdca26"
             ],
             [
              1,
              "#f0f921"
             ]
            ],
            "type": "heatmapgl"
           }
          ],
          "histogram": [
           {
            "marker": {
             "pattern": {
              "fillmode": "overlay",
              "size": 10,
              "solidity": 0.2
             }
            },
            "type": "histogram"
           }
          ],
          "histogram2d": [
           {
            "colorbar": {
             "outlinewidth": 0,
             "ticks": ""
            },
            "colorscale": [
             [
              0,
              "#0d0887"
             ],
             [
              0.1111111111111111,
              "#46039f"
             ],
             [
              0.2222222222222222,
              "#7201a8"
             ],
             [
              0.3333333333333333,
              "#9c179e"
             ],
             [
              0.4444444444444444,
              "#bd3786"
             ],
             [
              0.5555555555555556,
              "#d8576b"
             ],
             [
              0.6666666666666666,
              "#ed7953"
             ],
             [
              0.7777777777777778,
              "#fb9f3a"
             ],
             [
              0.8888888888888888,
              "#fdca26"
             ],
             [
              1,
              "#f0f921"
             ]
            ],
            "type": "histogram2d"
           }
          ],
          "histogram2dcontour": [
           {
            "colorbar": {
             "outlinewidth": 0,
             "ticks": ""
            },
            "colorscale": [
             [
              0,
              "#0d0887"
             ],
             [
              0.1111111111111111,
              "#46039f"
             ],
             [
              0.2222222222222222,
              "#7201a8"
             ],
             [
              0.3333333333333333,
              "#9c179e"
             ],
             [
              0.4444444444444444,
              "#bd3786"
             ],
             [
              0.5555555555555556,
              "#d8576b"
             ],
             [
              0.6666666666666666,
              "#ed7953"
             ],
             [
              0.7777777777777778,
              "#fb9f3a"
             ],
             [
              0.8888888888888888,
              "#fdca26"
             ],
             [
              1,
              "#f0f921"
             ]
            ],
            "type": "histogram2dcontour"
           }
          ],
          "mesh3d": [
           {
            "colorbar": {
             "outlinewidth": 0,
             "ticks": ""
            },
            "type": "mesh3d"
           }
          ],
          "parcoords": [
           {
            "line": {
             "colorbar": {
              "outlinewidth": 0,
              "ticks": ""
             }
            },
            "type": "parcoords"
           }
          ],
          "pie": [
           {
            "automargin": true,
            "type": "pie"
           }
          ],
          "scatter": [
           {
            "fillpattern": {
             "fillmode": "overlay",
             "size": 10,
             "solidity": 0.2
            },
            "type": "scatter"
           }
          ],
          "scatter3d": [
           {
            "line": {
             "colorbar": {
              "outlinewidth": 0,
              "ticks": ""
             }
            },
            "marker": {
             "colorbar": {
              "outlinewidth": 0,
              "ticks": ""
             }
            },
            "type": "scatter3d"
           }
          ],
          "scattercarpet": [
           {
            "marker": {
             "colorbar": {
              "outlinewidth": 0,
              "ticks": ""
             }
            },
            "type": "scattercarpet"
           }
          ],
          "scattergeo": [
           {
            "marker": {
             "colorbar": {
              "outlinewidth": 0,
              "ticks": ""
             }
            },
            "type": "scattergeo"
           }
          ],
          "scattergl": [
           {
            "marker": {
             "colorbar": {
              "outlinewidth": 0,
              "ticks": ""
             }
            },
            "type": "scattergl"
           }
          ],
          "scattermapbox": [
           {
            "marker": {
             "colorbar": {
              "outlinewidth": 0,
              "ticks": ""
             }
            },
            "type": "scattermapbox"
           }
          ],
          "scatterpolar": [
           {
            "marker": {
             "colorbar": {
              "outlinewidth": 0,
              "ticks": ""
             }
            },
            "type": "scatterpolar"
           }
          ],
          "scatterpolargl": [
           {
            "marker": {
             "colorbar": {
              "outlinewidth": 0,
              "ticks": ""
             }
            },
            "type": "scatterpolargl"
           }
          ],
          "scatterternary": [
           {
            "marker": {
             "colorbar": {
              "outlinewidth": 0,
              "ticks": ""
             }
            },
            "type": "scatterternary"
           }
          ],
          "surface": [
           {
            "colorbar": {
             "outlinewidth": 0,
             "ticks": ""
            },
            "colorscale": [
             [
              0,
              "#0d0887"
             ],
             [
              0.1111111111111111,
              "#46039f"
             ],
             [
              0.2222222222222222,
              "#7201a8"
             ],
             [
              0.3333333333333333,
              "#9c179e"
             ],
             [
              0.4444444444444444,
              "#bd3786"
             ],
             [
              0.5555555555555556,
              "#d8576b"
             ],
             [
              0.6666666666666666,
              "#ed7953"
             ],
             [
              0.7777777777777778,
              "#fb9f3a"
             ],
             [
              0.8888888888888888,
              "#fdca26"
             ],
             [
              1,
              "#f0f921"
             ]
            ],
            "type": "surface"
           }
          ],
          "table": [
           {
            "cells": {
             "fill": {
              "color": "#EBF0F8"
             },
             "line": {
              "color": "white"
             }
            },
            "header": {
             "fill": {
              "color": "#C8D4E3"
             },
             "line": {
              "color": "white"
             }
            },
            "type": "table"
           }
          ]
         },
         "layout": {
          "annotationdefaults": {
           "arrowcolor": "#2a3f5f",
           "arrowhead": 0,
           "arrowwidth": 1
          },
          "autotypenumbers": "strict",
          "coloraxis": {
           "colorbar": {
            "outlinewidth": 0,
            "ticks": ""
           }
          },
          "colorscale": {
           "diverging": [
            [
             0,
             "#8e0152"
            ],
            [
             0.1,
             "#c51b7d"
            ],
            [
             0.2,
             "#de77ae"
            ],
            [
             0.3,
             "#f1b6da"
            ],
            [
             0.4,
             "#fde0ef"
            ],
            [
             0.5,
             "#f7f7f7"
            ],
            [
             0.6,
             "#e6f5d0"
            ],
            [
             0.7,
             "#b8e186"
            ],
            [
             0.8,
             "#7fbc41"
            ],
            [
             0.9,
             "#4d9221"
            ],
            [
             1,
             "#276419"
            ]
           ],
           "sequential": [
            [
             0,
             "#0d0887"
            ],
            [
             0.1111111111111111,
             "#46039f"
            ],
            [
             0.2222222222222222,
             "#7201a8"
            ],
            [
             0.3333333333333333,
             "#9c179e"
            ],
            [
             0.4444444444444444,
             "#bd3786"
            ],
            [
             0.5555555555555556,
             "#d8576b"
            ],
            [
             0.6666666666666666,
             "#ed7953"
            ],
            [
             0.7777777777777778,
             "#fb9f3a"
            ],
            [
             0.8888888888888888,
             "#fdca26"
            ],
            [
             1,
             "#f0f921"
            ]
           ],
           "sequentialminus": [
            [
             0,
             "#0d0887"
            ],
            [
             0.1111111111111111,
             "#46039f"
            ],
            [
             0.2222222222222222,
             "#7201a8"
            ],
            [
             0.3333333333333333,
             "#9c179e"
            ],
            [
             0.4444444444444444,
             "#bd3786"
            ],
            [
             0.5555555555555556,
             "#d8576b"
            ],
            [
             0.6666666666666666,
             "#ed7953"
            ],
            [
             0.7777777777777778,
             "#fb9f3a"
            ],
            [
             0.8888888888888888,
             "#fdca26"
            ],
            [
             1,
             "#f0f921"
            ]
           ]
          },
          "colorway": [
           "#636efa",
           "#EF553B",
           "#00cc96",
           "#ab63fa",
           "#FFA15A",
           "#19d3f3",
           "#FF6692",
           "#B6E880",
           "#FF97FF",
           "#FECB52"
          ],
          "font": {
           "color": "#2a3f5f"
          },
          "geo": {
           "bgcolor": "white",
           "lakecolor": "white",
           "landcolor": "#E5ECF6",
           "showlakes": true,
           "showland": true,
           "subunitcolor": "white"
          },
          "hoverlabel": {
           "align": "left"
          },
          "hovermode": "closest",
          "mapbox": {
           "style": "light"
          },
          "paper_bgcolor": "white",
          "plot_bgcolor": "#E5ECF6",
          "polar": {
           "angularaxis": {
            "gridcolor": "white",
            "linecolor": "white",
            "ticks": ""
           },
           "bgcolor": "#E5ECF6",
           "radialaxis": {
            "gridcolor": "white",
            "linecolor": "white",
            "ticks": ""
           }
          },
          "scene": {
           "xaxis": {
            "backgroundcolor": "#E5ECF6",
            "gridcolor": "white",
            "gridwidth": 2,
            "linecolor": "white",
            "showbackground": true,
            "ticks": "",
            "zerolinecolor": "white"
           },
           "yaxis": {
            "backgroundcolor": "#E5ECF6",
            "gridcolor": "white",
            "gridwidth": 2,
            "linecolor": "white",
            "showbackground": true,
            "ticks": "",
            "zerolinecolor": "white"
           },
           "zaxis": {
            "backgroundcolor": "#E5ECF6",
            "gridcolor": "white",
            "gridwidth": 2,
            "linecolor": "white",
            "showbackground": true,
            "ticks": "",
            "zerolinecolor": "white"
           }
          },
          "shapedefaults": {
           "line": {
            "color": "#2a3f5f"
           }
          },
          "ternary": {
           "aaxis": {
            "gridcolor": "white",
            "linecolor": "white",
            "ticks": ""
           },
           "baxis": {
            "gridcolor": "white",
            "linecolor": "white",
            "ticks": ""
           },
           "bgcolor": "#E5ECF6",
           "caxis": {
            "gridcolor": "white",
            "linecolor": "white",
            "ticks": ""
           }
          },
          "title": {
           "x": 0.05
          },
          "xaxis": {
           "automargin": true,
           "gridcolor": "white",
           "linecolor": "white",
           "ticks": "",
           "title": {
            "standoff": 15
           },
           "zerolinecolor": "white",
           "zerolinewidth": 2
          },
          "yaxis": {
           "automargin": true,
           "gridcolor": "white",
           "linecolor": "white",
           "ticks": "",
           "title": {
            "standoff": 15
           },
           "zerolinecolor": "white",
           "zerolinewidth": 2
          }
         }
        },
        "title": {
         "font": {
          "color": "#4D5663"
         }
        },
        "xaxis": {
         "autorange": true,
         "gridcolor": "#E1E5ED",
         "range": [
          -3,
          3
         ],
         "showgrid": true,
         "tickfont": {
          "color": "#4D5663"
         },
         "title": {
          "font": {
           "color": "#4D5663"
          },
          "text": ""
         },
         "type": "linear",
         "zerolinecolor": "#E1E5ED"
        },
        "yaxis": {
         "autorange": true,
         "gridcolor": "#E1E5ED",
         "range": [
          0,
          22.105263157894736
         ],
         "showgrid": true,
         "tickfont": {
          "color": "#4D5663"
         },
         "title": {
          "font": {
           "color": "#4D5663"
          },
          "text": ""
         },
         "zerolinecolor": "#E1E5ED"
        }
       }
      },
      "image/png": "[encoded data removed]",
      "text/html": [
       "<div>                            <div id=\"4d2a82f7-cfcb-44d2-ba48-389c0c7e6034\" class=\"plotly-graph-div\" style=\"height:525px; width:100%;\"></div>            <script type=\"text/javascript\">                require([\"plotly\"], function(Plotly) {                    window.PLOTLYENV=window.PLOTLYENV || {};\n",
       "                    window.PLOTLYENV.BASE_URL='https://plot.ly';                                    if (document.getElementById(\"4d2a82f7-cfcb-44d2-ba48-389c0c7e6034\")) {                    Plotly.newPlot(                        \"4d2a82f7-cfcb-44d2-ba48-389c0c7e6034\",                        [{\"histfunc\":\"count\",\"histnorm\":\"\",\"marker\":{\"color\":\"rgba(255, 153, 51, 1.0)\",\"line\":{\"color\":\"#4D5663\",\"width\":1.3}},\"name\":\"A\",\"nbinsx\":25,\"opacity\":0.8,\"orientation\":\"v\",\"x\":[0.018612650461357173,0.9960448857866494,0.5348989996252956,0.2744644691707193,-1.5365837996629519,0.6925164494907833,1.6355335882891844,-0.4847552691952551,0.30614385275660383,0.6124200551769818,1.1083663399431376,1.0180355605534988,1.257435789537904,-0.971833663638946,-0.6058590356787764,0.22023782953865775,2.120845276514453,-0.39456862325103875,0.6062219318447225,-1.7401149822576623,0.9742836776250653,-0.4031138669609755,1.396780034995444,0.7589153724023462,0.3613077716338431,-1.1240045019293001,-0.348857032578735,-0.6516516862967474,2.196241159251179,0.32989001608345575,-0.867630944602537,0.3632992521805315,-0.06810963771889461,-1.4541900245405381,1.3454753011398228,-1.9530849822802803,-0.8912013360228284,0.470947892105552,-0.15985505994419505,0.2198163702457327,-0.23010375469522198,0.5707062620139806,1.0719425958771212,0.7066538833117731,-0.3630221878876869,0.3922575727286456,-0.3612705276291241,-0.29550629725886385,0.5225653600745495,-0.27305291477145976,-1.3368444755064772,-0.7312444638403542,1.2372752954036261,0.43425609169846763,0.1378203123065723,-2.5650700100831454,1.5713680268021728,0.17299087523119103,0.8253910603445144,-0.1943973629179473,1.2022341699975243,-1.024967266248822,1.434392749628085,-0.2644970147935291,0.9120358181465171,-0.3574958316214275,-1.179661643313809,-1.2377308248032741,1.1327664908798656,0.8516976018670983,-0.011298938254510052,-1.2175903618027375,0.3257227008931923,0.9257341855583504,0.14031310714798895,-0.4195496491587592,1.2758452304798396,1.815682574463287,0.873722200060419,0.8332601650259654,-0.8665169598166514,-0.391384661683601,0.3137052464154313,0.9720372843795664,2.794271493694322,-1.8462934934409374,0.2964577706006214,0.5747909516562963,0.3515544444419624,0.6560688317045775,-1.825358297613211,0.17689201309241853,-0.7893616265432474,-0.7090282511585885,-0.06412212886610219,-1.6274770848951148,0.2871954929436289,-0.48615868570872567,0.3068728465283206,-0.46892326583647614],\"type\":\"histogram\"}],                        {\"barmode\":\"overlay\",\"legend\":{\"bgcolor\":\"#F5F6F9\",\"font\":{\"color\":\"#4D5663\"}},\"paper_bgcolor\":\"#F5F6F9\",\"plot_bgcolor\":\"#F5F6F9\",\"template\":{\"data\":{\"barpolar\":[{\"marker\":{\"line\":{\"color\":\"#E5ECF6\",\"width\":0.5},\"pattern\":{\"fillmode\":\"overlay\",\"size\":10,\"solidity\":0.2}},\"type\":\"barpolar\"}],\"bar\":[{\"error_x\":{\"color\":\"#2a3f5f\"},\"error_y\":{\"color\":\"#2a3f5f\"},\"marker\":{\"line\":{\"color\":\"#E5ECF6\",\"width\":0.5},\"pattern\":{\"fillmode\":\"overlay\",\"size\":10,\"solidity\":0.2}},\"type\":\"bar\"}],\"carpet\":[{\"aaxis\":{\"endlinecolor\":\"#2a3f5f\",\"gridcolor\":\"white\",\"linecolor\":\"white\",\"minorgridcolor\":\"white\",\"startlinecolor\":\"#2a3f5f\"},\"baxis\":{\"endlinecolor\":\"#2a3f5f\",\"gridcolor\":\"white\",\"linecolor\":\"white\",\"minorgridcolor\":\"white\",\"startlinecolor\":\"#2a3f5f\"},\"type\":\"carpet\"}],\"choropleth\":[{\"colorbar\":{\"outlinewidth\":0,\"ticks\":\"\"},\"type\":\"choropleth\"}],\"contourcarpet\":[{\"colorbar\":{\"outlinewidth\":0,\"ticks\":\"\"},\"type\":\"contourcarpet\"}],\"contour\":[{\"colorbar\":{\"outlinewidth\":0,\"ticks\":\"\"},\"colorscale\":[[0.0,\"#0d0887\"],[0.1111111111111111,\"#46039f\"],[0.2222222222222222,\"#7201a8\"],[0.3333333333333333,\"#9c179e\"],[0.4444444444444444,\"#bd3786\"],[0.5555555555555556,\"#d8576b\"],[0.6666666666666666,\"#ed7953\"],[0.7777777777777778,\"#fb9f3a\"],[0.8888888888888888,\"#fdca26\"],[1.0,\"#f0f921\"]],\"type\":\"contour\"}],\"heatmapgl\":[{\"colorbar\":{\"outlinewidth\":0,\"ticks\":\"\"},\"colorscale\":[[0.0,\"#0d0887\"],[0.1111111111111111,\"#46039f\"],[0.2222222222222222,\"#7201a8\"],[0.3333333333333333,\"#9c179e\"],[0.4444444444444444,\"#bd3786\"],[0.5555555555555556,\"#d8576b\"],[0.6666666666666666,\"#ed7953\"],[0.7777777777777778,\"#fb9f3a\"],[0.8888888888888888,\"#fdca26\"],[1.0,\"#f0f921\"]],\"type\":\"heatmapgl\"}],\"heatmap\":[{\"colorbar\":{\"outlinewidth\":0,\"ticks\":\"\"},\"colorscale\":[[0.0,\"#0d0887\"],[0.1111111111111111,\"#46039f\"],[0.2222222222222222,\"#7201a8\"],[0.3333333333333333,\"#9c179e\"],[0.4444444444444444,\"#bd3786\"],[0.5555555555555556,\"#d8576b\"],[0.6666666666666666,\"#ed7953\"],[0.7777777777777778,\"#fb9f3a\"],[0.8888888888888888,\"#fdca26\"],[1.0,\"#f0f921\"]],\"type\":\"heatmap\"}],\"histogram2dcontour\":[{\"colorbar\":{\"outlinewidth\":0,\"ticks\":\"\"},\"colorscale\":[[0.0,\"#0d0887\"],[0.1111111111111111,\"#46039f\"],[0.2222222222222222,\"#7201a8\"],[0.3333333333333333,\"#9c179e\"],[0.4444444444444444,\"#bd3786\"],[0.5555555555555556,\"#d8576b\"],[0.6666666666666666,\"#ed7953\"],[0.7777777777777778,\"#fb9f3a\"],[0.8888888888888888,\"#fdca26\"],[1.0,\"#f0f921\"]],\"type\":\"histogram2dcontour\"}],\"histogram2d\":[{\"colorbar\":{\"outlinewidth\":0,\"ticks\":\"\"},\"colorscale\":[[0.0,\"#0d0887\"],[0.1111111111111111,\"#46039f\"],[0.2222222222222222,\"#7201a8\"],[0.3333333333333333,\"#9c179e\"],[0.4444444444444444,\"#bd3786\"],[0.5555555555555556,\"#d8576b\"],[0.6666666666666666,\"#ed7953\"],[0.7777777777777778,\"#fb9f3a\"],[0.8888888888888888,\"#fdca26\"],[1.0,\"#f0f921\"]],\"type\":\"histogram2d\"}],\"histogram\":[{\"marker\":{\"pattern\":{\"fillmode\":\"overlay\",\"size\":10,\"solidity\":0.2}},\"type\":\"histogram\"}],\"mesh3d\":[{\"colorbar\":{\"outlinewidth\":0,\"ticks\":\"\"},\"type\":\"mesh3d\"}],\"parcoords\":[{\"line\":{\"colorbar\":{\"outlinewidth\":0,\"ticks\":\"\"}},\"type\":\"parcoords\"}],\"pie\":[{\"automargin\":true,\"type\":\"pie\"}],\"scatter3d\":[{\"line\":{\"colorbar\":{\"outlinewidth\":0,\"ticks\":\"\"}},\"marker\":{\"colorbar\":{\"outlinewidth\":0,\"ticks\":\"\"}},\"type\":\"scatter3d\"}],\"scattercarpet\":[{\"marker\":{\"colorbar\":{\"outlinewidth\":0,\"ticks\":\"\"}},\"type\":\"scattercarpet\"}],\"scattergeo\":[{\"marker\":{\"colorbar\":{\"outlinewidth\":0,\"ticks\":\"\"}},\"type\":\"scattergeo\"}],\"scattergl\":[{\"marker\":{\"colorbar\":{\"outlinewidth\":0,\"ticks\":\"\"}},\"type\":\"scattergl\"}],\"scattermapbox\":[{\"marker\":{\"colorbar\":{\"outlinewidth\":0,\"ticks\":\"\"}},\"type\":\"scattermapbox\"}],\"scatterpolargl\":[{\"marker\":{\"colorbar\":{\"outlinewidth\":0,\"ticks\":\"\"}},\"type\":\"scatterpolargl\"}],\"scatterpolar\":[{\"marker\":{\"colorbar\":{\"outlinewidth\":0,\"ticks\":\"\"}},\"type\":\"scatterpolar\"}],\"scatter\":[{\"fillpattern\":{\"fillmode\":\"overlay\",\"size\":10,\"solidity\":0.2},\"type\":\"scatter\"}],\"scatterternary\":[{\"marker\":{\"colorbar\":{\"outlinewidth\":0,\"ticks\":\"\"}},\"type\":\"scatterternary\"}],\"surface\":[{\"colorbar\":{\"outlinewidth\":0,\"ticks\":\"\"},\"colorscale\":[[0.0,\"#0d0887\"],[0.1111111111111111,\"#46039f\"],[0.2222222222222222,\"#7201a8\"],[0.3333333333333333,\"#9c179e\"],[0.4444444444444444,\"#bd3786\"],[0.5555555555555556,\"#d8576b\"],[0.6666666666666666,\"#ed7953\"],[0.7777777777777778,\"#fb9f3a\"],[0.8888888888888888,\"#fdca26\"],[1.0,\"#f0f921\"]],\"type\":\"surface\"}],\"table\":[{\"cells\":{\"fill\":{\"color\":\"#EBF0F8\"},\"line\":{\"color\":\"white\"}},\"header\":{\"fill\":{\"color\":\"#C8D4E3\"},\"line\":{\"color\":\"white\"}},\"type\":\"table\"}]},\"layout\":{\"annotationdefaults\":{\"arrowcolor\":\"#2a3f5f\",\"arrowhead\":0,\"arrowwidth\":1},\"autotypenumbers\":\"strict\",\"coloraxis\":{\"colorbar\":{\"outlinewidth\":0,\"ticks\":\"\"}},\"colorscale\":{\"diverging\":[[0,\"#8e0152\"],[0.1,\"#c51b7d\"],[0.2,\"#de77ae\"],[0.3,\"#f1b6da\"],[0.4,\"#fde0ef\"],[0.5,\"#f7f7f7\"],[0.6,\"#e6f5d0\"],[0.7,\"#b8e186\"],[0.8,\"#7fbc41\"],[0.9,\"#4d9221\"],[1,\"#276419\"]],\"sequential\":[[0.0,\"#0d0887\"],[0.1111111111111111,\"#46039f\"],[0.2222222222222222,\"#7201a8\"],[0.3333333333333333,\"#9c179e\"],[0.4444444444444444,\"#bd3786\"],[0.5555555555555556,\"#d8576b\"],[0.6666666666666666,\"#ed7953\"],[0.7777777777777778,\"#fb9f3a\"],[0.8888888888888888,\"#fdca26\"],[1.0,\"#f0f921\"]],\"sequentialminus\":[[0.0,\"#0d0887\"],[0.1111111111111111,\"#46039f\"],[0.2222222222222222,\"#7201a8\"],[0.3333333333333333,\"#9c179e\"],[0.4444444444444444,\"#bd3786\"],[0.5555555555555556,\"#d8576b\"],[0.6666666666666666,\"#ed7953\"],[0.7777777777777778,\"#fb9f3a\"],[0.8888888888888888,\"#fdca26\"],[1.0,\"#f0f921\"]]},\"colorway\":[\"#636efa\",\"#EF553B\",\"#00cc96\",\"#ab63fa\",\"#FFA15A\",\"#19d3f3\",\"#FF6692\",\"#B6E880\",\"#FF97FF\",\"#FECB52\"],\"font\":{\"color\":\"#2a3f5f\"},\"geo\":{\"bgcolor\":\"white\",\"lakecolor\":\"white\",\"landcolor\":\"#E5ECF6\",\"showlakes\":true,\"showland\":true,\"subunitcolor\":\"white\"},\"hoverlabel\":{\"align\":\"left\"},\"hovermode\":\"closest\",\"mapbox\":{\"style\":\"light\"},\"paper_bgcolor\":\"white\",\"plot_bgcolor\":\"#E5ECF6\",\"polar\":{\"angularaxis\":{\"gridcolor\":\"white\",\"linecolor\":\"white\",\"ticks\":\"\"},\"bgcolor\":\"#E5ECF6\",\"radialaxis\":{\"gridcolor\":\"white\",\"linecolor\":\"white\",\"ticks\":\"\"}},\"scene\":{\"xaxis\":{\"backgroundcolor\":\"#E5ECF6\",\"gridcolor\":\"white\",\"gridwidth\":2,\"linecolor\":\"white\",\"showbackground\":true,\"ticks\":\"\",\"zerolinecolor\":\"white\"},\"yaxis\":{\"backgroundcolor\":\"#E5ECF6\",\"gridcolor\":\"white\",\"gridwidth\":2,\"linecolor\":\"white\",\"showbackground\":true,\"ticks\":\"\",\"zerolinecolor\":\"white\"},\"zaxis\":{\"backgroundcolor\":\"#E5ECF6\",\"gridcolor\":\"white\",\"gridwidth\":2,\"linecolor\":\"white\",\"showbackground\":true,\"ticks\":\"\",\"zerolinecolor\":\"white\"}},\"shapedefaults\":{\"line\":{\"color\":\"#2a3f5f\"}},\"ternary\":{\"aaxis\":{\"gridcolor\":\"white\",\"linecolor\":\"white\",\"ticks\":\"\"},\"baxis\":{\"gridcolor\":\"white\",\"linecolor\":\"white\",\"ticks\":\"\"},\"bgcolor\":\"#E5ECF6\",\"caxis\":{\"gridcolor\":\"white\",\"linecolor\":\"white\",\"ticks\":\"\"}},\"title\":{\"x\":0.05},\"xaxis\":{\"automargin\":true,\"gridcolor\":\"white\",\"linecolor\":\"white\",\"ticks\":\"\",\"title\":{\"standoff\":15},\"zerolinecolor\":\"white\",\"zerolinewidth\":2},\"yaxis\":{\"automargin\":true,\"gridcolor\":\"white\",\"linecolor\":\"white\",\"ticks\":\"\",\"title\":{\"standoff\":15},\"zerolinecolor\":\"white\",\"zerolinewidth\":2}}},\"title\":{\"font\":{\"color\":\"#4D5663\"}},\"xaxis\":{\"gridcolor\":\"#E1E5ED\",\"showgrid\":true,\"tickfont\":{\"color\":\"#4D5663\"},\"title\":{\"font\":{\"color\":\"#4D5663\"},\"text\":\"\"},\"zerolinecolor\":\"#E1E5ED\"},\"yaxis\":{\"gridcolor\":\"#E1E5ED\",\"showgrid\":true,\"tickfont\":{\"color\":\"#4D5663\"},\"title\":{\"font\":{\"color\":\"#4D5663\"},\"text\":\"\"},\"zerolinecolor\":\"#E1E5ED\"}},                        {\"showLink\": true, \"linkText\": \"Export to plot.ly\", \"plotlyServerURL\": \"https://plot.ly\", \"responsive\": true}                    ).then(function(){\n",
       "                            \n",
       "var gd = document.getElementById('4d2a82f7-cfcb-44d2-ba48-389c0c7e6034');\n",
       "var x = new MutationObserver(function (mutations, observer) {{\n",
       "        var display = window.getComputedStyle(gd).display;\n",
       "        if (!display || display === 'none') {{\n",
       "            console.log([gd, 'removed!']);\n",
       "            Plotly.purge(gd);\n",
       "            observer.disconnect();\n",
       "        }}\n",
       "}});\n",
       "\n",
       "// Listen for the removal of the full notebook cells\n",
       "var notebookContainer = gd.closest('#notebook-container');\n",
       "if (notebookContainer) {{\n",
       "    x.observe(notebookContainer, {childList: true});\n",
       "}}\n",
       "\n",
       "// Listen for the clearing of the current output cell\n",
       "var outputEl = gd.closest('.output');\n",
       "if (outputEl) {{\n",
       "    x.observe(outputEl, {childList: true});\n",
       "}}\n",
       "\n",
       "                        })                };                });            </script>        </div>"
      ]
     },
     "metadata": {},
     "output_type": "display_data"
    }
   ],
   "source": [
    "df['A'].iplot(kind='hist',bins=25)"
   ]
  },
  {
   "cell_type": "code",
   "execution_count": 17,
   "metadata": {
    "collapsed": false,
    "jupyter": {
     "outputs_hidden": false
    }
   },
   "outputs": [
    {
     "data": {
      "application/vnd.plotly.v1+json": {
       "config": {
        "linkText": "Export to plot.ly",
        "plotlyServerURL": "https://plot.ly",
        "showLink": true
       },
       "data": [
        {
         "marker": {
          "color": [
           "rgb(255, 153, 51)",
           "rgb(55, 128, 191)",
           "rgb(50, 171, 96)",
           "rgb(128, 0, 128)",
           "rgb(219, 64, 82)",
           "rgb(0, 128, 128)",
           "rgb(255, 255, 51)",
           "rgb(128, 128, 0)",
           "rgb(251, 128, 114)",
           "rgb(128, 177, 211)"
          ],
          "line": {
           "width": 1.3
          },
          "size": [
           53,
           42,
           81,
           41,
           51,
           39,
           88,
           94,
           48,
           75,
           55,
           47,
           81,
           17,
           73,
           81,
           59,
           82,
           76,
           29,
           91,
           65,
           65,
           61,
           73,
           39,
           53,
           110,
           32,
           99,
           94,
           57,
           73,
           109,
           59,
           78,
           67,
           12,
           98,
           83,
           94,
           97,
           39,
           36,
           59,
           30,
           64,
           103,
           44,
           73,
           33,
           103,
           79,
           78,
           103,
           85,
           76,
           83,
           46,
           77,
           51,
           17,
           40,
           112,
           95,
           63,
           74,
           74,
           76,
           85,
           65,
           30,
           81,
           45,
           93,
           38,
           73,
           67,
           65,
           56,
           63,
           53,
           45,
           78,
           78,
           79,
           60,
           68,
           85,
           88,
           56,
           73,
           99,
           60,
           104,
           48,
           55,
           73,
           51,
           87
          ],
          "symbol": "circle"
         },
         "mode": "markers",
         "text": "",
         "type": "scatter",
         "x": [
          0.018612650461357173,
          0.9960448857866494,
          0.5348989996252956,
          0.2744644691707193,
          -1.5365837996629519,
          0.6925164494907833,
          1.6355335882891844,
          -0.4847552691952551,
          0.30614385275660383,
          0.6124200551769818,
          1.1083663399431376,
          1.0180355605534988,
          1.257435789537904,
          -0.971833663638946,
          -0.6058590356787764,
          0.22023782953865775,
          2.120845276514453,
          -0.39456862325103875,
          0.6062219318447225,
          -1.7401149822576623,
          0.9742836776250653,
          -0.4031138669609755,
          1.396780034995444,
          0.7589153724023462,
          0.3613077716338431,
          -1.1240045019293001,
          -0.348857032578735,
          -0.6516516862967474,
          2.196241159251179,
          0.32989001608345575,
          -0.867630944602537,
          0.3632992521805315,
          -0.06810963771889461,
          -1.4541900245405381,
          1.3454753011398228,
          -1.9530849822802803,
          -0.8912013360228284,
          0.470947892105552,
          -0.15985505994419505,
          0.2198163702457327,
          -0.23010375469522198,
          0.5707062620139806,
          1.0719425958771212,
          0.7066538833117731,
          -0.3630221878876869,
          0.3922575727286456,
          -0.3612705276291241,
          -0.29550629725886385,
          0.5225653600745495,
          -0.27305291477145976,
          -1.3368444755064772,
          -0.7312444638403542,
          1.2372752954036261,
          0.43425609169846763,
          0.1378203123065723,
          -2.5650700100831454,
          1.5713680268021728,
          0.17299087523119103,
          0.8253910603445144,
          -0.1943973629179473,
          1.2022341699975243,
          -1.024967266248822,
          1.434392749628085,
          -0.2644970147935291,
          0.9120358181465171,
          -0.3574958316214275,
          -1.179661643313809,
          -1.2377308248032741,
          1.1327664908798656,
          0.8516976018670983,
          -0.011298938254510052,
          -1.2175903618027375,
          0.3257227008931923,
          0.9257341855583504,
          0.14031310714798895,
          -0.4195496491587592,
          1.2758452304798396,
          1.815682574463287,
          0.873722200060419,
          0.8332601650259654,
          -0.8665169598166514,
          -0.391384661683601,
          0.3137052464154313,
          0.9720372843795664,
          2.794271493694322,
          -1.8462934934409374,
          0.2964577706006214,
          0.5747909516562963,
          0.3515544444419624,
          0.6560688317045775,
          -1.825358297613211,
          0.17689201309241853,
          -0.7893616265432474,
          -0.7090282511585885,
          -0.06412212886610219,
          -1.6274770848951148,
          0.2871954929436289,
          -0.48615868570872567,
          0.3068728465283206,
          -0.46892326583647614
         ],
         "y": [
          -0.14515941434662252,
          0.6806873926308932,
          -0.4635907081842978,
          -0.9133813580992908,
          0.33961520411379165,
          1.5359756763886903,
          0.5608200555640893,
          0.7385576598977033,
          0.3584101017217968,
          1.9681524054333133,
          0.9122347227604708,
          -1.208747759097325,
          1.0391099033587277,
          -0.04081664467136474,
          0.6920299931313932,
          0.17855709424490082,
          -0.5471926984690776,
          1.7684838359114352,
          -0.778441418564234,
          -0.5178855908859966,
          0.9554421418744045,
          1.981324589895577,
          -1.17791668305019,
          0.3635416602419813,
          1.4729249970268203,
          0.7169383023416109,
          -1.2414094580752362,
          -1.2454370486619037,
          -1.7753439436106342,
          -0.6803313710281736,
          -0.5941007653584087,
          1.29730024703594,
          -0.7575686405643377,
          1.4942790818364484,
          -0.6654988353214182,
          0.9003465610236291,
          0.1716342723004468,
          0.7738326789387621,
          -0.08714118904590173,
          -0.7714694142266564,
          0.5716227010443915,
          -0.8023726811909293,
          -0.32188924350996573,
          -0.9495064010735178,
          -0.1236980187298372,
          0.984595744764496,
          1.0096805551319956,
          -0.045044452402429505,
          -0.5996944687876562,
          -1.6598707450260282,
          0.6982590693953475,
          0.6628038847624309,
          -1.6797836633008574,
          1.08258578354228,
          0.3317032091015285,
          -0.5996108415625231,
          1.1787266939990753,
          -1.8858246311427032,
          0.4231740974380043,
          -0.43743434843633805,
          -1.2718057883980407,
          3.7856936387517033,
          -0.2778675274235196,
          0.37308634581461714,
          -0.7511575583029262,
          -0.4412683300216426,
          -0.5520539627737876,
          -1.2062055501876965,
          -0.7575196571867082,
          -0.5904982857173883,
          0.24853412195376048,
          -0.675739876593458,
          0.14891546824242163,
          0.5960418652525297,
          -2.037121868752909,
          -1.5681567204104996,
          -0.7249904679456038,
          -0.4891376531406688,
          -0.41806157762339813,
          -0.5998508532127527,
          -1.0328558517005673,
          0.6694597255695663,
          0.04969881038761035,
          0.3754027351884087,
          -0.09811199867557581,
          -0.6820977361199116,
          0.3209387499165821,
          0.9944285480742319,
          1.4563020824070612,
          -0.9133609870969249,
          -0.1844346272232779,
          0.4166235110059231,
          0.9665369943532935,
          0.1728104303703586,
          1.2548409050126537,
          -0.6782408136490494,
          0.6860085295644298,
          -0.22302236812107096,
          -0.9399304729507478,
          -0.6479042403168237
         ]
        }
       ],
       "layout": {
        "autosize": true,
        "legend": {
         "bgcolor": "#F5F6F9",
         "font": {
          "color": "#4D5663"
         }
        },
        "paper_bgcolor": "#F5F6F9",
        "plot_bgcolor": "#F5F6F9",
        "template": {
         "data": {
          "bar": [
           {
            "error_x": {
             "color": "#2a3f5f"
            },
            "error_y": {
             "color": "#2a3f5f"
            },
            "marker": {
             "line": {
              "color": "#E5ECF6",
              "width": 0.5
             },
             "pattern": {
              "fillmode": "overlay",
              "size": 10,
              "solidity": 0.2
             }
            },
            "type": "bar"
           }
          ],
          "barpolar": [
           {
            "marker": {
             "line": {
              "color": "#E5ECF6",
              "width": 0.5
             },
             "pattern": {
              "fillmode": "overlay",
              "size": 10,
              "solidity": 0.2
             }
            },
            "type": "barpolar"
           }
          ],
          "carpet": [
           {
            "aaxis": {
             "endlinecolor": "#2a3f5f",
             "gridcolor": "white",
             "linecolor": "white",
             "minorgridcolor": "white",
             "startlinecolor": "#2a3f5f"
            },
            "baxis": {
             "endlinecolor": "#2a3f5f",
             "gridcolor": "white",
             "linecolor": "white",
             "minorgridcolor": "white",
             "startlinecolor": "#2a3f5f"
            },
            "type": "carpet"
           }
          ],
          "choropleth": [
           {
            "colorbar": {
             "outlinewidth": 0,
             "ticks": ""
            },
            "type": "choropleth"
           }
          ],
          "contour": [
           {
            "colorbar": {
             "outlinewidth": 0,
             "ticks": ""
            },
            "colorscale": [
             [
              0,
              "#0d0887"
             ],
             [
              0.1111111111111111,
              "#46039f"
             ],
             [
              0.2222222222222222,
              "#7201a8"
             ],
             [
              0.3333333333333333,
              "#9c179e"
             ],
             [
              0.4444444444444444,
              "#bd3786"
             ],
             [
              0.5555555555555556,
              "#d8576b"
             ],
             [
              0.6666666666666666,
              "#ed7953"
             ],
             [
              0.7777777777777778,
              "#fb9f3a"
             ],
             [
              0.8888888888888888,
              "#fdca26"
             ],
             [
              1,
              "#f0f921"
             ]
            ],
            "type": "contour"
           }
          ],
          "contourcarpet": [
           {
            "colorbar": {
             "outlinewidth": 0,
             "ticks": ""
            },
            "type": "contourcarpet"
           }
          ],
          "heatmap": [
           {
            "colorbar": {
             "outlinewidth": 0,
             "ticks": ""
            },
            "colorscale": [
             [
              0,
              "#0d0887"
             ],
             [
              0.1111111111111111,
              "#46039f"
             ],
             [
              0.2222222222222222,
              "#7201a8"
             ],
             [
              0.3333333333333333,
              "#9c179e"
             ],
             [
              0.4444444444444444,
              "#bd3786"
             ],
             [
              0.5555555555555556,
              "#d8576b"
             ],
             [
              0.6666666666666666,
              "#ed7953"
             ],
             [
              0.7777777777777778,
              "#fb9f3a"
             ],
             [
              0.8888888888888888,
              "#fdca26"
             ],
             [
              1,
              "#f0f921"
             ]
            ],
            "type": "heatmap"
           }
          ],
          "heatmapgl": [
           {
            "colorbar": {
             "outlinewidth": 0,
             "ticks": ""
            },
            "colorscale": [
             [
              0,
              "#0d0887"
             ],
             [
              0.1111111111111111,
              "#46039f"
             ],
             [
              0.2222222222222222,
              "#7201a8"
             ],
             [
              0.3333333333333333,
              "#9c179e"
             ],
             [
              0.4444444444444444,
              "#bd3786"
             ],
             [
              0.5555555555555556,
              "#d8576b"
             ],
             [
              0.6666666666666666,
              "#ed7953"
             ],
             [
              0.7777777777777778,
              "#fb9f3a"
             ],
             [
              0.8888888888888888,
              "#fdca26"
             ],
             [
              1,
              "#f0f921"
             ]
            ],
            "type": "heatmapgl"
           }
          ],
          "histogram": [
           {
            "marker": {
             "pattern": {
              "fillmode": "overlay",
              "size": 10,
              "solidity": 0.2
             }
            },
            "type": "histogram"
           }
          ],
          "histogram2d": [
           {
            "colorbar": {
             "outlinewidth": 0,
             "ticks": ""
            },
            "colorscale": [
             [
              0,
              "#0d0887"
             ],
             [
              0.1111111111111111,
              "#46039f"
             ],
             [
              0.2222222222222222,
              "#7201a8"
             ],
             [
              0.3333333333333333,
              "#9c179e"
             ],
             [
              0.4444444444444444,
              "#bd3786"
             ],
             [
              0.5555555555555556,
              "#d8576b"
             ],
             [
              0.6666666666666666,
              "#ed7953"
             ],
             [
              0.7777777777777778,
              "#fb9f3a"
             ],
             [
              0.8888888888888888,
              "#fdca26"
             ],
             [
              1,
              "#f0f921"
             ]
            ],
            "type": "histogram2d"
           }
          ],
          "histogram2dcontour": [
           {
            "colorbar": {
             "outlinewidth": 0,
             "ticks": ""
            },
            "colorscale": [
             [
              0,
              "#0d0887"
             ],
             [
              0.1111111111111111,
              "#46039f"
             ],
             [
              0.2222222222222222,
              "#7201a8"
             ],
             [
              0.3333333333333333,
              "#9c179e"
             ],
             [
              0.4444444444444444,
              "#bd3786"
             ],
             [
              0.5555555555555556,
              "#d8576b"
             ],
             [
              0.6666666666666666,
              "#ed7953"
             ],
             [
              0.7777777777777778,
              "#fb9f3a"
             ],
             [
              0.8888888888888888,
              "#fdca26"
             ],
             [
              1,
              "#f0f921"
             ]
            ],
            "type": "histogram2dcontour"
           }
          ],
          "mesh3d": [
           {
            "colorbar": {
             "outlinewidth": 0,
             "ticks": ""
            },
            "type": "mesh3d"
           }
          ],
          "parcoords": [
           {
            "line": {
             "colorbar": {
              "outlinewidth": 0,
              "ticks": ""
             }
            },
            "type": "parcoords"
           }
          ],
          "pie": [
           {
            "automargin": true,
            "type": "pie"
           }
          ],
          "scatter": [
           {
            "fillpattern": {
             "fillmode": "overlay",
             "size": 10,
             "solidity": 0.2
            },
            "type": "scatter"
           }
          ],
          "scatter3d": [
           {
            "line": {
             "colorbar": {
              "outlinewidth": 0,
              "ticks": ""
             }
            },
            "marker": {
             "colorbar": {
              "outlinewidth": 0,
              "ticks": ""
             }
            },
            "type": "scatter3d"
           }
          ],
          "scattercarpet": [
           {
            "marker": {
             "colorbar": {
              "outlinewidth": 0,
              "ticks": ""
             }
            },
            "type": "scattercarpet"
           }
          ],
          "scattergeo": [
           {
            "marker": {
             "colorbar": {
              "outlinewidth": 0,
              "ticks": ""
             }
            },
            "type": "scattergeo"
           }
          ],
          "scattergl": [
           {
            "marker": {
             "colorbar": {
              "outlinewidth": 0,
              "ticks": ""
             }
            },
            "type": "scattergl"
           }
          ],
          "scattermapbox": [
           {
            "marker": {
             "colorbar": {
              "outlinewidth": 0,
              "ticks": ""
             }
            },
            "type": "scattermapbox"
           }
          ],
          "scatterpolar": [
           {
            "marker": {
             "colorbar": {
              "outlinewidth": 0,
              "ticks": ""
             }
            },
            "type": "scatterpolar"
           }
          ],
          "scatterpolargl": [
           {
            "marker": {
             "colorbar": {
              "outlinewidth": 0,
              "ticks": ""
             }
            },
            "type": "scatterpolargl"
           }
          ],
          "scatterternary": [
           {
            "marker": {
             "colorbar": {
              "outlinewidth": 0,
              "ticks": ""
             }
            },
            "type": "scatterternary"
           }
          ],
          "surface": [
           {
            "colorbar": {
             "outlinewidth": 0,
             "ticks": ""
            },
            "colorscale": [
             [
              0,
              "#0d0887"
             ],
             [
              0.1111111111111111,
              "#46039f"
             ],
             [
              0.2222222222222222,
              "#7201a8"
             ],
             [
              0.3333333333333333,
              "#9c179e"
             ],
             [
              0.4444444444444444,
              "#bd3786"
             ],
             [
              0.5555555555555556,
              "#d8576b"
             ],
             [
              0.6666666666666666,
              "#ed7953"
             ],
             [
              0.7777777777777778,
              "#fb9f3a"
             ],
             [
              0.8888888888888888,
              "#fdca26"
             ],
             [
              1,
              "#f0f921"
             ]
            ],
            "type": "surface"
           }
          ],
          "table": [
           {
            "cells": {
             "fill": {
              "color": "#EBF0F8"
             },
             "line": {
              "color": "white"
             }
            },
            "header": {
             "fill": {
              "color": "#C8D4E3"
             },
             "line": {
              "color": "white"
             }
            },
            "type": "table"
           }
          ]
         },
         "layout": {
          "annotationdefaults": {
           "arrowcolor": "#2a3f5f",
           "arrowhead": 0,
           "arrowwidth": 1
          },
          "autotypenumbers": "strict",
          "coloraxis": {
           "colorbar": {
            "outlinewidth": 0,
            "ticks": ""
           }
          },
          "colorscale": {
           "diverging": [
            [
             0,
             "#8e0152"
            ],
            [
             0.1,
             "#c51b7d"
            ],
            [
             0.2,
             "#de77ae"
            ],
            [
             0.3,
             "#f1b6da"
            ],
            [
             0.4,
             "#fde0ef"
            ],
            [
             0.5,
             "#f7f7f7"
            ],
            [
             0.6,
             "#e6f5d0"
            ],
            [
             0.7,
             "#b8e186"
            ],
            [
             0.8,
             "#7fbc41"
            ],
            [
             0.9,
             "#4d9221"
            ],
            [
             1,
             "#276419"
            ]
           ],
           "sequential": [
            [
             0,
             "#0d0887"
            ],
            [
             0.1111111111111111,
             "#46039f"
            ],
            [
             0.2222222222222222,
             "#7201a8"
            ],
            [
             0.3333333333333333,
             "#9c179e"
            ],
            [
             0.4444444444444444,
             "#bd3786"
            ],
            [
             0.5555555555555556,
             "#d8576b"
            ],
            [
             0.6666666666666666,
             "#ed7953"
            ],
            [
             0.7777777777777778,
             "#fb9f3a"
            ],
            [
             0.8888888888888888,
             "#fdca26"
            ],
            [
             1,
             "#f0f921"
            ]
           ],
           "sequentialminus": [
            [
             0,
             "#0d0887"
            ],
            [
             0.1111111111111111,
             "#46039f"
            ],
            [
             0.2222222222222222,
             "#7201a8"
            ],
            [
             0.3333333333333333,
             "#9c179e"
            ],
            [
             0.4444444444444444,
             "#bd3786"
            ],
            [
             0.5555555555555556,
             "#d8576b"
            ],
            [
             0.6666666666666666,
             "#ed7953"
            ],
            [
             0.7777777777777778,
             "#fb9f3a"
            ],
            [
             0.8888888888888888,
             "#fdca26"
            ],
            [
             1,
             "#f0f921"
            ]
           ]
          },
          "colorway": [
           "#636efa",
           "#EF553B",
           "#00cc96",
           "#ab63fa",
           "#FFA15A",
           "#19d3f3",
           "#FF6692",
           "#B6E880",
           "#FF97FF",
           "#FECB52"
          ],
          "font": {
           "color": "#2a3f5f"
          },
          "geo": {
           "bgcolor": "white",
           "lakecolor": "white",
           "landcolor": "#E5ECF6",
           "showlakes": true,
           "showland": true,
           "subunitcolor": "white"
          },
          "hoverlabel": {
           "align": "left"
          },
          "hovermode": "closest",
          "mapbox": {
           "style": "light"
          },
          "paper_bgcolor": "white",
          "plot_bgcolor": "#E5ECF6",
          "polar": {
           "angularaxis": {
            "gridcolor": "white",
            "linecolor": "white",
            "ticks": ""
           },
           "bgcolor": "#E5ECF6",
           "radialaxis": {
            "gridcolor": "white",
            "linecolor": "white",
            "ticks": ""
           }
          },
          "scene": {
           "xaxis": {
            "backgroundcolor": "#E5ECF6",
            "gridcolor": "white",
            "gridwidth": 2,
            "linecolor": "white",
            "showbackground": true,
            "ticks": "",
            "zerolinecolor": "white"
           },
           "yaxis": {
            "backgroundcolor": "#E5ECF6",
            "gridcolor": "white",
            "gridwidth": 2,
            "linecolor": "white",
            "showbackground": true,
            "ticks": "",
            "zerolinecolor": "white"
           },
           "zaxis": {
            "backgroundcolor": "#E5ECF6",
            "gridcolor": "white",
            "gridwidth": 2,
            "linecolor": "white",
            "showbackground": true,
            "ticks": "",
            "zerolinecolor": "white"
           }
          },
          "shapedefaults": {
           "line": {
            "color": "#2a3f5f"
           }
          },
          "ternary": {
           "aaxis": {
            "gridcolor": "white",
            "linecolor": "white",
            "ticks": ""
           },
           "baxis": {
            "gridcolor": "white",
            "linecolor": "white",
            "ticks": ""
           },
           "bgcolor": "#E5ECF6",
           "caxis": {
            "gridcolor": "white",
            "linecolor": "white",
            "ticks": ""
           }
          },
          "title": {
           "x": 0.05
          },
          "xaxis": {
           "automargin": true,
           "gridcolor": "white",
           "linecolor": "white",
           "ticks": "",
           "title": {
            "standoff": 15
           },
           "zerolinecolor": "white",
           "zerolinewidth": 2
          },
          "yaxis": {
           "automargin": true,
           "gridcolor": "white",
           "linecolor": "white",
           "ticks": "",
           "title": {
            "standoff": 15
           },
           "zerolinecolor": "white",
           "zerolinewidth": 2
          }
         }
        },
        "title": {
         "font": {
          "color": "#4D5663"
         }
        },
        "xaxis": {
         "autorange": true,
         "gridcolor": "#E1E5ED",
         "range": [
          -3.2867035678759136,
          3.48435724418913
         ],
         "showgrid": true,
         "tickfont": {
          "color": "#4D5663"
         },
         "title": {
          "font": {
           "color": "#4D5663"
          },
          "text": ""
         },
         "type": "linear",
         "zerolinecolor": "#E1E5ED"
        },
        "yaxis": {
         "autorange": true,
         "gridcolor": "#E1E5ED",
         "range": [
          -9.723563581845859,
          9.904253472470693
         ],
         "showgrid": true,
         "tickfont": {
          "color": "#4D5663"
         },
         "title": {
          "font": {
           "color": "#4D5663"
          },
          "text": ""
         },
         "type": "linear",
         "zerolinecolor": "#E1E5ED"
        }
       }
      },
      "image/png": "[encoded data removed]",
      "text/html": [
       "<div>                            <div id=\"172c0f05-bd5a-4f52-8c5e-b920674aba55\" class=\"plotly-graph-div\" style=\"height:525px; width:100%;\"></div>            <script type=\"text/javascript\">                require([\"plotly\"], function(Plotly) {                    window.PLOTLYENV=window.PLOTLYENV || {};\n",
       "                    window.PLOTLYENV.BASE_URL='https://plot.ly';                                    if (document.getElementById(\"172c0f05-bd5a-4f52-8c5e-b920674aba55\")) {                    Plotly.newPlot(                        \"172c0f05-bd5a-4f52-8c5e-b920674aba55\",                        [{\"marker\":{\"color\":[\"rgb(255, 153, 51)\",\"rgb(55, 128, 191)\",\"rgb(50, 171, 96)\",\"rgb(128, 0, 128)\",\"rgb(219, 64, 82)\",\"rgb(0, 128, 128)\",\"rgb(255, 255, 51)\",\"rgb(128, 128, 0)\",\"rgb(251, 128, 114)\",\"rgb(128, 177, 211)\"],\"line\":{\"width\":1.3},\"size\":[53,42,81,41,51,39,88,94,48,75,55,47,81,17,73,81,59,82,76,29,91,65,65,61,73,39,53,110,32,99,94,57,73,109,59,78,67,12,98,83,94,97,39,36,59,30,64,103,44,73,33,103,79,78,103,85,76,83,46,77,51,17,40,112,95,63,74,74,76,85,65,30,81,45,93,38,73,67,65,56,63,53,45,78,78,79,60,68,85,88,56,73,99,60,104,48,55,73,51,87],\"symbol\":\"circle\"},\"mode\":\"markers\",\"text\":\"\",\"x\":[0.018612650461357173,0.9960448857866494,0.5348989996252956,0.2744644691707193,-1.5365837996629519,0.6925164494907833,1.6355335882891844,-0.4847552691952551,0.30614385275660383,0.6124200551769818,1.1083663399431376,1.0180355605534988,1.257435789537904,-0.971833663638946,-0.6058590356787764,0.22023782953865775,2.120845276514453,-0.39456862325103875,0.6062219318447225,-1.7401149822576623,0.9742836776250653,-0.4031138669609755,1.396780034995444,0.7589153724023462,0.3613077716338431,-1.1240045019293001,-0.348857032578735,-0.6516516862967474,2.196241159251179,0.32989001608345575,-0.867630944602537,0.3632992521805315,-0.06810963771889461,-1.4541900245405381,1.3454753011398228,-1.9530849822802803,-0.8912013360228284,0.470947892105552,-0.15985505994419505,0.2198163702457327,-0.23010375469522198,0.5707062620139806,1.0719425958771212,0.7066538833117731,-0.3630221878876869,0.3922575727286456,-0.3612705276291241,-0.29550629725886385,0.5225653600745495,-0.27305291477145976,-1.3368444755064772,-0.7312444638403542,1.2372752954036261,0.43425609169846763,0.1378203123065723,-2.5650700100831454,1.5713680268021728,0.17299087523119103,0.8253910603445144,-0.1943973629179473,1.2022341699975243,-1.024967266248822,1.434392749628085,-0.2644970147935291,0.9120358181465171,-0.3574958316214275,-1.179661643313809,-1.2377308248032741,1.1327664908798656,0.8516976018670983,-0.011298938254510052,-1.2175903618027375,0.3257227008931923,0.9257341855583504,0.14031310714798895,-0.4195496491587592,1.2758452304798396,1.815682574463287,0.873722200060419,0.8332601650259654,-0.8665169598166514,-0.391384661683601,0.3137052464154313,0.9720372843795664,2.794271493694322,-1.8462934934409374,0.2964577706006214,0.5747909516562963,0.3515544444419624,0.6560688317045775,-1.825358297613211,0.17689201309241853,-0.7893616265432474,-0.7090282511585885,-0.06412212886610219,-1.6274770848951148,0.2871954929436289,-0.48615868570872567,0.3068728465283206,-0.46892326583647614],\"y\":[-0.14515941434662252,0.6806873926308932,-0.4635907081842978,-0.9133813580992908,0.33961520411379165,1.5359756763886903,0.5608200555640893,0.7385576598977033,0.3584101017217968,1.9681524054333133,0.9122347227604708,-1.208747759097325,1.0391099033587277,-0.04081664467136474,0.6920299931313932,0.17855709424490082,-0.5471926984690776,1.7684838359114352,-0.778441418564234,-0.5178855908859966,0.9554421418744045,1.981324589895577,-1.17791668305019,0.3635416602419813,1.4729249970268203,0.7169383023416109,-1.2414094580752362,-1.2454370486619037,-1.7753439436106342,-0.6803313710281736,-0.5941007653584087,1.29730024703594,-0.7575686405643377,1.4942790818364484,-0.6654988353214182,0.9003465610236291,0.1716342723004468,0.7738326789387621,-0.08714118904590173,-0.7714694142266564,0.5716227010443915,-0.8023726811909293,-0.32188924350996573,-0.9495064010735178,-0.1236980187298372,0.984595744764496,1.0096805551319956,-0.045044452402429505,-0.5996944687876562,-1.6598707450260282,0.6982590693953475,0.6628038847624309,-1.6797836633008574,1.08258578354228,0.3317032091015285,-0.5996108415625231,1.1787266939990753,-1.8858246311427032,0.4231740974380043,-0.43743434843633805,-1.2718057883980407,3.7856936387517033,-0.2778675274235196,0.37308634581461714,-0.7511575583029262,-0.4412683300216426,-0.5520539627737876,-1.2062055501876965,-0.7575196571867082,-0.5904982857173883,0.24853412195376048,-0.675739876593458,0.14891546824242163,0.5960418652525297,-2.037121868752909,-1.5681567204104996,-0.7249904679456038,-0.4891376531406688,-0.41806157762339813,-0.5998508532127527,-1.0328558517005673,0.6694597255695663,0.04969881038761035,0.3754027351884087,-0.09811199867557581,-0.6820977361199116,0.3209387499165821,0.9944285480742319,1.4563020824070612,-0.9133609870969249,-0.1844346272232779,0.4166235110059231,0.9665369943532935,0.1728104303703586,1.2548409050126537,-0.6782408136490494,0.6860085295644298,-0.22302236812107096,-0.9399304729507478,-0.6479042403168237],\"type\":\"scatter\"}],                        {\"legend\":{\"bgcolor\":\"#F5F6F9\",\"font\":{\"color\":\"#4D5663\"}},\"paper_bgcolor\":\"#F5F6F9\",\"plot_bgcolor\":\"#F5F6F9\",\"template\":{\"data\":{\"barpolar\":[{\"marker\":{\"line\":{\"color\":\"#E5ECF6\",\"width\":0.5},\"pattern\":{\"fillmode\":\"overlay\",\"size\":10,\"solidity\":0.2}},\"type\":\"barpolar\"}],\"bar\":[{\"error_x\":{\"color\":\"#2a3f5f\"},\"error_y\":{\"color\":\"#2a3f5f\"},\"marker\":{\"line\":{\"color\":\"#E5ECF6\",\"width\":0.5},\"pattern\":{\"fillmode\":\"overlay\",\"size\":10,\"solidity\":0.2}},\"type\":\"bar\"}],\"carpet\":[{\"aaxis\":{\"endlinecolor\":\"#2a3f5f\",\"gridcolor\":\"white\",\"linecolor\":\"white\",\"minorgridcolor\":\"white\",\"startlinecolor\":\"#2a3f5f\"},\"baxis\":{\"endlinecolor\":\"#2a3f5f\",\"gridcolor\":\"white\",\"linecolor\":\"white\",\"minorgridcolor\":\"white\",\"startlinecolor\":\"#2a3f5f\"},\"type\":\"carpet\"}],\"choropleth\":[{\"colorbar\":{\"outlinewidth\":0,\"ticks\":\"\"},\"type\":\"choropleth\"}],\"contourcarpet\":[{\"colorbar\":{\"outlinewidth\":0,\"ticks\":\"\"},\"type\":\"contourcarpet\"}],\"contour\":[{\"colorbar\":{\"outlinewidth\":0,\"ticks\":\"\"},\"colorscale\":[[0.0,\"#0d0887\"],[0.1111111111111111,\"#46039f\"],[0.2222222222222222,\"#7201a8\"],[0.3333333333333333,\"#9c179e\"],[0.4444444444444444,\"#bd3786\"],[0.5555555555555556,\"#d8576b\"],[0.6666666666666666,\"#ed7953\"],[0.7777777777777778,\"#fb9f3a\"],[0.8888888888888888,\"#fdca26\"],[1.0,\"#f0f921\"]],\"type\":\"contour\"}],\"heatmapgl\":[{\"colorbar\":{\"outlinewidth\":0,\"ticks\":\"\"},\"colorscale\":[[0.0,\"#0d0887\"],[0.1111111111111111,\"#46039f\"],[0.2222222222222222,\"#7201a8\"],[0.3333333333333333,\"#9c179e\"],[0.4444444444444444,\"#bd3786\"],[0.5555555555555556,\"#d8576b\"],[0.6666666666666666,\"#ed7953\"],[0.7777777777777778,\"#fb9f3a\"],[0.8888888888888888,\"#fdca26\"],[1.0,\"#f0f921\"]],\"type\":\"heatmapgl\"}],\"heatmap\":[{\"colorbar\":{\"outlinewidth\":0,\"ticks\":\"\"},\"colorscale\":[[0.0,\"#0d0887\"],[0.1111111111111111,\"#46039f\"],[0.2222222222222222,\"#7201a8\"],[0.3333333333333333,\"#9c179e\"],[0.4444444444444444,\"#bd3786\"],[0.5555555555555556,\"#d8576b\"],[0.6666666666666666,\"#ed7953\"],[0.7777777777777778,\"#fb9f3a\"],[0.8888888888888888,\"#fdca26\"],[1.0,\"#f0f921\"]],\"type\":\"heatmap\"}],\"histogram2dcontour\":[{\"colorbar\":{\"outlinewidth\":0,\"ticks\":\"\"},\"colorscale\":[[0.0,\"#0d0887\"],[0.1111111111111111,\"#46039f\"],[0.2222222222222222,\"#7201a8\"],[0.3333333333333333,\"#9c179e\"],[0.4444444444444444,\"#bd3786\"],[0.5555555555555556,\"#d8576b\"],[0.6666666666666666,\"#ed7953\"],[0.7777777777777778,\"#fb9f3a\"],[0.8888888888888888,\"#fdca26\"],[1.0,\"#f0f921\"]],\"type\":\"histogram2dcontour\"}],\"histogram2d\":[{\"colorbar\":{\"outlinewidth\":0,\"ticks\":\"\"},\"colorscale\":[[0.0,\"#0d0887\"],[0.1111111111111111,\"#46039f\"],[0.2222222222222222,\"#7201a8\"],[0.3333333333333333,\"#9c179e\"],[0.4444444444444444,\"#bd3786\"],[0.5555555555555556,\"#d8576b\"],[0.6666666666666666,\"#ed7953\"],[0.7777777777777778,\"#fb9f3a\"],[0.8888888888888888,\"#fdca26\"],[1.0,\"#f0f921\"]],\"type\":\"histogram2d\"}],\"histogram\":[{\"marker\":{\"pattern\":{\"fillmode\":\"overlay\",\"size\":10,\"solidity\":0.2}},\"type\":\"histogram\"}],\"mesh3d\":[{\"colorbar\":{\"outlinewidth\":0,\"ticks\":\"\"},\"type\":\"mesh3d\"}],\"parcoords\":[{\"line\":{\"colorbar\":{\"outlinewidth\":0,\"ticks\":\"\"}},\"type\":\"parcoords\"}],\"pie\":[{\"automargin\":true,\"type\":\"pie\"}],\"scatter3d\":[{\"line\":{\"colorbar\":{\"outlinewidth\":0,\"ticks\":\"\"}},\"marker\":{\"colorbar\":{\"outlinewidth\":0,\"ticks\":\"\"}},\"type\":\"scatter3d\"}],\"scattercarpet\":[{\"marker\":{\"colorbar\":{\"outlinewidth\":0,\"ticks\":\"\"}},\"type\":\"scattercarpet\"}],\"scattergeo\":[{\"marker\":{\"colorbar\":{\"outlinewidth\":0,\"ticks\":\"\"}},\"type\":\"scattergeo\"}],\"scattergl\":[{\"marker\":{\"colorbar\":{\"outlinewidth\":0,\"ticks\":\"\"}},\"type\":\"scattergl\"}],\"scattermapbox\":[{\"marker\":{\"colorbar\":{\"outlinewidth\":0,\"ticks\":\"\"}},\"type\":\"scattermapbox\"}],\"scatterpolargl\":[{\"marker\":{\"colorbar\":{\"outlinewidth\":0,\"ticks\":\"\"}},\"type\":\"scatterpolargl\"}],\"scatterpolar\":[{\"marker\":{\"colorbar\":{\"outlinewidth\":0,\"ticks\":\"\"}},\"type\":\"scatterpolar\"}],\"scatter\":[{\"fillpattern\":{\"fillmode\":\"overlay\",\"size\":10,\"solidity\":0.2},\"type\":\"scatter\"}],\"scatterternary\":[{\"marker\":{\"colorbar\":{\"outlinewidth\":0,\"ticks\":\"\"}},\"type\":\"scatterternary\"}],\"surface\":[{\"colorbar\":{\"outlinewidth\":0,\"ticks\":\"\"},\"colorscale\":[[0.0,\"#0d0887\"],[0.1111111111111111,\"#46039f\"],[0.2222222222222222,\"#7201a8\"],[0.3333333333333333,\"#9c179e\"],[0.4444444444444444,\"#bd3786\"],[0.5555555555555556,\"#d8576b\"],[0.6666666666666666,\"#ed7953\"],[0.7777777777777778,\"#fb9f3a\"],[0.8888888888888888,\"#fdca26\"],[1.0,\"#f0f921\"]],\"type\":\"surface\"}],\"table\":[{\"cells\":{\"fill\":{\"color\":\"#EBF0F8\"},\"line\":{\"color\":\"white\"}},\"header\":{\"fill\":{\"color\":\"#C8D4E3\"},\"line\":{\"color\":\"white\"}},\"type\":\"table\"}]},\"layout\":{\"annotationdefaults\":{\"arrowcolor\":\"#2a3f5f\",\"arrowhead\":0,\"arrowwidth\":1},\"autotypenumbers\":\"strict\",\"coloraxis\":{\"colorbar\":{\"outlinewidth\":0,\"ticks\":\"\"}},\"colorscale\":{\"diverging\":[[0,\"#8e0152\"],[0.1,\"#c51b7d\"],[0.2,\"#de77ae\"],[0.3,\"#f1b6da\"],[0.4,\"#fde0ef\"],[0.5,\"#f7f7f7\"],[0.6,\"#e6f5d0\"],[0.7,\"#b8e186\"],[0.8,\"#7fbc41\"],[0.9,\"#4d9221\"],[1,\"#276419\"]],\"sequential\":[[0.0,\"#0d0887\"],[0.1111111111111111,\"#46039f\"],[0.2222222222222222,\"#7201a8\"],[0.3333333333333333,\"#9c179e\"],[0.4444444444444444,\"#bd3786\"],[0.5555555555555556,\"#d8576b\"],[0.6666666666666666,\"#ed7953\"],[0.7777777777777778,\"#fb9f3a\"],[0.8888888888888888,\"#fdca26\"],[1.0,\"#f0f921\"]],\"sequentialminus\":[[0.0,\"#0d0887\"],[0.1111111111111111,\"#46039f\"],[0.2222222222222222,\"#7201a8\"],[0.3333333333333333,\"#9c179e\"],[0.4444444444444444,\"#bd3786\"],[0.5555555555555556,\"#d8576b\"],[0.6666666666666666,\"#ed7953\"],[0.7777777777777778,\"#fb9f3a\"],[0.8888888888888888,\"#fdca26\"],[1.0,\"#f0f921\"]]},\"colorway\":[\"#636efa\",\"#EF553B\",\"#00cc96\",\"#ab63fa\",\"#FFA15A\",\"#19d3f3\",\"#FF6692\",\"#B6E880\",\"#FF97FF\",\"#FECB52\"],\"font\":{\"color\":\"#2a3f5f\"},\"geo\":{\"bgcolor\":\"white\",\"lakecolor\":\"white\",\"landcolor\":\"#E5ECF6\",\"showlakes\":true,\"showland\":true,\"subunitcolor\":\"white\"},\"hoverlabel\":{\"align\":\"left\"},\"hovermode\":\"closest\",\"mapbox\":{\"style\":\"light\"},\"paper_bgcolor\":\"white\",\"plot_bgcolor\":\"#E5ECF6\",\"polar\":{\"angularaxis\":{\"gridcolor\":\"white\",\"linecolor\":\"white\",\"ticks\":\"\"},\"bgcolor\":\"#E5ECF6\",\"radialaxis\":{\"gridcolor\":\"white\",\"linecolor\":\"white\",\"ticks\":\"\"}},\"scene\":{\"xaxis\":{\"backgroundcolor\":\"#E5ECF6\",\"gridcolor\":\"white\",\"gridwidth\":2,\"linecolor\":\"white\",\"showbackground\":true,\"ticks\":\"\",\"zerolinecolor\":\"white\"},\"yaxis\":{\"backgroundcolor\":\"#E5ECF6\",\"gridcolor\":\"white\",\"gridwidth\":2,\"linecolor\":\"white\",\"showbackground\":true,\"ticks\":\"\",\"zerolinecolor\":\"white\"},\"zaxis\":{\"backgroundcolor\":\"#E5ECF6\",\"gridcolor\":\"white\",\"gridwidth\":2,\"linecolor\":\"white\",\"showbackground\":true,\"ticks\":\"\",\"zerolinecolor\":\"white\"}},\"shapedefaults\":{\"line\":{\"color\":\"#2a3f5f\"}},\"ternary\":{\"aaxis\":{\"gridcolor\":\"white\",\"linecolor\":\"white\",\"ticks\":\"\"},\"baxis\":{\"gridcolor\":\"white\",\"linecolor\":\"white\",\"ticks\":\"\"},\"bgcolor\":\"#E5ECF6\",\"caxis\":{\"gridcolor\":\"white\",\"linecolor\":\"white\",\"ticks\":\"\"}},\"title\":{\"x\":0.05},\"xaxis\":{\"automargin\":true,\"gridcolor\":\"white\",\"linecolor\":\"white\",\"ticks\":\"\",\"title\":{\"standoff\":15},\"zerolinecolor\":\"white\",\"zerolinewidth\":2},\"yaxis\":{\"automargin\":true,\"gridcolor\":\"white\",\"linecolor\":\"white\",\"ticks\":\"\",\"title\":{\"standoff\":15},\"zerolinecolor\":\"white\",\"zerolinewidth\":2}}},\"title\":{\"font\":{\"color\":\"#4D5663\"}},\"xaxis\":{\"gridcolor\":\"#E1E5ED\",\"showgrid\":true,\"tickfont\":{\"color\":\"#4D5663\"},\"title\":{\"font\":{\"color\":\"#4D5663\"},\"text\":\"\"},\"zerolinecolor\":\"#E1E5ED\"},\"yaxis\":{\"gridcolor\":\"#E1E5ED\",\"showgrid\":true,\"tickfont\":{\"color\":\"#4D5663\"},\"title\":{\"font\":{\"color\":\"#4D5663\"},\"text\":\"\"},\"zerolinecolor\":\"#E1E5ED\"}},                        {\"showLink\": true, \"linkText\": \"Export to plot.ly\", \"plotlyServerURL\": \"https://plot.ly\", \"responsive\": true}                    ).then(function(){\n",
       "                            \n",
       "var gd = document.getElementById('172c0f05-bd5a-4f52-8c5e-b920674aba55');\n",
       "var x = new MutationObserver(function (mutations, observer) {{\n",
       "        var display = window.getComputedStyle(gd).display;\n",
       "        if (!display || display === 'none') {{\n",
       "            console.log([gd, 'removed!']);\n",
       "            Plotly.purge(gd);\n",
       "            observer.disconnect();\n",
       "        }}\n",
       "}});\n",
       "\n",
       "// Listen for the removal of the full notebook cells\n",
       "var notebookContainer = gd.closest('#notebook-container');\n",
       "if (notebookContainer) {{\n",
       "    x.observe(notebookContainer, {childList: true});\n",
       "}}\n",
       "\n",
       "// Listen for the clearing of the current output cell\n",
       "var outputEl = gd.closest('.output');\n",
       "if (outputEl) {{\n",
       "    x.observe(outputEl, {childList: true});\n",
       "}}\n",
       "\n",
       "                        })                };                });            </script>        </div>"
      ]
     },
     "metadata": {},
     "output_type": "display_data"
    }
   ],
   "source": [
    "df.iplot(kind='bubble',x='A',y='B',size='C')"
   ]
  },
  {
   "cell_type": "markdown",
   "metadata": {},
   "source": [
    "## scatter_matrix()\n",
    "\n",
    "Similar to sns.pairplot()"
   ]
  },
  {
   "cell_type": "code",
   "execution_count": 18,
   "metadata": {
    "collapsed": false,
    "jupyter": {
     "outputs_hidden": false
    }
   },
   "outputs": [
    {
     "data": {
      "application/vnd.plotly.v1+json": {
       "config": {
        "linkText": "Export to plot.ly",
        "plotlyServerURL": "https://plot.ly",
        "showLink": true
       },
       "data": [
        {
         "histfunc": "count",
         "histnorm": "",
         "marker": {
          "color": "rgba(255, 153, 51, 1.0)",
          "line": {
           "color": "#4D5663",
           "width": 1.3
          }
         },
         "name": "A",
         "nbinsx": 10,
         "opacity": 0.8,
         "orientation": "v",
         "type": "histogram",
         "x": [
          0.018612650461357173,
          0.9960448857866494,
          0.5348989996252956,
          0.2744644691707193,
          -1.5365837996629519,
          0.6925164494907833,
          1.6355335882891844,
          -0.4847552691952551,
          0.30614385275660383,
          0.6124200551769818,
          1.1083663399431376,
          1.0180355605534988,
          1.257435789537904,
          -0.971833663638946,
          -0.6058590356787764,
          0.22023782953865775,
          2.120845276514453,
          -0.39456862325103875,
          0.6062219318447225,
          -1.7401149822576623,
          0.9742836776250653,
          -0.4031138669609755,
          1.396780034995444,
          0.7589153724023462,
          0.3613077716338431,
          -1.1240045019293001,
          -0.348857032578735,
          -0.6516516862967474,
          2.196241159251179,
          0.32989001608345575,
          -0.867630944602537,
          0.3632992521805315,
          -0.06810963771889461,
          -1.4541900245405381,
          1.3454753011398228,
          -1.9530849822802803,
          -0.8912013360228284,
          0.470947892105552,
          -0.15985505994419505,
          0.2198163702457327,
          -0.23010375469522198,
          0.5707062620139806,
          1.0719425958771212,
          0.7066538833117731,
          -0.3630221878876869,
          0.3922575727286456,
          -0.3612705276291241,
          -0.29550629725886385,
          0.5225653600745495,
          -0.27305291477145976,
          -1.3368444755064772,
          -0.7312444638403542,
          1.2372752954036261,
          0.43425609169846763,
          0.1378203123065723,
          -2.5650700100831454,
          1.5713680268021728,
          0.17299087523119103,
          0.8253910603445144,
          -0.1943973629179473,
          1.2022341699975243,
          -1.024967266248822,
          1.434392749628085,
          -0.2644970147935291,
          0.9120358181465171,
          -0.3574958316214275,
          -1.179661643313809,
          -1.2377308248032741,
          1.1327664908798656,
          0.8516976018670983,
          -0.011298938254510052,
          -1.2175903618027375,
          0.3257227008931923,
          0.9257341855583504,
          0.14031310714798895,
          -0.4195496491587592,
          1.2758452304798396,
          1.815682574463287,
          0.873722200060419,
          0.8332601650259654,
          -0.8665169598166514,
          -0.391384661683601,
          0.3137052464154313,
          0.9720372843795664,
          2.794271493694322,
          -1.8462934934409374,
          0.2964577706006214,
          0.5747909516562963,
          0.3515544444419624,
          0.6560688317045775,
          -1.825358297613211,
          0.17689201309241853,
          -0.7893616265432474,
          -0.7090282511585885,
          -0.06412212886610219,
          -1.6274770848951148,
          0.2871954929436289,
          -0.48615868570872567,
          0.3068728465283206,
          -0.46892326583647614
         ],
         "xaxis": "x",
         "yaxis": "y"
        },
        {
         "line": {
          "color": "rgba(128, 128, 128, 1.0)",
          "dash": "solid",
          "shape": "linear",
          "width": 1.3
         },
         "marker": {
          "size": 2,
          "symbol": "circle"
         },
         "mode": "markers",
         "name": "A",
         "text": "",
         "type": "scatter",
         "x": [
          -0.14515941434662252,
          0.6806873926308932,
          -0.4635907081842978,
          -0.9133813580992908,
          0.33961520411379165,
          1.5359756763886903,
          0.5608200555640893,
          0.7385576598977033,
          0.3584101017217968,
          1.9681524054333133,
          0.9122347227604708,
          -1.208747759097325,
          1.0391099033587277,
          -0.04081664467136474,
          0.6920299931313932,
          0.17855709424490082,
          -0.5471926984690776,
          1.7684838359114352,
          -0.778441418564234,
          -0.5178855908859966,
          0.9554421418744045,
          1.981324589895577,
          -1.17791668305019,
          0.3635416602419813,
          1.4729249970268203,
          0.7169383023416109,
          -1.2414094580752362,
          -1.2454370486619037,
          -1.7753439436106342,
          -0.6803313710281736,
          -0.5941007653584087,
          1.29730024703594,
          -0.7575686405643377,
          1.4942790818364484,
          -0.6654988353214182,
          0.9003465610236291,
          0.1716342723004468,
          0.7738326789387621,
          -0.08714118904590173,
          -0.7714694142266564,
          0.5716227010443915,
          -0.8023726811909293,
          -0.32188924350996573,
          -0.9495064010735178,
          -0.1236980187298372,
          0.984595744764496,
          1.0096805551319956,
          -0.045044452402429505,
          -0.5996944687876562,
          -1.6598707450260282,
          0.6982590693953475,
          0.6628038847624309,
          -1.6797836633008574,
          1.08258578354228,
          0.3317032091015285,
          -0.5996108415625231,
          1.1787266939990753,
          -1.8858246311427032,
          0.4231740974380043,
          -0.43743434843633805,
          -1.2718057883980407,
          3.7856936387517033,
          -0.2778675274235196,
          0.37308634581461714,
          -0.7511575583029262,
          -0.4412683300216426,
          -0.5520539627737876,
          -1.2062055501876965,
          -0.7575196571867082,
          -0.5904982857173883,
          0.24853412195376048,
          -0.675739876593458,
          0.14891546824242163,
          0.5960418652525297,
          -2.037121868752909,
          -1.5681567204104996,
          -0.7249904679456038,
          -0.4891376531406688,
          -0.41806157762339813,
          -0.5998508532127527,
          -1.0328558517005673,
          0.6694597255695663,
          0.04969881038761035,
          0.3754027351884087,
          -0.09811199867557581,
          -0.6820977361199116,
          0.3209387499165821,
          0.9944285480742319,
          1.4563020824070612,
          -0.9133609870969249,
          -0.1844346272232779,
          0.4166235110059231,
          0.9665369943532935,
          0.1728104303703586,
          1.2548409050126537,
          -0.6782408136490494,
          0.6860085295644298,
          -0.22302236812107096,
          -0.9399304729507478,
          -0.6479042403168237
         ],
         "xaxis": "x2",
         "y": [
          0.018612650461357173,
          0.9960448857866494,
          0.5348989996252956,
          0.2744644691707193,
          -1.5365837996629519,
          0.6925164494907833,
          1.6355335882891844,
          -0.4847552691952551,
          0.30614385275660383,
          0.6124200551769818,
          1.1083663399431376,
          1.0180355605534988,
          1.257435789537904,
          -0.971833663638946,
          -0.6058590356787764,
          0.22023782953865775,
          2.120845276514453,
          -0.39456862325103875,
          0.6062219318447225,
          -1.7401149822576623,
          0.9742836776250653,
          -0.4031138669609755,
          1.396780034995444,
          0.7589153724023462,
          0.3613077716338431,
          -1.1240045019293001,
          -0.348857032578735,
          -0.6516516862967474,
          2.196241159251179,
          0.32989001608345575,
          -0.867630944602537,
          0.3632992521805315,
          -0.06810963771889461,
          -1.4541900245405381,
          1.3454753011398228,
          -1.9530849822802803,
          -0.8912013360228284,
          0.470947892105552,
          -0.15985505994419505,
          0.2198163702457327,
          -0.23010375469522198,
          0.5707062620139806,
          1.0719425958771212,
          0.7066538833117731,
          -0.3630221878876869,
          0.3922575727286456,
          -0.3612705276291241,
          -0.29550629725886385,
          0.5225653600745495,
          -0.27305291477145976,
          -1.3368444755064772,
          -0.7312444638403542,
          1.2372752954036261,
          0.43425609169846763,
          0.1378203123065723,
          -2.5650700100831454,
          1.5713680268021728,
          0.17299087523119103,
          0.8253910603445144,
          -0.1943973629179473,
          1.2022341699975243,
          -1.024967266248822,
          1.434392749628085,
          -0.2644970147935291,
          0.9120358181465171,
          -0.3574958316214275,
          -1.179661643313809,
          -1.2377308248032741,
          1.1327664908798656,
          0.8516976018670983,
          -0.011298938254510052,
          -1.2175903618027375,
          0.3257227008931923,
          0.9257341855583504,
          0.14031310714798895,
          -0.4195496491587592,
          1.2758452304798396,
          1.815682574463287,
          0.873722200060419,
          0.8332601650259654,
          -0.8665169598166514,
          -0.391384661683601,
          0.3137052464154313,
          0.9720372843795664,
          2.794271493694322,
          -1.8462934934409374,
          0.2964577706006214,
          0.5747909516562963,
          0.3515544444419624,
          0.6560688317045775,
          -1.825358297613211,
          0.17689201309241853,
          -0.7893616265432474,
          -0.7090282511585885,
          -0.06412212886610219,
          -1.6274770848951148,
          0.2871954929436289,
          -0.48615868570872567,
          0.3068728465283206,
          -0.46892326583647614
         ],
         "yaxis": "y2"
        },
        {
         "line": {
          "color": "rgba(128, 128, 128, 1.0)",
          "dash": "solid",
          "shape": "linear",
          "width": 1.3
         },
         "marker": {
          "size": 2,
          "symbol": "circle"
         },
         "mode": "markers",
         "name": "A",
         "text": "",
         "type": "scatter",
         "x": [
          -0.6631112137659735,
          -1.1423995334059467,
          0.5928751686945043,
          -1.1943316790433962,
          -0.7603827608348788,
          -1.297993782865933,
          0.9113825311823592,
          1.1762898155632082,
          -0.8942259524553294,
          0.3286718173304842,
          -0.5820546922659687,
          -0.9562209296191151,
          0.6157450258242222,
          -2.314765274166029,
          0.2337438522094003,
          0.5847192719125819,
          -0.40435925959311164,
          0.6296203798161512,
          0.37492020182302077,
          -1.7549033689682147,
          1.0403284170788798,
          -0.12508973689624178,
          -0.10347897984686757,
          -0.2906985014671275,
          0.22865057339429926,
          -1.306004479976751,
          -0.6527440085715561,
          1.8959637593422904,
          -1.6097628661704821,
          1.4065334795977154,
          1.2054517514144698,
          -0.4906707483797095,
          0.2223097976167643,
          1.8587610953926799,
          -0.39806462588795033,
          0.4491303797167707,
          -0.048811214581093006,
          -2.545774054410595,
          1.3685527042477281,
          0.679504792511501,
          1.19333168374123,
          1.3465029950881853,
          -1.301380383951909,
          -1.438760121760832,
          -0.4163266334621699,
          -1.6953036082267967,
          -0.17228230303715106,
          1.5827863640472826,
          -1.0812362354577663,
          0.2417167061520083,
          -1.5718938572145051,
          1.604663699145939,
          0.5273075301822094,
          0.4869251072421638,
          1.6003994114805054,
          0.771756114328106,
          0.35300628352328856,
          0.702670236247351,
          -0.9926897887558903,
          0.4248194163768752,
          -0.7737891564680249,
          -2.305809903822905,
          -1.2651656383714034,
          1.9835028631100977,
          1.2479941431297734,
          -0.1917395348875637,
          0.2750411674500079,
          0.2935713284342274,
          0.36131144606884585,
          0.7886739126485992,
          -0.12469467846471595,
          -1.6939637097953788,
          0.622918339309211,
          -1.048959254521311,
          1.1550563903320934,
          -1.32374739631727,
          0.22468511670440153,
          -0.011841782877135732,
          -0.10552746937631269,
          -0.5098692108134364,
          -0.23274102415992018,
          -0.6511251657587834,
          -1.042110331853821,
          0.4831655257270956,
          0.45639257228494157,
          0.49090299196787446,
          -0.3461598306876503,
          0.026950653027867182,
          0.7690796454969269,
          0.9187729421320473,
          -0.5090184216288456,
          0.23761712573069083,
          1.4153047180981166,
          -0.351279531158534,
          1.655547940135908,
          -0.8874936298517963,
          -0.5738575262962571,
          0.23888294647194033,
          -0.7581496631534301,
          0.851744743665249
         ],
         "xaxis": "x3",
         "y": [
          0.018612650461357173,
          0.9960448857866494,
          0.5348989996252956,
          0.2744644691707193,
          -1.5365837996629519,
          0.6925164494907833,
          1.6355335882891844,
          -0.4847552691952551,
          0.30614385275660383,
          0.6124200551769818,
          1.1083663399431376,
          1.0180355605534988,
          1.257435789537904,
          -0.971833663638946,
          -0.6058590356787764,
          0.22023782953865775,
          2.120845276514453,
          -0.39456862325103875,
          0.6062219318447225,
          -1.7401149822576623,
          0.9742836776250653,
          -0.4031138669609755,
          1.396780034995444,
          0.7589153724023462,
          0.3613077716338431,
          -1.1240045019293001,
          -0.348857032578735,
          -0.6516516862967474,
          2.196241159251179,
          0.32989001608345575,
          -0.867630944602537,
          0.3632992521805315,
          -0.06810963771889461,
          -1.4541900245405381,
          1.3454753011398228,
          -1.9530849822802803,
          -0.8912013360228284,
          0.470947892105552,
          -0.15985505994419505,
          0.2198163702457327,
          -0.23010375469522198,
          0.5707062620139806,
          1.0719425958771212,
          0.7066538833117731,
          -0.3630221878876869,
          0.3922575727286456,
          -0.3612705276291241,
          -0.29550629725886385,
          0.5225653600745495,
          -0.27305291477145976,
          -1.3368444755064772,
          -0.7312444638403542,
          1.2372752954036261,
          0.43425609169846763,
          0.1378203123065723,
          -2.5650700100831454,
          1.5713680268021728,
          0.17299087523119103,
          0.8253910603445144,
          -0.1943973629179473,
          1.2022341699975243,
          -1.024967266248822,
          1.434392749628085,
          -0.2644970147935291,
          0.9120358181465171,
          -0.3574958316214275,
          -1.179661643313809,
          -1.2377308248032741,
          1.1327664908798656,
          0.8516976018670983,
          -0.011298938254510052,
          -1.2175903618027375,
          0.3257227008931923,
          0.9257341855583504,
          0.14031310714798895,
          -0.4195496491587592,
          1.2758452304798396,
          1.815682574463287,
          0.873722200060419,
          0.8332601650259654,
          -0.8665169598166514,
          -0.391384661683601,
          0.3137052464154313,
          0.9720372843795664,
          2.794271493694322,
          -1.8462934934409374,
          0.2964577706006214,
          0.5747909516562963,
          0.3515544444419624,
          0.6560688317045775,
          -1.825358297613211,
          0.17689201309241853,
          -0.7893616265432474,
          -0.7090282511585885,
          -0.06412212886610219,
          -1.6274770848951148,
          0.2871954929436289,
          -0.48615868570872567,
          0.3068728465283206,
          -0.46892326583647614
         ],
         "yaxis": "y3"
        },
        {
         "line": {
          "color": "rgba(128, 128, 128, 1.0)",
          "dash": "solid",
          "shape": "linear",
          "width": 1.3
         },
         "marker": {
          "size": 2,
          "symbol": "circle"
         },
         "mode": "markers",
         "name": "A",
         "text": "",
         "type": "scatter",
         "x": [
          -2.997406608311242,
          0.10249790616161769,
          0.413552337766213,
          -0.7213067947750976,
          0.022132314414748295,
          0.6747171399161759,
          -0.24146887982582543,
          0.05574219757835409,
          -0.4344330093300636,
          -1.1814007310594277,
          0.15433500905338188,
          -0.46978416700066283,
          0.8877618944082435,
          -0.20206702255376482,
          -1.4115233502709037,
          1.2689857900671335,
          0.4784560516042179,
          2.2593489055579132,
          -0.4713546150342186,
          -0.8150823278419957,
          0.24605228132442553,
          1.3983284524109587,
          0.1340285271188061,
          0.1821941374690226,
          0.7796965555404504,
          1.3957240998050646,
          -0.09436588577686467,
          2.3763951411338406,
          -0.8210322395572709,
          -0.7238473646535825,
          -0.6153381443426702,
          -0.23618469124826236,
          -0.5044741151570341,
          1.2113033430942026,
          0.6861793391378319,
          -0.0076680350033603,
          -0.6069662356067594,
          -0.8024831446710116,
          1.1932594862380586,
          1.0293399642089083,
          1.0741392926111917,
          0.01822692363329739,
          -0.8743467477374735,
          1.1861097811646617,
          0.6612000776377134,
          1.9164800878878911,
          0.750258304688333,
          -0.7788493542443379,
          0.6892094393005193,
          0.6307142576338273,
          -2.189752922517158,
          -0.7328986493176874,
          0.24820185792376268,
          0.2715734762274199,
          -1.4911630961880542,
          0.8237915786236065,
          1.1075565976165815,
          -0.7290193065248117,
          -0.46802303560511616,
          -0.5883046253859369,
          0.3648494036512118,
          -0.05771724933292349,
          -0.4440705630528392,
          -1.3236501300666088,
          -0.7838341928129381,
          -0.2797625915478993,
          1.7702390954941136,
          -0.045330338466166284,
          -0.076667488626622,
          -1.1383285052474656,
          -0.9421745260790562,
          2.1999811022127105,
          0.011004043264536965,
          0.9228214983397348,
          -0.5502056765197774,
          -0.1968128800761642,
          0.7540268139892187,
          -0.016170908036249904,
          -0.3605229363198243,
          -0.04372504862739124,
          0.6785453122885303,
          1.126931950186432,
          0.6620887101093931,
          1.7245166556851053,
          0.7109368901077827,
          -0.030607256125364815,
          -0.538247118018449,
          1.154232302594473,
          0.13477192183970227,
          0.8736884219723613,
          0.2593336814369859,
          -1.4381888248251582,
          -0.25358136117702385,
          -0.13227731911381488,
          1.0312069448851797,
          -0.6570253233928224,
          2.095592440614549,
          -0.5057302121780123,
          0.6296421702766222,
          -0.20801372701984316
         ],
         "xaxis": "x4",
         "y": [
          0.018612650461357173,
          0.9960448857866494,
          0.5348989996252956,
          0.2744644691707193,
          -1.5365837996629519,
          0.6925164494907833,
          1.6355335882891844,
          -0.4847552691952551,
          0.30614385275660383,
          0.6124200551769818,
          1.1083663399431376,
          1.0180355605534988,
          1.257435789537904,
          -0.971833663638946,
          -0.6058590356787764,
          0.22023782953865775,
          2.120845276514453,
          -0.39456862325103875,
          0.6062219318447225,
          -1.7401149822576623,
          0.9742836776250653,
          -0.4031138669609755,
          1.396780034995444,
          0.7589153724023462,
          0.3613077716338431,
          -1.1240045019293001,
          -0.348857032578735,
          -0.6516516862967474,
          2.196241159251179,
          0.32989001608345575,
          -0.867630944602537,
          0.3632992521805315,
          -0.06810963771889461,
          -1.4541900245405381,
          1.3454753011398228,
          -1.9530849822802803,
          -0.8912013360228284,
          0.470947892105552,
          -0.15985505994419505,
          0.2198163702457327,
          -0.23010375469522198,
          0.5707062620139806,
          1.0719425958771212,
          0.7066538833117731,
          -0.3630221878876869,
          0.3922575727286456,
          -0.3612705276291241,
          -0.29550629725886385,
          0.5225653600745495,
          -0.27305291477145976,
          -1.3368444755064772,
          -0.7312444638403542,
          1.2372752954036261,
          0.43425609169846763,
          0.1378203123065723,
          -2.5650700100831454,
          1.5713680268021728,
          0.17299087523119103,
          0.8253910603445144,
          -0.1943973629179473,
          1.2022341699975243,
          -1.024967266248822,
          1.434392749628085,
          -0.2644970147935291,
          0.9120358181465171,
          -0.3574958316214275,
          -1.179661643313809,
          -1.2377308248032741,
          1.1327664908798656,
          0.8516976018670983,
          -0.011298938254510052,
          -1.2175903618027375,
          0.3257227008931923,
          0.9257341855583504,
          0.14031310714798895,
          -0.4195496491587592,
          1.2758452304798396,
          1.815682574463287,
          0.873722200060419,
          0.8332601650259654,
          -0.8665169598166514,
          -0.391384661683601,
          0.3137052464154313,
          0.9720372843795664,
          2.794271493694322,
          -1.8462934934409374,
          0.2964577706006214,
          0.5747909516562963,
          0.3515544444419624,
          0.6560688317045775,
          -1.825358297613211,
          0.17689201309241853,
          -0.7893616265432474,
          -0.7090282511585885,
          -0.06412212886610219,
          -1.6274770848951148,
          0.2871954929436289,
          -0.48615868570872567,
          0.3068728465283206,
          -0.46892326583647614
         ],
         "yaxis": "y4"
        },
        {
         "line": {
          "color": "rgba(128, 128, 128, 1.0)",
          "dash": "solid",
          "shape": "linear",
          "width": 1.3
         },
         "marker": {
          "size": 2,
          "symbol": "circle"
         },
         "mode": "markers",
         "name": "B",
         "text": "",
         "type": "scatter",
         "x": [
          0.018612650461357173,
          0.9960448857866494,
          0.5348989996252956,
          0.2744644691707193,
          -1.5365837996629519,
          0.6925164494907833,
          1.6355335882891844,
          -0.4847552691952551,
          0.30614385275660383,
          0.6124200551769818,
          1.1083663399431376,
          1.0180355605534988,
          1.257435789537904,
          -0.971833663638946,
          -0.6058590356787764,
          0.22023782953865775,
          2.120845276514453,
          -0.39456862325103875,
          0.6062219318447225,
          -1.7401149822576623,
          0.9742836776250653,
          -0.4031138669609755,
          1.396780034995444,
          0.7589153724023462,
          0.3613077716338431,
          -1.1240045019293001,
          -0.348857032578735,
          -0.6516516862967474,
          2.196241159251179,
          0.32989001608345575,
          -0.867630944602537,
          0.3632992521805315,
          -0.06810963771889461,
          -1.4541900245405381,
          1.3454753011398228,
          -1.9530849822802803,
          -0.8912013360228284,
          0.470947892105552,
          -0.15985505994419505,
          0.2198163702457327,
          -0.23010375469522198,
          0.5707062620139806,
          1.0719425958771212,
          0.7066538833117731,
          -0.3630221878876869,
          0.3922575727286456,
          -0.3612705276291241,
          -0.29550629725886385,
          0.5225653600745495,
          -0.27305291477145976,
          -1.3368444755064772,
          -0.7312444638403542,
          1.2372752954036261,
          0.43425609169846763,
          0.1378203123065723,
          -2.5650700100831454,
          1.5713680268021728,
          0.17299087523119103,
          0.8253910603445144,
          -0.1943973629179473,
          1.2022341699975243,
          -1.024967266248822,
          1.434392749628085,
          -0.2644970147935291,
          0.9120358181465171,
          -0.3574958316214275,
          -1.179661643313809,
          -1.2377308248032741,
          1.1327664908798656,
          0.8516976018670983,
          -0.011298938254510052,
          -1.2175903618027375,
          0.3257227008931923,
          0.9257341855583504,
          0.14031310714798895,
          -0.4195496491587592,
          1.2758452304798396,
          1.815682574463287,
          0.873722200060419,
          0.8332601650259654,
          -0.8665169598166514,
          -0.391384661683601,
          0.3137052464154313,
          0.9720372843795664,
          2.794271493694322,
          -1.8462934934409374,
          0.2964577706006214,
          0.5747909516562963,
          0.3515544444419624,
          0.6560688317045775,
          -1.825358297613211,
          0.17689201309241853,
          -0.7893616265432474,
          -0.7090282511585885,
          -0.06412212886610219,
          -1.6274770848951148,
          0.2871954929436289,
          -0.48615868570872567,
          0.3068728465283206,
          -0.46892326583647614
         ],
         "xaxis": "x5",
         "y": [
          -0.14515941434662252,
          0.6806873926308932,
          -0.4635907081842978,
          -0.9133813580992908,
          0.33961520411379165,
          1.5359756763886903,
          0.5608200555640893,
          0.7385576598977033,
          0.3584101017217968,
          1.9681524054333133,
          0.9122347227604708,
          -1.208747759097325,
          1.0391099033587277,
          -0.04081664467136474,
          0.6920299931313932,
          0.17855709424490082,
          -0.5471926984690776,
          1.7684838359114352,
          -0.778441418564234,
          -0.5178855908859966,
          0.9554421418744045,
          1.981324589895577,
          -1.17791668305019,
          0.3635416602419813,
          1.4729249970268203,
          0.7169383023416109,
          -1.2414094580752362,
          -1.2454370486619037,
          -1.7753439436106342,
          -0.6803313710281736,
          -0.5941007653584087,
          1.29730024703594,
          -0.7575686405643377,
          1.4942790818364484,
          -0.6654988353214182,
          0.9003465610236291,
          0.1716342723004468,
          0.7738326789387621,
          -0.08714118904590173,
          -0.7714694142266564,
          0.5716227010443915,
          -0.8023726811909293,
          -0.32188924350996573,
          -0.9495064010735178,
          -0.1236980187298372,
          0.984595744764496,
          1.0096805551319956,
          -0.045044452402429505,
          -0.5996944687876562,
          -1.6598707450260282,
          0.6982590693953475,
          0.6628038847624309,
          -1.6797836633008574,
          1.08258578354228,
          0.3317032091015285,
          -0.5996108415625231,
          1.1787266939990753,
          -1.8858246311427032,
          0.4231740974380043,
          -0.43743434843633805,
          -1.2718057883980407,
          3.7856936387517033,
          -0.2778675274235196,
          0.37308634581461714,
          -0.7511575583029262,
          -0.4412683300216426,
          -0.5520539627737876,
          -1.2062055501876965,
          -0.7575196571867082,
          -0.5904982857173883,
          0.24853412195376048,
          -0.675739876593458,
          0.14891546824242163,
          0.5960418652525297,
          -2.037121868752909,
          -1.5681567204104996,
          -0.7249904679456038,
          -0.4891376531406688,
          -0.41806157762339813,
          -0.5998508532127527,
          -1.0328558517005673,
          0.6694597255695663,
          0.04969881038761035,
          0.3754027351884087,
          -0.09811199867557581,
          -0.6820977361199116,
          0.3209387499165821,
          0.9944285480742319,
          1.4563020824070612,
          -0.9133609870969249,
          -0.1844346272232779,
          0.4166235110059231,
          0.9665369943532935,
          0.1728104303703586,
          1.2548409050126537,
          -0.6782408136490494,
          0.6860085295644298,
          -0.22302236812107096,
          -0.9399304729507478,
          -0.6479042403168237
         ],
         "yaxis": "y5"
        },
        {
         "histfunc": "count",
         "histnorm": "",
         "marker": {
          "color": "rgba(55, 128, 191, 1.0)",
          "line": {
           "color": "#4D5663",
           "width": 1.3
          }
         },
         "name": "B",
         "nbinsx": 10,
         "opacity": 0.8,
         "orientation": "v",
         "type": "histogram",
         "x": [
          -0.14515941434662252,
          0.6806873926308932,
          -0.4635907081842978,
          -0.9133813580992908,
          0.33961520411379165,
          1.5359756763886903,
          0.5608200555640893,
          0.7385576598977033,
          0.3584101017217968,
          1.9681524054333133,
          0.9122347227604708,
          -1.208747759097325,
          1.0391099033587277,
          -0.04081664467136474,
          0.6920299931313932,
          0.17855709424490082,
          -0.5471926984690776,
          1.7684838359114352,
          -0.778441418564234,
          -0.5178855908859966,
          0.9554421418744045,
          1.981324589895577,
          -1.17791668305019,
          0.3635416602419813,
          1.4729249970268203,
          0.7169383023416109,
          -1.2414094580752362,
          -1.2454370486619037,
          -1.7753439436106342,
          -0.6803313710281736,
          -0.5941007653584087,
          1.29730024703594,
          -0.7575686405643377,
          1.4942790818364484,
          -0.6654988353214182,
          0.9003465610236291,
          0.1716342723004468,
          0.7738326789387621,
          -0.08714118904590173,
          -0.7714694142266564,
          0.5716227010443915,
          -0.8023726811909293,
          -0.32188924350996573,
          -0.9495064010735178,
          -0.1236980187298372,
          0.984595744764496,
          1.0096805551319956,
          -0.045044452402429505,
          -0.5996944687876562,
          -1.6598707450260282,
          0.6982590693953475,
          0.6628038847624309,
          -1.6797836633008574,
          1.08258578354228,
          0.3317032091015285,
          -0.5996108415625231,
          1.1787266939990753,
          -1.8858246311427032,
          0.4231740974380043,
          -0.43743434843633805,
          -1.2718057883980407,
          3.7856936387517033,
          -0.2778675274235196,
          0.37308634581461714,
          -0.7511575583029262,
          -0.4412683300216426,
          -0.5520539627737876,
          -1.2062055501876965,
          -0.7575196571867082,
          -0.5904982857173883,
          0.24853412195376048,
          -0.675739876593458,
          0.14891546824242163,
          0.5960418652525297,
          -2.037121868752909,
          -1.5681567204104996,
          -0.7249904679456038,
          -0.4891376531406688,
          -0.41806157762339813,
          -0.5998508532127527,
          -1.0328558517005673,
          0.6694597255695663,
          0.04969881038761035,
          0.3754027351884087,
          -0.09811199867557581,
          -0.6820977361199116,
          0.3209387499165821,
          0.9944285480742319,
          1.4563020824070612,
          -0.9133609870969249,
          -0.1844346272232779,
          0.4166235110059231,
          0.9665369943532935,
          0.1728104303703586,
          1.2548409050126537,
          -0.6782408136490494,
          0.6860085295644298,
          -0.22302236812107096,
          -0.9399304729507478,
          -0.6479042403168237
         ],
         "xaxis": "x6",
         "yaxis": "y6"
        },
        {
         "line": {
          "color": "rgba(128, 128, 128, 1.0)",
          "dash": "solid",
          "shape": "linear",
          "width": 1.3
         },
         "marker": {
          "size": 2,
          "symbol": "circle"
         },
         "mode": "markers",
         "name": "B",
         "text": "",
         "type": "scatter",
         "x": [
          -0.6631112137659735,
          -1.1423995334059467,
          0.5928751686945043,
          -1.1943316790433962,
          -0.7603827608348788,
          -1.297993782865933,
          0.9113825311823592,
          1.1762898155632082,
          -0.8942259524553294,
          0.3286718173304842,
          -0.5820546922659687,
          -0.9562209296191151,
          0.6157450258242222,
          -2.314765274166029,
          0.2337438522094003,
          0.5847192719125819,
          -0.40435925959311164,
          0.6296203798161512,
          0.37492020182302077,
          -1.7549033689682147,
          1.0403284170788798,
          -0.12508973689624178,
          -0.10347897984686757,
          -0.2906985014671275,
          0.22865057339429926,
          -1.306004479976751,
          -0.6527440085715561,
          1.8959637593422904,
          -1.6097628661704821,
          1.4065334795977154,
          1.2054517514144698,
          -0.4906707483797095,
          0.2223097976167643,
          1.8587610953926799,
          -0.39806462588795033,
          0.4491303797167707,
          -0.048811214581093006,
          -2.545774054410595,
          1.3685527042477281,
          0.679504792511501,
          1.19333168374123,
          1.3465029950881853,
          -1.301380383951909,
          -1.438760121760832,
          -0.4163266334621699,
          -1.6953036082267967,
          -0.17228230303715106,
          1.5827863640472826,
          -1.0812362354577663,
          0.2417167061520083,
          -1.5718938572145051,
          1.604663699145939,
          0.5273075301822094,
          0.4869251072421638,
          1.6003994114805054,
          0.771756114328106,
          0.35300628352328856,
          0.702670236247351,
          -0.9926897887558903,
          0.4248194163768752,
          -0.7737891564680249,
          -2.305809903822905,
          -1.2651656383714034,
          1.9835028631100977,
          1.2479941431297734,
          -0.1917395348875637,
          0.2750411674500079,
          0.2935713284342274,
          0.36131144606884585,
          0.7886739126485992,
          -0.12469467846471595,
          -1.6939637097953788,
          0.622918339309211,
          -1.048959254521311,
          1.1550563903320934,
          -1.32374739631727,
          0.22468511670440153,
          -0.011841782877135732,
          -0.10552746937631269,
          -0.5098692108134364,
          -0.23274102415992018,
          -0.6511251657587834,
          -1.042110331853821,
          0.4831655257270956,
          0.45639257228494157,
          0.49090299196787446,
          -0.3461598306876503,
          0.026950653027867182,
          0.7690796454969269,
          0.9187729421320473,
          -0.5090184216288456,
          0.23761712573069083,
          1.4153047180981166,
          -0.351279531158534,
          1.655547940135908,
          -0.8874936298517963,
          -0.5738575262962571,
          0.23888294647194033,
          -0.7581496631534301,
          0.851744743665249
         ],
         "xaxis": "x7",
         "y": [
          -0.14515941434662252,
          0.6806873926308932,
          -0.4635907081842978,
          -0.9133813580992908,
          0.33961520411379165,
          1.5359756763886903,
          0.5608200555640893,
          0.7385576598977033,
          0.3584101017217968,
          1.9681524054333133,
          0.9122347227604708,
          -1.208747759097325,
          1.0391099033587277,
          -0.04081664467136474,
          0.6920299931313932,
          0.17855709424490082,
          -0.5471926984690776,
          1.7684838359114352,
          -0.778441418564234,
          -0.5178855908859966,
          0.9554421418744045,
          1.981324589895577,
          -1.17791668305019,
          0.3635416602419813,
          1.4729249970268203,
          0.7169383023416109,
          -1.2414094580752362,
          -1.2454370486619037,
          -1.7753439436106342,
          -0.6803313710281736,
          -0.5941007653584087,
          1.29730024703594,
          -0.7575686405643377,
          1.4942790818364484,
          -0.6654988353214182,
          0.9003465610236291,
          0.1716342723004468,
          0.7738326789387621,
          -0.08714118904590173,
          -0.7714694142266564,
          0.5716227010443915,
          -0.8023726811909293,
          -0.32188924350996573,
          -0.9495064010735178,
          -0.1236980187298372,
          0.984595744764496,
          1.0096805551319956,
          -0.045044452402429505,
          -0.5996944687876562,
          -1.6598707450260282,
          0.6982590693953475,
          0.6628038847624309,
          -1.6797836633008574,
          1.08258578354228,
          0.3317032091015285,
          -0.5996108415625231,
          1.1787266939990753,
          -1.8858246311427032,
          0.4231740974380043,
          -0.43743434843633805,
          -1.2718057883980407,
          3.7856936387517033,
          -0.2778675274235196,
          0.37308634581461714,
          -0.7511575583029262,
          -0.4412683300216426,
          -0.5520539627737876,
          -1.2062055501876965,
          -0.7575196571867082,
          -0.5904982857173883,
          0.24853412195376048,
          -0.675739876593458,
          0.14891546824242163,
          0.5960418652525297,
          -2.037121868752909,
          -1.5681567204104996,
          -0.7249904679456038,
          -0.4891376531406688,
          -0.41806157762339813,
          -0.5998508532127527,
          -1.0328558517005673,
          0.6694597255695663,
          0.04969881038761035,
          0.3754027351884087,
          -0.09811199867557581,
          -0.6820977361199116,
          0.3209387499165821,
          0.9944285480742319,
          1.4563020824070612,
          -0.9133609870969249,
          -0.1844346272232779,
          0.4166235110059231,
          0.9665369943532935,
          0.1728104303703586,
          1.2548409050126537,
          -0.6782408136490494,
          0.6860085295644298,
          -0.22302236812107096,
          -0.9399304729507478,
          -0.6479042403168237
         ],
         "yaxis": "y7"
        },
        {
         "line": {
          "color": "rgba(128, 128, 128, 1.0)",
          "dash": "solid",
          "shape": "linear",
          "width": 1.3
         },
         "marker": {
          "size": 2,
          "symbol": "circle"
         },
         "mode": "markers",
         "name": "B",
         "text": "",
         "type": "scatter",
         "x": [
          -2.997406608311242,
          0.10249790616161769,
          0.413552337766213,
          -0.7213067947750976,
          0.022132314414748295,
          0.6747171399161759,
          -0.24146887982582543,
          0.05574219757835409,
          -0.4344330093300636,
          -1.1814007310594277,
          0.15433500905338188,
          -0.46978416700066283,
          0.8877618944082435,
          -0.20206702255376482,
          -1.4115233502709037,
          1.2689857900671335,
          0.4784560516042179,
          2.2593489055579132,
          -0.4713546150342186,
          -0.8150823278419957,
          0.24605228132442553,
          1.3983284524109587,
          0.1340285271188061,
          0.1821941374690226,
          0.7796965555404504,
          1.3957240998050646,
          -0.09436588577686467,
          2.3763951411338406,
          -0.8210322395572709,
          -0.7238473646535825,
          -0.6153381443426702,
          -0.23618469124826236,
          -0.5044741151570341,
          1.2113033430942026,
          0.6861793391378319,
          -0.0076680350033603,
          -0.6069662356067594,
          -0.8024831446710116,
          1.1932594862380586,
          1.0293399642089083,
          1.0741392926111917,
          0.01822692363329739,
          -0.8743467477374735,
          1.1861097811646617,
          0.6612000776377134,
          1.9164800878878911,
          0.750258304688333,
          -0.7788493542443379,
          0.6892094393005193,
          0.6307142576338273,
          -2.189752922517158,
          -0.7328986493176874,
          0.24820185792376268,
          0.2715734762274199,
          -1.4911630961880542,
          0.8237915786236065,
          1.1075565976165815,
          -0.7290193065248117,
          -0.46802303560511616,
          -0.5883046253859369,
          0.3648494036512118,
          -0.05771724933292349,
          -0.4440705630528392,
          -1.3236501300666088,
          -0.7838341928129381,
          -0.2797625915478993,
          1.7702390954941136,
          -0.045330338466166284,
          -0.076667488626622,
          -1.1383285052474656,
          -0.9421745260790562,
          2.1999811022127105,
          0.011004043264536965,
          0.9228214983397348,
          -0.5502056765197774,
          -0.1968128800761642,
          0.7540268139892187,
          -0.016170908036249904,
          -0.3605229363198243,
          -0.04372504862739124,
          0.6785453122885303,
          1.126931950186432,
          0.6620887101093931,
          1.7245166556851053,
          0.7109368901077827,
          -0.030607256125364815,
          -0.538247118018449,
          1.154232302594473,
          0.13477192183970227,
          0.8736884219723613,
          0.2593336814369859,
          -1.4381888248251582,
          -0.25358136117702385,
          -0.13227731911381488,
          1.0312069448851797,
          -0.6570253233928224,
          2.095592440614549,
          -0.5057302121780123,
          0.6296421702766222,
          -0.20801372701984316
         ],
         "xaxis": "x8",
         "y": [
          -0.14515941434662252,
          0.6806873926308932,
          -0.4635907081842978,
          -0.9133813580992908,
          0.33961520411379165,
          1.5359756763886903,
          0.5608200555640893,
          0.7385576598977033,
          0.3584101017217968,
          1.9681524054333133,
          0.9122347227604708,
          -1.208747759097325,
          1.0391099033587277,
          -0.04081664467136474,
          0.6920299931313932,
          0.17855709424490082,
          -0.5471926984690776,
          1.7684838359114352,
          -0.778441418564234,
          -0.5178855908859966,
          0.9554421418744045,
          1.981324589895577,
          -1.17791668305019,
          0.3635416602419813,
          1.4729249970268203,
          0.7169383023416109,
          -1.2414094580752362,
          -1.2454370486619037,
          -1.7753439436106342,
          -0.6803313710281736,
          -0.5941007653584087,
          1.29730024703594,
          -0.7575686405643377,
          1.4942790818364484,
          -0.6654988353214182,
          0.9003465610236291,
          0.1716342723004468,
          0.7738326789387621,
          -0.08714118904590173,
          -0.7714694142266564,
          0.5716227010443915,
          -0.8023726811909293,
          -0.32188924350996573,
          -0.9495064010735178,
          -0.1236980187298372,
          0.984595744764496,
          1.0096805551319956,
          -0.045044452402429505,
          -0.5996944687876562,
          -1.6598707450260282,
          0.6982590693953475,
          0.6628038847624309,
          -1.6797836633008574,
          1.08258578354228,
          0.3317032091015285,
          -0.5996108415625231,
          1.1787266939990753,
          -1.8858246311427032,
          0.4231740974380043,
          -0.43743434843633805,
          -1.2718057883980407,
          3.7856936387517033,
          -0.2778675274235196,
          0.37308634581461714,
          -0.7511575583029262,
          -0.4412683300216426,
          -0.5520539627737876,
          -1.2062055501876965,
          -0.7575196571867082,
          -0.5904982857173883,
          0.24853412195376048,
          -0.675739876593458,
          0.14891546824242163,
          0.5960418652525297,
          -2.037121868752909,
          -1.5681567204104996,
          -0.7249904679456038,
          -0.4891376531406688,
          -0.41806157762339813,
          -0.5998508532127527,
          -1.0328558517005673,
          0.6694597255695663,
          0.04969881038761035,
          0.3754027351884087,
          -0.09811199867557581,
          -0.6820977361199116,
          0.3209387499165821,
          0.9944285480742319,
          1.4563020824070612,
          -0.9133609870969249,
          -0.1844346272232779,
          0.4166235110059231,
          0.9665369943532935,
          0.1728104303703586,
          1.2548409050126537,
          -0.6782408136490494,
          0.6860085295644298,
          -0.22302236812107096,
          -0.9399304729507478,
          -0.6479042403168237
         ],
         "yaxis": "y8"
        },
        {
         "line": {
          "color": "rgba(128, 128, 128, 1.0)",
          "dash": "solid",
          "shape": "linear",
          "width": 1.3
         },
         "marker": {
          "size": 2,
          "symbol": "circle"
         },
         "mode": "markers",
         "name": "C",
         "text": "",
         "type": "scatter",
         "x": [
          0.018612650461357173,
          0.9960448857866494,
          0.5348989996252956,
          0.2744644691707193,
          -1.5365837996629519,
          0.6925164494907833,
          1.6355335882891844,
          -0.4847552691952551,
          0.30614385275660383,
          0.6124200551769818,
          1.1083663399431376,
          1.0180355605534988,
          1.257435789537904,
          -0.971833663638946,
          -0.6058590356787764,
          0.22023782953865775,
          2.120845276514453,
          -0.39456862325103875,
          0.6062219318447225,
          -1.7401149822576623,
          0.9742836776250653,
          -0.4031138669609755,
          1.396780034995444,
          0.7589153724023462,
          0.3613077716338431,
          -1.1240045019293001,
          -0.348857032578735,
          -0.6516516862967474,
          2.196241159251179,
          0.32989001608345575,
          -0.867630944602537,
          0.3632992521805315,
          -0.06810963771889461,
          -1.4541900245405381,
          1.3454753011398228,
          -1.9530849822802803,
          -0.8912013360228284,
          0.470947892105552,
          -0.15985505994419505,
          0.2198163702457327,
          -0.23010375469522198,
          0.5707062620139806,
          1.0719425958771212,
          0.7066538833117731,
          -0.3630221878876869,
          0.3922575727286456,
          -0.3612705276291241,
          -0.29550629725886385,
          0.5225653600745495,
          -0.27305291477145976,
          -1.3368444755064772,
          -0.7312444638403542,
          1.2372752954036261,
          0.43425609169846763,
          0.1378203123065723,
          -2.5650700100831454,
          1.5713680268021728,
          0.17299087523119103,
          0.8253910603445144,
          -0.1943973629179473,
          1.2022341699975243,
          -1.024967266248822,
          1.434392749628085,
          -0.2644970147935291,
          0.9120358181465171,
          -0.3574958316214275,
          -1.179661643313809,
          -1.2377308248032741,
          1.1327664908798656,
          0.8516976018670983,
          -0.011298938254510052,
          -1.2175903618027375,
          0.3257227008931923,
          0.9257341855583504,
          0.14031310714798895,
          -0.4195496491587592,
          1.2758452304798396,
          1.815682574463287,
          0.873722200060419,
          0.8332601650259654,
          -0.8665169598166514,
          -0.391384661683601,
          0.3137052464154313,
          0.9720372843795664,
          2.794271493694322,
          -1.8462934934409374,
          0.2964577706006214,
          0.5747909516562963,
          0.3515544444419624,
          0.6560688317045775,
          -1.825358297613211,
          0.17689201309241853,
          -0.7893616265432474,
          -0.7090282511585885,
          -0.06412212886610219,
          -1.6274770848951148,
          0.2871954929436289,
          -0.48615868570872567,
          0.3068728465283206,
          -0.46892326583647614
         ],
         "xaxis": "x9",
         "y": [
          -0.6631112137659735,
          -1.1423995334059467,
          0.5928751686945043,
          -1.1943316790433962,
          -0.7603827608348788,
          -1.297993782865933,
          0.9113825311823592,
          1.1762898155632082,
          -0.8942259524553294,
          0.3286718173304842,
          -0.5820546922659687,
          -0.9562209296191151,
          0.6157450258242222,
          -2.314765274166029,
          0.2337438522094003,
          0.5847192719125819,
          -0.40435925959311164,
          0.6296203798161512,
          0.37492020182302077,
          -1.7549033689682147,
          1.0403284170788798,
          -0.12508973689624178,
          -0.10347897984686757,
          -0.2906985014671275,
          0.22865057339429926,
          -1.306004479976751,
          -0.6527440085715561,
          1.8959637593422904,
          -1.6097628661704821,
          1.4065334795977154,
          1.2054517514144698,
          -0.4906707483797095,
          0.2223097976167643,
          1.8587610953926799,
          -0.39806462588795033,
          0.4491303797167707,
          -0.048811214581093006,
          -2.545774054410595,
          1.3685527042477281,
          0.679504792511501,
          1.19333168374123,
          1.3465029950881853,
          -1.301380383951909,
          -1.438760121760832,
          -0.4163266334621699,
          -1.6953036082267967,
          -0.17228230303715106,
          1.5827863640472826,
          -1.0812362354577663,
          0.2417167061520083,
          -1.5718938572145051,
          1.604663699145939,
          0.5273075301822094,
          0.4869251072421638,
          1.6003994114805054,
          0.771756114328106,
          0.35300628352328856,
          0.702670236247351,
          -0.9926897887558903,
          0.4248194163768752,
          -0.7737891564680249,
          -2.305809903822905,
          -1.2651656383714034,
          1.9835028631100977,
          1.2479941431297734,
          -0.1917395348875637,
          0.2750411674500079,
          0.2935713284342274,
          0.36131144606884585,
          0.7886739126485992,
          -0.12469467846471595,
          -1.6939637097953788,
          0.622918339309211,
          -1.048959254521311,
          1.1550563903320934,
          -1.32374739631727,
          0.22468511670440153,
          -0.011841782877135732,
          -0.10552746937631269,
          -0.5098692108134364,
          -0.23274102415992018,
          -0.6511251657587834,
          -1.042110331853821,
          0.4831655257270956,
          0.45639257228494157,
          0.49090299196787446,
          -0.3461598306876503,
          0.026950653027867182,
          0.7690796454969269,
          0.9187729421320473,
          -0.5090184216288456,
          0.23761712573069083,
          1.4153047180981166,
          -0.351279531158534,
          1.655547940135908,
          -0.8874936298517963,
          -0.5738575262962571,
          0.23888294647194033,
          -0.7581496631534301,
          0.851744743665249
         ],
         "yaxis": "y9"
        },
        {
         "line": {
          "color": "rgba(128, 128, 128, 1.0)",
          "dash": "solid",
          "shape": "linear",
          "width": 1.3
         },
         "marker": {
          "size": 2,
          "symbol": "circle"
         },
         "mode": "markers",
         "name": "C",
         "text": "",
         "type": "scatter",
         "x": [
          -0.14515941434662252,
          0.6806873926308932,
          -0.4635907081842978,
          -0.9133813580992908,
          0.33961520411379165,
          1.5359756763886903,
          0.5608200555640893,
          0.7385576598977033,
          0.3584101017217968,
          1.9681524054333133,
          0.9122347227604708,
          -1.208747759097325,
          1.0391099033587277,
          -0.04081664467136474,
          0.6920299931313932,
          0.17855709424490082,
          -0.5471926984690776,
          1.7684838359114352,
          -0.778441418564234,
          -0.5178855908859966,
          0.9554421418744045,
          1.981324589895577,
          -1.17791668305019,
          0.3635416602419813,
          1.4729249970268203,
          0.7169383023416109,
          -1.2414094580752362,
          -1.2454370486619037,
          -1.7753439436106342,
          -0.6803313710281736,
          -0.5941007653584087,
          1.29730024703594,
          -0.7575686405643377,
          1.4942790818364484,
          -0.6654988353214182,
          0.9003465610236291,
          0.1716342723004468,
          0.7738326789387621,
          -0.08714118904590173,
          -0.7714694142266564,
          0.5716227010443915,
          -0.8023726811909293,
          -0.32188924350996573,
          -0.9495064010735178,
          -0.1236980187298372,
          0.984595744764496,
          1.0096805551319956,
          -0.045044452402429505,
          -0.5996944687876562,
          -1.6598707450260282,
          0.6982590693953475,
          0.6628038847624309,
          -1.6797836633008574,
          1.08258578354228,
          0.3317032091015285,
          -0.5996108415625231,
          1.1787266939990753,
          -1.8858246311427032,
          0.4231740974380043,
          -0.43743434843633805,
          -1.2718057883980407,
          3.7856936387517033,
          -0.2778675274235196,
          0.37308634581461714,
          -0.7511575583029262,
          -0.4412683300216426,
          -0.5520539627737876,
          -1.2062055501876965,
          -0.7575196571867082,
          -0.5904982857173883,
          0.24853412195376048,
          -0.675739876593458,
          0.14891546824242163,
          0.5960418652525297,
          -2.037121868752909,
          -1.5681567204104996,
          -0.7249904679456038,
          -0.4891376531406688,
          -0.41806157762339813,
          -0.5998508532127527,
          -1.0328558517005673,
          0.6694597255695663,
          0.04969881038761035,
          0.3754027351884087,
          -0.09811199867557581,
          -0.6820977361199116,
          0.3209387499165821,
          0.9944285480742319,
          1.4563020824070612,
          -0.9133609870969249,
          -0.1844346272232779,
          0.4166235110059231,
          0.9665369943532935,
          0.1728104303703586,
          1.2548409050126537,
          -0.6782408136490494,
          0.6860085295644298,
          -0.22302236812107096,
          -0.9399304729507478,
          -0.6479042403168237
         ],
         "xaxis": "x10",
         "y": [
          -0.6631112137659735,
          -1.1423995334059467,
          0.5928751686945043,
          -1.1943316790433962,
          -0.7603827608348788,
          -1.297993782865933,
          0.9113825311823592,
          1.1762898155632082,
          -0.8942259524553294,
          0.3286718173304842,
          -0.5820546922659687,
          -0.9562209296191151,
          0.6157450258242222,
          -2.314765274166029,
          0.2337438522094003,
          0.5847192719125819,
          -0.40435925959311164,
          0.6296203798161512,
          0.37492020182302077,
          -1.7549033689682147,
          1.0403284170788798,
          -0.12508973689624178,
          -0.10347897984686757,
          -0.2906985014671275,
          0.22865057339429926,
          -1.306004479976751,
          -0.6527440085715561,
          1.8959637593422904,
          -1.6097628661704821,
          1.4065334795977154,
          1.2054517514144698,
          -0.4906707483797095,
          0.2223097976167643,
          1.8587610953926799,
          -0.39806462588795033,
          0.4491303797167707,
          -0.048811214581093006,
          -2.545774054410595,
          1.3685527042477281,
          0.679504792511501,
          1.19333168374123,
          1.3465029950881853,
          -1.301380383951909,
          -1.438760121760832,
          -0.4163266334621699,
          -1.6953036082267967,
          -0.17228230303715106,
          1.5827863640472826,
          -1.0812362354577663,
          0.2417167061520083,
          -1.5718938572145051,
          1.604663699145939,
          0.5273075301822094,
          0.4869251072421638,
          1.6003994114805054,
          0.771756114328106,
          0.35300628352328856,
          0.702670236247351,
          -0.9926897887558903,
          0.4248194163768752,
          -0.7737891564680249,
          -2.305809903822905,
          -1.2651656383714034,
          1.9835028631100977,
          1.2479941431297734,
          -0.1917395348875637,
          0.2750411674500079,
          0.2935713284342274,
          0.36131144606884585,
          0.7886739126485992,
          -0.12469467846471595,
          -1.6939637097953788,
          0.622918339309211,
          -1.048959254521311,
          1.1550563903320934,
          -1.32374739631727,
          0.22468511670440153,
          -0.011841782877135732,
          -0.10552746937631269,
          -0.5098692108134364,
          -0.23274102415992018,
          -0.6511251657587834,
          -1.042110331853821,
          0.4831655257270956,
          0.45639257228494157,
          0.49090299196787446,
          -0.3461598306876503,
          0.026950653027867182,
          0.7690796454969269,
          0.9187729421320473,
          -0.5090184216288456,
          0.23761712573069083,
          1.4153047180981166,
          -0.351279531158534,
          1.655547940135908,
          -0.8874936298517963,
          -0.5738575262962571,
          0.23888294647194033,
          -0.7581496631534301,
          0.851744743665249
         ],
         "yaxis": "y10"
        },
        {
         "histfunc": "count",
         "histnorm": "",
         "marker": {
          "color": "rgba(50, 171, 96, 1.0)",
          "line": {
           "color": "#4D5663",
           "width": 1.3
          }
         },
         "name": "C",
         "nbinsx": 10,
         "opacity": 0.8,
         "orientation": "v",
         "type": "histogram",
         "x": [
          -0.6631112137659735,
          -1.1423995334059467,
          0.5928751686945043,
          -1.1943316790433962,
          -0.7603827608348788,
          -1.297993782865933,
          0.9113825311823592,
          1.1762898155632082,
          -0.8942259524553294,
          0.3286718173304842,
          -0.5820546922659687,
          -0.9562209296191151,
          0.6157450258242222,
          -2.314765274166029,
          0.2337438522094003,
          0.5847192719125819,
          -0.40435925959311164,
          0.6296203798161512,
          0.37492020182302077,
          -1.7549033689682147,
          1.0403284170788798,
          -0.12508973689624178,
          -0.10347897984686757,
          -0.2906985014671275,
          0.22865057339429926,
          -1.306004479976751,
          -0.6527440085715561,
          1.8959637593422904,
          -1.6097628661704821,
          1.4065334795977154,
          1.2054517514144698,
          -0.4906707483797095,
          0.2223097976167643,
          1.8587610953926799,
          -0.39806462588795033,
          0.4491303797167707,
          -0.048811214581093006,
          -2.545774054410595,
          1.3685527042477281,
          0.679504792511501,
          1.19333168374123,
          1.3465029950881853,
          -1.301380383951909,
          -1.438760121760832,
          -0.4163266334621699,
          -1.6953036082267967,
          -0.17228230303715106,
          1.5827863640472826,
          -1.0812362354577663,
          0.2417167061520083,
          -1.5718938572145051,
          1.604663699145939,
          0.5273075301822094,
          0.4869251072421638,
          1.6003994114805054,
          0.771756114328106,
          0.35300628352328856,
          0.702670236247351,
          -0.9926897887558903,
          0.4248194163768752,
          -0.7737891564680249,
          -2.305809903822905,
          -1.2651656383714034,
          1.9835028631100977,
          1.2479941431297734,
          -0.1917395348875637,
          0.2750411674500079,
          0.2935713284342274,
          0.36131144606884585,
          0.7886739126485992,
          -0.12469467846471595,
          -1.6939637097953788,
          0.622918339309211,
          -1.048959254521311,
          1.1550563903320934,
          -1.32374739631727,
          0.22468511670440153,
          -0.011841782877135732,
          -0.10552746937631269,
          -0.5098692108134364,
          -0.23274102415992018,
          -0.6511251657587834,
          -1.042110331853821,
          0.4831655257270956,
          0.45639257228494157,
          0.49090299196787446,
          -0.3461598306876503,
          0.026950653027867182,
          0.7690796454969269,
          0.9187729421320473,
          -0.5090184216288456,
          0.23761712573069083,
          1.4153047180981166,
          -0.351279531158534,
          1.655547940135908,
          -0.8874936298517963,
          -0.5738575262962571,
          0.23888294647194033,
          -0.7581496631534301,
          0.851744743665249
         ],
         "xaxis": "x11",
         "yaxis": "y11"
        },
        {
         "line": {
          "color": "rgba(128, 128, 128, 1.0)",
          "dash": "solid",
          "shape": "linear",
          "width": 1.3
         },
         "marker": {
          "size": 2,
          "symbol": "circle"
         },
         "mode": "markers",
         "name": "C",
         "text": "",
         "type": "scatter",
         "x": [
          -2.997406608311242,
          0.10249790616161769,
          0.413552337766213,
          -0.7213067947750976,
          0.022132314414748295,
          0.6747171399161759,
          -0.24146887982582543,
          0.05574219757835409,
          -0.4344330093300636,
          -1.1814007310594277,
          0.15433500905338188,
          -0.46978416700066283,
          0.8877618944082435,
          -0.20206702255376482,
          -1.4115233502709037,
          1.2689857900671335,
          0.4784560516042179,
          2.2593489055579132,
          -0.4713546150342186,
          -0.8150823278419957,
          0.24605228132442553,
          1.3983284524109587,
          0.1340285271188061,
          0.1821941374690226,
          0.7796965555404504,
          1.3957240998050646,
          -0.09436588577686467,
          2.3763951411338406,
          -0.8210322395572709,
          -0.7238473646535825,
          -0.6153381443426702,
          -0.23618469124826236,
          -0.5044741151570341,
          1.2113033430942026,
          0.6861793391378319,
          -0.0076680350033603,
          -0.6069662356067594,
          -0.8024831446710116,
          1.1932594862380586,
          1.0293399642089083,
          1.0741392926111917,
          0.01822692363329739,
          -0.8743467477374735,
          1.1861097811646617,
          0.6612000776377134,
          1.9164800878878911,
          0.750258304688333,
          -0.7788493542443379,
          0.6892094393005193,
          0.6307142576338273,
          -2.189752922517158,
          -0.7328986493176874,
          0.24820185792376268,
          0.2715734762274199,
          -1.4911630961880542,
          0.8237915786236065,
          1.1075565976165815,
          -0.7290193065248117,
          -0.46802303560511616,
          -0.5883046253859369,
          0.3648494036512118,
          -0.05771724933292349,
          -0.4440705630528392,
          -1.3236501300666088,
          -0.7838341928129381,
          -0.2797625915478993,
          1.7702390954941136,
          -0.045330338466166284,
          -0.076667488626622,
          -1.1383285052474656,
          -0.9421745260790562,
          2.1999811022127105,
          0.011004043264536965,
          0.9228214983397348,
          -0.5502056765197774,
          -0.1968128800761642,
          0.7540268139892187,
          -0.016170908036249904,
          -0.3605229363198243,
          -0.04372504862739124,
          0.6785453122885303,
          1.126931950186432,
          0.6620887101093931,
          1.7245166556851053,
          0.7109368901077827,
          -0.030607256125364815,
          -0.538247118018449,
          1.154232302594473,
          0.13477192183970227,
          0.8736884219723613,
          0.2593336814369859,
          -1.4381888248251582,
          -0.25358136117702385,
          -0.13227731911381488,
          1.0312069448851797,
          -0.6570253233928224,
          2.095592440614549,
          -0.5057302121780123,
          0.6296421702766222,
          -0.20801372701984316
         ],
         "xaxis": "x12",
         "y": [
          -0.6631112137659735,
          -1.1423995334059467,
          0.5928751686945043,
          -1.1943316790433962,
          -0.7603827608348788,
          -1.297993782865933,
          0.9113825311823592,
          1.1762898155632082,
          -0.8942259524553294,
          0.3286718173304842,
          -0.5820546922659687,
          -0.9562209296191151,
          0.6157450258242222,
          -2.314765274166029,
          0.2337438522094003,
          0.5847192719125819,
          -0.40435925959311164,
          0.6296203798161512,
          0.37492020182302077,
          -1.7549033689682147,
          1.0403284170788798,
          -0.12508973689624178,
          -0.10347897984686757,
          -0.2906985014671275,
          0.22865057339429926,
          -1.306004479976751,
          -0.6527440085715561,
          1.8959637593422904,
          -1.6097628661704821,
          1.4065334795977154,
          1.2054517514144698,
          -0.4906707483797095,
          0.2223097976167643,
          1.8587610953926799,
          -0.39806462588795033,
          0.4491303797167707,
          -0.048811214581093006,
          -2.545774054410595,
          1.3685527042477281,
          0.679504792511501,
          1.19333168374123,
          1.3465029950881853,
          -1.301380383951909,
          -1.438760121760832,
          -0.4163266334621699,
          -1.6953036082267967,
          -0.17228230303715106,
          1.5827863640472826,
          -1.0812362354577663,
          0.2417167061520083,
          -1.5718938572145051,
          1.604663699145939,
          0.5273075301822094,
          0.4869251072421638,
          1.6003994114805054,
          0.771756114328106,
          0.35300628352328856,
          0.702670236247351,
          -0.9926897887558903,
          0.4248194163768752,
          -0.7737891564680249,
          -2.305809903822905,
          -1.2651656383714034,
          1.9835028631100977,
          1.2479941431297734,
          -0.1917395348875637,
          0.2750411674500079,
          0.2935713284342274,
          0.36131144606884585,
          0.7886739126485992,
          -0.12469467846471595,
          -1.6939637097953788,
          0.622918339309211,
          -1.048959254521311,
          1.1550563903320934,
          -1.32374739631727,
          0.22468511670440153,
          -0.011841782877135732,
          -0.10552746937631269,
          -0.5098692108134364,
          -0.23274102415992018,
          -0.6511251657587834,
          -1.042110331853821,
          0.4831655257270956,
          0.45639257228494157,
          0.49090299196787446,
          -0.3461598306876503,
          0.026950653027867182,
          0.7690796454969269,
          0.9187729421320473,
          -0.5090184216288456,
          0.23761712573069083,
          1.4153047180981166,
          -0.351279531158534,
          1.655547940135908,
          -0.8874936298517963,
          -0.5738575262962571,
          0.23888294647194033,
          -0.7581496631534301,
          0.851744743665249
         ],
         "yaxis": "y12"
        },
        {
         "line": {
          "color": "rgba(128, 128, 128, 1.0)",
          "dash": "solid",
          "shape": "linear",
          "width": 1.3
         },
         "marker": {
          "size": 2,
          "symbol": "circle"
         },
         "mode": "markers",
         "name": "D",
         "text": "",
         "type": "scatter",
         "x": [
          0.018612650461357173,
          0.9960448857866494,
          0.5348989996252956,
          0.2744644691707193,
          -1.5365837996629519,
          0.6925164494907833,
          1.6355335882891844,
          -0.4847552691952551,
          0.30614385275660383,
          0.6124200551769818,
          1.1083663399431376,
          1.0180355605534988,
          1.257435789537904,
          -0.971833663638946,
          -0.6058590356787764,
          0.22023782953865775,
          2.120845276514453,
          -0.39456862325103875,
          0.6062219318447225,
          -1.7401149822576623,
          0.9742836776250653,
          -0.4031138669609755,
          1.396780034995444,
          0.7589153724023462,
          0.3613077716338431,
          -1.1240045019293001,
          -0.348857032578735,
          -0.6516516862967474,
          2.196241159251179,
          0.32989001608345575,
          -0.867630944602537,
          0.3632992521805315,
          -0.06810963771889461,
          -1.4541900245405381,
          1.3454753011398228,
          -1.9530849822802803,
          -0.8912013360228284,
          0.470947892105552,
          -0.15985505994419505,
          0.2198163702457327,
          -0.23010375469522198,
          0.5707062620139806,
          1.0719425958771212,
          0.7066538833117731,
          -0.3630221878876869,
          0.3922575727286456,
          -0.3612705276291241,
          -0.29550629725886385,
          0.5225653600745495,
          -0.27305291477145976,
          -1.3368444755064772,
          -0.7312444638403542,
          1.2372752954036261,
          0.43425609169846763,
          0.1378203123065723,
          -2.5650700100831454,
          1.5713680268021728,
          0.17299087523119103,
          0.8253910603445144,
          -0.1943973629179473,
          1.2022341699975243,
          -1.024967266248822,
          1.434392749628085,
          -0.2644970147935291,
          0.9120358181465171,
          -0.3574958316214275,
          -1.179661643313809,
          -1.2377308248032741,
          1.1327664908798656,
          0.8516976018670983,
          -0.011298938254510052,
          -1.2175903618027375,
          0.3257227008931923,
          0.9257341855583504,
          0.14031310714798895,
          -0.4195496491587592,
          1.2758452304798396,
          1.815682574463287,
          0.873722200060419,
          0.8332601650259654,
          -0.8665169598166514,
          -0.391384661683601,
          0.3137052464154313,
          0.9720372843795664,
          2.794271493694322,
          -1.8462934934409374,
          0.2964577706006214,
          0.5747909516562963,
          0.3515544444419624,
          0.6560688317045775,
          -1.825358297613211,
          0.17689201309241853,
          -0.7893616265432474,
          -0.7090282511585885,
          -0.06412212886610219,
          -1.6274770848951148,
          0.2871954929436289,
          -0.48615868570872567,
          0.3068728465283206,
          -0.46892326583647614
         ],
         "xaxis": "x13",
         "y": [
          -2.997406608311242,
          0.10249790616161769,
          0.413552337766213,
          -0.7213067947750976,
          0.022132314414748295,
          0.6747171399161759,
          -0.24146887982582543,
          0.05574219757835409,
          -0.4344330093300636,
          -1.1814007310594277,
          0.15433500905338188,
          -0.46978416700066283,
          0.8877618944082435,
          -0.20206702255376482,
          -1.4115233502709037,
          1.2689857900671335,
          0.4784560516042179,
          2.2593489055579132,
          -0.4713546150342186,
          -0.8150823278419957,
          0.24605228132442553,
          1.3983284524109587,
          0.1340285271188061,
          0.1821941374690226,
          0.7796965555404504,
          1.3957240998050646,
          -0.09436588577686467,
          2.3763951411338406,
          -0.8210322395572709,
          -0.7238473646535825,
          -0.6153381443426702,
          -0.23618469124826236,
          -0.5044741151570341,
          1.2113033430942026,
          0.6861793391378319,
          -0.0076680350033603,
          -0.6069662356067594,
          -0.8024831446710116,
          1.1932594862380586,
          1.0293399642089083,
          1.0741392926111917,
          0.01822692363329739,
          -0.8743467477374735,
          1.1861097811646617,
          0.6612000776377134,
          1.9164800878878911,
          0.750258304688333,
          -0.7788493542443379,
          0.6892094393005193,
          0.6307142576338273,
          -2.189752922517158,
          -0.7328986493176874,
          0.24820185792376268,
          0.2715734762274199,
          -1.4911630961880542,
          0.8237915786236065,
          1.1075565976165815,
          -0.7290193065248117,
          -0.46802303560511616,
          -0.5883046253859369,
          0.3648494036512118,
          -0.05771724933292349,
          -0.4440705630528392,
          -1.3236501300666088,
          -0.7838341928129381,
          -0.2797625915478993,
          1.7702390954941136,
          -0.045330338466166284,
          -0.076667488626622,
          -1.1383285052474656,
          -0.9421745260790562,
          2.1999811022127105,
          0.011004043264536965,
          0.9228214983397348,
          -0.5502056765197774,
          -0.1968128800761642,
          0.7540268139892187,
          -0.016170908036249904,
          -0.3605229363198243,
          -0.04372504862739124,
          0.6785453122885303,
          1.126931950186432,
          0.6620887101093931,
          1.7245166556851053,
          0.7109368901077827,
          -0.030607256125364815,
          -0.538247118018449,
          1.154232302594473,
          0.13477192183970227,
          0.8736884219723613,
          0.2593336814369859,
          -1.4381888248251582,
          -0.25358136117702385,
          -0.13227731911381488,
          1.0312069448851797,
          -0.6570253233928224,
          2.095592440614549,
          -0.5057302121780123,
          0.6296421702766222,
          -0.20801372701984316
         ],
         "yaxis": "y13"
        },
        {
         "line": {
          "color": "rgba(128, 128, 128, 1.0)",
          "dash": "solid",
          "shape": "linear",
          "width": 1.3
         },
         "marker": {
          "size": 2,
          "symbol": "circle"
         },
         "mode": "markers",
         "name": "D",
         "text": "",
         "type": "scatter",
         "x": [
          -0.14515941434662252,
          0.6806873926308932,
          -0.4635907081842978,
          -0.9133813580992908,
          0.33961520411379165,
          1.5359756763886903,
          0.5608200555640893,
          0.7385576598977033,
          0.3584101017217968,
          1.9681524054333133,
          0.9122347227604708,
          -1.208747759097325,
          1.0391099033587277,
          -0.04081664467136474,
          0.6920299931313932,
          0.17855709424490082,
          -0.5471926984690776,
          1.7684838359114352,
          -0.778441418564234,
          -0.5178855908859966,
          0.9554421418744045,
          1.981324589895577,
          -1.17791668305019,
          0.3635416602419813,
          1.4729249970268203,
          0.7169383023416109,
          -1.2414094580752362,
          -1.2454370486619037,
          -1.7753439436106342,
          -0.6803313710281736,
          -0.5941007653584087,
          1.29730024703594,
          -0.7575686405643377,
          1.4942790818364484,
          -0.6654988353214182,
          0.9003465610236291,
          0.1716342723004468,
          0.7738326789387621,
          -0.08714118904590173,
          -0.7714694142266564,
          0.5716227010443915,
          -0.8023726811909293,
          -0.32188924350996573,
          -0.9495064010735178,
          -0.1236980187298372,
          0.984595744764496,
          1.0096805551319956,
          -0.045044452402429505,
          -0.5996944687876562,
          -1.6598707450260282,
          0.6982590693953475,
          0.6628038847624309,
          -1.6797836633008574,
          1.08258578354228,
          0.3317032091015285,
          -0.5996108415625231,
          1.1787266939990753,
          -1.8858246311427032,
          0.4231740974380043,
          -0.43743434843633805,
          -1.2718057883980407,
          3.7856936387517033,
          -0.2778675274235196,
          0.37308634581461714,
          -0.7511575583029262,
          -0.4412683300216426,
          -0.5520539627737876,
          -1.2062055501876965,
          -0.7575196571867082,
          -0.5904982857173883,
          0.24853412195376048,
          -0.675739876593458,
          0.14891546824242163,
          0.5960418652525297,
          -2.037121868752909,
          -1.5681567204104996,
          -0.7249904679456038,
          -0.4891376531406688,
          -0.41806157762339813,
          -0.5998508532127527,
          -1.0328558517005673,
          0.6694597255695663,
          0.04969881038761035,
          0.3754027351884087,
          -0.09811199867557581,
          -0.6820977361199116,
          0.3209387499165821,
          0.9944285480742319,
          1.4563020824070612,
          -0.9133609870969249,
          -0.1844346272232779,
          0.4166235110059231,
          0.9665369943532935,
          0.1728104303703586,
          1.2548409050126537,
          -0.6782408136490494,
          0.6860085295644298,
          -0.22302236812107096,
          -0.9399304729507478,
          -0.6479042403168237
         ],
         "xaxis": "x14",
         "y": [
          -2.997406608311242,
          0.10249790616161769,
          0.413552337766213,
          -0.7213067947750976,
          0.022132314414748295,
          0.6747171399161759,
          -0.24146887982582543,
          0.05574219757835409,
          -0.4344330093300636,
          -1.1814007310594277,
          0.15433500905338188,
          -0.46978416700066283,
          0.8877618944082435,
          -0.20206702255376482,
          -1.4115233502709037,
          1.2689857900671335,
          0.4784560516042179,
          2.2593489055579132,
          -0.4713546150342186,
          -0.8150823278419957,
          0.24605228132442553,
          1.3983284524109587,
          0.1340285271188061,
          0.1821941374690226,
          0.7796965555404504,
          1.3957240998050646,
          -0.09436588577686467,
          2.3763951411338406,
          -0.8210322395572709,
          -0.7238473646535825,
          -0.6153381443426702,
          -0.23618469124826236,
          -0.5044741151570341,
          1.2113033430942026,
          0.6861793391378319,
          -0.0076680350033603,
          -0.6069662356067594,
          -0.8024831446710116,
          1.1932594862380586,
          1.0293399642089083,
          1.0741392926111917,
          0.01822692363329739,
          -0.8743467477374735,
          1.1861097811646617,
          0.6612000776377134,
          1.9164800878878911,
          0.750258304688333,
          -0.7788493542443379,
          0.6892094393005193,
          0.6307142576338273,
          -2.189752922517158,
          -0.7328986493176874,
          0.24820185792376268,
          0.2715734762274199,
          -1.4911630961880542,
          0.8237915786236065,
          1.1075565976165815,
          -0.7290193065248117,
          -0.46802303560511616,
          -0.5883046253859369,
          0.3648494036512118,
          -0.05771724933292349,
          -0.4440705630528392,
          -1.3236501300666088,
          -0.7838341928129381,
          -0.2797625915478993,
          1.7702390954941136,
          -0.045330338466166284,
          -0.076667488626622,
          -1.1383285052474656,
          -0.9421745260790562,
          2.1999811022127105,
          0.011004043264536965,
          0.9228214983397348,
          -0.5502056765197774,
          -0.1968128800761642,
          0.7540268139892187,
          -0.016170908036249904,
          -0.3605229363198243,
          -0.04372504862739124,
          0.6785453122885303,
          1.126931950186432,
          0.6620887101093931,
          1.7245166556851053,
          0.7109368901077827,
          -0.030607256125364815,
          -0.538247118018449,
          1.154232302594473,
          0.13477192183970227,
          0.8736884219723613,
          0.2593336814369859,
          -1.4381888248251582,
          -0.25358136117702385,
          -0.13227731911381488,
          1.0312069448851797,
          -0.6570253233928224,
          2.095592440614549,
          -0.5057302121780123,
          0.6296421702766222,
          -0.20801372701984316
         ],
         "yaxis": "y14"
        },
        {
         "line": {
          "color": "rgba(128, 128, 128, 1.0)",
          "dash": "solid",
          "shape": "linear",
          "width": 1.3
         },
         "marker": {
          "size": 2,
          "symbol": "circle"
         },
         "mode": "markers",
         "name": "D",
         "text": "",
         "type": "scatter",
         "x": [
          -0.6631112137659735,
          -1.1423995334059467,
          0.5928751686945043,
          -1.1943316790433962,
          -0.7603827608348788,
          -1.297993782865933,
          0.9113825311823592,
          1.1762898155632082,
          -0.8942259524553294,
          0.3286718173304842,
          -0.5820546922659687,
          -0.9562209296191151,
          0.6157450258242222,
          -2.314765274166029,
          0.2337438522094003,
          0.5847192719125819,
          -0.40435925959311164,
          0.6296203798161512,
          0.37492020182302077,
          -1.7549033689682147,
          1.0403284170788798,
          -0.12508973689624178,
          -0.10347897984686757,
          -0.2906985014671275,
          0.22865057339429926,
          -1.306004479976751,
          -0.6527440085715561,
          1.8959637593422904,
          -1.6097628661704821,
          1.4065334795977154,
          1.2054517514144698,
          -0.4906707483797095,
          0.2223097976167643,
          1.8587610953926799,
          -0.39806462588795033,
          0.4491303797167707,
          -0.048811214581093006,
          -2.545774054410595,
          1.3685527042477281,
          0.679504792511501,
          1.19333168374123,
          1.3465029950881853,
          -1.301380383951909,
          -1.438760121760832,
          -0.4163266334621699,
          -1.6953036082267967,
          -0.17228230303715106,
          1.5827863640472826,
          -1.0812362354577663,
          0.2417167061520083,
          -1.5718938572145051,
          1.604663699145939,
          0.5273075301822094,
          0.4869251072421638,
          1.6003994114805054,
          0.771756114328106,
          0.35300628352328856,
          0.702670236247351,
          -0.9926897887558903,
          0.4248194163768752,
          -0.7737891564680249,
          -2.305809903822905,
          -1.2651656383714034,
          1.9835028631100977,
          1.2479941431297734,
          -0.1917395348875637,
          0.2750411674500079,
          0.2935713284342274,
          0.36131144606884585,
          0.7886739126485992,
          -0.12469467846471595,
          -1.6939637097953788,
          0.622918339309211,
          -1.048959254521311,
          1.1550563903320934,
          -1.32374739631727,
          0.22468511670440153,
          -0.011841782877135732,
          -0.10552746937631269,
          -0.5098692108134364,
          -0.23274102415992018,
          -0.6511251657587834,
          -1.042110331853821,
          0.4831655257270956,
          0.45639257228494157,
          0.49090299196787446,
          -0.3461598306876503,
          0.026950653027867182,
          0.7690796454969269,
          0.9187729421320473,
          -0.5090184216288456,
          0.23761712573069083,
          1.4153047180981166,
          -0.351279531158534,
          1.655547940135908,
          -0.8874936298517963,
          -0.5738575262962571,
          0.23888294647194033,
          -0.7581496631534301,
          0.851744743665249
         ],
         "xaxis": "x15",
         "y": [
          -2.997406608311242,
          0.10249790616161769,
          0.413552337766213,
          -0.7213067947750976,
          0.022132314414748295,
          0.6747171399161759,
          -0.24146887982582543,
          0.05574219757835409,
          -0.4344330093300636,
          -1.1814007310594277,
          0.15433500905338188,
          -0.46978416700066283,
          0.8877618944082435,
          -0.20206702255376482,
          -1.4115233502709037,
          1.2689857900671335,
          0.4784560516042179,
          2.2593489055579132,
          -0.4713546150342186,
          -0.8150823278419957,
          0.24605228132442553,
          1.3983284524109587,
          0.1340285271188061,
          0.1821941374690226,
          0.7796965555404504,
          1.3957240998050646,
          -0.09436588577686467,
          2.3763951411338406,
          -0.8210322395572709,
          -0.7238473646535825,
          -0.6153381443426702,
          -0.23618469124826236,
          -0.5044741151570341,
          1.2113033430942026,
          0.6861793391378319,
          -0.0076680350033603,
          -0.6069662356067594,
          -0.8024831446710116,
          1.1932594862380586,
          1.0293399642089083,
          1.0741392926111917,
          0.01822692363329739,
          -0.8743467477374735,
          1.1861097811646617,
          0.6612000776377134,
          1.9164800878878911,
          0.750258304688333,
          -0.7788493542443379,
          0.6892094393005193,
          0.6307142576338273,
          -2.189752922517158,
          -0.7328986493176874,
          0.24820185792376268,
          0.2715734762274199,
          -1.4911630961880542,
          0.8237915786236065,
          1.1075565976165815,
          -0.7290193065248117,
          -0.46802303560511616,
          -0.5883046253859369,
          0.3648494036512118,
          -0.05771724933292349,
          -0.4440705630528392,
          -1.3236501300666088,
          -0.7838341928129381,
          -0.2797625915478993,
          1.7702390954941136,
          -0.045330338466166284,
          -0.076667488626622,
          -1.1383285052474656,
          -0.9421745260790562,
          2.1999811022127105,
          0.011004043264536965,
          0.9228214983397348,
          -0.5502056765197774,
          -0.1968128800761642,
          0.7540268139892187,
          -0.016170908036249904,
          -0.3605229363198243,
          -0.04372504862739124,
          0.6785453122885303,
          1.126931950186432,
          0.6620887101093931,
          1.7245166556851053,
          0.7109368901077827,
          -0.030607256125364815,
          -0.538247118018449,
          1.154232302594473,
          0.13477192183970227,
          0.8736884219723613,
          0.2593336814369859,
          -1.4381888248251582,
          -0.25358136117702385,
          -0.13227731911381488,
          1.0312069448851797,
          -0.6570253233928224,
          2.095592440614549,
          -0.5057302121780123,
          0.6296421702766222,
          -0.20801372701984316
         ],
         "yaxis": "y15"
        },
        {
         "histfunc": "count",
         "histnorm": "",
         "marker": {
          "color": "rgba(128, 0, 128, 1.0)",
          "line": {
           "color": "#4D5663",
           "width": 1.3
          }
         },
         "name": "D",
         "nbinsx": 10,
         "opacity": 0.8,
         "orientation": "v",
         "type": "histogram",
         "x": [
          -2.997406608311242,
          0.10249790616161769,
          0.413552337766213,
          -0.7213067947750976,
          0.022132314414748295,
          0.6747171399161759,
          -0.24146887982582543,
          0.05574219757835409,
          -0.4344330093300636,
          -1.1814007310594277,
          0.15433500905338188,
          -0.46978416700066283,
          0.8877618944082435,
          -0.20206702255376482,
          -1.4115233502709037,
          1.2689857900671335,
          0.4784560516042179,
          2.2593489055579132,
          -0.4713546150342186,
          -0.8150823278419957,
          0.24605228132442553,
          1.3983284524109587,
          0.1340285271188061,
          0.1821941374690226,
          0.7796965555404504,
          1.3957240998050646,
          -0.09436588577686467,
          2.3763951411338406,
          -0.8210322395572709,
          -0.7238473646535825,
          -0.6153381443426702,
          -0.23618469124826236,
          -0.5044741151570341,
          1.2113033430942026,
          0.6861793391378319,
          -0.0076680350033603,
          -0.6069662356067594,
          -0.8024831446710116,
          1.1932594862380586,
          1.0293399642089083,
          1.0741392926111917,
          0.01822692363329739,
          -0.8743467477374735,
          1.1861097811646617,
          0.6612000776377134,
          1.9164800878878911,
          0.750258304688333,
          -0.7788493542443379,
          0.6892094393005193,
          0.6307142576338273,
          -2.189752922517158,
          -0.7328986493176874,
          0.24820185792376268,
          0.2715734762274199,
          -1.4911630961880542,
          0.8237915786236065,
          1.1075565976165815,
          -0.7290193065248117,
          -0.46802303560511616,
          -0.5883046253859369,
          0.3648494036512118,
          -0.05771724933292349,
          -0.4440705630528392,
          -1.3236501300666088,
          -0.7838341928129381,
          -0.2797625915478993,
          1.7702390954941136,
          -0.045330338466166284,
          -0.076667488626622,
          -1.1383285052474656,
          -0.9421745260790562,
          2.1999811022127105,
          0.011004043264536965,
          0.9228214983397348,
          -0.5502056765197774,
          -0.1968128800761642,
          0.7540268139892187,
          -0.016170908036249904,
          -0.3605229363198243,
          -0.04372504862739124,
          0.6785453122885303,
          1.126931950186432,
          0.6620887101093931,
          1.7245166556851053,
          0.7109368901077827,
          -0.030607256125364815,
          -0.538247118018449,
          1.154232302594473,
          0.13477192183970227,
          0.8736884219723613,
          0.2593336814369859,
          -1.4381888248251582,
          -0.25358136117702385,
          -0.13227731911381488,
          1.0312069448851797,
          -0.6570253233928224,
          2.095592440614549,
          -0.5057302121780123,
          0.6296421702766222,
          -0.20801372701984316
         ],
         "xaxis": "x16",
         "yaxis": "y16"
        }
       ],
       "layout": {
        "autosize": true,
        "bargap": 0.02,
        "legend": {
         "bgcolor": "#F5F6F9",
         "font": {
          "color": "#4D5663"
         }
        },
        "paper_bgcolor": "#F5F6F9",
        "plot_bgcolor": "#F5F6F9",
        "showlegend": false,
        "template": {
         "data": {
          "bar": [
           {
            "error_x": {
             "color": "#2a3f5f"
            },
            "error_y": {
             "color": "#2a3f5f"
            },
            "marker": {
             "line": {
              "color": "#E5ECF6",
              "width": 0.5
             },
             "pattern": {
              "fillmode": "overlay",
              "size": 10,
              "solidity": 0.2
             }
            },
            "type": "bar"
           }
          ],
          "barpolar": [
           {
            "marker": {
             "line": {
              "color": "#E5ECF6",
              "width": 0.5
             },
             "pattern": {
              "fillmode": "overlay",
              "size": 10,
              "solidity": 0.2
             }
            },
            "type": "barpolar"
           }
          ],
          "carpet": [
           {
            "aaxis": {
             "endlinecolor": "#2a3f5f",
             "gridcolor": "white",
             "linecolor": "white",
             "minorgridcolor": "white",
             "startlinecolor": "#2a3f5f"
            },
            "baxis": {
             "endlinecolor": "#2a3f5f",
             "gridcolor": "white",
             "linecolor": "white",
             "minorgridcolor": "white",
             "startlinecolor": "#2a3f5f"
            },
            "type": "carpet"
           }
          ],
          "choropleth": [
           {
            "colorbar": {
             "outlinewidth": 0,
             "ticks": ""
            },
            "type": "choropleth"
           }
          ],
          "contour": [
           {
            "colorbar": {
             "outlinewidth": 0,
             "ticks": ""
            },
            "colorscale": [
             [
              0,
              "#0d0887"
             ],
             [
              0.1111111111111111,
              "#46039f"
             ],
             [
              0.2222222222222222,
              "#7201a8"
             ],
             [
              0.3333333333333333,
              "#9c179e"
             ],
             [
              0.4444444444444444,
              "#bd3786"
             ],
             [
              0.5555555555555556,
              "#d8576b"
             ],
             [
              0.6666666666666666,
              "#ed7953"
             ],
             [
              0.7777777777777778,
              "#fb9f3a"
             ],
             [
              0.8888888888888888,
              "#fdca26"
             ],
             [
              1,
              "#f0f921"
             ]
            ],
            "type": "contour"
           }
          ],
          "contourcarpet": [
           {
            "colorbar": {
             "outlinewidth": 0,
             "ticks": ""
            },
            "type": "contourcarpet"
           }
          ],
          "heatmap": [
           {
            "colorbar": {
             "outlinewidth": 0,
             "ticks": ""
            },
            "colorscale": [
             [
              0,
              "#0d0887"
             ],
             [
              0.1111111111111111,
              "#46039f"
             ],
             [
              0.2222222222222222,
              "#7201a8"
             ],
             [
              0.3333333333333333,
              "#9c179e"
             ],
             [
              0.4444444444444444,
              "#bd3786"
             ],
             [
              0.5555555555555556,
              "#d8576b"
             ],
             [
              0.6666666666666666,
              "#ed7953"
             ],
             [
              0.7777777777777778,
              "#fb9f3a"
             ],
             [
              0.8888888888888888,
              "#fdca26"
             ],
             [
              1,
              "#f0f921"
             ]
            ],
            "type": "heatmap"
           }
          ],
          "heatmapgl": [
           {
            "colorbar": {
             "outlinewidth": 0,
             "ticks": ""
            },
            "colorscale": [
             [
              0,
              "#0d0887"
             ],
             [
              0.1111111111111111,
              "#46039f"
             ],
             [
              0.2222222222222222,
              "#7201a8"
             ],
             [
              0.3333333333333333,
              "#9c179e"
             ],
             [
              0.4444444444444444,
              "#bd3786"
             ],
             [
              0.5555555555555556,
              "#d8576b"
             ],
             [
              0.6666666666666666,
              "#ed7953"
             ],
             [
              0.7777777777777778,
              "#fb9f3a"
             ],
             [
              0.8888888888888888,
              "#fdca26"
             ],
             [
              1,
              "#f0f921"
             ]
            ],
            "type": "heatmapgl"
           }
          ],
          "histogram": [
           {
            "marker": {
             "pattern": {
              "fillmode": "overlay",
              "size": 10,
              "solidity": 0.2
             }
            },
            "type": "histogram"
           }
          ],
          "histogram2d": [
           {
            "colorbar": {
             "outlinewidth": 0,
             "ticks": ""
            },
            "colorscale": [
             [
              0,
              "#0d0887"
             ],
             [
              0.1111111111111111,
              "#46039f"
             ],
             [
              0.2222222222222222,
              "#7201a8"
             ],
             [
              0.3333333333333333,
              "#9c179e"
             ],
             [
              0.4444444444444444,
              "#bd3786"
             ],
             [
              0.5555555555555556,
              "#d8576b"
             ],
             [
              0.6666666666666666,
              "#ed7953"
             ],
             [
              0.7777777777777778,
              "#fb9f3a"
             ],
             [
              0.8888888888888888,
              "#fdca26"
             ],
             [
              1,
              "#f0f921"
             ]
            ],
            "type": "histogram2d"
           }
          ],
          "histogram2dcontour": [
           {
            "colorbar": {
             "outlinewidth": 0,
             "ticks": ""
            },
            "colorscale": [
             [
              0,
              "#0d0887"
             ],
             [
              0.1111111111111111,
              "#46039f"
             ],
             [
              0.2222222222222222,
              "#7201a8"
             ],
             [
              0.3333333333333333,
              "#9c179e"
             ],
             [
              0.4444444444444444,
              "#bd3786"
             ],
             [
              0.5555555555555556,
              "#d8576b"
             ],
             [
              0.6666666666666666,
              "#ed7953"
             ],
             [
              0.7777777777777778,
              "#fb9f3a"
             ],
             [
              0.8888888888888888,
              "#fdca26"
             ],
             [
              1,
              "#f0f921"
             ]
            ],
            "type": "histogram2dcontour"
           }
          ],
          "mesh3d": [
           {
            "colorbar": {
             "outlinewidth": 0,
             "ticks": ""
            },
            "type": "mesh3d"
           }
          ],
          "parcoords": [
           {
            "line": {
             "colorbar": {
              "outlinewidth": 0,
              "ticks": ""
             }
            },
            "type": "parcoords"
           }
          ],
          "pie": [
           {
            "automargin": true,
            "type": "pie"
           }
          ],
          "scatter": [
           {
            "fillpattern": {
             "fillmode": "overlay",
             "size": 10,
             "solidity": 0.2
            },
            "type": "scatter"
           }
          ],
          "scatter3d": [
           {
            "line": {
             "colorbar": {
              "outlinewidth": 0,
              "ticks": ""
             }
            },
            "marker": {
             "colorbar": {
              "outlinewidth": 0,
              "ticks": ""
             }
            },
            "type": "scatter3d"
           }
          ],
          "scattercarpet": [
           {
            "marker": {
             "colorbar": {
              "outlinewidth": 0,
              "ticks": ""
             }
            },
            "type": "scattercarpet"
           }
          ],
          "scattergeo": [
           {
            "marker": {
             "colorbar": {
              "outlinewidth": 0,
              "ticks": ""
             }
            },
            "type": "scattergeo"
           }
          ],
          "scattergl": [
           {
            "marker": {
             "colorbar": {
              "outlinewidth": 0,
              "ticks": ""
             }
            },
            "type": "scattergl"
           }
          ],
          "scattermapbox": [
           {
            "marker": {
             "colorbar": {
              "outlinewidth": 0,
              "ticks": ""
             }
            },
            "type": "scattermapbox"
           }
          ],
          "scatterpolar": [
           {
            "marker": {
             "colorbar": {
              "outlinewidth": 0,
              "ticks": ""
             }
            },
            "type": "scatterpolar"
           }
          ],
          "scatterpolargl": [
           {
            "marker": {
             "colorbar": {
              "outlinewidth": 0,
              "ticks": ""
             }
            },
            "type": "scatterpolargl"
           }
          ],
          "scatterternary": [
           {
            "marker": {
             "colorbar": {
              "outlinewidth": 0,
              "ticks": ""
             }
            },
            "type": "scatterternary"
           }
          ],
          "surface": [
           {
            "colorbar": {
             "outlinewidth": 0,
             "ticks": ""
            },
            "colorscale": [
             [
              0,
              "#0d0887"
             ],
             [
              0.1111111111111111,
              "#46039f"
             ],
             [
              0.2222222222222222,
              "#7201a8"
             ],
             [
              0.3333333333333333,
              "#9c179e"
             ],
             [
              0.4444444444444444,
              "#bd3786"
             ],
             [
              0.5555555555555556,
              "#d8576b"
             ],
             [
              0.6666666666666666,
              "#ed7953"
             ],
             [
              0.7777777777777778,
              "#fb9f3a"
             ],
             [
              0.8888888888888888,
              "#fdca26"
             ],
             [
              1,
              "#f0f921"
             ]
            ],
            "type": "surface"
           }
          ],
          "table": [
           {
            "cells": {
             "fill": {
              "color": "#EBF0F8"
             },
             "line": {
              "color": "white"
             }
            },
            "header": {
             "fill": {
              "color": "#C8D4E3"
             },
             "line": {
              "color": "white"
             }
            },
            "type": "table"
           }
          ]
         },
         "layout": {
          "annotationdefaults": {
           "arrowcolor": "#2a3f5f",
           "arrowhead": 0,
           "arrowwidth": 1
          },
          "autotypenumbers": "strict",
          "coloraxis": {
           "colorbar": {
            "outlinewidth": 0,
            "ticks": ""
           }
          },
          "colorscale": {
           "diverging": [
            [
             0,
             "#8e0152"
            ],
            [
             0.1,
             "#c51b7d"
            ],
            [
             0.2,
             "#de77ae"
            ],
            [
             0.3,
             "#f1b6da"
            ],
            [
             0.4,
             "#fde0ef"
            ],
            [
             0.5,
             "#f7f7f7"
            ],
            [
             0.6,
             "#e6f5d0"
            ],
            [
             0.7,
             "#b8e186"
            ],
            [
             0.8,
             "#7fbc41"
            ],
            [
             0.9,
             "#4d9221"
            ],
            [
             1,
             "#276419"
            ]
           ],
           "sequential": [
            [
             0,
             "#0d0887"
            ],
            [
             0.1111111111111111,
             "#46039f"
            ],
            [
             0.2222222222222222,
             "#7201a8"
            ],
            [
             0.3333333333333333,
             "#9c179e"
            ],
            [
             0.4444444444444444,
             "#bd3786"
            ],
            [
             0.5555555555555556,
             "#d8576b"
            ],
            [
             0.6666666666666666,
             "#ed7953"
            ],
            [
             0.7777777777777778,
             "#fb9f3a"
            ],
            [
             0.8888888888888888,
             "#fdca26"
            ],
            [
             1,
             "#f0f921"
            ]
           ],
           "sequentialminus": [
            [
             0,
             "#0d0887"
            ],
            [
             0.1111111111111111,
             "#46039f"
            ],
            [
             0.2222222222222222,
             "#7201a8"
            ],
            [
             0.3333333333333333,
             "#9c179e"
            ],
            [
             0.4444444444444444,
             "#bd3786"
            ],
            [
             0.5555555555555556,
             "#d8576b"
            ],
            [
             0.6666666666666666,
             "#ed7953"
            ],
            [
             0.7777777777777778,
             "#fb9f3a"
            ],
            [
             0.8888888888888888,
             "#fdca26"
            ],
            [
             1,
             "#f0f921"
            ]
           ]
          },
          "colorway": [
           "#636efa",
           "#EF553B",
           "#00cc96",
           "#ab63fa",
           "#FFA15A",
           "#19d3f3",
           "#FF6692",
           "#B6E880",
           "#FF97FF",
           "#FECB52"
          ],
          "font": {
           "color": "#2a3f5f"
          },
          "geo": {
           "bgcolor": "white",
           "lakecolor": "white",
           "landcolor": "#E5ECF6",
           "showlakes": true,
           "showland": true,
           "subunitcolor": "white"
          },
          "hoverlabel": {
           "align": "left"
          },
          "hovermode": "closest",
          "mapbox": {
           "style": "light"
          },
          "paper_bgcolor": "white",
          "plot_bgcolor": "#E5ECF6",
          "polar": {
           "angularaxis": {
            "gridcolor": "white",
            "linecolor": "white",
            "ticks": ""
           },
           "bgcolor": "#E5ECF6",
           "radialaxis": {
            "gridcolor": "white",
            "linecolor": "white",
            "ticks": ""
           }
          },
          "scene": {
           "xaxis": {
            "backgroundcolor": "#E5ECF6",
            "gridcolor": "white",
            "gridwidth": 2,
            "linecolor": "white",
            "showbackground": true,
            "ticks": "",
            "zerolinecolor": "white"
           },
           "yaxis": {
            "backgroundcolor": "#E5ECF6",
            "gridcolor": "white",
            "gridwidth": 2,
            "linecolor": "white",
            "showbackground": true,
            "ticks": "",
            "zerolinecolor": "white"
           },
           "zaxis": {
            "backgroundcolor": "#E5ECF6",
            "gridcolor": "white",
            "gridwidth": 2,
            "linecolor": "white",
            "showbackground": true,
            "ticks": "",
            "zerolinecolor": "white"
           }
          },
          "shapedefaults": {
           "line": {
            "color": "#2a3f5f"
           }
          },
          "ternary": {
           "aaxis": {
            "gridcolor": "white",
            "linecolor": "white",
            "ticks": ""
           },
           "baxis": {
            "gridcolor": "white",
            "linecolor": "white",
            "ticks": ""
           },
           "bgcolor": "#E5ECF6",
           "caxis": {
            "gridcolor": "white",
            "linecolor": "white",
            "ticks": ""
           }
          },
          "title": {
           "x": 0.05
          },
          "xaxis": {
           "automargin": true,
           "gridcolor": "white",
           "linecolor": "white",
           "ticks": "",
           "title": {
            "standoff": 15
           },
           "zerolinecolor": "white",
           "zerolinewidth": 2
          },
          "yaxis": {
           "automargin": true,
           "gridcolor": "white",
           "linecolor": "white",
           "ticks": "",
           "title": {
            "standoff": 15
           },
           "zerolinecolor": "white",
           "zerolinewidth": 2
          }
         }
        },
        "title": {
         "font": {
          "color": "#4D5663"
         }
        },
        "xaxis": {
         "anchor": "y",
         "autorange": true,
         "domain": [
          0,
          0.2125
         ],
         "gridcolor": "#E1E5ED",
         "range": [
          -3,
          3
         ],
         "showgrid": false,
         "tickfont": {
          "color": "#4D5663"
         },
         "title": {
          "font": {
           "color": "#4D5663"
          },
          "text": ""
         },
         "type": "linear",
         "zerolinecolor": "#E1E5ED"
        },
        "xaxis10": {
         "anchor": "y10",
         "autorange": true,
         "domain": [
          0.2625,
          0.475
         ],
         "gridcolor": "#E1E5ED",
         "range": [
          -2.472427299065072,
          4.220999069063867
         ],
         "showgrid": false,
         "tickfont": {
          "color": "#4D5663"
         },
         "title": {
          "font": {
           "color": "#4D5663"
          },
          "text": ""
         },
         "type": "linear",
         "zerolinecolor": "#E1E5ED"
        },
        "xaxis11": {
         "anchor": "y11",
         "autorange": true,
         "domain": [
          0.525,
          0.7375
         ],
         "gridcolor": "#E1E5ED",
         "range": [
          -3,
          2
         ],
         "showgrid": false,
         "tickfont": {
          "color": "#4D5663"
         },
         "title": {
          "font": {
           "color": "#4D5663"
          },
          "text": ""
         },
         "type": "linear",
         "zerolinecolor": "#E1E5ED"
        },
        "xaxis12": {
         "anchor": "y12",
         "autorange": true,
         "domain": [
          0.7875,
          1
         ],
         "gridcolor": "#E1E5ED",
         "range": [
          -3.3991444067937047,
          2.7781329396163033
         ],
         "showgrid": false,
         "tickfont": {
          "color": "#4D5663"
         },
         "title": {
          "font": {
           "color": "#4D5663"
          },
          "text": ""
         },
         "type": "linear",
         "zerolinecolor": "#E1E5ED"
        },
        "xaxis13": {
         "anchor": "y13",
         "autorange": true,
         "domain": [
          0,
          0.2125
         ],
         "gridcolor": "#E1E5ED",
         "range": [
          -2.965726781104812,
          3.1949282647159887
         ],
         "showgrid": false,
         "tickfont": {
          "color": "#4D5663"
         },
         "title": {
          "font": {
           "color": "#4D5663"
          },
          "text": ""
         },
         "type": "linear",
         "zerolinecolor": "#E1E5ED"
        },
        "xaxis14": {
         "anchor": "y14",
         "autorange": true,
         "domain": [
          0.2625,
          0.475
         ],
         "gridcolor": "#E1E5ED",
         "range": [
          -2.472427299065072,
          4.220999069063867
         ],
         "showgrid": false,
         "tickfont": {
          "color": "#4D5663"
         },
         "title": {
          "font": {
           "color": "#4D5663"
          },
          "text": ""
         },
         "type": "linear",
         "zerolinecolor": "#E1E5ED"
        },
        "xaxis15": {
         "anchor": "y15",
         "autorange": true,
         "domain": [
          0.525,
          0.7375
         ],
         "gridcolor": "#E1E5ED",
         "range": [
          -2.8843763740347033,
          2.322105182734206
         ],
         "showgrid": false,
         "tickfont": {
          "color": "#4D5663"
         },
         "title": {
          "font": {
           "color": "#4D5663"
          },
          "text": ""
         },
         "type": "linear",
         "zerolinecolor": "#E1E5ED"
        },
        "xaxis16": {
         "anchor": "y16",
         "autorange": true,
         "domain": [
          0.7875,
          1
         ],
         "gridcolor": "#E1E5ED",
         "range": [
          -3.5,
          2.5
         ],
         "showgrid": false,
         "tickfont": {
          "color": "#4D5663"
         },
         "title": {
          "font": {
           "color": "#4D5663"
          },
          "text": ""
         },
         "type": "linear",
         "zerolinecolor": "#E1E5ED"
        },
        "xaxis2": {
         "anchor": "y2",
         "autorange": true,
         "domain": [
          0.2625,
          0.475
         ],
         "gridcolor": "#E1E5ED",
         "range": [
          -2.472427299065072,
          4.220999069063867
         ],
         "showgrid": false,
         "tickfont": {
          "color": "#4D5663"
         },
         "title": {
          "font": {
           "color": "#4D5663"
          },
          "text": ""
         },
         "type": "linear",
         "zerolinecolor": "#E1E5ED"
        },
        "xaxis3": {
         "anchor": "y3",
         "autorange": true,
         "domain": [
          0.525,
          0.7375
         ],
         "gridcolor": "#E1E5ED",
         "range": [
          -2.8843763740347033,
          2.322105182734206
         ],
         "showgrid": false,
         "tickfont": {
          "color": "#4D5663"
         },
         "title": {
          "font": {
           "color": "#4D5663"
          },
          "text": ""
         },
         "type": "linear",
         "zerolinecolor": "#E1E5ED"
        },
        "xaxis4": {
         "anchor": "y4",
         "autorange": true,
         "domain": [
          0.7875,
          1
         ],
         "gridcolor": "#E1E5ED",
         "range": [
          -3.3991444067937047,
          2.7781329396163033
         ],
         "showgrid": false,
         "tickfont": {
          "color": "#4D5663"
         },
         "title": {
          "font": {
           "color": "#4D5663"
          },
          "text": ""
         },
         "type": "linear",
         "zerolinecolor": "#E1E5ED"
        },
        "xaxis5": {
         "anchor": "y5",
         "autorange": true,
         "domain": [
          0,
          0.2125
         ],
         "gridcolor": "#E1E5ED",
         "range": [
          -2.965726781104812,
          3.1949282647159887
         ],
         "showgrid": false,
         "tickfont": {
          "color": "#4D5663"
         },
         "title": {
          "font": {
           "color": "#4D5663"
          },
          "text": ""
         },
         "type": "linear",
         "zerolinecolor": "#E1E5ED"
        },
        "xaxis6": {
         "anchor": "y6",
         "autorange": true,
         "domain": [
          0.2625,
          0.475
         ],
         "gridcolor": "#E1E5ED",
         "range": [
          -3,
          4
         ],
         "showgrid": false,
         "tickfont": {
          "color": "#4D5663"
         },
         "title": {
          "font": {
           "color": "#4D5663"
          },
          "text": ""
         },
         "type": "linear",
         "zerolinecolor": "#E1E5ED"
        },
        "xaxis7": {
         "anchor": "y7",
         "autorange": true,
         "domain": [
          0.525,
          0.7375
         ],
         "gridcolor": "#E1E5ED",
         "range": [
          -2.8843763740347033,
          2.322105182734206
         ],
         "showgrid": false,
         "tickfont": {
          "color": "#4D5663"
         },
         "title": {
          "font": {
           "color": "#4D5663"
          },
          "text": ""
         },
         "type": "linear",
         "zerolinecolor": "#E1E5ED"
        },
        "xaxis8": {
         "anchor": "y8",
         "autorange": true,
         "domain": [
          0.7875,
          1
         ],
         "gridcolor": "#E1E5ED",
         "range": [
          -3.3991444067937047,
          2.7781329396163033
         ],
         "showgrid": false,
         "tickfont": {
          "color": "#4D5663"
         },
         "title": {
          "font": {
           "color": "#4D5663"
          },
          "text": ""
         },
         "type": "linear",
         "zerolinecolor": "#E1E5ED"
        },
        "xaxis9": {
         "anchor": "y9",
         "autorange": true,
         "domain": [
          0,
          0.2125
         ],
         "gridcolor": "#E1E5ED",
         "range": [
          -2.965726781104812,
          3.1949282647159887
         ],
         "showgrid": false,
         "tickfont": {
          "color": "#4D5663"
         },
         "title": {
          "font": {
           "color": "#4D5663"
          },
          "text": ""
         },
         "type": "linear",
         "zerolinecolor": "#E1E5ED"
        },
        "yaxis": {
         "anchor": "x",
         "autorange": true,
         "domain": [
          0.8025,
          1
         ],
         "gridcolor": "#E1E5ED",
         "range": [
          0,
          42.10526315789474
         ],
         "showgrid": false,
         "tickfont": {
          "color": "#4D5663"
         },
         "title": {
          "font": {
           "color": "#4D5663"
          },
          "text": ""
         },
         "zerolinecolor": "#E1E5ED"
        },
        "yaxis10": {
         "anchor": "x10",
         "autorange": true,
         "domain": [
          0.2675,
          0.465
         ],
         "gridcolor": "#E1E5ED",
         "range": [
          -3.378188767757589,
          2.8159175764570916
         ],
         "showgrid": false,
         "tickfont": {
          "color": "#4D5663"
         },
         "title": {
          "font": {
           "color": "#4D5663"
          },
          "text": ""
         },
         "type": "linear",
         "zerolinecolor": "#E1E5ED"
        },
        "yaxis11": {
         "anchor": "x11",
         "autorange": true,
         "domain": [
          0.2675,
          0.465
         ],
         "gridcolor": "#E1E5ED",
         "range": [
          0,
          21.05263157894737
         ],
         "showgrid": false,
         "tickfont": {
          "color": "#4D5663"
         },
         "title": {
          "font": {
           "color": "#4D5663"
          },
          "text": ""
         },
         "zerolinecolor": "#E1E5ED"
        },
        "yaxis12": {
         "anchor": "x12",
         "autorange": true,
         "domain": [
          0.2675,
          0.465
         ],
         "gridcolor": "#E1E5ED",
         "range": [
          -3.378188767757589,
          2.8159175764570916
         ],
         "showgrid": false,
         "tickfont": {
          "color": "#4D5663"
         },
         "title": {
          "font": {
           "color": "#4D5663"
          },
          "text": ""
         },
         "type": "linear",
         "zerolinecolor": "#E1E5ED"
        },
        "yaxis13": {
         "anchor": "x13",
         "autorange": true,
         "domain": [
          0,
          0.1975
         ],
         "gridcolor": "#E1E5ED",
         "range": [
          -3.98503260784861,
          3.364021140671208
         ],
         "showgrid": false,
         "tickfont": {
          "color": "#4D5663"
         },
         "title": {
          "font": {
           "color": "#4D5663"
          },
          "text": ""
         },
         "type": "linear",
         "zerolinecolor": "#E1E5ED"
        },
        "yaxis14": {
         "anchor": "x14",
         "autorange": true,
         "domain": [
          0,
          0.1975
         ],
         "gridcolor": "#E1E5ED",
         "range": [
          -3.98503260784861,
          3.364021140671208
         ],
         "showgrid": false,
         "tickfont": {
          "color": "#4D5663"
         },
         "title": {
          "font": {
           "color": "#4D5663"
          },
          "text": ""
         },
         "type": "linear",
         "zerolinecolor": "#E1E5ED"
        },
        "yaxis15": {
         "anchor": "x15",
         "autorange": true,
         "domain": [
          0,
          0.1975
         ],
         "gridcolor": "#E1E5ED",
         "range": [
          -3.98503260784861,
          3.364021140671208
         ],
         "showgrid": false,
         "tickfont": {
          "color": "#4D5663"
         },
         "title": {
          "font": {
           "color": "#4D5663"
          },
          "text": ""
         },
         "type": "linear",
         "zerolinecolor": "#E1E5ED"
        },
        "yaxis16": {
         "anchor": "x16",
         "autorange": true,
         "domain": [
          0,
          0.1975
         ],
         "gridcolor": "#E1E5ED",
         "range": [
          0,
          40
         ],
         "showgrid": false,
         "tickfont": {
          "color": "#4D5663"
         },
         "title": {
          "font": {
           "color": "#4D5663"
          },
          "text": ""
         },
         "zerolinecolor": "#E1E5ED"
        },
        "yaxis2": {
         "anchor": "x2",
         "autorange": true,
         "domain": [
          0.8025,
          1
         ],
         "gridcolor": "#E1E5ED",
         "range": [
          -3.550038428405778,
          3.779239912016955
         ],
         "showgrid": false,
         "tickfont": {
          "color": "#4D5663"
         },
         "title": {
          "font": {
           "color": "#4D5663"
          },
          "text": ""
         },
         "type": "linear",
         "zerolinecolor": "#E1E5ED"
        },
        "yaxis3": {
         "anchor": "x3",
         "autorange": true,
         "domain": [
          0.8025,
          1
         ],
         "gridcolor": "#E1E5ED",
         "range": [
          -3.550038428405778,
          3.779239912016955
         ],
         "showgrid": false,
         "tickfont": {
          "color": "#4D5663"
         },
         "title": {
          "font": {
           "color": "#4D5663"
          },
          "text": ""
         },
         "type": "linear",
         "zerolinecolor": "#E1E5ED"
        },
        "yaxis4": {
         "anchor": "x4",
         "autorange": true,
         "domain": [
          0.8025,
          1
         ],
         "gridcolor": "#E1E5ED",
         "range": [
          -3.550038428405778,
          3.779239912016955
         ],
         "showgrid": false,
         "tickfont": {
          "color": "#4D5663"
         },
         "title": {
          "font": {
           "color": "#4D5663"
          },
          "text": ""
         },
         "type": "linear",
         "zerolinecolor": "#E1E5ED"
        },
        "yaxis5": {
         "anchor": "x5",
         "autorange": true,
         "domain": [
          0.535,
          0.7325
         ],
         "gridcolor": "#E1E5ED",
         "range": [
          -3.1072700159775017,
          4.8558417859762955
         ],
         "showgrid": false,
         "tickfont": {
          "color": "#4D5663"
         },
         "title": {
          "font": {
           "color": "#4D5663"
          },
          "text": ""
         },
         "type": "linear",
         "zerolinecolor": "#E1E5ED"
        },
        "yaxis6": {
         "anchor": "x6",
         "autorange": true,
         "domain": [
          0.535,
          0.7325
         ],
         "gridcolor": "#E1E5ED",
         "range": [
          0,
          42.10526315789474
         ],
         "showgrid": false,
         "tickfont": {
          "color": "#4D5663"
         },
         "title": {
          "font": {
           "color": "#4D5663"
          },
          "text": ""
         },
         "zerolinecolor": "#E1E5ED"
        },
        "yaxis7": {
         "anchor": "x7",
         "autorange": true,
         "domain": [
          0.535,
          0.7325
         ],
         "gridcolor": "#E1E5ED",
         "range": [
          -3.1072700159775017,
          4.8558417859762955
         ],
         "showgrid": false,
         "tickfont": {
          "color": "#4D5663"
         },
         "title": {
          "font": {
           "color": "#4D5663"
          },
          "text": ""
         },
         "type": "linear",
         "zerolinecolor": "#E1E5ED"
        },
        "yaxis8": {
         "anchor": "x8",
         "autorange": true,
         "domain": [
          0.535,
          0.7325
         ],
         "gridcolor": "#E1E5ED",
         "range": [
          -3.1072700159775017,
          4.8558417859762955
         ],
         "showgrid": false,
         "tickfont": {
          "color": "#4D5663"
         },
         "title": {
          "font": {
           "color": "#4D5663"
          },
          "text": ""
         },
         "type": "linear",
         "zerolinecolor": "#E1E5ED"
        },
        "yaxis9": {
         "anchor": "x9",
         "autorange": true,
         "domain": [
          0.2675,
          0.465
         ],
         "gridcolor": "#E1E5ED",
         "range": [
          -3.378188767757589,
          2.8159175764570916
         ],
         "showgrid": false,
         "tickfont": {
          "color": "#4D5663"
         },
         "title": {
          "font": {
           "color": "#4D5663"
          },
          "text": ""
         },
         "type": "linear",
         "zerolinecolor": "#E1E5ED"
        }
       }
      },
      "image/png": "[encoded data removed]",
      "text/html": [
       "<div>                            <div id=\"bdb9c5b9-277e-4555-a9c1-9395d8342060\" class=\"plotly-graph-div\" style=\"height:525px; width:100%;\"></div>            <script type=\"text/javascript\">                require([\"plotly\"], function(Plotly) {                    window.PLOTLYENV=window.PLOTLYENV || {};\n",
       "                    window.PLOTLYENV.BASE_URL='https://plot.ly';                                    if (document.getElementById(\"bdb9c5b9-277e-4555-a9c1-9395d8342060\")) {                    Plotly.newPlot(                        \"bdb9c5b9-277e-4555-a9c1-9395d8342060\",                        [{\"histfunc\":\"count\",\"histnorm\":\"\",\"marker\":{\"color\":\"rgba(255, 153, 51, 1.0)\",\"line\":{\"color\":\"#4D5663\",\"width\":1.3}},\"name\":\"A\",\"nbinsx\":10,\"opacity\":0.8,\"orientation\":\"v\",\"x\":[0.018612650461357173,0.9960448857866494,0.5348989996252956,0.2744644691707193,-1.5365837996629519,0.6925164494907833,1.6355335882891844,-0.4847552691952551,0.30614385275660383,0.6124200551769818,1.1083663399431376,1.0180355605534988,1.257435789537904,-0.971833663638946,-0.6058590356787764,0.22023782953865775,2.120845276514453,-0.39456862325103875,0.6062219318447225,-1.7401149822576623,0.9742836776250653,-0.4031138669609755,1.396780034995444,0.7589153724023462,0.3613077716338431,-1.1240045019293001,-0.348857032578735,-0.6516516862967474,2.196241159251179,0.32989001608345575,-0.867630944602537,0.3632992521805315,-0.06810963771889461,-1.4541900245405381,1.3454753011398228,-1.9530849822802803,-0.8912013360228284,0.470947892105552,-0.15985505994419505,0.2198163702457327,-0.23010375469522198,0.5707062620139806,1.0719425958771212,0.7066538833117731,-0.3630221878876869,0.3922575727286456,-0.3612705276291241,-0.29550629725886385,0.5225653600745495,-0.27305291477145976,-1.3368444755064772,-0.7312444638403542,1.2372752954036261,0.43425609169846763,0.1378203123065723,-2.5650700100831454,1.5713680268021728,0.17299087523119103,0.8253910603445144,-0.1943973629179473,1.2022341699975243,-1.024967266248822,1.434392749628085,-0.2644970147935291,0.9120358181465171,-0.3574958316214275,-1.179661643313809,-1.2377308248032741,1.1327664908798656,0.8516976018670983,-0.011298938254510052,-1.2175903618027375,0.3257227008931923,0.9257341855583504,0.14031310714798895,-0.4195496491587592,1.2758452304798396,1.815682574463287,0.873722200060419,0.8332601650259654,-0.8665169598166514,-0.391384661683601,0.3137052464154313,0.9720372843795664,2.794271493694322,-1.8462934934409374,0.2964577706006214,0.5747909516562963,0.3515544444419624,0.6560688317045775,-1.825358297613211,0.17689201309241853,-0.7893616265432474,-0.7090282511585885,-0.06412212886610219,-1.6274770848951148,0.2871954929436289,-0.48615868570872567,0.3068728465283206,-0.46892326583647614],\"xaxis\":\"x\",\"yaxis\":\"y\",\"type\":\"histogram\"},{\"line\":{\"color\":\"rgba(128, 128, 128, 1.0)\",\"dash\":\"solid\",\"shape\":\"linear\",\"width\":1.3},\"marker\":{\"size\":2,\"symbol\":\"circle\"},\"mode\":\"markers\",\"name\":\"A\",\"text\":\"\",\"x\":[-0.14515941434662252,0.6806873926308932,-0.4635907081842978,-0.9133813580992908,0.33961520411379165,1.5359756763886903,0.5608200555640893,0.7385576598977033,0.3584101017217968,1.9681524054333133,0.9122347227604708,-1.208747759097325,1.0391099033587277,-0.04081664467136474,0.6920299931313932,0.17855709424490082,-0.5471926984690776,1.7684838359114352,-0.778441418564234,-0.5178855908859966,0.9554421418744045,1.981324589895577,-1.17791668305019,0.3635416602419813,1.4729249970268203,0.7169383023416109,-1.2414094580752362,-1.2454370486619037,-1.7753439436106342,-0.6803313710281736,-0.5941007653584087,1.29730024703594,-0.7575686405643377,1.4942790818364484,-0.6654988353214182,0.9003465610236291,0.1716342723004468,0.7738326789387621,-0.08714118904590173,-0.7714694142266564,0.5716227010443915,-0.8023726811909293,-0.32188924350996573,-0.9495064010735178,-0.1236980187298372,0.984595744764496,1.0096805551319956,-0.045044452402429505,-0.5996944687876562,-1.6598707450260282,0.6982590693953475,0.6628038847624309,-1.6797836633008574,1.08258578354228,0.3317032091015285,-0.5996108415625231,1.1787266939990753,-1.8858246311427032,0.4231740974380043,-0.43743434843633805,-1.2718057883980407,3.7856936387517033,-0.2778675274235196,0.37308634581461714,-0.7511575583029262,-0.4412683300216426,-0.5520539627737876,-1.2062055501876965,-0.7575196571867082,-0.5904982857173883,0.24853412195376048,-0.675739876593458,0.14891546824242163,0.5960418652525297,-2.037121868752909,-1.5681567204104996,-0.7249904679456038,-0.4891376531406688,-0.41806157762339813,-0.5998508532127527,-1.0328558517005673,0.6694597255695663,0.04969881038761035,0.3754027351884087,-0.09811199867557581,-0.6820977361199116,0.3209387499165821,0.9944285480742319,1.4563020824070612,-0.9133609870969249,-0.1844346272232779,0.4166235110059231,0.9665369943532935,0.1728104303703586,1.2548409050126537,-0.6782408136490494,0.6860085295644298,-0.22302236812107096,-0.9399304729507478,-0.6479042403168237],\"xaxis\":\"x2\",\"y\":[0.018612650461357173,0.9960448857866494,0.5348989996252956,0.2744644691707193,-1.5365837996629519,0.6925164494907833,1.6355335882891844,-0.4847552691952551,0.30614385275660383,0.6124200551769818,1.1083663399431376,1.0180355605534988,1.257435789537904,-0.971833663638946,-0.6058590356787764,0.22023782953865775,2.120845276514453,-0.39456862325103875,0.6062219318447225,-1.7401149822576623,0.9742836776250653,-0.4031138669609755,1.396780034995444,0.7589153724023462,0.3613077716338431,-1.1240045019293001,-0.348857032578735,-0.6516516862967474,2.196241159251179,0.32989001608345575,-0.867630944602537,0.3632992521805315,-0.06810963771889461,-1.4541900245405381,1.3454753011398228,-1.9530849822802803,-0.8912013360228284,0.470947892105552,-0.15985505994419505,0.2198163702457327,-0.23010375469522198,0.5707062620139806,1.0719425958771212,0.7066538833117731,-0.3630221878876869,0.3922575727286456,-0.3612705276291241,-0.29550629725886385,0.5225653600745495,-0.27305291477145976,-1.3368444755064772,-0.7312444638403542,1.2372752954036261,0.43425609169846763,0.1378203123065723,-2.5650700100831454,1.5713680268021728,0.17299087523119103,0.8253910603445144,-0.1943973629179473,1.2022341699975243,-1.024967266248822,1.434392749628085,-0.2644970147935291,0.9120358181465171,-0.3574958316214275,-1.179661643313809,-1.2377308248032741,1.1327664908798656,0.8516976018670983,-0.011298938254510052,-1.2175903618027375,0.3257227008931923,0.9257341855583504,0.14031310714798895,-0.4195496491587592,1.2758452304798396,1.815682574463287,0.873722200060419,0.8332601650259654,-0.8665169598166514,-0.391384661683601,0.3137052464154313,0.9720372843795664,2.794271493694322,-1.8462934934409374,0.2964577706006214,0.5747909516562963,0.3515544444419624,0.6560688317045775,-1.825358297613211,0.17689201309241853,-0.7893616265432474,-0.7090282511585885,-0.06412212886610219,-1.6274770848951148,0.2871954929436289,-0.48615868570872567,0.3068728465283206,-0.46892326583647614],\"yaxis\":\"y2\",\"type\":\"scatter\"},{\"line\":{\"color\":\"rgba(128, 128, 128, 1.0)\",\"dash\":\"solid\",\"shape\":\"linear\",\"width\":1.3},\"marker\":{\"size\":2,\"symbol\":\"circle\"},\"mode\":\"markers\",\"name\":\"A\",\"text\":\"\",\"x\":[-0.6631112137659735,-1.1423995334059467,0.5928751686945043,-1.1943316790433962,-0.7603827608348788,-1.297993782865933,0.9113825311823592,1.1762898155632082,-0.8942259524553294,0.3286718173304842,-0.5820546922659687,-0.9562209296191151,0.6157450258242222,-2.314765274166029,0.2337438522094003,0.5847192719125819,-0.40435925959311164,0.6296203798161512,0.37492020182302077,-1.7549033689682147,1.0403284170788798,-0.12508973689624178,-0.10347897984686757,-0.2906985014671275,0.22865057339429926,-1.306004479976751,-0.6527440085715561,1.8959637593422904,-1.6097628661704821,1.4065334795977154,1.2054517514144698,-0.4906707483797095,0.2223097976167643,1.8587610953926799,-0.39806462588795033,0.4491303797167707,-0.048811214581093006,-2.545774054410595,1.3685527042477281,0.679504792511501,1.19333168374123,1.3465029950881853,-1.301380383951909,-1.438760121760832,-0.4163266334621699,-1.6953036082267967,-0.17228230303715106,1.5827863640472826,-1.0812362354577663,0.2417167061520083,-1.5718938572145051,1.604663699145939,0.5273075301822094,0.4869251072421638,1.6003994114805054,0.771756114328106,0.35300628352328856,0.702670236247351,-0.9926897887558903,0.4248194163768752,-0.7737891564680249,-2.305809903822905,-1.2651656383714034,1.9835028631100977,1.2479941431297734,-0.1917395348875637,0.2750411674500079,0.2935713284342274,0.36131144606884585,0.7886739126485992,-0.12469467846471595,-1.6939637097953788,0.622918339309211,-1.048959254521311,1.1550563903320934,-1.32374739631727,0.22468511670440153,-0.011841782877135732,-0.10552746937631269,-0.5098692108134364,-0.23274102415992018,-0.6511251657587834,-1.042110331853821,0.4831655257270956,0.45639257228494157,0.49090299196787446,-0.3461598306876503,0.026950653027867182,0.7690796454969269,0.9187729421320473,-0.5090184216288456,0.23761712573069083,1.4153047180981166,-0.351279531158534,1.655547940135908,-0.8874936298517963,-0.5738575262962571,0.23888294647194033,-0.7581496631534301,0.851744743665249],\"xaxis\":\"x3\",\"y\":[0.018612650461357173,0.9960448857866494,0.5348989996252956,0.2744644691707193,-1.5365837996629519,0.6925164494907833,1.6355335882891844,-0.4847552691952551,0.30614385275660383,0.6124200551769818,1.1083663399431376,1.0180355605534988,1.257435789537904,-0.971833663638946,-0.6058590356787764,0.22023782953865775,2.120845276514453,-0.39456862325103875,0.6062219318447225,-1.7401149822576623,0.9742836776250653,-0.4031138669609755,1.396780034995444,0.7589153724023462,0.3613077716338431,-1.1240045019293001,-0.348857032578735,-0.6516516862967474,2.196241159251179,0.32989001608345575,-0.867630944602537,0.3632992521805315,-0.06810963771889461,-1.4541900245405381,1.3454753011398228,-1.9530849822802803,-0.8912013360228284,0.470947892105552,-0.15985505994419505,0.2198163702457327,-0.23010375469522198,0.5707062620139806,1.0719425958771212,0.7066538833117731,-0.3630221878876869,0.3922575727286456,-0.3612705276291241,-0.29550629725886385,0.5225653600745495,-0.27305291477145976,-1.3368444755064772,-0.7312444638403542,1.2372752954036261,0.43425609169846763,0.1378203123065723,-2.5650700100831454,1.5713680268021728,0.17299087523119103,0.8253910603445144,-0.1943973629179473,1.2022341699975243,-1.024967266248822,1.434392749628085,-0.2644970147935291,0.9120358181465171,-0.3574958316214275,-1.179661643313809,-1.2377308248032741,1.1327664908798656,0.8516976018670983,-0.011298938254510052,-1.2175903618027375,0.3257227008931923,0.9257341855583504,0.14031310714798895,-0.4195496491587592,1.2758452304798396,1.815682574463287,0.873722200060419,0.8332601650259654,-0.8665169598166514,-0.391384661683601,0.3137052464154313,0.9720372843795664,2.794271493694322,-1.8462934934409374,0.2964577706006214,0.5747909516562963,0.3515544444419624,0.6560688317045775,-1.825358297613211,0.17689201309241853,-0.7893616265432474,-0.7090282511585885,-0.06412212886610219,-1.6274770848951148,0.2871954929436289,-0.48615868570872567,0.3068728465283206,-0.46892326583647614],\"yaxis\":\"y3\",\"type\":\"scatter\"},{\"line\":{\"color\":\"rgba(128, 128, 128, 1.0)\",\"dash\":\"solid\",\"shape\":\"linear\",\"width\":1.3},\"marker\":{\"size\":2,\"symbol\":\"circle\"},\"mode\":\"markers\",\"name\":\"A\",\"text\":\"\",\"x\":[-2.997406608311242,0.10249790616161769,0.413552337766213,-0.7213067947750976,0.022132314414748295,0.6747171399161759,-0.24146887982582543,0.05574219757835409,-0.4344330093300636,-1.1814007310594277,0.15433500905338188,-0.46978416700066283,0.8877618944082435,-0.20206702255376482,-1.4115233502709037,1.2689857900671335,0.4784560516042179,2.2593489055579132,-0.4713546150342186,-0.8150823278419957,0.24605228132442553,1.3983284524109587,0.1340285271188061,0.1821941374690226,0.7796965555404504,1.3957240998050646,-0.09436588577686467,2.3763951411338406,-0.8210322395572709,-0.7238473646535825,-0.6153381443426702,-0.23618469124826236,-0.5044741151570341,1.2113033430942026,0.6861793391378319,-0.0076680350033603,-0.6069662356067594,-0.8024831446710116,1.1932594862380586,1.0293399642089083,1.0741392926111917,0.01822692363329739,-0.8743467477374735,1.1861097811646617,0.6612000776377134,1.9164800878878911,0.750258304688333,-0.7788493542443379,0.6892094393005193,0.6307142576338273,-2.189752922517158,-0.7328986493176874,0.24820185792376268,0.2715734762274199,-1.4911630961880542,0.8237915786236065,1.1075565976165815,-0.7290193065248117,-0.46802303560511616,-0.5883046253859369,0.3648494036512118,-0.05771724933292349,-0.4440705630528392,-1.3236501300666088,-0.7838341928129381,-0.2797625915478993,1.7702390954941136,-0.045330338466166284,-0.076667488626622,-1.1383285052474656,-0.9421745260790562,2.1999811022127105,0.011004043264536965,0.9228214983397348,-0.5502056765197774,-0.1968128800761642,0.7540268139892187,-0.016170908036249904,-0.3605229363198243,-0.04372504862739124,0.6785453122885303,1.126931950186432,0.6620887101093931,1.7245166556851053,0.7109368901077827,-0.030607256125364815,-0.538247118018449,1.154232302594473,0.13477192183970227,0.8736884219723613,0.2593336814369859,-1.4381888248251582,-0.25358136117702385,-0.13227731911381488,1.0312069448851797,-0.6570253233928224,2.095592440614549,-0.5057302121780123,0.6296421702766222,-0.20801372701984316],\"xaxis\":\"x4\",\"y\":[0.018612650461357173,0.9960448857866494,0.5348989996252956,0.2744644691707193,-1.5365837996629519,0.6925164494907833,1.6355335882891844,-0.4847552691952551,0.30614385275660383,0.6124200551769818,1.1083663399431376,1.0180355605534988,1.257435789537904,-0.971833663638946,-0.6058590356787764,0.22023782953865775,2.120845276514453,-0.39456862325103875,0.6062219318447225,-1.7401149822576623,0.9742836776250653,-0.4031138669609755,1.396780034995444,0.7589153724023462,0.3613077716338431,-1.1240045019293001,-0.348857032578735,-0.6516516862967474,2.196241159251179,0.32989001608345575,-0.867630944602537,0.3632992521805315,-0.06810963771889461,-1.4541900245405381,1.3454753011398228,-1.9530849822802803,-0.8912013360228284,0.470947892105552,-0.15985505994419505,0.2198163702457327,-0.23010375469522198,0.5707062620139806,1.0719425958771212,0.7066538833117731,-0.3630221878876869,0.3922575727286456,-0.3612705276291241,-0.29550629725886385,0.5225653600745495,-0.27305291477145976,-1.3368444755064772,-0.7312444638403542,1.2372752954036261,0.43425609169846763,0.1378203123065723,-2.5650700100831454,1.5713680268021728,0.17299087523119103,0.8253910603445144,-0.1943973629179473,1.2022341699975243,-1.024967266248822,1.434392749628085,-0.2644970147935291,0.9120358181465171,-0.3574958316214275,-1.179661643313809,-1.2377308248032741,1.1327664908798656,0.8516976018670983,-0.011298938254510052,-1.2175903618027375,0.3257227008931923,0.9257341855583504,0.14031310714798895,-0.4195496491587592,1.2758452304798396,1.815682574463287,0.873722200060419,0.8332601650259654,-0.8665169598166514,-0.391384661683601,0.3137052464154313,0.9720372843795664,2.794271493694322,-1.8462934934409374,0.2964577706006214,0.5747909516562963,0.3515544444419624,0.6560688317045775,-1.825358297613211,0.17689201309241853,-0.7893616265432474,-0.7090282511585885,-0.06412212886610219,-1.6274770848951148,0.2871954929436289,-0.48615868570872567,0.3068728465283206,-0.46892326583647614],\"yaxis\":\"y4\",\"type\":\"scatter\"},{\"line\":{\"color\":\"rgba(128, 128, 128, 1.0)\",\"dash\":\"solid\",\"shape\":\"linear\",\"width\":1.3},\"marker\":{\"size\":2,\"symbol\":\"circle\"},\"mode\":\"markers\",\"name\":\"B\",\"text\":\"\",\"x\":[0.018612650461357173,0.9960448857866494,0.5348989996252956,0.2744644691707193,-1.5365837996629519,0.6925164494907833,1.6355335882891844,-0.4847552691952551,0.30614385275660383,0.6124200551769818,1.1083663399431376,1.0180355605534988,1.257435789537904,-0.971833663638946,-0.6058590356787764,0.22023782953865775,2.120845276514453,-0.39456862325103875,0.6062219318447225,-1.7401149822576623,0.9742836776250653,-0.4031138669609755,1.396780034995444,0.7589153724023462,0.3613077716338431,-1.1240045019293001,-0.348857032578735,-0.6516516862967474,2.196241159251179,0.32989001608345575,-0.867630944602537,0.3632992521805315,-0.06810963771889461,-1.4541900245405381,1.3454753011398228,-1.9530849822802803,-0.8912013360228284,0.470947892105552,-0.15985505994419505,0.2198163702457327,-0.23010375469522198,0.5707062620139806,1.0719425958771212,0.7066538833117731,-0.3630221878876869,0.3922575727286456,-0.3612705276291241,-0.29550629725886385,0.5225653600745495,-0.27305291477145976,-1.3368444755064772,-0.7312444638403542,1.2372752954036261,0.43425609169846763,0.1378203123065723,-2.5650700100831454,1.5713680268021728,0.17299087523119103,0.8253910603445144,-0.1943973629179473,1.2022341699975243,-1.024967266248822,1.434392749628085,-0.2644970147935291,0.9120358181465171,-0.3574958316214275,-1.179661643313809,-1.2377308248032741,1.1327664908798656,0.8516976018670983,-0.011298938254510052,-1.2175903618027375,0.3257227008931923,0.9257341855583504,0.14031310714798895,-0.4195496491587592,1.2758452304798396,1.815682574463287,0.873722200060419,0.8332601650259654,-0.8665169598166514,-0.391384661683601,0.3137052464154313,0.9720372843795664,2.794271493694322,-1.8462934934409374,0.2964577706006214,0.5747909516562963,0.3515544444419624,0.6560688317045775,-1.825358297613211,0.17689201309241853,-0.7893616265432474,-0.7090282511585885,-0.06412212886610219,-1.6274770848951148,0.2871954929436289,-0.48615868570872567,0.3068728465283206,-0.46892326583647614],\"xaxis\":\"x5\",\"y\":[-0.14515941434662252,0.6806873926308932,-0.4635907081842978,-0.9133813580992908,0.33961520411379165,1.5359756763886903,0.5608200555640893,0.7385576598977033,0.3584101017217968,1.9681524054333133,0.9122347227604708,-1.208747759097325,1.0391099033587277,-0.04081664467136474,0.6920299931313932,0.17855709424490082,-0.5471926984690776,1.7684838359114352,-0.778441418564234,-0.5178855908859966,0.9554421418744045,1.981324589895577,-1.17791668305019,0.3635416602419813,1.4729249970268203,0.7169383023416109,-1.2414094580752362,-1.2454370486619037,-1.7753439436106342,-0.6803313710281736,-0.5941007653584087,1.29730024703594,-0.7575686405643377,1.4942790818364484,-0.6654988353214182,0.9003465610236291,0.1716342723004468,0.7738326789387621,-0.08714118904590173,-0.7714694142266564,0.5716227010443915,-0.8023726811909293,-0.32188924350996573,-0.9495064010735178,-0.1236980187298372,0.984595744764496,1.0096805551319956,-0.045044452402429505,-0.5996944687876562,-1.6598707450260282,0.6982590693953475,0.6628038847624309,-1.6797836633008574,1.08258578354228,0.3317032091015285,-0.5996108415625231,1.1787266939990753,-1.8858246311427032,0.4231740974380043,-0.43743434843633805,-1.2718057883980407,3.7856936387517033,-0.2778675274235196,0.37308634581461714,-0.7511575583029262,-0.4412683300216426,-0.5520539627737876,-1.2062055501876965,-0.7575196571867082,-0.5904982857173883,0.24853412195376048,-0.675739876593458,0.14891546824242163,0.5960418652525297,-2.037121868752909,-1.5681567204104996,-0.7249904679456038,-0.4891376531406688,-0.41806157762339813,-0.5998508532127527,-1.0328558517005673,0.6694597255695663,0.04969881038761035,0.3754027351884087,-0.09811199867557581,-0.6820977361199116,0.3209387499165821,0.9944285480742319,1.4563020824070612,-0.9133609870969249,-0.1844346272232779,0.4166235110059231,0.9665369943532935,0.1728104303703586,1.2548409050126537,-0.6782408136490494,0.6860085295644298,-0.22302236812107096,-0.9399304729507478,-0.6479042403168237],\"yaxis\":\"y5\",\"type\":\"scatter\"},{\"histfunc\":\"count\",\"histnorm\":\"\",\"marker\":{\"color\":\"rgba(55, 128, 191, 1.0)\",\"line\":{\"color\":\"#4D5663\",\"width\":1.3}},\"name\":\"B\",\"nbinsx\":10,\"opacity\":0.8,\"orientation\":\"v\",\"x\":[-0.14515941434662252,0.6806873926308932,-0.4635907081842978,-0.9133813580992908,0.33961520411379165,1.5359756763886903,0.5608200555640893,0.7385576598977033,0.3584101017217968,1.9681524054333133,0.9122347227604708,-1.208747759097325,1.0391099033587277,-0.04081664467136474,0.6920299931313932,0.17855709424490082,-0.5471926984690776,1.7684838359114352,-0.778441418564234,-0.5178855908859966,0.9554421418744045,1.981324589895577,-1.17791668305019,0.3635416602419813,1.4729249970268203,0.7169383023416109,-1.2414094580752362,-1.2454370486619037,-1.7753439436106342,-0.6803313710281736,-0.5941007653584087,1.29730024703594,-0.7575686405643377,1.4942790818364484,-0.6654988353214182,0.9003465610236291,0.1716342723004468,0.7738326789387621,-0.08714118904590173,-0.7714694142266564,0.5716227010443915,-0.8023726811909293,-0.32188924350996573,-0.9495064010735178,-0.1236980187298372,0.984595744764496,1.0096805551319956,-0.045044452402429505,-0.5996944687876562,-1.6598707450260282,0.6982590693953475,0.6628038847624309,-1.6797836633008574,1.08258578354228,0.3317032091015285,-0.5996108415625231,1.1787266939990753,-1.8858246311427032,0.4231740974380043,-0.43743434843633805,-1.2718057883980407,3.7856936387517033,-0.2778675274235196,0.37308634581461714,-0.7511575583029262,-0.4412683300216426,-0.5520539627737876,-1.2062055501876965,-0.7575196571867082,-0.5904982857173883,0.24853412195376048,-0.675739876593458,0.14891546824242163,0.5960418652525297,-2.037121868752909,-1.5681567204104996,-0.7249904679456038,-0.4891376531406688,-0.41806157762339813,-0.5998508532127527,-1.0328558517005673,0.6694597255695663,0.04969881038761035,0.3754027351884087,-0.09811199867557581,-0.6820977361199116,0.3209387499165821,0.9944285480742319,1.4563020824070612,-0.9133609870969249,-0.1844346272232779,0.4166235110059231,0.9665369943532935,0.1728104303703586,1.2548409050126537,-0.6782408136490494,0.6860085295644298,-0.22302236812107096,-0.9399304729507478,-0.6479042403168237],\"xaxis\":\"x6\",\"yaxis\":\"y6\",\"type\":\"histogram\"},{\"line\":{\"color\":\"rgba(128, 128, 128, 1.0)\",\"dash\":\"solid\",\"shape\":\"linear\",\"width\":1.3},\"marker\":{\"size\":2,\"symbol\":\"circle\"},\"mode\":\"markers\",\"name\":\"B\",\"text\":\"\",\"x\":[-0.6631112137659735,-1.1423995334059467,0.5928751686945043,-1.1943316790433962,-0.7603827608348788,-1.297993782865933,0.9113825311823592,1.1762898155632082,-0.8942259524553294,0.3286718173304842,-0.5820546922659687,-0.9562209296191151,0.6157450258242222,-2.314765274166029,0.2337438522094003,0.5847192719125819,-0.40435925959311164,0.6296203798161512,0.37492020182302077,-1.7549033689682147,1.0403284170788798,-0.12508973689624178,-0.10347897984686757,-0.2906985014671275,0.22865057339429926,-1.306004479976751,-0.6527440085715561,1.8959637593422904,-1.6097628661704821,1.4065334795977154,1.2054517514144698,-0.4906707483797095,0.2223097976167643,1.8587610953926799,-0.39806462588795033,0.4491303797167707,-0.048811214581093006,-2.545774054410595,1.3685527042477281,0.679504792511501,1.19333168374123,1.3465029950881853,-1.301380383951909,-1.438760121760832,-0.4163266334621699,-1.6953036082267967,-0.17228230303715106,1.5827863640472826,-1.0812362354577663,0.2417167061520083,-1.5718938572145051,1.604663699145939,0.5273075301822094,0.4869251072421638,1.6003994114805054,0.771756114328106,0.35300628352328856,0.702670236247351,-0.9926897887558903,0.4248194163768752,-0.7737891564680249,-2.305809903822905,-1.2651656383714034,1.9835028631100977,1.2479941431297734,-0.1917395348875637,0.2750411674500079,0.2935713284342274,0.36131144606884585,0.7886739126485992,-0.12469467846471595,-1.6939637097953788,0.622918339309211,-1.048959254521311,1.1550563903320934,-1.32374739631727,0.22468511670440153,-0.011841782877135732,-0.10552746937631269,-0.5098692108134364,-0.23274102415992018,-0.6511251657587834,-1.042110331853821,0.4831655257270956,0.45639257228494157,0.49090299196787446,-0.3461598306876503,0.026950653027867182,0.7690796454969269,0.9187729421320473,-0.5090184216288456,0.23761712573069083,1.4153047180981166,-0.351279531158534,1.655547940135908,-0.8874936298517963,-0.5738575262962571,0.23888294647194033,-0.7581496631534301,0.851744743665249],\"xaxis\":\"x7\",\"y\":[-0.14515941434662252,0.6806873926308932,-0.4635907081842978,-0.9133813580992908,0.33961520411379165,1.5359756763886903,0.5608200555640893,0.7385576598977033,0.3584101017217968,1.9681524054333133,0.9122347227604708,-1.208747759097325,1.0391099033587277,-0.04081664467136474,0.6920299931313932,0.17855709424490082,-0.5471926984690776,1.7684838359114352,-0.778441418564234,-0.5178855908859966,0.9554421418744045,1.981324589895577,-1.17791668305019,0.3635416602419813,1.4729249970268203,0.7169383023416109,-1.2414094580752362,-1.2454370486619037,-1.7753439436106342,-0.6803313710281736,-0.5941007653584087,1.29730024703594,-0.7575686405643377,1.4942790818364484,-0.6654988353214182,0.9003465610236291,0.1716342723004468,0.7738326789387621,-0.08714118904590173,-0.7714694142266564,0.5716227010443915,-0.8023726811909293,-0.32188924350996573,-0.9495064010735178,-0.1236980187298372,0.984595744764496,1.0096805551319956,-0.045044452402429505,-0.5996944687876562,-1.6598707450260282,0.6982590693953475,0.6628038847624309,-1.6797836633008574,1.08258578354228,0.3317032091015285,-0.5996108415625231,1.1787266939990753,-1.8858246311427032,0.4231740974380043,-0.43743434843633805,-1.2718057883980407,3.7856936387517033,-0.2778675274235196,0.37308634581461714,-0.7511575583029262,-0.4412683300216426,-0.5520539627737876,-1.2062055501876965,-0.7575196571867082,-0.5904982857173883,0.24853412195376048,-0.675739876593458,0.14891546824242163,0.5960418652525297,-2.037121868752909,-1.5681567204104996,-0.7249904679456038,-0.4891376531406688,-0.41806157762339813,-0.5998508532127527,-1.0328558517005673,0.6694597255695663,0.04969881038761035,0.3754027351884087,-0.09811199867557581,-0.6820977361199116,0.3209387499165821,0.9944285480742319,1.4563020824070612,-0.9133609870969249,-0.1844346272232779,0.4166235110059231,0.9665369943532935,0.1728104303703586,1.2548409050126537,-0.6782408136490494,0.6860085295644298,-0.22302236812107096,-0.9399304729507478,-0.6479042403168237],\"yaxis\":\"y7\",\"type\":\"scatter\"},{\"line\":{\"color\":\"rgba(128, 128, 128, 1.0)\",\"dash\":\"solid\",\"shape\":\"linear\",\"width\":1.3},\"marker\":{\"size\":2,\"symbol\":\"circle\"},\"mode\":\"markers\",\"name\":\"B\",\"text\":\"\",\"x\":[-2.997406608311242,0.10249790616161769,0.413552337766213,-0.7213067947750976,0.022132314414748295,0.6747171399161759,-0.24146887982582543,0.05574219757835409,-0.4344330093300636,-1.1814007310594277,0.15433500905338188,-0.46978416700066283,0.8877618944082435,-0.20206702255376482,-1.4115233502709037,1.2689857900671335,0.4784560516042179,2.2593489055579132,-0.4713546150342186,-0.8150823278419957,0.24605228132442553,1.3983284524109587,0.1340285271188061,0.1821941374690226,0.7796965555404504,1.3957240998050646,-0.09436588577686467,2.3763951411338406,-0.8210322395572709,-0.7238473646535825,-0.6153381443426702,-0.23618469124826236,-0.5044741151570341,1.2113033430942026,0.6861793391378319,-0.0076680350033603,-0.6069662356067594,-0.8024831446710116,1.1932594862380586,1.0293399642089083,1.0741392926111917,0.01822692363329739,-0.8743467477374735,1.1861097811646617,0.6612000776377134,1.9164800878878911,0.750258304688333,-0.7788493542443379,0.6892094393005193,0.6307142576338273,-2.189752922517158,-0.7328986493176874,0.24820185792376268,0.2715734762274199,-1.4911630961880542,0.8237915786236065,1.1075565976165815,-0.7290193065248117,-0.46802303560511616,-0.5883046253859369,0.3648494036512118,-0.05771724933292349,-0.4440705630528392,-1.3236501300666088,-0.7838341928129381,-0.2797625915478993,1.7702390954941136,-0.045330338466166284,-0.076667488626622,-1.1383285052474656,-0.9421745260790562,2.1999811022127105,0.011004043264536965,0.9228214983397348,-0.5502056765197774,-0.1968128800761642,0.7540268139892187,-0.016170908036249904,-0.3605229363198243,-0.04372504862739124,0.6785453122885303,1.126931950186432,0.6620887101093931,1.7245166556851053,0.7109368901077827,-0.030607256125364815,-0.538247118018449,1.154232302594473,0.13477192183970227,0.8736884219723613,0.2593336814369859,-1.4381888248251582,-0.25358136117702385,-0.13227731911381488,1.0312069448851797,-0.6570253233928224,2.095592440614549,-0.5057302121780123,0.6296421702766222,-0.20801372701984316],\"xaxis\":\"x8\",\"y\":[-0.14515941434662252,0.6806873926308932,-0.4635907081842978,-0.9133813580992908,0.33961520411379165,1.5359756763886903,0.5608200555640893,0.7385576598977033,0.3584101017217968,1.9681524054333133,0.9122347227604708,-1.208747759097325,1.0391099033587277,-0.04081664467136474,0.6920299931313932,0.17855709424490082,-0.5471926984690776,1.7684838359114352,-0.778441418564234,-0.5178855908859966,0.9554421418744045,1.981324589895577,-1.17791668305019,0.3635416602419813,1.4729249970268203,0.7169383023416109,-1.2414094580752362,-1.2454370486619037,-1.7753439436106342,-0.6803313710281736,-0.5941007653584087,1.29730024703594,-0.7575686405643377,1.4942790818364484,-0.6654988353214182,0.9003465610236291,0.1716342723004468,0.7738326789387621,-0.08714118904590173,-0.7714694142266564,0.5716227010443915,-0.8023726811909293,-0.32188924350996573,-0.9495064010735178,-0.1236980187298372,0.984595744764496,1.0096805551319956,-0.045044452402429505,-0.5996944687876562,-1.6598707450260282,0.6982590693953475,0.6628038847624309,-1.6797836633008574,1.08258578354228,0.3317032091015285,-0.5996108415625231,1.1787266939990753,-1.8858246311427032,0.4231740974380043,-0.43743434843633805,-1.2718057883980407,3.7856936387517033,-0.2778675274235196,0.37308634581461714,-0.7511575583029262,-0.4412683300216426,-0.5520539627737876,-1.2062055501876965,-0.7575196571867082,-0.5904982857173883,0.24853412195376048,-0.675739876593458,0.14891546824242163,0.5960418652525297,-2.037121868752909,-1.5681567204104996,-0.7249904679456038,-0.4891376531406688,-0.41806157762339813,-0.5998508532127527,-1.0328558517005673,0.6694597255695663,0.04969881038761035,0.3754027351884087,-0.09811199867557581,-0.6820977361199116,0.3209387499165821,0.9944285480742319,1.4563020824070612,-0.9133609870969249,-0.1844346272232779,0.4166235110059231,0.9665369943532935,0.1728104303703586,1.2548409050126537,-0.6782408136490494,0.6860085295644298,-0.22302236812107096,-0.9399304729507478,-0.6479042403168237],\"yaxis\":\"y8\",\"type\":\"scatter\"},{\"line\":{\"color\":\"rgba(128, 128, 128, 1.0)\",\"dash\":\"solid\",\"shape\":\"linear\",\"width\":1.3},\"marker\":{\"size\":2,\"symbol\":\"circle\"},\"mode\":\"markers\",\"name\":\"C\",\"text\":\"\",\"x\":[0.018612650461357173,0.9960448857866494,0.5348989996252956,0.2744644691707193,-1.5365837996629519,0.6925164494907833,1.6355335882891844,-0.4847552691952551,0.30614385275660383,0.6124200551769818,1.1083663399431376,1.0180355605534988,1.257435789537904,-0.971833663638946,-0.6058590356787764,0.22023782953865775,2.120845276514453,-0.39456862325103875,0.6062219318447225,-1.7401149822576623,0.9742836776250653,-0.4031138669609755,1.396780034995444,0.7589153724023462,0.3613077716338431,-1.1240045019293001,-0.348857032578735,-0.6516516862967474,2.196241159251179,0.32989001608345575,-0.867630944602537,0.3632992521805315,-0.06810963771889461,-1.4541900245405381,1.3454753011398228,-1.9530849822802803,-0.8912013360228284,0.470947892105552,-0.15985505994419505,0.2198163702457327,-0.23010375469522198,0.5707062620139806,1.0719425958771212,0.7066538833117731,-0.3630221878876869,0.3922575727286456,-0.3612705276291241,-0.29550629725886385,0.5225653600745495,-0.27305291477145976,-1.3368444755064772,-0.7312444638403542,1.2372752954036261,0.43425609169846763,0.1378203123065723,-2.5650700100831454,1.5713680268021728,0.17299087523119103,0.8253910603445144,-0.1943973629179473,1.2022341699975243,-1.024967266248822,1.434392749628085,-0.2644970147935291,0.9120358181465171,-0.3574958316214275,-1.179661643313809,-1.2377308248032741,1.1327664908798656,0.8516976018670983,-0.011298938254510052,-1.2175903618027375,0.3257227008931923,0.9257341855583504,0.14031310714798895,-0.4195496491587592,1.2758452304798396,1.815682574463287,0.873722200060419,0.8332601650259654,-0.8665169598166514,-0.391384661683601,0.3137052464154313,0.9720372843795664,2.794271493694322,-1.8462934934409374,0.2964577706006214,0.5747909516562963,0.3515544444419624,0.6560688317045775,-1.825358297613211,0.17689201309241853,-0.7893616265432474,-0.7090282511585885,-0.06412212886610219,-1.6274770848951148,0.2871954929436289,-0.48615868570872567,0.3068728465283206,-0.46892326583647614],\"xaxis\":\"x9\",\"y\":[-0.6631112137659735,-1.1423995334059467,0.5928751686945043,-1.1943316790433962,-0.7603827608348788,-1.297993782865933,0.9113825311823592,1.1762898155632082,-0.8942259524553294,0.3286718173304842,-0.5820546922659687,-0.9562209296191151,0.6157450258242222,-2.314765274166029,0.2337438522094003,0.5847192719125819,-0.40435925959311164,0.6296203798161512,0.37492020182302077,-1.7549033689682147,1.0403284170788798,-0.12508973689624178,-0.10347897984686757,-0.2906985014671275,0.22865057339429926,-1.306004479976751,-0.6527440085715561,1.8959637593422904,-1.6097628661704821,1.4065334795977154,1.2054517514144698,-0.4906707483797095,0.2223097976167643,1.8587610953926799,-0.39806462588795033,0.4491303797167707,-0.048811214581093006,-2.545774054410595,1.3685527042477281,0.679504792511501,1.19333168374123,1.3465029950881853,-1.301380383951909,-1.438760121760832,-0.4163266334621699,-1.6953036082267967,-0.17228230303715106,1.5827863640472826,-1.0812362354577663,0.2417167061520083,-1.5718938572145051,1.604663699145939,0.5273075301822094,0.4869251072421638,1.6003994114805054,0.771756114328106,0.35300628352328856,0.702670236247351,-0.9926897887558903,0.4248194163768752,-0.7737891564680249,-2.305809903822905,-1.2651656383714034,1.9835028631100977,1.2479941431297734,-0.1917395348875637,0.2750411674500079,0.2935713284342274,0.36131144606884585,0.7886739126485992,-0.12469467846471595,-1.6939637097953788,0.622918339309211,-1.048959254521311,1.1550563903320934,-1.32374739631727,0.22468511670440153,-0.011841782877135732,-0.10552746937631269,-0.5098692108134364,-0.23274102415992018,-0.6511251657587834,-1.042110331853821,0.4831655257270956,0.45639257228494157,0.49090299196787446,-0.3461598306876503,0.026950653027867182,0.7690796454969269,0.9187729421320473,-0.5090184216288456,0.23761712573069083,1.4153047180981166,-0.351279531158534,1.655547940135908,-0.8874936298517963,-0.5738575262962571,0.23888294647194033,-0.7581496631534301,0.851744743665249],\"yaxis\":\"y9\",\"type\":\"scatter\"},{\"line\":{\"color\":\"rgba(128, 128, 128, 1.0)\",\"dash\":\"solid\",\"shape\":\"linear\",\"width\":1.3},\"marker\":{\"size\":2,\"symbol\":\"circle\"},\"mode\":\"markers\",\"name\":\"C\",\"text\":\"\",\"x\":[-0.14515941434662252,0.6806873926308932,-0.4635907081842978,-0.9133813580992908,0.33961520411379165,1.5359756763886903,0.5608200555640893,0.7385576598977033,0.3584101017217968,1.9681524054333133,0.9122347227604708,-1.208747759097325,1.0391099033587277,-0.04081664467136474,0.6920299931313932,0.17855709424490082,-0.5471926984690776,1.7684838359114352,-0.778441418564234,-0.5178855908859966,0.9554421418744045,1.981324589895577,-1.17791668305019,0.3635416602419813,1.4729249970268203,0.7169383023416109,-1.2414094580752362,-1.2454370486619037,-1.7753439436106342,-0.6803313710281736,-0.5941007653584087,1.29730024703594,-0.7575686405643377,1.4942790818364484,-0.6654988353214182,0.9003465610236291,0.1716342723004468,0.7738326789387621,-0.08714118904590173,-0.7714694142266564,0.5716227010443915,-0.8023726811909293,-0.32188924350996573,-0.9495064010735178,-0.1236980187298372,0.984595744764496,1.0096805551319956,-0.045044452402429505,-0.5996944687876562,-1.6598707450260282,0.6982590693953475,0.6628038847624309,-1.6797836633008574,1.08258578354228,0.3317032091015285,-0.5996108415625231,1.1787266939990753,-1.8858246311427032,0.4231740974380043,-0.43743434843633805,-1.2718057883980407,3.7856936387517033,-0.2778675274235196,0.37308634581461714,-0.7511575583029262,-0.4412683300216426,-0.5520539627737876,-1.2062055501876965,-0.7575196571867082,-0.5904982857173883,0.24853412195376048,-0.675739876593458,0.14891546824242163,0.5960418652525297,-2.037121868752909,-1.5681567204104996,-0.7249904679456038,-0.4891376531406688,-0.41806157762339813,-0.5998508532127527,-1.0328558517005673,0.6694597255695663,0.04969881038761035,0.3754027351884087,-0.09811199867557581,-0.6820977361199116,0.3209387499165821,0.9944285480742319,1.4563020824070612,-0.9133609870969249,-0.1844346272232779,0.4166235110059231,0.9665369943532935,0.1728104303703586,1.2548409050126537,-0.6782408136490494,0.6860085295644298,-0.22302236812107096,-0.9399304729507478,-0.6479042403168237],\"xaxis\":\"x10\",\"y\":[-0.6631112137659735,-1.1423995334059467,0.5928751686945043,-1.1943316790433962,-0.7603827608348788,-1.297993782865933,0.9113825311823592,1.1762898155632082,-0.8942259524553294,0.3286718173304842,-0.5820546922659687,-0.9562209296191151,0.6157450258242222,-2.314765274166029,0.2337438522094003,0.5847192719125819,-0.40435925959311164,0.6296203798161512,0.37492020182302077,-1.7549033689682147,1.0403284170788798,-0.12508973689624178,-0.10347897984686757,-0.2906985014671275,0.22865057339429926,-1.306004479976751,-0.6527440085715561,1.8959637593422904,-1.6097628661704821,1.4065334795977154,1.2054517514144698,-0.4906707483797095,0.2223097976167643,1.8587610953926799,-0.39806462588795033,0.4491303797167707,-0.048811214581093006,-2.545774054410595,1.3685527042477281,0.679504792511501,1.19333168374123,1.3465029950881853,-1.301380383951909,-1.438760121760832,-0.4163266334621699,-1.6953036082267967,-0.17228230303715106,1.5827863640472826,-1.0812362354577663,0.2417167061520083,-1.5718938572145051,1.604663699145939,0.5273075301822094,0.4869251072421638,1.6003994114805054,0.771756114328106,0.35300628352328856,0.702670236247351,-0.9926897887558903,0.4248194163768752,-0.7737891564680249,-2.305809903822905,-1.2651656383714034,1.9835028631100977,1.2479941431297734,-0.1917395348875637,0.2750411674500079,0.2935713284342274,0.36131144606884585,0.7886739126485992,-0.12469467846471595,-1.6939637097953788,0.622918339309211,-1.048959254521311,1.1550563903320934,-1.32374739631727,0.22468511670440153,-0.011841782877135732,-0.10552746937631269,-0.5098692108134364,-0.23274102415992018,-0.6511251657587834,-1.042110331853821,0.4831655257270956,0.45639257228494157,0.49090299196787446,-0.3461598306876503,0.026950653027867182,0.7690796454969269,0.9187729421320473,-0.5090184216288456,0.23761712573069083,1.4153047180981166,-0.351279531158534,1.655547940135908,-0.8874936298517963,-0.5738575262962571,0.23888294647194033,-0.7581496631534301,0.851744743665249],\"yaxis\":\"y10\",\"type\":\"scatter\"},{\"histfunc\":\"count\",\"histnorm\":\"\",\"marker\":{\"color\":\"rgba(50, 171, 96, 1.0)\",\"line\":{\"color\":\"#4D5663\",\"width\":1.3}},\"name\":\"C\",\"nbinsx\":10,\"opacity\":0.8,\"orientation\":\"v\",\"x\":[-0.6631112137659735,-1.1423995334059467,0.5928751686945043,-1.1943316790433962,-0.7603827608348788,-1.297993782865933,0.9113825311823592,1.1762898155632082,-0.8942259524553294,0.3286718173304842,-0.5820546922659687,-0.9562209296191151,0.6157450258242222,-2.314765274166029,0.2337438522094003,0.5847192719125819,-0.40435925959311164,0.6296203798161512,0.37492020182302077,-1.7549033689682147,1.0403284170788798,-0.12508973689624178,-0.10347897984686757,-0.2906985014671275,0.22865057339429926,-1.306004479976751,-0.6527440085715561,1.8959637593422904,-1.6097628661704821,1.4065334795977154,1.2054517514144698,-0.4906707483797095,0.2223097976167643,1.8587610953926799,-0.39806462588795033,0.4491303797167707,-0.048811214581093006,-2.545774054410595,1.3685527042477281,0.679504792511501,1.19333168374123,1.3465029950881853,-1.301380383951909,-1.438760121760832,-0.4163266334621699,-1.6953036082267967,-0.17228230303715106,1.5827863640472826,-1.0812362354577663,0.2417167061520083,-1.5718938572145051,1.604663699145939,0.5273075301822094,0.4869251072421638,1.6003994114805054,0.771756114328106,0.35300628352328856,0.702670236247351,-0.9926897887558903,0.4248194163768752,-0.7737891564680249,-2.305809903822905,-1.2651656383714034,1.9835028631100977,1.2479941431297734,-0.1917395348875637,0.2750411674500079,0.2935713284342274,0.36131144606884585,0.7886739126485992,-0.12469467846471595,-1.6939637097953788,0.622918339309211,-1.048959254521311,1.1550563903320934,-1.32374739631727,0.22468511670440153,-0.011841782877135732,-0.10552746937631269,-0.5098692108134364,-0.23274102415992018,-0.6511251657587834,-1.042110331853821,0.4831655257270956,0.45639257228494157,0.49090299196787446,-0.3461598306876503,0.026950653027867182,0.7690796454969269,0.9187729421320473,-0.5090184216288456,0.23761712573069083,1.4153047180981166,-0.351279531158534,1.655547940135908,-0.8874936298517963,-0.5738575262962571,0.23888294647194033,-0.7581496631534301,0.851744743665249],\"xaxis\":\"x11\",\"yaxis\":\"y11\",\"type\":\"histogram\"},{\"line\":{\"color\":\"rgba(128, 128, 128, 1.0)\",\"dash\":\"solid\",\"shape\":\"linear\",\"width\":1.3},\"marker\":{\"size\":2,\"symbol\":\"circle\"},\"mode\":\"markers\",\"name\":\"C\",\"text\":\"\",\"x\":[-2.997406608311242,0.10249790616161769,0.413552337766213,-0.7213067947750976,0.022132314414748295,0.6747171399161759,-0.24146887982582543,0.05574219757835409,-0.4344330093300636,-1.1814007310594277,0.15433500905338188,-0.46978416700066283,0.8877618944082435,-0.20206702255376482,-1.4115233502709037,1.2689857900671335,0.4784560516042179,2.2593489055579132,-0.4713546150342186,-0.8150823278419957,0.24605228132442553,1.3983284524109587,0.1340285271188061,0.1821941374690226,0.7796965555404504,1.3957240998050646,-0.09436588577686467,2.3763951411338406,-0.8210322395572709,-0.7238473646535825,-0.6153381443426702,-0.23618469124826236,-0.5044741151570341,1.2113033430942026,0.6861793391378319,-0.0076680350033603,-0.6069662356067594,-0.8024831446710116,1.1932594862380586,1.0293399642089083,1.0741392926111917,0.01822692363329739,-0.8743467477374735,1.1861097811646617,0.6612000776377134,1.9164800878878911,0.750258304688333,-0.7788493542443379,0.6892094393005193,0.6307142576338273,-2.189752922517158,-0.7328986493176874,0.24820185792376268,0.2715734762274199,-1.4911630961880542,0.8237915786236065,1.1075565976165815,-0.7290193065248117,-0.46802303560511616,-0.5883046253859369,0.3648494036512118,-0.05771724933292349,-0.4440705630528392,-1.3236501300666088,-0.7838341928129381,-0.2797625915478993,1.7702390954941136,-0.045330338466166284,-0.076667488626622,-1.1383285052474656,-0.9421745260790562,2.1999811022127105,0.011004043264536965,0.9228214983397348,-0.5502056765197774,-0.1968128800761642,0.7540268139892187,-0.016170908036249904,-0.3605229363198243,-0.04372504862739124,0.6785453122885303,1.126931950186432,0.6620887101093931,1.7245166556851053,0.7109368901077827,-0.030607256125364815,-0.538247118018449,1.154232302594473,0.13477192183970227,0.8736884219723613,0.2593336814369859,-1.4381888248251582,-0.25358136117702385,-0.13227731911381488,1.0312069448851797,-0.6570253233928224,2.095592440614549,-0.5057302121780123,0.6296421702766222,-0.20801372701984316],\"xaxis\":\"x12\",\"y\":[-0.6631112137659735,-1.1423995334059467,0.5928751686945043,-1.1943316790433962,-0.7603827608348788,-1.297993782865933,0.9113825311823592,1.1762898155632082,-0.8942259524553294,0.3286718173304842,-0.5820546922659687,-0.9562209296191151,0.6157450258242222,-2.314765274166029,0.2337438522094003,0.5847192719125819,-0.40435925959311164,0.6296203798161512,0.37492020182302077,-1.7549033689682147,1.0403284170788798,-0.12508973689624178,-0.10347897984686757,-0.2906985014671275,0.22865057339429926,-1.306004479976751,-0.6527440085715561,1.8959637593422904,-1.6097628661704821,1.4065334795977154,1.2054517514144698,-0.4906707483797095,0.2223097976167643,1.8587610953926799,-0.39806462588795033,0.4491303797167707,-0.048811214581093006,-2.545774054410595,1.3685527042477281,0.679504792511501,1.19333168374123,1.3465029950881853,-1.301380383951909,-1.438760121760832,-0.4163266334621699,-1.6953036082267967,-0.17228230303715106,1.5827863640472826,-1.0812362354577663,0.2417167061520083,-1.5718938572145051,1.604663699145939,0.5273075301822094,0.4869251072421638,1.6003994114805054,0.771756114328106,0.35300628352328856,0.702670236247351,-0.9926897887558903,0.4248194163768752,-0.7737891564680249,-2.305809903822905,-1.2651656383714034,1.9835028631100977,1.2479941431297734,-0.1917395348875637,0.2750411674500079,0.2935713284342274,0.36131144606884585,0.7886739126485992,-0.12469467846471595,-1.6939637097953788,0.622918339309211,-1.048959254521311,1.1550563903320934,-1.32374739631727,0.22468511670440153,-0.011841782877135732,-0.10552746937631269,-0.5098692108134364,-0.23274102415992018,-0.6511251657587834,-1.042110331853821,0.4831655257270956,0.45639257228494157,0.49090299196787446,-0.3461598306876503,0.026950653027867182,0.7690796454969269,0.9187729421320473,-0.5090184216288456,0.23761712573069083,1.4153047180981166,-0.351279531158534,1.655547940135908,-0.8874936298517963,-0.5738575262962571,0.23888294647194033,-0.7581496631534301,0.851744743665249],\"yaxis\":\"y12\",\"type\":\"scatter\"},{\"line\":{\"color\":\"rgba(128, 128, 128, 1.0)\",\"dash\":\"solid\",\"shape\":\"linear\",\"width\":1.3},\"marker\":{\"size\":2,\"symbol\":\"circle\"},\"mode\":\"markers\",\"name\":\"D\",\"text\":\"\",\"x\":[0.018612650461357173,0.9960448857866494,0.5348989996252956,0.2744644691707193,-1.5365837996629519,0.6925164494907833,1.6355335882891844,-0.4847552691952551,0.30614385275660383,0.6124200551769818,1.1083663399431376,1.0180355605534988,1.257435789537904,-0.971833663638946,-0.6058590356787764,0.22023782953865775,2.120845276514453,-0.39456862325103875,0.6062219318447225,-1.7401149822576623,0.9742836776250653,-0.4031138669609755,1.396780034995444,0.7589153724023462,0.3613077716338431,-1.1240045019293001,-0.348857032578735,-0.6516516862967474,2.196241159251179,0.32989001608345575,-0.867630944602537,0.3632992521805315,-0.06810963771889461,-1.4541900245405381,1.3454753011398228,-1.9530849822802803,-0.8912013360228284,0.470947892105552,-0.15985505994419505,0.2198163702457327,-0.23010375469522198,0.5707062620139806,1.0719425958771212,0.7066538833117731,-0.3630221878876869,0.3922575727286456,-0.3612705276291241,-0.29550629725886385,0.5225653600745495,-0.27305291477145976,-1.3368444755064772,-0.7312444638403542,1.2372752954036261,0.43425609169846763,0.1378203123065723,-2.5650700100831454,1.5713680268021728,0.17299087523119103,0.8253910603445144,-0.1943973629179473,1.2022341699975243,-1.024967266248822,1.434392749628085,-0.2644970147935291,0.9120358181465171,-0.3574958316214275,-1.179661643313809,-1.2377308248032741,1.1327664908798656,0.8516976018670983,-0.011298938254510052,-1.2175903618027375,0.3257227008931923,0.9257341855583504,0.14031310714798895,-0.4195496491587592,1.2758452304798396,1.815682574463287,0.873722200060419,0.8332601650259654,-0.8665169598166514,-0.391384661683601,0.3137052464154313,0.9720372843795664,2.794271493694322,-1.8462934934409374,0.2964577706006214,0.5747909516562963,0.3515544444419624,0.6560688317045775,-1.825358297613211,0.17689201309241853,-0.7893616265432474,-0.7090282511585885,-0.06412212886610219,-1.6274770848951148,0.2871954929436289,-0.48615868570872567,0.3068728465283206,-0.46892326583647614],\"xaxis\":\"x13\",\"y\":[-2.997406608311242,0.10249790616161769,0.413552337766213,-0.7213067947750976,0.022132314414748295,0.6747171399161759,-0.24146887982582543,0.05574219757835409,-0.4344330093300636,-1.1814007310594277,0.15433500905338188,-0.46978416700066283,0.8877618944082435,-0.20206702255376482,-1.4115233502709037,1.2689857900671335,0.4784560516042179,2.2593489055579132,-0.4713546150342186,-0.8150823278419957,0.24605228132442553,1.3983284524109587,0.1340285271188061,0.1821941374690226,0.7796965555404504,1.3957240998050646,-0.09436588577686467,2.3763951411338406,-0.8210322395572709,-0.7238473646535825,-0.6153381443426702,-0.23618469124826236,-0.5044741151570341,1.2113033430942026,0.6861793391378319,-0.0076680350033603,-0.6069662356067594,-0.8024831446710116,1.1932594862380586,1.0293399642089083,1.0741392926111917,0.01822692363329739,-0.8743467477374735,1.1861097811646617,0.6612000776377134,1.9164800878878911,0.750258304688333,-0.7788493542443379,0.6892094393005193,0.6307142576338273,-2.189752922517158,-0.7328986493176874,0.24820185792376268,0.2715734762274199,-1.4911630961880542,0.8237915786236065,1.1075565976165815,-0.7290193065248117,-0.46802303560511616,-0.5883046253859369,0.3648494036512118,-0.05771724933292349,-0.4440705630528392,-1.3236501300666088,-0.7838341928129381,-0.2797625915478993,1.7702390954941136,-0.045330338466166284,-0.076667488626622,-1.1383285052474656,-0.9421745260790562,2.1999811022127105,0.011004043264536965,0.9228214983397348,-0.5502056765197774,-0.1968128800761642,0.7540268139892187,-0.016170908036249904,-0.3605229363198243,-0.04372504862739124,0.6785453122885303,1.126931950186432,0.6620887101093931,1.7245166556851053,0.7109368901077827,-0.030607256125364815,-0.538247118018449,1.154232302594473,0.13477192183970227,0.8736884219723613,0.2593336814369859,-1.4381888248251582,-0.25358136117702385,-0.13227731911381488,1.0312069448851797,-0.6570253233928224,2.095592440614549,-0.5057302121780123,0.6296421702766222,-0.20801372701984316],\"yaxis\":\"y13\",\"type\":\"scatter\"},{\"line\":{\"color\":\"rgba(128, 128, 128, 1.0)\",\"dash\":\"solid\",\"shape\":\"linear\",\"width\":1.3},\"marker\":{\"size\":2,\"symbol\":\"circle\"},\"mode\":\"markers\",\"name\":\"D\",\"text\":\"\",\"x\":[-0.14515941434662252,0.6806873926308932,-0.4635907081842978,-0.9133813580992908,0.33961520411379165,1.5359756763886903,0.5608200555640893,0.7385576598977033,0.3584101017217968,1.9681524054333133,0.9122347227604708,-1.208747759097325,1.0391099033587277,-0.04081664467136474,0.6920299931313932,0.17855709424490082,-0.5471926984690776,1.7684838359114352,-0.778441418564234,-0.5178855908859966,0.9554421418744045,1.981324589895577,-1.17791668305019,0.3635416602419813,1.4729249970268203,0.7169383023416109,-1.2414094580752362,-1.2454370486619037,-1.7753439436106342,-0.6803313710281736,-0.5941007653584087,1.29730024703594,-0.7575686405643377,1.4942790818364484,-0.6654988353214182,0.9003465610236291,0.1716342723004468,0.7738326789387621,-0.08714118904590173,-0.7714694142266564,0.5716227010443915,-0.8023726811909293,-0.32188924350996573,-0.9495064010735178,-0.1236980187298372,0.984595744764496,1.0096805551319956,-0.045044452402429505,-0.5996944687876562,-1.6598707450260282,0.6982590693953475,0.6628038847624309,-1.6797836633008574,1.08258578354228,0.3317032091015285,-0.5996108415625231,1.1787266939990753,-1.8858246311427032,0.4231740974380043,-0.43743434843633805,-1.2718057883980407,3.7856936387517033,-0.2778675274235196,0.37308634581461714,-0.7511575583029262,-0.4412683300216426,-0.5520539627737876,-1.2062055501876965,-0.7575196571867082,-0.5904982857173883,0.24853412195376048,-0.675739876593458,0.14891546824242163,0.5960418652525297,-2.037121868752909,-1.5681567204104996,-0.7249904679456038,-0.4891376531406688,-0.41806157762339813,-0.5998508532127527,-1.0328558517005673,0.6694597255695663,0.04969881038761035,0.3754027351884087,-0.09811199867557581,-0.6820977361199116,0.3209387499165821,0.9944285480742319,1.4563020824070612,-0.9133609870969249,-0.1844346272232779,0.4166235110059231,0.9665369943532935,0.1728104303703586,1.2548409050126537,-0.6782408136490494,0.6860085295644298,-0.22302236812107096,-0.9399304729507478,-0.6479042403168237],\"xaxis\":\"x14\",\"y\":[-2.997406608311242,0.10249790616161769,0.413552337766213,-0.7213067947750976,0.022132314414748295,0.6747171399161759,-0.24146887982582543,0.05574219757835409,-0.4344330093300636,-1.1814007310594277,0.15433500905338188,-0.46978416700066283,0.8877618944082435,-0.20206702255376482,-1.4115233502709037,1.2689857900671335,0.4784560516042179,2.2593489055579132,-0.4713546150342186,-0.8150823278419957,0.24605228132442553,1.3983284524109587,0.1340285271188061,0.1821941374690226,0.7796965555404504,1.3957240998050646,-0.09436588577686467,2.3763951411338406,-0.8210322395572709,-0.7238473646535825,-0.6153381443426702,-0.23618469124826236,-0.5044741151570341,1.2113033430942026,0.6861793391378319,-0.0076680350033603,-0.6069662356067594,-0.8024831446710116,1.1932594862380586,1.0293399642089083,1.0741392926111917,0.01822692363329739,-0.8743467477374735,1.1861097811646617,0.6612000776377134,1.9164800878878911,0.750258304688333,-0.7788493542443379,0.6892094393005193,0.6307142576338273,-2.189752922517158,-0.7328986493176874,0.24820185792376268,0.2715734762274199,-1.4911630961880542,0.8237915786236065,1.1075565976165815,-0.7290193065248117,-0.46802303560511616,-0.5883046253859369,0.3648494036512118,-0.05771724933292349,-0.4440705630528392,-1.3236501300666088,-0.7838341928129381,-0.2797625915478993,1.7702390954941136,-0.045330338466166284,-0.076667488626622,-1.1383285052474656,-0.9421745260790562,2.1999811022127105,0.011004043264536965,0.9228214983397348,-0.5502056765197774,-0.1968128800761642,0.7540268139892187,-0.016170908036249904,-0.3605229363198243,-0.04372504862739124,0.6785453122885303,1.126931950186432,0.6620887101093931,1.7245166556851053,0.7109368901077827,-0.030607256125364815,-0.538247118018449,1.154232302594473,0.13477192183970227,0.8736884219723613,0.2593336814369859,-1.4381888248251582,-0.25358136117702385,-0.13227731911381488,1.0312069448851797,-0.6570253233928224,2.095592440614549,-0.5057302121780123,0.6296421702766222,-0.20801372701984316],\"yaxis\":\"y14\",\"type\":\"scatter\"},{\"line\":{\"color\":\"rgba(128, 128, 128, 1.0)\",\"dash\":\"solid\",\"shape\":\"linear\",\"width\":1.3},\"marker\":{\"size\":2,\"symbol\":\"circle\"},\"mode\":\"markers\",\"name\":\"D\",\"text\":\"\",\"x\":[-0.6631112137659735,-1.1423995334059467,0.5928751686945043,-1.1943316790433962,-0.7603827608348788,-1.297993782865933,0.9113825311823592,1.1762898155632082,-0.8942259524553294,0.3286718173304842,-0.5820546922659687,-0.9562209296191151,0.6157450258242222,-2.314765274166029,0.2337438522094003,0.5847192719125819,-0.40435925959311164,0.6296203798161512,0.37492020182302077,-1.7549033689682147,1.0403284170788798,-0.12508973689624178,-0.10347897984686757,-0.2906985014671275,0.22865057339429926,-1.306004479976751,-0.6527440085715561,1.8959637593422904,-1.6097628661704821,1.4065334795977154,1.2054517514144698,-0.4906707483797095,0.2223097976167643,1.8587610953926799,-0.39806462588795033,0.4491303797167707,-0.048811214581093006,-2.545774054410595,1.3685527042477281,0.679504792511501,1.19333168374123,1.3465029950881853,-1.301380383951909,-1.438760121760832,-0.4163266334621699,-1.6953036082267967,-0.17228230303715106,1.5827863640472826,-1.0812362354577663,0.2417167061520083,-1.5718938572145051,1.604663699145939,0.5273075301822094,0.4869251072421638,1.6003994114805054,0.771756114328106,0.35300628352328856,0.702670236247351,-0.9926897887558903,0.4248194163768752,-0.7737891564680249,-2.305809903822905,-1.2651656383714034,1.9835028631100977,1.2479941431297734,-0.1917395348875637,0.2750411674500079,0.2935713284342274,0.36131144606884585,0.7886739126485992,-0.12469467846471595,-1.6939637097953788,0.622918339309211,-1.048959254521311,1.1550563903320934,-1.32374739631727,0.22468511670440153,-0.011841782877135732,-0.10552746937631269,-0.5098692108134364,-0.23274102415992018,-0.6511251657587834,-1.042110331853821,0.4831655257270956,0.45639257228494157,0.49090299196787446,-0.3461598306876503,0.026950653027867182,0.7690796454969269,0.9187729421320473,-0.5090184216288456,0.23761712573069083,1.4153047180981166,-0.351279531158534,1.655547940135908,-0.8874936298517963,-0.5738575262962571,0.23888294647194033,-0.7581496631534301,0.851744743665249],\"xaxis\":\"x15\",\"y\":[-2.997406608311242,0.10249790616161769,0.413552337766213,-0.7213067947750976,0.022132314414748295,0.6747171399161759,-0.24146887982582543,0.05574219757835409,-0.4344330093300636,-1.1814007310594277,0.15433500905338188,-0.46978416700066283,0.8877618944082435,-0.20206702255376482,-1.4115233502709037,1.2689857900671335,0.4784560516042179,2.2593489055579132,-0.4713546150342186,-0.8150823278419957,0.24605228132442553,1.3983284524109587,0.1340285271188061,0.1821941374690226,0.7796965555404504,1.3957240998050646,-0.09436588577686467,2.3763951411338406,-0.8210322395572709,-0.7238473646535825,-0.6153381443426702,-0.23618469124826236,-0.5044741151570341,1.2113033430942026,0.6861793391378319,-0.0076680350033603,-0.6069662356067594,-0.8024831446710116,1.1932594862380586,1.0293399642089083,1.0741392926111917,0.01822692363329739,-0.8743467477374735,1.1861097811646617,0.6612000776377134,1.9164800878878911,0.750258304688333,-0.7788493542443379,0.6892094393005193,0.6307142576338273,-2.189752922517158,-0.7328986493176874,0.24820185792376268,0.2715734762274199,-1.4911630961880542,0.8237915786236065,1.1075565976165815,-0.7290193065248117,-0.46802303560511616,-0.5883046253859369,0.3648494036512118,-0.05771724933292349,-0.4440705630528392,-1.3236501300666088,-0.7838341928129381,-0.2797625915478993,1.7702390954941136,-0.045330338466166284,-0.076667488626622,-1.1383285052474656,-0.9421745260790562,2.1999811022127105,0.011004043264536965,0.9228214983397348,-0.5502056765197774,-0.1968128800761642,0.7540268139892187,-0.016170908036249904,-0.3605229363198243,-0.04372504862739124,0.6785453122885303,1.126931950186432,0.6620887101093931,1.7245166556851053,0.7109368901077827,-0.030607256125364815,-0.538247118018449,1.154232302594473,0.13477192183970227,0.8736884219723613,0.2593336814369859,-1.4381888248251582,-0.25358136117702385,-0.13227731911381488,1.0312069448851797,-0.6570253233928224,2.095592440614549,-0.5057302121780123,0.6296421702766222,-0.20801372701984316],\"yaxis\":\"y15\",\"type\":\"scatter\"},{\"histfunc\":\"count\",\"histnorm\":\"\",\"marker\":{\"color\":\"rgba(128, 0, 128, 1.0)\",\"line\":{\"color\":\"#4D5663\",\"width\":1.3}},\"name\":\"D\",\"nbinsx\":10,\"opacity\":0.8,\"orientation\":\"v\",\"x\":[-2.997406608311242,0.10249790616161769,0.413552337766213,-0.7213067947750976,0.022132314414748295,0.6747171399161759,-0.24146887982582543,0.05574219757835409,-0.4344330093300636,-1.1814007310594277,0.15433500905338188,-0.46978416700066283,0.8877618944082435,-0.20206702255376482,-1.4115233502709037,1.2689857900671335,0.4784560516042179,2.2593489055579132,-0.4713546150342186,-0.8150823278419957,0.24605228132442553,1.3983284524109587,0.1340285271188061,0.1821941374690226,0.7796965555404504,1.3957240998050646,-0.09436588577686467,2.3763951411338406,-0.8210322395572709,-0.7238473646535825,-0.6153381443426702,-0.23618469124826236,-0.5044741151570341,1.2113033430942026,0.6861793391378319,-0.0076680350033603,-0.6069662356067594,-0.8024831446710116,1.1932594862380586,1.0293399642089083,1.0741392926111917,0.01822692363329739,-0.8743467477374735,1.1861097811646617,0.6612000776377134,1.9164800878878911,0.750258304688333,-0.7788493542443379,0.6892094393005193,0.6307142576338273,-2.189752922517158,-0.7328986493176874,0.24820185792376268,0.2715734762274199,-1.4911630961880542,0.8237915786236065,1.1075565976165815,-0.7290193065248117,-0.46802303560511616,-0.5883046253859369,0.3648494036512118,-0.05771724933292349,-0.4440705630528392,-1.3236501300666088,-0.7838341928129381,-0.2797625915478993,1.7702390954941136,-0.045330338466166284,-0.076667488626622,-1.1383285052474656,-0.9421745260790562,2.1999811022127105,0.011004043264536965,0.9228214983397348,-0.5502056765197774,-0.1968128800761642,0.7540268139892187,-0.016170908036249904,-0.3605229363198243,-0.04372504862739124,0.6785453122885303,1.126931950186432,0.6620887101093931,1.7245166556851053,0.7109368901077827,-0.030607256125364815,-0.538247118018449,1.154232302594473,0.13477192183970227,0.8736884219723613,0.2593336814369859,-1.4381888248251582,-0.25358136117702385,-0.13227731911381488,1.0312069448851797,-0.6570253233928224,2.095592440614549,-0.5057302121780123,0.6296421702766222,-0.20801372701984316],\"xaxis\":\"x16\",\"yaxis\":\"y16\",\"type\":\"histogram\"}],                        {\"bargap\":0.02,\"legend\":{\"bgcolor\":\"#F5F6F9\",\"font\":{\"color\":\"#4D5663\"}},\"paper_bgcolor\":\"#F5F6F9\",\"plot_bgcolor\":\"#F5F6F9\",\"showlegend\":false,\"template\":{\"data\":{\"barpolar\":[{\"marker\":{\"line\":{\"color\":\"#E5ECF6\",\"width\":0.5},\"pattern\":{\"fillmode\":\"overlay\",\"size\":10,\"solidity\":0.2}},\"type\":\"barpolar\"}],\"bar\":[{\"error_x\":{\"color\":\"#2a3f5f\"},\"error_y\":{\"color\":\"#2a3f5f\"},\"marker\":{\"line\":{\"color\":\"#E5ECF6\",\"width\":0.5},\"pattern\":{\"fillmode\":\"overlay\",\"size\":10,\"solidity\":0.2}},\"type\":\"bar\"}],\"carpet\":[{\"aaxis\":{\"endlinecolor\":\"#2a3f5f\",\"gridcolor\":\"white\",\"linecolor\":\"white\",\"minorgridcolor\":\"white\",\"startlinecolor\":\"#2a3f5f\"},\"baxis\":{\"endlinecolor\":\"#2a3f5f\",\"gridcolor\":\"white\",\"linecolor\":\"white\",\"minorgridcolor\":\"white\",\"startlinecolor\":\"#2a3f5f\"},\"type\":\"carpet\"}],\"choropleth\":[{\"colorbar\":{\"outlinewidth\":0,\"ticks\":\"\"},\"type\":\"choropleth\"}],\"contourcarpet\":[{\"colorbar\":{\"outlinewidth\":0,\"ticks\":\"\"},\"type\":\"contourcarpet\"}],\"contour\":[{\"colorbar\":{\"outlinewidth\":0,\"ticks\":\"\"},\"colorscale\":[[0.0,\"#0d0887\"],[0.1111111111111111,\"#46039f\"],[0.2222222222222222,\"#7201a8\"],[0.3333333333333333,\"#9c179e\"],[0.4444444444444444,\"#bd3786\"],[0.5555555555555556,\"#d8576b\"],[0.6666666666666666,\"#ed7953\"],[0.7777777777777778,\"#fb9f3a\"],[0.8888888888888888,\"#fdca26\"],[1.0,\"#f0f921\"]],\"type\":\"contour\"}],\"heatmapgl\":[{\"colorbar\":{\"outlinewidth\":0,\"ticks\":\"\"},\"colorscale\":[[0.0,\"#0d0887\"],[0.1111111111111111,\"#46039f\"],[0.2222222222222222,\"#7201a8\"],[0.3333333333333333,\"#9c179e\"],[0.4444444444444444,\"#bd3786\"],[0.5555555555555556,\"#d8576b\"],[0.6666666666666666,\"#ed7953\"],[0.7777777777777778,\"#fb9f3a\"],[0.8888888888888888,\"#fdca26\"],[1.0,\"#f0f921\"]],\"type\":\"heatmapgl\"}],\"heatmap\":[{\"colorbar\":{\"outlinewidth\":0,\"ticks\":\"\"},\"colorscale\":[[0.0,\"#0d0887\"],[0.1111111111111111,\"#46039f\"],[0.2222222222222222,\"#7201a8\"],[0.3333333333333333,\"#9c179e\"],[0.4444444444444444,\"#bd3786\"],[0.5555555555555556,\"#d8576b\"],[0.6666666666666666,\"#ed7953\"],[0.7777777777777778,\"#fb9f3a\"],[0.8888888888888888,\"#fdca26\"],[1.0,\"#f0f921\"]],\"type\":\"heatmap\"}],\"histogram2dcontour\":[{\"colorbar\":{\"outlinewidth\":0,\"ticks\":\"\"},\"colorscale\":[[0.0,\"#0d0887\"],[0.1111111111111111,\"#46039f\"],[0.2222222222222222,\"#7201a8\"],[0.3333333333333333,\"#9c179e\"],[0.4444444444444444,\"#bd3786\"],[0.5555555555555556,\"#d8576b\"],[0.6666666666666666,\"#ed7953\"],[0.7777777777777778,\"#fb9f3a\"],[0.8888888888888888,\"#fdca26\"],[1.0,\"#f0f921\"]],\"type\":\"histogram2dcontour\"}],\"histogram2d\":[{\"colorbar\":{\"outlinewidth\":0,\"ticks\":\"\"},\"colorscale\":[[0.0,\"#0d0887\"],[0.1111111111111111,\"#46039f\"],[0.2222222222222222,\"#7201a8\"],[0.3333333333333333,\"#9c179e\"],[0.4444444444444444,\"#bd3786\"],[0.5555555555555556,\"#d8576b\"],[0.6666666666666666,\"#ed7953\"],[0.7777777777777778,\"#fb9f3a\"],[0.8888888888888888,\"#fdca26\"],[1.0,\"#f0f921\"]],\"type\":\"histogram2d\"}],\"histogram\":[{\"marker\":{\"pattern\":{\"fillmode\":\"overlay\",\"size\":10,\"solidity\":0.2}},\"type\":\"histogram\"}],\"mesh3d\":[{\"colorbar\":{\"outlinewidth\":0,\"ticks\":\"\"},\"type\":\"mesh3d\"}],\"parcoords\":[{\"line\":{\"colorbar\":{\"outlinewidth\":0,\"ticks\":\"\"}},\"type\":\"parcoords\"}],\"pie\":[{\"automargin\":true,\"type\":\"pie\"}],\"scatter3d\":[{\"line\":{\"colorbar\":{\"outlinewidth\":0,\"ticks\":\"\"}},\"marker\":{\"colorbar\":{\"outlinewidth\":0,\"ticks\":\"\"}},\"type\":\"scatter3d\"}],\"scattercarpet\":[{\"marker\":{\"colorbar\":{\"outlinewidth\":0,\"ticks\":\"\"}},\"type\":\"scattercarpet\"}],\"scattergeo\":[{\"marker\":{\"colorbar\":{\"outlinewidth\":0,\"ticks\":\"\"}},\"type\":\"scattergeo\"}],\"scattergl\":[{\"marker\":{\"colorbar\":{\"outlinewidth\":0,\"ticks\":\"\"}},\"type\":\"scattergl\"}],\"scattermapbox\":[{\"marker\":{\"colorbar\":{\"outlinewidth\":0,\"ticks\":\"\"}},\"type\":\"scattermapbox\"}],\"scatterpolargl\":[{\"marker\":{\"colorbar\":{\"outlinewidth\":0,\"ticks\":\"\"}},\"type\":\"scatterpolargl\"}],\"scatterpolar\":[{\"marker\":{\"colorbar\":{\"outlinewidth\":0,\"ticks\":\"\"}},\"type\":\"scatterpolar\"}],\"scatter\":[{\"fillpattern\":{\"fillmode\":\"overlay\",\"size\":10,\"solidity\":0.2},\"type\":\"scatter\"}],\"scatterternary\":[{\"marker\":{\"colorbar\":{\"outlinewidth\":0,\"ticks\":\"\"}},\"type\":\"scatterternary\"}],\"surface\":[{\"colorbar\":{\"outlinewidth\":0,\"ticks\":\"\"},\"colorscale\":[[0.0,\"#0d0887\"],[0.1111111111111111,\"#46039f\"],[0.2222222222222222,\"#7201a8\"],[0.3333333333333333,\"#9c179e\"],[0.4444444444444444,\"#bd3786\"],[0.5555555555555556,\"#d8576b\"],[0.6666666666666666,\"#ed7953\"],[0.7777777777777778,\"#fb9f3a\"],[0.8888888888888888,\"#fdca26\"],[1.0,\"#f0f921\"]],\"type\":\"surface\"}],\"table\":[{\"cells\":{\"fill\":{\"color\":\"#EBF0F8\"},\"line\":{\"color\":\"white\"}},\"header\":{\"fill\":{\"color\":\"#C8D4E3\"},\"line\":{\"color\":\"white\"}},\"type\":\"table\"}]},\"layout\":{\"annotationdefaults\":{\"arrowcolor\":\"#2a3f5f\",\"arrowhead\":0,\"arrowwidth\":1},\"autotypenumbers\":\"strict\",\"coloraxis\":{\"colorbar\":{\"outlinewidth\":0,\"ticks\":\"\"}},\"colorscale\":{\"diverging\":[[0,\"#8e0152\"],[0.1,\"#c51b7d\"],[0.2,\"#de77ae\"],[0.3,\"#f1b6da\"],[0.4,\"#fde0ef\"],[0.5,\"#f7f7f7\"],[0.6,\"#e6f5d0\"],[0.7,\"#b8e186\"],[0.8,\"#7fbc41\"],[0.9,\"#4d9221\"],[1,\"#276419\"]],\"sequential\":[[0.0,\"#0d0887\"],[0.1111111111111111,\"#46039f\"],[0.2222222222222222,\"#7201a8\"],[0.3333333333333333,\"#9c179e\"],[0.4444444444444444,\"#bd3786\"],[0.5555555555555556,\"#d8576b\"],[0.6666666666666666,\"#ed7953\"],[0.7777777777777778,\"#fb9f3a\"],[0.8888888888888888,\"#fdca26\"],[1.0,\"#f0f921\"]],\"sequentialminus\":[[0.0,\"#0d0887\"],[0.1111111111111111,\"#46039f\"],[0.2222222222222222,\"#7201a8\"],[0.3333333333333333,\"#9c179e\"],[0.4444444444444444,\"#bd3786\"],[0.5555555555555556,\"#d8576b\"],[0.6666666666666666,\"#ed7953\"],[0.7777777777777778,\"#fb9f3a\"],[0.8888888888888888,\"#fdca26\"],[1.0,\"#f0f921\"]]},\"colorway\":[\"#636efa\",\"#EF553B\",\"#00cc96\",\"#ab63fa\",\"#FFA15A\",\"#19d3f3\",\"#FF6692\",\"#B6E880\",\"#FF97FF\",\"#FECB52\"],\"font\":{\"color\":\"#2a3f5f\"},\"geo\":{\"bgcolor\":\"white\",\"lakecolor\":\"white\",\"landcolor\":\"#E5ECF6\",\"showlakes\":true,\"showland\":true,\"subunitcolor\":\"white\"},\"hoverlabel\":{\"align\":\"left\"},\"hovermode\":\"closest\",\"mapbox\":{\"style\":\"light\"},\"paper_bgcolor\":\"white\",\"plot_bgcolor\":\"#E5ECF6\",\"polar\":{\"angularaxis\":{\"gridcolor\":\"white\",\"linecolor\":\"white\",\"ticks\":\"\"},\"bgcolor\":\"#E5ECF6\",\"radialaxis\":{\"gridcolor\":\"white\",\"linecolor\":\"white\",\"ticks\":\"\"}},\"scene\":{\"xaxis\":{\"backgroundcolor\":\"#E5ECF6\",\"gridcolor\":\"white\",\"gridwidth\":2,\"linecolor\":\"white\",\"showbackground\":true,\"ticks\":\"\",\"zerolinecolor\":\"white\"},\"yaxis\":{\"backgroundcolor\":\"#E5ECF6\",\"gridcolor\":\"white\",\"gridwidth\":2,\"linecolor\":\"white\",\"showbackground\":true,\"ticks\":\"\",\"zerolinecolor\":\"white\"},\"zaxis\":{\"backgroundcolor\":\"#E5ECF6\",\"gridcolor\":\"white\",\"gridwidth\":2,\"linecolor\":\"white\",\"showbackground\":true,\"ticks\":\"\",\"zerolinecolor\":\"white\"}},\"shapedefaults\":{\"line\":{\"color\":\"#2a3f5f\"}},\"ternary\":{\"aaxis\":{\"gridcolor\":\"white\",\"linecolor\":\"white\",\"ticks\":\"\"},\"baxis\":{\"gridcolor\":\"white\",\"linecolor\":\"white\",\"ticks\":\"\"},\"bgcolor\":\"#E5ECF6\",\"caxis\":{\"gridcolor\":\"white\",\"linecolor\":\"white\",\"ticks\":\"\"}},\"title\":{\"x\":0.05},\"xaxis\":{\"automargin\":true,\"gridcolor\":\"white\",\"linecolor\":\"white\",\"ticks\":\"\",\"title\":{\"standoff\":15},\"zerolinecolor\":\"white\",\"zerolinewidth\":2},\"yaxis\":{\"automargin\":true,\"gridcolor\":\"white\",\"linecolor\":\"white\",\"ticks\":\"\",\"title\":{\"standoff\":15},\"zerolinecolor\":\"white\",\"zerolinewidth\":2}}},\"title\":{\"font\":{\"color\":\"#4D5663\"}},\"xaxis\":{\"anchor\":\"y\",\"domain\":[0.0,0.2125],\"gridcolor\":\"#E1E5ED\",\"showgrid\":false,\"tickfont\":{\"color\":\"#4D5663\"},\"title\":{\"font\":{\"color\":\"#4D5663\"},\"text\":\"\"},\"zerolinecolor\":\"#E1E5ED\"},\"yaxis\":{\"anchor\":\"x\",\"domain\":[0.8025,1.0],\"gridcolor\":\"#E1E5ED\",\"showgrid\":false,\"tickfont\":{\"color\":\"#4D5663\"},\"title\":{\"font\":{\"color\":\"#4D5663\"},\"text\":\"\"},\"zerolinecolor\":\"#E1E5ED\"},\"xaxis2\":{\"anchor\":\"y2\",\"domain\":[0.2625,0.475],\"gridcolor\":\"#E1E5ED\",\"showgrid\":false,\"tickfont\":{\"color\":\"#4D5663\"},\"title\":{\"font\":{\"color\":\"#4D5663\"},\"text\":\"\"},\"zerolinecolor\":\"#E1E5ED\"},\"yaxis2\":{\"anchor\":\"x2\",\"domain\":[0.8025,1.0],\"gridcolor\":\"#E1E5ED\",\"showgrid\":false,\"tickfont\":{\"color\":\"#4D5663\"},\"title\":{\"font\":{\"color\":\"#4D5663\"},\"text\":\"\"},\"zerolinecolor\":\"#E1E5ED\"},\"xaxis3\":{\"anchor\":\"y3\",\"domain\":[0.525,0.7375],\"gridcolor\":\"#E1E5ED\",\"showgrid\":false,\"tickfont\":{\"color\":\"#4D5663\"},\"title\":{\"font\":{\"color\":\"#4D5663\"},\"text\":\"\"},\"zerolinecolor\":\"#E1E5ED\"},\"yaxis3\":{\"anchor\":\"x3\",\"domain\":[0.8025,1.0],\"gridcolor\":\"#E1E5ED\",\"showgrid\":false,\"tickfont\":{\"color\":\"#4D5663\"},\"title\":{\"font\":{\"color\":\"#4D5663\"},\"text\":\"\"},\"zerolinecolor\":\"#E1E5ED\"},\"xaxis4\":{\"anchor\":\"y4\",\"domain\":[0.7875,1.0],\"gridcolor\":\"#E1E5ED\",\"showgrid\":false,\"tickfont\":{\"color\":\"#4D5663\"},\"title\":{\"font\":{\"color\":\"#4D5663\"},\"text\":\"\"},\"zerolinecolor\":\"#E1E5ED\"},\"yaxis4\":{\"anchor\":\"x4\",\"domain\":[0.8025,1.0],\"gridcolor\":\"#E1E5ED\",\"showgrid\":false,\"tickfont\":{\"color\":\"#4D5663\"},\"title\":{\"font\":{\"color\":\"#4D5663\"},\"text\":\"\"},\"zerolinecolor\":\"#E1E5ED\"},\"xaxis5\":{\"anchor\":\"y5\",\"domain\":[0.0,0.2125],\"gridcolor\":\"#E1E5ED\",\"showgrid\":false,\"tickfont\":{\"color\":\"#4D5663\"},\"title\":{\"font\":{\"color\":\"#4D5663\"},\"text\":\"\"},\"zerolinecolor\":\"#E1E5ED\"},\"yaxis5\":{\"anchor\":\"x5\",\"domain\":[0.535,0.7325],\"gridcolor\":\"#E1E5ED\",\"showgrid\":false,\"tickfont\":{\"color\":\"#4D5663\"},\"title\":{\"font\":{\"color\":\"#4D5663\"},\"text\":\"\"},\"zerolinecolor\":\"#E1E5ED\"},\"xaxis6\":{\"anchor\":\"y6\",\"domain\":[0.2625,0.475],\"gridcolor\":\"#E1E5ED\",\"showgrid\":false,\"tickfont\":{\"color\":\"#4D5663\"},\"title\":{\"font\":{\"color\":\"#4D5663\"},\"text\":\"\"},\"zerolinecolor\":\"#E1E5ED\"},\"yaxis6\":{\"anchor\":\"x6\",\"domain\":[0.535,0.7325],\"gridcolor\":\"#E1E5ED\",\"showgrid\":false,\"tickfont\":{\"color\":\"#4D5663\"},\"title\":{\"font\":{\"color\":\"#4D5663\"},\"text\":\"\"},\"zerolinecolor\":\"#E1E5ED\"},\"xaxis7\":{\"anchor\":\"y7\",\"domain\":[0.525,0.7375],\"gridcolor\":\"#E1E5ED\",\"showgrid\":false,\"tickfont\":{\"color\":\"#4D5663\"},\"title\":{\"font\":{\"color\":\"#4D5663\"},\"text\":\"\"},\"zerolinecolor\":\"#E1E5ED\"},\"yaxis7\":{\"anchor\":\"x7\",\"domain\":[0.535,0.7325],\"gridcolor\":\"#E1E5ED\",\"showgrid\":false,\"tickfont\":{\"color\":\"#4D5663\"},\"title\":{\"font\":{\"color\":\"#4D5663\"},\"text\":\"\"},\"zerolinecolor\":\"#E1E5ED\"},\"xaxis8\":{\"anchor\":\"y8\",\"domain\":[0.7875,1.0],\"gridcolor\":\"#E1E5ED\",\"showgrid\":false,\"tickfont\":{\"color\":\"#4D5663\"},\"title\":{\"font\":{\"color\":\"#4D5663\"},\"text\":\"\"},\"zerolinecolor\":\"#E1E5ED\"},\"yaxis8\":{\"anchor\":\"x8\",\"domain\":[0.535,0.7325],\"gridcolor\":\"#E1E5ED\",\"showgrid\":false,\"tickfont\":{\"color\":\"#4D5663\"},\"title\":{\"font\":{\"color\":\"#4D5663\"},\"text\":\"\"},\"zerolinecolor\":\"#E1E5ED\"},\"xaxis9\":{\"anchor\":\"y9\",\"domain\":[0.0,0.2125],\"gridcolor\":\"#E1E5ED\",\"showgrid\":false,\"tickfont\":{\"color\":\"#4D5663\"},\"title\":{\"font\":{\"color\":\"#4D5663\"},\"text\":\"\"},\"zerolinecolor\":\"#E1E5ED\"},\"yaxis9\":{\"anchor\":\"x9\",\"domain\":[0.2675,0.465],\"gridcolor\":\"#E1E5ED\",\"showgrid\":false,\"tickfont\":{\"color\":\"#4D5663\"},\"title\":{\"font\":{\"color\":\"#4D5663\"},\"text\":\"\"},\"zerolinecolor\":\"#E1E5ED\"},\"xaxis10\":{\"anchor\":\"y10\",\"domain\":[0.2625,0.475],\"gridcolor\":\"#E1E5ED\",\"showgrid\":false,\"tickfont\":{\"color\":\"#4D5663\"},\"title\":{\"font\":{\"color\":\"#4D5663\"},\"text\":\"\"},\"zerolinecolor\":\"#E1E5ED\"},\"yaxis10\":{\"anchor\":\"x10\",\"domain\":[0.2675,0.465],\"gridcolor\":\"#E1E5ED\",\"showgrid\":false,\"tickfont\":{\"color\":\"#4D5663\"},\"title\":{\"font\":{\"color\":\"#4D5663\"},\"text\":\"\"},\"zerolinecolor\":\"#E1E5ED\"},\"xaxis11\":{\"anchor\":\"y11\",\"domain\":[0.525,0.7375],\"gridcolor\":\"#E1E5ED\",\"showgrid\":false,\"tickfont\":{\"color\":\"#4D5663\"},\"title\":{\"font\":{\"color\":\"#4D5663\"},\"text\":\"\"},\"zerolinecolor\":\"#E1E5ED\"},\"yaxis11\":{\"anchor\":\"x11\",\"domain\":[0.2675,0.465],\"gridcolor\":\"#E1E5ED\",\"showgrid\":false,\"tickfont\":{\"color\":\"#4D5663\"},\"title\":{\"font\":{\"color\":\"#4D5663\"},\"text\":\"\"},\"zerolinecolor\":\"#E1E5ED\"},\"xaxis12\":{\"anchor\":\"y12\",\"domain\":[0.7875,1.0],\"gridcolor\":\"#E1E5ED\",\"showgrid\":false,\"tickfont\":{\"color\":\"#4D5663\"},\"title\":{\"font\":{\"color\":\"#4D5663\"},\"text\":\"\"},\"zerolinecolor\":\"#E1E5ED\"},\"yaxis12\":{\"anchor\":\"x12\",\"domain\":[0.2675,0.465],\"gridcolor\":\"#E1E5ED\",\"showgrid\":false,\"tickfont\":{\"color\":\"#4D5663\"},\"title\":{\"font\":{\"color\":\"#4D5663\"},\"text\":\"\"},\"zerolinecolor\":\"#E1E5ED\"},\"xaxis13\":{\"anchor\":\"y13\",\"domain\":[0.0,0.2125],\"gridcolor\":\"#E1E5ED\",\"showgrid\":false,\"tickfont\":{\"color\":\"#4D5663\"},\"title\":{\"font\":{\"color\":\"#4D5663\"},\"text\":\"\"},\"zerolinecolor\":\"#E1E5ED\"},\"yaxis13\":{\"anchor\":\"x13\",\"domain\":[0.0,0.1975],\"gridcolor\":\"#E1E5ED\",\"showgrid\":false,\"tickfont\":{\"color\":\"#4D5663\"},\"title\":{\"font\":{\"color\":\"#4D5663\"},\"text\":\"\"},\"zerolinecolor\":\"#E1E5ED\"},\"xaxis14\":{\"anchor\":\"y14\",\"domain\":[0.2625,0.475],\"gridcolor\":\"#E1E5ED\",\"showgrid\":false,\"tickfont\":{\"color\":\"#4D5663\"},\"title\":{\"font\":{\"color\":\"#4D5663\"},\"text\":\"\"},\"zerolinecolor\":\"#E1E5ED\"},\"yaxis14\":{\"anchor\":\"x14\",\"domain\":[0.0,0.1975],\"gridcolor\":\"#E1E5ED\",\"showgrid\":false,\"tickfont\":{\"color\":\"#4D5663\"},\"title\":{\"font\":{\"color\":\"#4D5663\"},\"text\":\"\"},\"zerolinecolor\":\"#E1E5ED\"},\"xaxis15\":{\"anchor\":\"y15\",\"domain\":[0.525,0.7375],\"gridcolor\":\"#E1E5ED\",\"showgrid\":false,\"tickfont\":{\"color\":\"#4D5663\"},\"title\":{\"font\":{\"color\":\"#4D5663\"},\"text\":\"\"},\"zerolinecolor\":\"#E1E5ED\"},\"yaxis15\":{\"anchor\":\"x15\",\"domain\":[0.0,0.1975],\"gridcolor\":\"#E1E5ED\",\"showgrid\":false,\"tickfont\":{\"color\":\"#4D5663\"},\"title\":{\"font\":{\"color\":\"#4D5663\"},\"text\":\"\"},\"zerolinecolor\":\"#E1E5ED\"},\"xaxis16\":{\"anchor\":\"y16\",\"domain\":[0.7875,1.0],\"gridcolor\":\"#E1E5ED\",\"showgrid\":false,\"tickfont\":{\"color\":\"#4D5663\"},\"title\":{\"font\":{\"color\":\"#4D5663\"},\"text\":\"\"},\"zerolinecolor\":\"#E1E5ED\"},\"yaxis16\":{\"anchor\":\"x16\",\"domain\":[0.0,0.1975],\"gridcolor\":\"#E1E5ED\",\"showgrid\":false,\"tickfont\":{\"color\":\"#4D5663\"},\"title\":{\"font\":{\"color\":\"#4D5663\"},\"text\":\"\"},\"zerolinecolor\":\"#E1E5ED\"}},                        {\"showLink\": true, \"linkText\": \"Export to plot.ly\", \"plotlyServerURL\": \"https://plot.ly\", \"responsive\": true}                    ).then(function(){\n",
       "                            \n",
       "var gd = document.getElementById('bdb9c5b9-277e-4555-a9c1-9395d8342060');\n",
       "var x = new MutationObserver(function (mutations, observer) {{\n",
       "        var display = window.getComputedStyle(gd).display;\n",
       "        if (!display || display === 'none') {{\n",
       "            console.log([gd, 'removed!']);\n",
       "            Plotly.purge(gd);\n",
       "            observer.disconnect();\n",
       "        }}\n",
       "}});\n",
       "\n",
       "// Listen for the removal of the full notebook cells\n",
       "var notebookContainer = gd.closest('#notebook-container');\n",
       "if (notebookContainer) {{\n",
       "    x.observe(notebookContainer, {childList: true});\n",
       "}}\n",
       "\n",
       "// Listen for the clearing of the current output cell\n",
       "var outputEl = gd.closest('.output');\n",
       "if (outputEl) {{\n",
       "    x.observe(outputEl, {childList: true});\n",
       "}}\n",
       "\n",
       "                        })                };                });            </script>        </div>"
      ]
     },
     "metadata": {},
     "output_type": "display_data"
    }
   ],
   "source": [
    "df.scatter_matrix()"
   ]
  },
  {
   "cell_type": "markdown",
   "metadata": {
    "collapsed": true,
    "jupyter": {
     "outputs_hidden": true
    }
   },
   "source": [
    "# Great Job!"
   ]
  }
 ],
 "metadata": {
  "kernelspec": {
   "display_name": "Python 3 (ipykernel)",
   "language": "python",
   "name": "python3"
  },
  "language_info": {
   "codemirror_mode": {
    "name": "ipython",
    "version": 3
   },
   "file_extension": ".py",
   "mimetype": "text/x-python",
   "name": "python",
   "nbconvert_exporter": "python",
   "pygments_lexer": "ipython3",
   "version": "3.11.4"
  }
 },
 "nbformat": 4,
 "nbformat_minor": 4
}
